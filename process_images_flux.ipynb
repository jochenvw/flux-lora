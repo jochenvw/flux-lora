{
 "cells": [
  {
   "cell_type": "markdown",
   "id": "8809152f",
   "metadata": {},
   "source": [
    "# Low Rank Adaptation (LoRA) Training for FLUX.1-dev Model\n",
    "\n",
    "This notebook trains a LoRA adapter specifically for the **FLUX.1-dev** model by Black Forest Labs.\n",
    "\n",
    "## Key Differences from Stable Diffusion LoRA:\n",
    "\n",
    "### Architecture Changes:\n",
    "- **Base Model**: `black-forest-labs/FLUX.1-dev` (instead of Stable Diffusion 1.5)\n",
    "- **Text Encoder**: T5EncoderModel (instead of CLIP)\n",
    "- **Main Model**: FluxTransformer2DModel (instead of UNet2DConditionModel)\n",
    "- **Scheduler**: FlowMatchEulerDiscreteScheduler (instead of DDPM)\n",
    "- **Pipeline**: FluxPipeline (text2img, no img2img)\n",
    "\n",
    "### Optimizations for RTX4090:\n",
    "- **Resolution**: 1024x1024 (instead of 512x512)\n",
    "- **Batch Size**: 1 (FLUX requires more VRAM)\n",
    "- **Mixed Precision**: bf16 (optimal for FLUX)\n",
    "- **LoRA Rank**: 16 (higher for better quality)\n",
    "- **LoRA Alpha**: 32\n",
    "\n",
    "### Generation Parameters:\n",
    "- **Guidance Scale**: 3.5 (FLUX works better with lower guidance)\n",
    "- **Steps**: 28 (optimal for FLUX)\n",
    "- **Output**: Direct text2img generation\n",
    "\n",
    "⚠️ **Requirements**: This notebook requires significant VRAM (8GB+ recommended) and the FLUX.1-dev model access on HuggingFace."
   ]
  },
  {
   "cell_type": "markdown",
   "id": "8d1b0106",
   "metadata": {},
   "source": [
    "## Imports + Settings"
   ]
  },
  {
   "cell_type": "code",
   "execution_count": 1,
   "id": "6f3b177e",
   "metadata": {},
   "outputs": [
    {
     "name": "stdout",
     "output_type": "stream",
     "text": [
      "Defaulting to user installation because normal site-packages is not writeable\n",
      "Looking in indexes: https://pypi.org/simple, https://pypi.ngc.nvidia.com\n",
      "Requirement already satisfied: pillow in /home/vscode/.local/lib/python3.10/site-packages (11.3.0)\n",
      "Requirement already satisfied: pillow-avif-plugin in /home/vscode/.local/lib/python3.10/site-packages (1.5.2)\n",
      "Requirement already satisfied: openai in /home/vscode/.local/lib/python3.10/site-packages (1.109.0)\n",
      "Requirement already satisfied: diffusers==0.30.2 in /home/vscode/.local/lib/python3.10/site-packages (0.30.2)\n",
      "Requirement already satisfied: huggingface_hub==0.24.6 in /home/vscode/.local/lib/python3.10/site-packages (0.24.6)\n",
      "Requirement already satisfied: accelerate in /home/vscode/.local/lib/python3.10/site-packages (1.10.1)\n",
      "Requirement already satisfied: peft in /home/vscode/.local/lib/python3.10/site-packages (0.13.2)\n",
      "Requirement already satisfied: datasets in /home/vscode/.local/lib/python3.10/site-packages (4.1.1)\n",
      "Requirement already satisfied: dotenv in /home/vscode/.local/lib/python3.10/site-packages (0.9.9)\n",
      "Requirement already satisfied: rich in /home/vscode/.local/lib/python3.10/site-packages (14.1.0)\n",
      "Requirement already satisfied: tqdm in /home/vscode/.local/lib/python3.10/site-packages (4.67.1)\n",
      "Requirement already satisfied: ipywidgets in /home/vscode/.local/lib/python3.10/site-packages (8.1.7)\n",
      "Requirement already satisfied: importlib-metadata in /usr/local/lib/python3.10/dist-packages (from diffusers==0.30.2) (6.7.0)\n",
      "Requirement already satisfied: filelock in /usr/local/lib/python3.10/dist-packages (from diffusers==0.30.2) (3.12.2)\n",
      "Requirement already satisfied: numpy in /usr/local/lib/python3.10/dist-packages (from diffusers==0.30.2) (1.22.2)\n",
      "Requirement already satisfied: regex!=2019.12.17 in /usr/local/lib/python3.10/dist-packages (from diffusers==0.30.2) (2023.6.3)\n",
      "Requirement already satisfied: requests in /home/vscode/.local/lib/python3.10/site-packages (from diffusers==0.30.2) (2.32.5)\n",
      "Requirement already satisfied: safetensors>=0.3.1 in /home/vscode/.local/lib/python3.10/site-packages (from diffusers==0.30.2) (0.6.2)\n",
      "Requirement already satisfied: fsspec>=2023.5.0 in /usr/local/lib/python3.10/dist-packages (from huggingface_hub==0.24.6) (2023.6.0)\n",
      "Requirement already satisfied: packaging>=20.9 in /usr/local/lib/python3.10/dist-packages (from huggingface_hub==0.24.6) (23.1)\n",
      "Requirement already satisfied: pyyaml>=5.1 in /usr/local/lib/python3.10/dist-packages (from huggingface_hub==0.24.6) (6.0)\n",
      "Requirement already satisfied: typing-extensions>=3.7.4.3 in /home/vscode/.local/lib/python3.10/site-packages (from huggingface_hub==0.24.6) (4.15.0)\n",
      "Requirement already satisfied: anyio<5,>=3.5.0 in /home/vscode/.local/lib/python3.10/site-packages (from openai) (4.11.0)\n",
      "Requirement already satisfied: distro<2,>=1.7.0 in /home/vscode/.local/lib/python3.10/site-packages (from openai) (1.9.0)\n",
      "Requirement already satisfied: httpx<1,>=0.23.0 in /home/vscode/.local/lib/python3.10/site-packages (from openai) (0.28.1)\n",
      "Requirement already satisfied: jiter<1,>=0.4.0 in /home/vscode/.local/lib/python3.10/site-packages (from openai) (0.11.0)\n",
      "Requirement already satisfied: pydantic<3,>=1.9.0 in /usr/local/lib/python3.10/dist-packages (from openai) (1.10.11)\n",
      "Requirement already satisfied: sniffio in /home/vscode/.local/lib/python3.10/site-packages (from openai) (1.3.1)\n",
      "Requirement already satisfied: exceptiongroup>=1.0.2 in /usr/local/lib/python3.10/dist-packages (from anyio<5,>=3.5.0->openai) (1.1.2)\n",
      "Requirement already satisfied: idna>=2.8 in /usr/local/lib/python3.10/dist-packages (from anyio<5,>=3.5.0->openai) (3.4)\n",
      "Requirement already satisfied: certifi in /usr/local/lib/python3.10/dist-packages (from httpx<1,>=0.23.0->openai) (2023.5.7)\n",
      "Requirement already satisfied: httpcore==1.* in /home/vscode/.local/lib/python3.10/site-packages (from httpx<1,>=0.23.0->openai) (1.0.9)\n",
      "Requirement already satisfied: h11>=0.16 in /home/vscode/.local/lib/python3.10/site-packages (from httpcore==1.*->httpx<1,>=0.23.0->openai) (0.16.0)\n",
      "Requirement already satisfied: psutil in /usr/local/lib/python3.10/dist-packages (from accelerate) (5.9.4)\n",
      "Requirement already satisfied: torch>=2.0.0 in /usr/local/lib/python3.10/dist-packages (from accelerate) (2.1.0a0+b5021ba)\n",
      "Requirement already satisfied: transformers in /home/vscode/.local/lib/python3.10/site-packages (from peft) (4.48.3)\n",
      "Requirement already satisfied: pyarrow>=21.0.0 in /home/vscode/.local/lib/python3.10/site-packages (from datasets) (21.0.0)\n",
      "Requirement already satisfied: dill<0.4.1,>=0.3.0 in /home/vscode/.local/lib/python3.10/site-packages (from datasets) (0.4.0)\n",
      "Requirement already satisfied: pandas in /usr/local/lib/python3.10/dist-packages (from datasets) (1.5.2)\n",
      "Requirement already satisfied: xxhash in /home/vscode/.local/lib/python3.10/site-packages (from datasets) (3.5.0)\n",
      "Requirement already satisfied: multiprocess<0.70.17 in /home/vscode/.local/lib/python3.10/site-packages (from datasets) (0.70.16)\n",
      "Requirement already satisfied: aiohttp!=4.0.0a0,!=4.0.0a1 in /usr/local/lib/python3.10/dist-packages (from fsspec[http]<=2025.9.0,>=2023.1.0->datasets) (3.8.4)\n",
      "Requirement already satisfied: python-dotenv in /home/vscode/.local/lib/python3.10/site-packages (from dotenv) (1.1.1)\n",
      "Requirement already satisfied: markdown-it-py>=2.2.0 in /usr/local/lib/python3.10/dist-packages (from rich) (3.0.0)\n",
      "Requirement already satisfied: pygments<3.0.0,>=2.13.0 in /usr/local/lib/python3.10/dist-packages (from rich) (2.15.1)\n",
      "Requirement already satisfied: comm>=0.1.3 in /usr/local/lib/python3.10/dist-packages (from ipywidgets) (0.1.3)\n",
      "Requirement already satisfied: ipython>=6.1.0 in /usr/local/lib/python3.10/dist-packages (from ipywidgets) (8.14.0)\n",
      "Requirement already satisfied: traitlets>=4.3.1 in /usr/local/lib/python3.10/dist-packages (from ipywidgets) (5.9.0)\n",
      "Requirement already satisfied: widgetsnbextension~=4.0.14 in /home/vscode/.local/lib/python3.10/site-packages (from ipywidgets) (4.0.14)\n",
      "Requirement already satisfied: jupyterlab_widgets~=3.0.15 in /home/vscode/.local/lib/python3.10/site-packages (from ipywidgets) (3.0.15)\n",
      "Requirement already satisfied: attrs>=17.3.0 in /usr/local/lib/python3.10/dist-packages (from aiohttp!=4.0.0a0,!=4.0.0a1->fsspec[http]<=2025.9.0,>=2023.1.0->datasets) (23.1.0)\n",
      "Requirement already satisfied: charset-normalizer<4.0,>=2.0 in /usr/local/lib/python3.10/dist-packages (from aiohttp!=4.0.0a0,!=4.0.0a1->fsspec[http]<=2025.9.0,>=2023.1.0->datasets) (3.1.0)\n",
      "Requirement already satisfied: multidict<7.0,>=4.5 in /usr/local/lib/python3.10/dist-packages (from aiohttp!=4.0.0a0,!=4.0.0a1->fsspec[http]<=2025.9.0,>=2023.1.0->datasets) (6.0.4)\n",
      "Requirement already satisfied: async-timeout<5.0,>=4.0.0a3 in /usr/local/lib/python3.10/dist-packages (from aiohttp!=4.0.0a0,!=4.0.0a1->fsspec[http]<=2025.9.0,>=2023.1.0->datasets) (4.0.2)\n",
      "Requirement already satisfied: yarl<2.0,>=1.0 in /usr/local/lib/python3.10/dist-packages (from aiohttp!=4.0.0a0,!=4.0.0a1->fsspec[http]<=2025.9.0,>=2023.1.0->datasets) (1.9.2)\n",
      "Requirement already satisfied: frozenlist>=1.1.1 in /usr/local/lib/python3.10/dist-packages (from aiohttp!=4.0.0a0,!=4.0.0a1->fsspec[http]<=2025.9.0,>=2023.1.0->datasets) (1.3.3)\n",
      "Requirement already satisfied: aiosignal>=1.1.2 in /usr/local/lib/python3.10/dist-packages (from aiohttp!=4.0.0a0,!=4.0.0a1->fsspec[http]<=2025.9.0,>=2023.1.0->datasets) (1.3.1)\n",
      "Requirement already satisfied: backcall in /usr/local/lib/python3.10/dist-packages (from ipython>=6.1.0->ipywidgets) (0.2.0)\n",
      "Requirement already satisfied: decorator in /usr/local/lib/python3.10/dist-packages (from ipython>=6.1.0->ipywidgets) (5.1.1)\n",
      "Requirement already satisfied: jedi>=0.16 in /usr/local/lib/python3.10/dist-packages (from ipython>=6.1.0->ipywidgets) (0.18.2)\n",
      "Requirement already satisfied: matplotlib-inline in /usr/local/lib/python3.10/dist-packages (from ipython>=6.1.0->ipywidgets) (0.1.6)\n",
      "Requirement already satisfied: pickleshare in /usr/local/lib/python3.10/dist-packages (from ipython>=6.1.0->ipywidgets) (0.7.5)\n",
      "Requirement already satisfied: prompt-toolkit!=3.0.37,<3.1.0,>=3.0.30 in /usr/local/lib/python3.10/dist-packages (from ipython>=6.1.0->ipywidgets) (3.0.39)\n",
      "Requirement already satisfied: stack-data in /usr/local/lib/python3.10/dist-packages (from ipython>=6.1.0->ipywidgets) (0.6.2)\n",
      "Requirement already satisfied: pexpect>4.3 in /usr/local/lib/python3.10/dist-packages (from ipython>=6.1.0->ipywidgets) (4.8.0)\n",
      "Requirement already satisfied: wcwidth in /usr/local/lib/python3.10/dist-packages (from prompt-toolkit!=3.0.37,<3.1.0,>=3.0.30->ipython>=6.1.0->ipywidgets) (0.2.6)\n",
      "Requirement already satisfied: parso<0.9.0,>=0.8.0 in /usr/local/lib/python3.10/dist-packages (from jedi>=0.16->ipython>=6.1.0->ipywidgets) (0.8.3)\n",
      "Requirement already satisfied: mdurl~=0.1 in /usr/local/lib/python3.10/dist-packages (from markdown-it-py>=2.2.0->rich) (0.1.2)\n",
      "Requirement already satisfied: ptyprocess>=0.5 in /usr/local/lib/python3.10/dist-packages (from pexpect>4.3->ipython>=6.1.0->ipywidgets) (0.7.0)\n",
      "Requirement already satisfied: urllib3<3,>=1.21.1 in /usr/local/lib/python3.10/dist-packages (from requests->diffusers==0.30.2) (1.26.16)\n",
      "Requirement already satisfied: sympy in /usr/local/lib/python3.10/dist-packages (from torch>=2.0.0->accelerate) (1.12)\n",
      "Requirement already satisfied: networkx in /usr/local/lib/python3.10/dist-packages (from torch>=2.0.0->accelerate) (2.6.3)\n",
      "Requirement already satisfied: jinja2 in /usr/local/lib/python3.10/dist-packages (from torch>=2.0.0->accelerate) (3.1.2)\n",
      "Requirement already satisfied: zipp>=0.5 in /usr/local/lib/python3.10/dist-packages (from importlib-metadata->diffusers==0.30.2) (3.15.0)\n",
      "Requirement already satisfied: MarkupSafe>=2.0 in /usr/local/lib/python3.10/dist-packages (from jinja2->torch>=2.0.0->accelerate) (2.1.3)\n",
      "Requirement already satisfied: python-dateutil>=2.8.1 in /usr/local/lib/python3.10/dist-packages (from pandas->datasets) (2.8.2)\n",
      "Requirement already satisfied: pytz>=2020.1 in /usr/local/lib/python3.10/dist-packages (from pandas->datasets) (2023.3)\n",
      "Requirement already satisfied: six>=1.5 in /usr/local/lib/python3.10/dist-packages (from python-dateutil>=2.8.1->pandas->datasets) (1.16.0)\n",
      "Requirement already satisfied: executing>=1.2.0 in /usr/local/lib/python3.10/dist-packages (from stack-data->ipython>=6.1.0->ipywidgets) (1.2.0)\n",
      "Requirement already satisfied: asttokens>=2.1.0 in /usr/local/lib/python3.10/dist-packages (from stack-data->ipython>=6.1.0->ipywidgets) (2.2.1)\n",
      "Requirement already satisfied: pure-eval in /usr/local/lib/python3.10/dist-packages (from stack-data->ipython>=6.1.0->ipywidgets) (0.2.2)\n",
      "Requirement already satisfied: mpmath>=0.19 in /usr/local/lib/python3.10/dist-packages (from sympy->torch>=2.0.0->accelerate) (1.3.0)\n",
      "Requirement already satisfied: tokenizers<0.22,>=0.21 in /home/vscode/.local/lib/python3.10/site-packages (from transformers->peft) (0.21.4)\n",
      "Note: you may need to restart the kernel to use updated packages.\n"
     ]
    }
   ],
   "source": [
    "# Install compatible versions - balance between too new and too old\n",
    "%pip install pillow pillow-avif-plugin openai \"diffusers==0.30.2\" \"huggingface_hub==0.24.6\" accelerate peft datasets dotenv rich tqdm ipywidgets"
   ]
  },
  {
   "cell_type": "code",
   "execution_count": 2,
   "id": "4465d137",
   "metadata": {},
   "outputs": [],
   "source": [
    "# Configure logging\n",
    "\n",
    "from rich.console import Console\n",
    "from rich.logging import RichHandler\n",
    "import logging\n",
    "\n",
    "console = Console()\n",
    "\n",
    "logging.basicConfig(\n",
    "    level=\"INFO\",\n",
    "    format=\"%(message)s\",\n",
    "    datefmt=\"[%X]\",\n",
    "    handlers=[RichHandler(console=console)]\n",
    ")\n",
    "log = logging.getLogger(\"rich\")"
   ]
  },
  {
   "cell_type": "code",
   "execution_count": 3,
   "id": "97059c52",
   "metadata": {},
   "outputs": [
    {
     "data": {
      "text/html": [
       "<pre style=\"white-space:pre;overflow-x:auto;line-height:normal;font-family:Menlo,'DejaVu Sans Mono',consolas,'Courier New',monospace\"><span style=\"color: #7fbfbf; text-decoration-color: #7fbfbf\">[11:03:36] </span><span style=\"color: #000080; text-decoration-color: #000080\">INFO    </span> Settings loaded.                                                               <a href=\"file:///tmp/ipykernel_30654/3235581259.py\" target=\"_blank\"><span style=\"color: #7f7f7f; text-decoration-color: #7f7f7f\">3235581259.py</span></a><span style=\"color: #7f7f7f; text-decoration-color: #7f7f7f\">:</span><a href=\"file:///tmp/ipykernel_30654/3235581259.py#38\" target=\"_blank\"><span style=\"color: #7f7f7f; text-decoration-color: #7f7f7f\">38</span></a>\n",
       "</pre>\n"
      ],
      "text/plain": [
       "\u001b[2;36m[11:03:36]\u001b[0m\u001b[2;36m \u001b[0m\u001b[34mINFO    \u001b[0m Settings loaded.                                                               \u001b]8;id=33065;file:///tmp/ipykernel_30654/3235581259.py\u001b\\\u001b[2m3235581259.py\u001b[0m\u001b]8;;\u001b\\\u001b[2m:\u001b[0m\u001b]8;id=479914;file:///tmp/ipykernel_30654/3235581259.py#38\u001b\\\u001b[2m38\u001b[0m\u001b]8;;\u001b\\\n"
      ]
     },
     "metadata": {},
     "output_type": "display_data"
    }
   ],
   "source": [
    "from pathlib import Path\n",
    "import json, os, re, shutil\n",
    "\n",
    "IMAGES_OLD_DIR = Path(\"./images-old\")\n",
    "IMAGES_NEW_DIR = Path(\"./images-new\")\n",
    "\n",
    "WORK_DIR = Path(\"./work\")\n",
    "CONVERTED_DIR = WORK_DIR / \"converted\"\n",
    "CONVERTED_OLD = CONVERTED_DIR / \"old\"\n",
    "CONVERTED_NEW = CONVERTED_DIR / \"new\"\n",
    "LABELS_DIR = WORK_DIR / \"labels\"\n",
    "DATASET_DIR = WORK_DIR / \"dataset\"\n",
    "LORA_OUTPUT_DIR = WORK_DIR / \"lora-weights\"\n",
    "\n",
    "for p in [WORK_DIR, CONVERTED_OLD, CONVERTED_NEW, LABELS_DIR, DATASET_DIR, LORA_OUTPUT_DIR]:\n",
    "    p.mkdir(parents=True, exist_ok=True)\n",
    "\n",
    "TARGET_EXT = \".jpg\"\n",
    "\n",
    "OPENAI_API_KEY = os.getenv(\"OPENAI_API_KEY\", \"YOUR_OPENAI_API_KEY_HERE\")\n",
    "OPENAI_MODEL = \"gpt-4o-mini\"\n",
    "\n",
    "LABEL_SCHEMA = [\n",
    "    \"perspective (e.g., top-down, eye-level, low-angle)\",\n",
    "    \"background (describe setting, simplicity vs clutter)\",\n",
    "    \"lighting (e.g., soft, harsh, high-key, low-key, golden-hour)\",\n",
    "    \"color palette (e.g., muted, vibrant, pastel, monochrome)\",\n",
    "    \"texture treatment (e.g., painterly, grainy, smooth)\",\n",
    "    \"composition (e.g., centered subject, rule of thirds, negative space)\",\n",
    "    \"mood (e.g., nostalgic, cheerful, moody, futuristic)\",\n",
    "]\n",
    "\n",
    "BASE_MODEL_ID = \"black-forest-labs/FLUX.1-dev\"\n",
    "USE_8BIT_ADAM = True\n",
    "MIXED_PRECISION = \"bf16\"  # FLUX works better with bfloat16\n",
    "SEED = 42\n",
    "\n",
    "log.info(\"Settings loaded.\")\n",
    "\n",
    "\n"
   ]
  },
  {
   "cell_type": "markdown",
   "id": "73ce2141",
   "metadata": {},
   "source": [
    "## Convert images to JPGs"
   ]
  },
  {
   "cell_type": "code",
   "execution_count": 4,
   "id": "569239b3",
   "metadata": {},
   "outputs": [
    {
     "data": {
      "application/vnd.jupyter.widget-view+json": {
       "model_id": "f705d8e8fd9c4d5baf5d85453f64f261",
       "version_major": 2,
       "version_minor": 0
      },
      "text/plain": [
       "  0%|          | 0/16 [00:00<?, ?it/s]"
      ]
     },
     "metadata": {},
     "output_type": "display_data"
    },
    {
     "data": {
      "application/vnd.jupyter.widget-view+json": {
       "model_id": "42723871856c400fa92b1ad00cf54d9e",
       "version_major": 2,
       "version_minor": 0
      },
      "text/plain": [
       "  0%|          | 0/31 [00:00<?, ?it/s]"
      ]
     },
     "metadata": {},
     "output_type": "display_data"
    },
    {
     "data": {
      "text/html": [
       "<pre style=\"white-space:pre;overflow-x:auto;line-height:normal;font-family:Menlo,'DejaVu Sans Mono',consolas,'Courier New',monospace\"><span style=\"color: #7fbfbf; text-decoration-color: #7fbfbf\">[11:03:37] </span><span style=\"color: #000080; text-decoration-color: #000080\">INFO    </span> Converted <span style=\"color: #008080; text-decoration-color: #008080; font-weight: bold\">16</span> old images and <span style=\"color: #008080; text-decoration-color: #008080; font-weight: bold\">31</span> new images to .jpg.                             <a href=\"file:///tmp/ipykernel_30654/1464447316.py\" target=\"_blank\"><span style=\"color: #7f7f7f; text-decoration-color: #7f7f7f\">1464447316.py</span></a><span style=\"color: #7f7f7f; text-decoration-color: #7f7f7f\">:</span><a href=\"file:///tmp/ipykernel_30654/1464447316.py#28\" target=\"_blank\"><span style=\"color: #7f7f7f; text-decoration-color: #7f7f7f\">28</span></a>\n",
       "</pre>\n"
      ],
      "text/plain": [
       "\u001b[2;36m[11:03:37]\u001b[0m\u001b[2;36m \u001b[0m\u001b[34mINFO    \u001b[0m Converted \u001b[1;36m16\u001b[0m old images and \u001b[1;36m31\u001b[0m new images to .jpg.                             \u001b]8;id=427505;file:///tmp/ipykernel_30654/1464447316.py\u001b\\\u001b[2m1464447316.py\u001b[0m\u001b]8;;\u001b\\\u001b[2m:\u001b[0m\u001b]8;id=852309;file:///tmp/ipykernel_30654/1464447316.py#28\u001b\\\u001b[2m28\u001b[0m\u001b]8;;\u001b\\\n"
      ]
     },
     "metadata": {},
     "output_type": "display_data"
    }
   ],
   "source": [
    "from PIL import Image\n",
    "from tqdm.notebook import tqdm\n",
    "\n",
    "def convert_folder(src: Path, dst: Path, target_ext: str = \".jpg\"):\n",
    "    count = 0\n",
    "    for p in tqdm(sorted(src.rglob(\"*\"))):\n",
    "        if p.is_dir() or p.name.startswith(\".\"):\n",
    "            continue\n",
    "        if p.suffix.lower() not in [\".jpg\", \".jpeg\", \".png\", \".avif\", \".webp\"]:\n",
    "            # skip non-image files explicitly\n",
    "            continue\n",
    "        try:\n",
    "            with Image.open(p) as im:\n",
    "                im = im.convert(\"RGB\")  # unify colorspace\n",
    "                out_path = dst / (p.stem + target_ext)\n",
    "                out_path.parent.mkdir(parents=True, exist_ok=True)\n",
    "                if target_ext.lower() == \".jpg\":                    \n",
    "                    im.save(out_path, format=\"JPEG\", quality=95, optimize=True)\n",
    "                else:\n",
    "                    im.save(out_path)\n",
    "                count += 1\n",
    "        except Exception as e:\n",
    "            print(f\"⚠️ Failed to convert {p}: {e}\")\n",
    "    return count\n",
    "\n",
    "n_old = convert_folder(IMAGES_OLD_DIR, CONVERTED_OLD, TARGET_EXT)\n",
    "n_new = convert_folder(IMAGES_NEW_DIR, CONVERTED_NEW, TARGET_EXT)\n",
    "log.info(f\"Converted {n_old} old images and {n_new} new images to {TARGET_EXT}.\")\n",
    "\n"
   ]
  },
  {
   "cell_type": "markdown",
   "id": "0362992b",
   "metadata": {},
   "source": [
    "# Image labelling"
   ]
  },
  {
   "cell_type": "code",
   "execution_count": 5,
   "id": "2ac808dc",
   "metadata": {},
   "outputs": [
    {
     "name": "stdout",
     "output_type": "stream",
     "text": [
      "Labeling images via Azure OpenAI...\n"
     ]
    },
    {
     "data": {
      "application/vnd.jupyter.widget-view+json": {
       "model_id": "997524e73d3b4062bae16759590e72ec",
       "version_major": 2,
       "version_minor": 0
      },
      "text/plain": [
       "  0%|          | 0/31 [00:00<?, ?it/s]"
      ]
     },
     "metadata": {},
     "output_type": "display_data"
    },
    {
     "data": {
      "text/html": [
       "<pre style=\"white-space:pre;overflow-x:auto;line-height:normal;font-family:Menlo,'DejaVu Sans Mono',consolas,'Courier New',monospace\"><span style=\"color: #7fbfbf; text-decoration-color: #7fbfbf\">[11:03:38] </span><span style=\"color: #000080; text-decoration-color: #000080\">INFO    </span> ⏭️ Skipping ananassalsa-met-kiwi-jalapeno-en-koriander.jpg <span style=\"font-weight: bold\">(</span>already labeled<span style=\"font-weight: bold\">)</span>    <a href=\"file:///tmp/ipykernel_30654/412114492.py\" target=\"_blank\"><span style=\"color: #7f7f7f; text-decoration-color: #7f7f7f\">412114492.py</span></a><span style=\"color: #7f7f7f; text-decoration-color: #7f7f7f\">:</span><a href=\"file:///tmp/ipykernel_30654/412114492.py#107\" target=\"_blank\"><span style=\"color: #7f7f7f; text-decoration-color: #7f7f7f\">107</span></a>\n",
       "</pre>\n"
      ],
      "text/plain": [
       "\u001b[2;36m[11:03:38]\u001b[0m\u001b[2;36m \u001b[0m\u001b[34mINFO    \u001b[0m ⏭️ Skipping ananassalsa-met-kiwi-jalapeno-en-koriander.jpg \u001b[1m(\u001b[0malready labeled\u001b[1m)\u001b[0m    \u001b]8;id=379177;file:///tmp/ipykernel_30654/412114492.py\u001b\\\u001b[2m412114492.py\u001b[0m\u001b]8;;\u001b\\\u001b[2m:\u001b[0m\u001b]8;id=516913;file:///tmp/ipykernel_30654/412114492.py#107\u001b\\\u001b[2m107\u001b[0m\u001b]8;;\u001b\\\n"
      ]
     },
     "metadata": {},
     "output_type": "display_data"
    },
    {
     "data": {
      "text/html": [
       "<pre style=\"white-space:pre;overflow-x:auto;line-height:normal;font-family:Menlo,'DejaVu Sans Mono',consolas,'Courier New',monospace\"><span style=\"color: #7fbfbf; text-decoration-color: #7fbfbf\">           </span><span style=\"color: #000080; text-decoration-color: #000080\">INFO    </span> ⏭️ Skipping andijviestamp-met-gerookte-kip-en-zongedroogde-tomaat.jpg <span style=\"font-weight: bold\">(</span>already  <a href=\"file:///tmp/ipykernel_30654/412114492.py\" target=\"_blank\"><span style=\"color: #7f7f7f; text-decoration-color: #7f7f7f\">412114492.py</span></a><span style=\"color: #7f7f7f; text-decoration-color: #7f7f7f\">:</span><a href=\"file:///tmp/ipykernel_30654/412114492.py#107\" target=\"_blank\"><span style=\"color: #7f7f7f; text-decoration-color: #7f7f7f\">107</span></a>\n",
       "<span style=\"color: #7fbfbf; text-decoration-color: #7fbfbf\">           </span>         labeled<span style=\"font-weight: bold\">)</span>                                                                       <span style=\"color: #7f7f7f; text-decoration-color: #7f7f7f\">                </span>\n",
       "</pre>\n"
      ],
      "text/plain": [
       "\u001b[2;36m          \u001b[0m\u001b[2;36m \u001b[0m\u001b[34mINFO    \u001b[0m ⏭️ Skipping andijviestamp-met-gerookte-kip-en-zongedroogde-tomaat.jpg \u001b[1m(\u001b[0malready  \u001b]8;id=177046;file:///tmp/ipykernel_30654/412114492.py\u001b\\\u001b[2m412114492.py\u001b[0m\u001b]8;;\u001b\\\u001b[2m:\u001b[0m\u001b]8;id=542366;file:///tmp/ipykernel_30654/412114492.py#107\u001b\\\u001b[2m107\u001b[0m\u001b]8;;\u001b\\\n",
       "\u001b[2;36m           \u001b[0m         labeled\u001b[1m)\u001b[0m                                                                       \u001b[2m                \u001b[0m\n"
      ]
     },
     "metadata": {},
     "output_type": "display_data"
    },
    {
     "data": {
      "text/html": [
       "<pre style=\"white-space:pre;overflow-x:auto;line-height:normal;font-family:Menlo,'DejaVu Sans Mono',consolas,'Courier New',monospace\"><span style=\"color: #7fbfbf; text-decoration-color: #7fbfbf\">           </span><span style=\"color: #000080; text-decoration-color: #000080\">INFO    </span> ⏭️ Skipping bananenbrood-choco-kokostopping-van-giorgias-kitchen.jpg <span style=\"font-weight: bold\">(</span>already   <a href=\"file:///tmp/ipykernel_30654/412114492.py\" target=\"_blank\"><span style=\"color: #7f7f7f; text-decoration-color: #7f7f7f\">412114492.py</span></a><span style=\"color: #7f7f7f; text-decoration-color: #7f7f7f\">:</span><a href=\"file:///tmp/ipykernel_30654/412114492.py#107\" target=\"_blank\"><span style=\"color: #7f7f7f; text-decoration-color: #7f7f7f\">107</span></a>\n",
       "<span style=\"color: #7fbfbf; text-decoration-color: #7fbfbf\">           </span>         labeled<span style=\"font-weight: bold\">)</span>                                                                       <span style=\"color: #7f7f7f; text-decoration-color: #7f7f7f\">                </span>\n",
       "</pre>\n"
      ],
      "text/plain": [
       "\u001b[2;36m          \u001b[0m\u001b[2;36m \u001b[0m\u001b[34mINFO    \u001b[0m ⏭️ Skipping bananenbrood-choco-kokostopping-van-giorgias-kitchen.jpg \u001b[1m(\u001b[0malready   \u001b]8;id=502047;file:///tmp/ipykernel_30654/412114492.py\u001b\\\u001b[2m412114492.py\u001b[0m\u001b]8;;\u001b\\\u001b[2m:\u001b[0m\u001b]8;id=416843;file:///tmp/ipykernel_30654/412114492.py#107\u001b\\\u001b[2m107\u001b[0m\u001b]8;;\u001b\\\n",
       "\u001b[2;36m           \u001b[0m         labeled\u001b[1m)\u001b[0m                                                                       \u001b[2m                \u001b[0m\n"
      ]
     },
     "metadata": {},
     "output_type": "display_data"
    },
    {
     "data": {
      "text/html": [
       "<pre style=\"white-space:pre;overflow-x:auto;line-height:normal;font-family:Menlo,'DejaVu Sans Mono',consolas,'Courier New',monospace\"><span style=\"color: #7fbfbf; text-decoration-color: #7fbfbf\">           </span><span style=\"color: #000080; text-decoration-color: #000080\">INFO    </span> ⏭️ Skipping belegde-maiswafels-van-giorgias-kitchen.jpg <span style=\"font-weight: bold\">(</span>already labeled<span style=\"font-weight: bold\">)</span>       <a href=\"file:///tmp/ipykernel_30654/412114492.py\" target=\"_blank\"><span style=\"color: #7f7f7f; text-decoration-color: #7f7f7f\">412114492.py</span></a><span style=\"color: #7f7f7f; text-decoration-color: #7f7f7f\">:</span><a href=\"file:///tmp/ipykernel_30654/412114492.py#107\" target=\"_blank\"><span style=\"color: #7f7f7f; text-decoration-color: #7f7f7f\">107</span></a>\n",
       "</pre>\n"
      ],
      "text/plain": [
       "\u001b[2;36m          \u001b[0m\u001b[2;36m \u001b[0m\u001b[34mINFO    \u001b[0m ⏭️ Skipping belegde-maiswafels-van-giorgias-kitchen.jpg \u001b[1m(\u001b[0malready labeled\u001b[1m)\u001b[0m       \u001b]8;id=102752;file:///tmp/ipykernel_30654/412114492.py\u001b\\\u001b[2m412114492.py\u001b[0m\u001b]8;;\u001b\\\u001b[2m:\u001b[0m\u001b]8;id=490472;file:///tmp/ipykernel_30654/412114492.py#107\u001b\\\u001b[2m107\u001b[0m\u001b]8;;\u001b\\\n"
      ]
     },
     "metadata": {},
     "output_type": "display_data"
    },
    {
     "data": {
      "text/html": [
       "<pre style=\"white-space:pre;overflow-x:auto;line-height:normal;font-family:Menlo,'DejaVu Sans Mono',consolas,'Courier New',monospace\"><span style=\"color: #7fbfbf; text-decoration-color: #7fbfbf\">           </span><span style=\"color: #000080; text-decoration-color: #000080\">INFO    </span> ⏭️ Skipping citrusdip.jpg <span style=\"font-weight: bold\">(</span>already labeled<span style=\"font-weight: bold\">)</span>                                     <a href=\"file:///tmp/ipykernel_30654/412114492.py\" target=\"_blank\"><span style=\"color: #7f7f7f; text-decoration-color: #7f7f7f\">412114492.py</span></a><span style=\"color: #7f7f7f; text-decoration-color: #7f7f7f\">:</span><a href=\"file:///tmp/ipykernel_30654/412114492.py#107\" target=\"_blank\"><span style=\"color: #7f7f7f; text-decoration-color: #7f7f7f\">107</span></a>\n",
       "</pre>\n"
      ],
      "text/plain": [
       "\u001b[2;36m          \u001b[0m\u001b[2;36m \u001b[0m\u001b[34mINFO    \u001b[0m ⏭️ Skipping citrusdip.jpg \u001b[1m(\u001b[0malready labeled\u001b[1m)\u001b[0m                                     \u001b]8;id=822861;file:///tmp/ipykernel_30654/412114492.py\u001b\\\u001b[2m412114492.py\u001b[0m\u001b]8;;\u001b\\\u001b[2m:\u001b[0m\u001b]8;id=49698;file:///tmp/ipykernel_30654/412114492.py#107\u001b\\\u001b[2m107\u001b[0m\u001b]8;;\u001b\\\n"
      ]
     },
     "metadata": {},
     "output_type": "display_data"
    },
    {
     "data": {
      "text/html": [
       "<pre style=\"white-space:pre;overflow-x:auto;line-height:normal;font-family:Menlo,'DejaVu Sans Mono',consolas,'Courier New',monospace\"><span style=\"color: #7fbfbf; text-decoration-color: #7fbfbf\">           </span><span style=\"color: #000080; text-decoration-color: #000080\">INFO    </span> ⏭️ Skipping cottage-cheese-chips-met-zalm-en-komkommer.jpg <span style=\"font-weight: bold\">(</span>already labeled<span style=\"font-weight: bold\">)</span>    <a href=\"file:///tmp/ipykernel_30654/412114492.py\" target=\"_blank\"><span style=\"color: #7f7f7f; text-decoration-color: #7f7f7f\">412114492.py</span></a><span style=\"color: #7f7f7f; text-decoration-color: #7f7f7f\">:</span><a href=\"file:///tmp/ipykernel_30654/412114492.py#107\" target=\"_blank\"><span style=\"color: #7f7f7f; text-decoration-color: #7f7f7f\">107</span></a>\n",
       "</pre>\n"
      ],
      "text/plain": [
       "\u001b[2;36m          \u001b[0m\u001b[2;36m \u001b[0m\u001b[34mINFO    \u001b[0m ⏭️ Skipping cottage-cheese-chips-met-zalm-en-komkommer.jpg \u001b[1m(\u001b[0malready labeled\u001b[1m)\u001b[0m    \u001b]8;id=324154;file:///tmp/ipykernel_30654/412114492.py\u001b\\\u001b[2m412114492.py\u001b[0m\u001b]8;;\u001b\\\u001b[2m:\u001b[0m\u001b]8;id=389183;file:///tmp/ipykernel_30654/412114492.py#107\u001b\\\u001b[2m107\u001b[0m\u001b]8;;\u001b\\\n"
      ]
     },
     "metadata": {},
     "output_type": "display_data"
    },
    {
     "data": {
      "text/html": [
       "<pre style=\"white-space:pre;overflow-x:auto;line-height:normal;font-family:Menlo,'DejaVu Sans Mono',consolas,'Courier New',monospace\"><span style=\"color: #7fbfbf; text-decoration-color: #7fbfbf\">           </span><span style=\"color: #000080; text-decoration-color: #000080\">INFO    </span> ⏭️ Skipping garnalenburger-uit-de-airfryer-met-coleslaw.jpg <span style=\"font-weight: bold\">(</span>already labeled<span style=\"font-weight: bold\">)</span>   <a href=\"file:///tmp/ipykernel_30654/412114492.py\" target=\"_blank\"><span style=\"color: #7f7f7f; text-decoration-color: #7f7f7f\">412114492.py</span></a><span style=\"color: #7f7f7f; text-decoration-color: #7f7f7f\">:</span><a href=\"file:///tmp/ipykernel_30654/412114492.py#107\" target=\"_blank\"><span style=\"color: #7f7f7f; text-decoration-color: #7f7f7f\">107</span></a>\n",
       "</pre>\n"
      ],
      "text/plain": [
       "\u001b[2;36m          \u001b[0m\u001b[2;36m \u001b[0m\u001b[34mINFO    \u001b[0m ⏭️ Skipping garnalenburger-uit-de-airfryer-met-coleslaw.jpg \u001b[1m(\u001b[0malready labeled\u001b[1m)\u001b[0m   \u001b]8;id=978483;file:///tmp/ipykernel_30654/412114492.py\u001b\\\u001b[2m412114492.py\u001b[0m\u001b]8;;\u001b\\\u001b[2m:\u001b[0m\u001b]8;id=899820;file:///tmp/ipykernel_30654/412114492.py#107\u001b\\\u001b[2m107\u001b[0m\u001b]8;;\u001b\\\n"
      ]
     },
     "metadata": {},
     "output_type": "display_data"
    },
    {
     "data": {
      "text/html": [
       "<pre style=\"white-space:pre;overflow-x:auto;line-height:normal;font-family:Menlo,'DejaVu Sans Mono',consolas,'Courier New',monospace\"><span style=\"color: #7fbfbf; text-decoration-color: #7fbfbf\">           </span><span style=\"color: #000080; text-decoration-color: #000080\">INFO    </span> ⏭️ Skipping gekruide-tartaar-met-aardappel-en-broccoli.jpg <span style=\"font-weight: bold\">(</span>already labeled<span style=\"font-weight: bold\">)</span>    <a href=\"file:///tmp/ipykernel_30654/412114492.py\" target=\"_blank\"><span style=\"color: #7f7f7f; text-decoration-color: #7f7f7f\">412114492.py</span></a><span style=\"color: #7f7f7f; text-decoration-color: #7f7f7f\">:</span><a href=\"file:///tmp/ipykernel_30654/412114492.py#107\" target=\"_blank\"><span style=\"color: #7f7f7f; text-decoration-color: #7f7f7f\">107</span></a>\n",
       "</pre>\n"
      ],
      "text/plain": [
       "\u001b[2;36m          \u001b[0m\u001b[2;36m \u001b[0m\u001b[34mINFO    \u001b[0m ⏭️ Skipping gekruide-tartaar-met-aardappel-en-broccoli.jpg \u001b[1m(\u001b[0malready labeled\u001b[1m)\u001b[0m    \u001b]8;id=503806;file:///tmp/ipykernel_30654/412114492.py\u001b\\\u001b[2m412114492.py\u001b[0m\u001b]8;;\u001b\\\u001b[2m:\u001b[0m\u001b]8;id=284721;file:///tmp/ipykernel_30654/412114492.py#107\u001b\\\u001b[2m107\u001b[0m\u001b]8;;\u001b\\\n"
      ]
     },
     "metadata": {},
     "output_type": "display_data"
    },
    {
     "data": {
      "text/html": [
       "<pre style=\"white-space:pre;overflow-x:auto;line-height:normal;font-family:Menlo,'DejaVu Sans Mono',consolas,'Courier New',monospace\"><span style=\"color: #7fbfbf; text-decoration-color: #7fbfbf\">           </span><span style=\"color: #000080; text-decoration-color: #000080\">INFO    </span> ⏭️ Skipping geraspte-tomatensalsa-met-rode-ui-en-peterselie.jpg <span style=\"font-weight: bold\">(</span>already        <a href=\"file:///tmp/ipykernel_30654/412114492.py\" target=\"_blank\"><span style=\"color: #7f7f7f; text-decoration-color: #7f7f7f\">412114492.py</span></a><span style=\"color: #7f7f7f; text-decoration-color: #7f7f7f\">:</span><a href=\"file:///tmp/ipykernel_30654/412114492.py#107\" target=\"_blank\"><span style=\"color: #7f7f7f; text-decoration-color: #7f7f7f\">107</span></a>\n",
       "<span style=\"color: #7fbfbf; text-decoration-color: #7fbfbf\">           </span>         labeled<span style=\"font-weight: bold\">)</span>                                                                       <span style=\"color: #7f7f7f; text-decoration-color: #7f7f7f\">                </span>\n",
       "</pre>\n"
      ],
      "text/plain": [
       "\u001b[2;36m          \u001b[0m\u001b[2;36m \u001b[0m\u001b[34mINFO    \u001b[0m ⏭️ Skipping geraspte-tomatensalsa-met-rode-ui-en-peterselie.jpg \u001b[1m(\u001b[0malready        \u001b]8;id=535577;file:///tmp/ipykernel_30654/412114492.py\u001b\\\u001b[2m412114492.py\u001b[0m\u001b]8;;\u001b\\\u001b[2m:\u001b[0m\u001b]8;id=870761;file:///tmp/ipykernel_30654/412114492.py#107\u001b\\\u001b[2m107\u001b[0m\u001b]8;;\u001b\\\n",
       "\u001b[2;36m           \u001b[0m         labeled\u001b[1m)\u001b[0m                                                                       \u001b[2m                \u001b[0m\n"
      ]
     },
     "metadata": {},
     "output_type": "display_data"
    },
    {
     "data": {
      "text/html": [
       "<pre style=\"white-space:pre;overflow-x:auto;line-height:normal;font-family:Menlo,'DejaVu Sans Mono',consolas,'Courier New',monospace\"><span style=\"color: #7fbfbf; text-decoration-color: #7fbfbf\">           </span><span style=\"color: #000080; text-decoration-color: #000080\">INFO    </span> ⏭️ Skipping gezonde-<span style=\"color: #008080; text-decoration-color: #008080; font-weight: bold\">4</span>-kazentosti-met-rode-ui.jpg <span style=\"font-weight: bold\">(</span>already labeled<span style=\"font-weight: bold\">)</span>              <a href=\"file:///tmp/ipykernel_30654/412114492.py\" target=\"_blank\"><span style=\"color: #7f7f7f; text-decoration-color: #7f7f7f\">412114492.py</span></a><span style=\"color: #7f7f7f; text-decoration-color: #7f7f7f\">:</span><a href=\"file:///tmp/ipykernel_30654/412114492.py#107\" target=\"_blank\"><span style=\"color: #7f7f7f; text-decoration-color: #7f7f7f\">107</span></a>\n",
       "</pre>\n"
      ],
      "text/plain": [
       "\u001b[2;36m          \u001b[0m\u001b[2;36m \u001b[0m\u001b[34mINFO    \u001b[0m ⏭️ Skipping gezonde-\u001b[1;36m4\u001b[0m-kazentosti-met-rode-ui.jpg \u001b[1m(\u001b[0malready labeled\u001b[1m)\u001b[0m              \u001b]8;id=12369;file:///tmp/ipykernel_30654/412114492.py\u001b\\\u001b[2m412114492.py\u001b[0m\u001b]8;;\u001b\\\u001b[2m:\u001b[0m\u001b]8;id=82923;file:///tmp/ipykernel_30654/412114492.py#107\u001b\\\u001b[2m107\u001b[0m\u001b]8;;\u001b\\\n"
      ]
     },
     "metadata": {},
     "output_type": "display_data"
    },
    {
     "data": {
      "text/html": [
       "<pre style=\"white-space:pre;overflow-x:auto;line-height:normal;font-family:Menlo,'DejaVu Sans Mono',consolas,'Courier New',monospace\"><span style=\"color: #7fbfbf; text-decoration-color: #7fbfbf\">           </span><span style=\"color: #000080; text-decoration-color: #000080\">INFO    </span> ⏭️ Skipping gezonde-burritos-met-kip-bonen-en-tomatenrijst.jpg <span style=\"font-weight: bold\">(</span>already         <a href=\"file:///tmp/ipykernel_30654/412114492.py\" target=\"_blank\"><span style=\"color: #7f7f7f; text-decoration-color: #7f7f7f\">412114492.py</span></a><span style=\"color: #7f7f7f; text-decoration-color: #7f7f7f\">:</span><a href=\"file:///tmp/ipykernel_30654/412114492.py#107\" target=\"_blank\"><span style=\"color: #7f7f7f; text-decoration-color: #7f7f7f\">107</span></a>\n",
       "<span style=\"color: #7fbfbf; text-decoration-color: #7fbfbf\">           </span>         labeled<span style=\"font-weight: bold\">)</span>                                                                       <span style=\"color: #7f7f7f; text-decoration-color: #7f7f7f\">                </span>\n",
       "</pre>\n"
      ],
      "text/plain": [
       "\u001b[2;36m          \u001b[0m\u001b[2;36m \u001b[0m\u001b[34mINFO    \u001b[0m ⏭️ Skipping gezonde-burritos-met-kip-bonen-en-tomatenrijst.jpg \u001b[1m(\u001b[0malready         \u001b]8;id=896592;file:///tmp/ipykernel_30654/412114492.py\u001b\\\u001b[2m412114492.py\u001b[0m\u001b]8;;\u001b\\\u001b[2m:\u001b[0m\u001b]8;id=942815;file:///tmp/ipykernel_30654/412114492.py#107\u001b\\\u001b[2m107\u001b[0m\u001b]8;;\u001b\\\n",
       "\u001b[2;36m           \u001b[0m         labeled\u001b[1m)\u001b[0m                                                                       \u001b[2m                \u001b[0m\n"
      ]
     },
     "metadata": {},
     "output_type": "display_data"
    },
    {
     "data": {
      "text/html": [
       "<pre style=\"white-space:pre;overflow-x:auto;line-height:normal;font-family:Menlo,'DejaVu Sans Mono',consolas,'Courier New',monospace\"><span style=\"color: #7fbfbf; text-decoration-color: #7fbfbf\">           </span><span style=\"color: #000080; text-decoration-color: #000080\">INFO    </span> ⏭️ Skipping gnocchi-en-meatballs.jpg <span style=\"font-weight: bold\">(</span>already labeled<span style=\"font-weight: bold\">)</span>                          <a href=\"file:///tmp/ipykernel_30654/412114492.py\" target=\"_blank\"><span style=\"color: #7f7f7f; text-decoration-color: #7f7f7f\">412114492.py</span></a><span style=\"color: #7f7f7f; text-decoration-color: #7f7f7f\">:</span><a href=\"file:///tmp/ipykernel_30654/412114492.py#107\" target=\"_blank\"><span style=\"color: #7f7f7f; text-decoration-color: #7f7f7f\">107</span></a>\n",
       "</pre>\n"
      ],
      "text/plain": [
       "\u001b[2;36m          \u001b[0m\u001b[2;36m \u001b[0m\u001b[34mINFO    \u001b[0m ⏭️ Skipping gnocchi-en-meatballs.jpg \u001b[1m(\u001b[0malready labeled\u001b[1m)\u001b[0m                          \u001b]8;id=460490;file:///tmp/ipykernel_30654/412114492.py\u001b\\\u001b[2m412114492.py\u001b[0m\u001b]8;;\u001b\\\u001b[2m:\u001b[0m\u001b]8;id=67275;file:///tmp/ipykernel_30654/412114492.py#107\u001b\\\u001b[2m107\u001b[0m\u001b]8;;\u001b\\\n"
      ]
     },
     "metadata": {},
     "output_type": "display_data"
    },
    {
     "data": {
      "text/html": [
       "<pre style=\"white-space:pre;overflow-x:auto;line-height:normal;font-family:Menlo,'DejaVu Sans Mono',consolas,'Courier New',monospace\"><span style=\"color: #7fbfbf; text-decoration-color: #7fbfbf\">           </span><span style=\"color: #000080; text-decoration-color: #000080\">INFO    </span> ⏭️ Skipping groene-kruidendip.jpg <span style=\"font-weight: bold\">(</span>already labeled<span style=\"font-weight: bold\">)</span>                             <a href=\"file:///tmp/ipykernel_30654/412114492.py\" target=\"_blank\"><span style=\"color: #7f7f7f; text-decoration-color: #7f7f7f\">412114492.py</span></a><span style=\"color: #7f7f7f; text-decoration-color: #7f7f7f\">:</span><a href=\"file:///tmp/ipykernel_30654/412114492.py#107\" target=\"_blank\"><span style=\"color: #7f7f7f; text-decoration-color: #7f7f7f\">107</span></a>\n",
       "</pre>\n"
      ],
      "text/plain": [
       "\u001b[2;36m          \u001b[0m\u001b[2;36m \u001b[0m\u001b[34mINFO    \u001b[0m ⏭️ Skipping groene-kruidendip.jpg \u001b[1m(\u001b[0malready labeled\u001b[1m)\u001b[0m                             \u001b]8;id=753103;file:///tmp/ipykernel_30654/412114492.py\u001b\\\u001b[2m412114492.py\u001b[0m\u001b]8;;\u001b\\\u001b[2m:\u001b[0m\u001b]8;id=281450;file:///tmp/ipykernel_30654/412114492.py#107\u001b\\\u001b[2m107\u001b[0m\u001b]8;;\u001b\\\n"
      ]
     },
     "metadata": {},
     "output_type": "display_data"
    },
    {
     "data": {
      "text/html": [
       "<pre style=\"white-space:pre;overflow-x:auto;line-height:normal;font-family:Menlo,'DejaVu Sans Mono',consolas,'Courier New',monospace\"><span style=\"color: #7fbfbf; text-decoration-color: #7fbfbf\">           </span><span style=\"color: #000080; text-decoration-color: #000080\">INFO    </span> ⏭️ Skipping groente-kipnuggets-uit-de-airfryer.jpg <span style=\"font-weight: bold\">(</span>already labeled<span style=\"font-weight: bold\">)</span>            <a href=\"file:///tmp/ipykernel_30654/412114492.py\" target=\"_blank\"><span style=\"color: #7f7f7f; text-decoration-color: #7f7f7f\">412114492.py</span></a><span style=\"color: #7f7f7f; text-decoration-color: #7f7f7f\">:</span><a href=\"file:///tmp/ipykernel_30654/412114492.py#107\" target=\"_blank\"><span style=\"color: #7f7f7f; text-decoration-color: #7f7f7f\">107</span></a>\n",
       "</pre>\n"
      ],
      "text/plain": [
       "\u001b[2;36m          \u001b[0m\u001b[2;36m \u001b[0m\u001b[34mINFO    \u001b[0m ⏭️ Skipping groente-kipnuggets-uit-de-airfryer.jpg \u001b[1m(\u001b[0malready labeled\u001b[1m)\u001b[0m            \u001b]8;id=160365;file:///tmp/ipykernel_30654/412114492.py\u001b\\\u001b[2m412114492.py\u001b[0m\u001b]8;;\u001b\\\u001b[2m:\u001b[0m\u001b]8;id=421452;file:///tmp/ipykernel_30654/412114492.py#107\u001b\\\u001b[2m107\u001b[0m\u001b]8;;\u001b\\\n"
      ]
     },
     "metadata": {},
     "output_type": "display_data"
    },
    {
     "data": {
      "text/html": [
       "<pre style=\"white-space:pre;overflow-x:auto;line-height:normal;font-family:Menlo,'DejaVu Sans Mono',consolas,'Courier New',monospace\"><span style=\"color: #7fbfbf; text-decoration-color: #7fbfbf\">           </span><span style=\"color: #000080; text-decoration-color: #000080\">INFO    </span> ⏭️ Skipping havermoutcrumble-met-frambozen-en-custard.jpg <span style=\"font-weight: bold\">(</span>already labeled<span style=\"font-weight: bold\">)</span>     <a href=\"file:///tmp/ipykernel_30654/412114492.py\" target=\"_blank\"><span style=\"color: #7f7f7f; text-decoration-color: #7f7f7f\">412114492.py</span></a><span style=\"color: #7f7f7f; text-decoration-color: #7f7f7f\">:</span><a href=\"file:///tmp/ipykernel_30654/412114492.py#107\" target=\"_blank\"><span style=\"color: #7f7f7f; text-decoration-color: #7f7f7f\">107</span></a>\n",
       "</pre>\n"
      ],
      "text/plain": [
       "\u001b[2;36m          \u001b[0m\u001b[2;36m \u001b[0m\u001b[34mINFO    \u001b[0m ⏭️ Skipping havermoutcrumble-met-frambozen-en-custard.jpg \u001b[1m(\u001b[0malready labeled\u001b[1m)\u001b[0m     \u001b]8;id=989067;file:///tmp/ipykernel_30654/412114492.py\u001b\\\u001b[2m412114492.py\u001b[0m\u001b]8;;\u001b\\\u001b[2m:\u001b[0m\u001b]8;id=878166;file:///tmp/ipykernel_30654/412114492.py#107\u001b\\\u001b[2m107\u001b[0m\u001b]8;;\u001b\\\n"
      ]
     },
     "metadata": {},
     "output_type": "display_data"
    },
    {
     "data": {
      "text/html": [
       "<pre style=\"white-space:pre;overflow-x:auto;line-height:normal;font-family:Menlo,'DejaVu Sans Mono',consolas,'Courier New',monospace\"><span style=\"color: #7fbfbf; text-decoration-color: #7fbfbf\">           </span><span style=\"color: #000080; text-decoration-color: #000080\">INFO    </span> ⏭️ Skipping kabeljauw-met-notencrunch-en-venkel.jpg <span style=\"font-weight: bold\">(</span>already labeled<span style=\"font-weight: bold\">)</span>           <a href=\"file:///tmp/ipykernel_30654/412114492.py\" target=\"_blank\"><span style=\"color: #7f7f7f; text-decoration-color: #7f7f7f\">412114492.py</span></a><span style=\"color: #7f7f7f; text-decoration-color: #7f7f7f\">:</span><a href=\"file:///tmp/ipykernel_30654/412114492.py#107\" target=\"_blank\"><span style=\"color: #7f7f7f; text-decoration-color: #7f7f7f\">107</span></a>\n",
       "</pre>\n"
      ],
      "text/plain": [
       "\u001b[2;36m          \u001b[0m\u001b[2;36m \u001b[0m\u001b[34mINFO    \u001b[0m ⏭️ Skipping kabeljauw-met-notencrunch-en-venkel.jpg \u001b[1m(\u001b[0malready labeled\u001b[1m)\u001b[0m           \u001b]8;id=495727;file:///tmp/ipykernel_30654/412114492.py\u001b\\\u001b[2m412114492.py\u001b[0m\u001b]8;;\u001b\\\u001b[2m:\u001b[0m\u001b]8;id=357435;file:///tmp/ipykernel_30654/412114492.py#107\u001b\\\u001b[2m107\u001b[0m\u001b]8;;\u001b\\\n"
      ]
     },
     "metadata": {},
     "output_type": "display_data"
    },
    {
     "data": {
      "text/html": [
       "<pre style=\"white-space:pre;overflow-x:auto;line-height:normal;font-family:Menlo,'DejaVu Sans Mono',consolas,'Courier New',monospace\"><span style=\"color: #7fbfbf; text-decoration-color: #7fbfbf\">           </span><span style=\"color: #000080; text-decoration-color: #000080\">INFO    </span> ⏭️ Skipping lunchwraps-gerookte-kip-en-komkommer-van-giorgias-kitchen.jpg       <a href=\"file:///tmp/ipykernel_30654/412114492.py\" target=\"_blank\"><span style=\"color: #7f7f7f; text-decoration-color: #7f7f7f\">412114492.py</span></a><span style=\"color: #7f7f7f; text-decoration-color: #7f7f7f\">:</span><a href=\"file:///tmp/ipykernel_30654/412114492.py#107\" target=\"_blank\"><span style=\"color: #7f7f7f; text-decoration-color: #7f7f7f\">107</span></a>\n",
       "<span style=\"color: #7fbfbf; text-decoration-color: #7fbfbf\">           </span>         <span style=\"font-weight: bold\">(</span>already labeled<span style=\"font-weight: bold\">)</span>                                                              <span style=\"color: #7f7f7f; text-decoration-color: #7f7f7f\">                </span>\n",
       "</pre>\n"
      ],
      "text/plain": [
       "\u001b[2;36m          \u001b[0m\u001b[2;36m \u001b[0m\u001b[34mINFO    \u001b[0m ⏭️ Skipping lunchwraps-gerookte-kip-en-komkommer-van-giorgias-kitchen.jpg       \u001b]8;id=90536;file:///tmp/ipykernel_30654/412114492.py\u001b\\\u001b[2m412114492.py\u001b[0m\u001b]8;;\u001b\\\u001b[2m:\u001b[0m\u001b]8;id=673552;file:///tmp/ipykernel_30654/412114492.py#107\u001b\\\u001b[2m107\u001b[0m\u001b]8;;\u001b\\\n",
       "\u001b[2;36m           \u001b[0m         \u001b[1m(\u001b[0malready labeled\u001b[1m)\u001b[0m                                                              \u001b[2m                \u001b[0m\n"
      ]
     },
     "metadata": {},
     "output_type": "display_data"
    },
    {
     "data": {
      "text/html": [
       "<pre style=\"white-space:pre;overflow-x:auto;line-height:normal;font-family:Menlo,'DejaVu Sans Mono',consolas,'Courier New',monospace\"><span style=\"color: #7fbfbf; text-decoration-color: #7fbfbf\">           </span><span style=\"color: #000080; text-decoration-color: #000080\">INFO    </span> ⏭️ Skipping ovenquesadillas-met-kipgehakt-en-komkommersla.jpg <span style=\"font-weight: bold\">(</span>already labeled<span style=\"font-weight: bold\">)</span> <a href=\"file:///tmp/ipykernel_30654/412114492.py\" target=\"_blank\"><span style=\"color: #7f7f7f; text-decoration-color: #7f7f7f\">412114492.py</span></a><span style=\"color: #7f7f7f; text-decoration-color: #7f7f7f\">:</span><a href=\"file:///tmp/ipykernel_30654/412114492.py#107\" target=\"_blank\"><span style=\"color: #7f7f7f; text-decoration-color: #7f7f7f\">107</span></a>\n",
       "</pre>\n"
      ],
      "text/plain": [
       "\u001b[2;36m          \u001b[0m\u001b[2;36m \u001b[0m\u001b[34mINFO    \u001b[0m ⏭️ Skipping ovenquesadillas-met-kipgehakt-en-komkommersla.jpg \u001b[1m(\u001b[0malready labeled\u001b[1m)\u001b[0m \u001b]8;id=668346;file:///tmp/ipykernel_30654/412114492.py\u001b\\\u001b[2m412114492.py\u001b[0m\u001b]8;;\u001b\\\u001b[2m:\u001b[0m\u001b]8;id=797184;file:///tmp/ipykernel_30654/412114492.py#107\u001b\\\u001b[2m107\u001b[0m\u001b]8;;\u001b\\\n"
      ]
     },
     "metadata": {},
     "output_type": "display_data"
    },
    {
     "data": {
      "text/html": [
       "<pre style=\"white-space:pre;overflow-x:auto;line-height:normal;font-family:Menlo,'DejaVu Sans Mono',consolas,'Courier New',monospace\"><span style=\"color: #7fbfbf; text-decoration-color: #7fbfbf\">           </span><span style=\"color: #000080; text-decoration-color: #000080\">INFO    </span> ⏭️ Skipping paprika-tomaatwraps-met-tonijnsalade.jpg <span style=\"font-weight: bold\">(</span>already labeled<span style=\"font-weight: bold\">)</span>          <a href=\"file:///tmp/ipykernel_30654/412114492.py\" target=\"_blank\"><span style=\"color: #7f7f7f; text-decoration-color: #7f7f7f\">412114492.py</span></a><span style=\"color: #7f7f7f; text-decoration-color: #7f7f7f\">:</span><a href=\"file:///tmp/ipykernel_30654/412114492.py#107\" target=\"_blank\"><span style=\"color: #7f7f7f; text-decoration-color: #7f7f7f\">107</span></a>\n",
       "</pre>\n"
      ],
      "text/plain": [
       "\u001b[2;36m          \u001b[0m\u001b[2;36m \u001b[0m\u001b[34mINFO    \u001b[0m ⏭️ Skipping paprika-tomaatwraps-met-tonijnsalade.jpg \u001b[1m(\u001b[0malready labeled\u001b[1m)\u001b[0m          \u001b]8;id=99384;file:///tmp/ipykernel_30654/412114492.py\u001b\\\u001b[2m412114492.py\u001b[0m\u001b]8;;\u001b\\\u001b[2m:\u001b[0m\u001b]8;id=469872;file:///tmp/ipykernel_30654/412114492.py#107\u001b\\\u001b[2m107\u001b[0m\u001b]8;;\u001b\\\n"
      ]
     },
     "metadata": {},
     "output_type": "display_data"
    },
    {
     "data": {
      "text/html": [
       "<pre style=\"white-space:pre;overflow-x:auto;line-height:normal;font-family:Menlo,'DejaVu Sans Mono',consolas,'Courier New',monospace\"><span style=\"color: #7fbfbf; text-decoration-color: #7fbfbf\">           </span><span style=\"color: #000080; text-decoration-color: #000080\">INFO    </span> ⏭️ Skipping paprikasalsa-met-limoen-en-bosui.jpg <span style=\"font-weight: bold\">(</span>already labeled<span style=\"font-weight: bold\">)</span>              <a href=\"file:///tmp/ipykernel_30654/412114492.py\" target=\"_blank\"><span style=\"color: #7f7f7f; text-decoration-color: #7f7f7f\">412114492.py</span></a><span style=\"color: #7f7f7f; text-decoration-color: #7f7f7f\">:</span><a href=\"file:///tmp/ipykernel_30654/412114492.py#107\" target=\"_blank\"><span style=\"color: #7f7f7f; text-decoration-color: #7f7f7f\">107</span></a>\n",
       "</pre>\n"
      ],
      "text/plain": [
       "\u001b[2;36m          \u001b[0m\u001b[2;36m \u001b[0m\u001b[34mINFO    \u001b[0m ⏭️ Skipping paprikasalsa-met-limoen-en-bosui.jpg \u001b[1m(\u001b[0malready labeled\u001b[1m)\u001b[0m              \u001b]8;id=487535;file:///tmp/ipykernel_30654/412114492.py\u001b\\\u001b[2m412114492.py\u001b[0m\u001b]8;;\u001b\\\u001b[2m:\u001b[0m\u001b]8;id=477377;file:///tmp/ipykernel_30654/412114492.py#107\u001b\\\u001b[2m107\u001b[0m\u001b]8;;\u001b\\\n"
      ]
     },
     "metadata": {},
     "output_type": "display_data"
    },
    {
     "data": {
      "text/html": [
       "<pre style=\"white-space:pre;overflow-x:auto;line-height:normal;font-family:Menlo,'DejaVu Sans Mono',consolas,'Courier New',monospace\"><span style=\"color: #7fbfbf; text-decoration-color: #7fbfbf\">           </span><span style=\"color: #000080; text-decoration-color: #000080\">INFO    </span> ⏭️ Skipping pittige-paprikadip.jpg <span style=\"font-weight: bold\">(</span>already labeled<span style=\"font-weight: bold\">)</span>                            <a href=\"file:///tmp/ipykernel_30654/412114492.py\" target=\"_blank\"><span style=\"color: #7f7f7f; text-decoration-color: #7f7f7f\">412114492.py</span></a><span style=\"color: #7f7f7f; text-decoration-color: #7f7f7f\">:</span><a href=\"file:///tmp/ipykernel_30654/412114492.py#107\" target=\"_blank\"><span style=\"color: #7f7f7f; text-decoration-color: #7f7f7f\">107</span></a>\n",
       "</pre>\n"
      ],
      "text/plain": [
       "\u001b[2;36m          \u001b[0m\u001b[2;36m \u001b[0m\u001b[34mINFO    \u001b[0m ⏭️ Skipping pittige-paprikadip.jpg \u001b[1m(\u001b[0malready labeled\u001b[1m)\u001b[0m                            \u001b]8;id=484885;file:///tmp/ipykernel_30654/412114492.py\u001b\\\u001b[2m412114492.py\u001b[0m\u001b]8;;\u001b\\\u001b[2m:\u001b[0m\u001b]8;id=750377;file:///tmp/ipykernel_30654/412114492.py#107\u001b\\\u001b[2m107\u001b[0m\u001b]8;;\u001b\\\n"
      ]
     },
     "metadata": {},
     "output_type": "display_data"
    },
    {
     "data": {
      "text/html": [
       "<pre style=\"white-space:pre;overflow-x:auto;line-height:normal;font-family:Menlo,'DejaVu Sans Mono',consolas,'Courier New',monospace\"><span style=\"color: #7fbfbf; text-decoration-color: #7fbfbf\">           </span><span style=\"color: #000080; text-decoration-color: #000080\">INFO    </span> ⏭️ Skipping snelle-noedels-met-een-gebakken-ei.jpg <span style=\"font-weight: bold\">(</span>already labeled<span style=\"font-weight: bold\">)</span>            <a href=\"file:///tmp/ipykernel_30654/412114492.py\" target=\"_blank\"><span style=\"color: #7f7f7f; text-decoration-color: #7f7f7f\">412114492.py</span></a><span style=\"color: #7f7f7f; text-decoration-color: #7f7f7f\">:</span><a href=\"file:///tmp/ipykernel_30654/412114492.py#107\" target=\"_blank\"><span style=\"color: #7f7f7f; text-decoration-color: #7f7f7f\">107</span></a>\n",
       "</pre>\n"
      ],
      "text/plain": [
       "\u001b[2;36m          \u001b[0m\u001b[2;36m \u001b[0m\u001b[34mINFO    \u001b[0m ⏭️ Skipping snelle-noedels-met-een-gebakken-ei.jpg \u001b[1m(\u001b[0malready labeled\u001b[1m)\u001b[0m            \u001b]8;id=699538;file:///tmp/ipykernel_30654/412114492.py\u001b\\\u001b[2m412114492.py\u001b[0m\u001b]8;;\u001b\\\u001b[2m:\u001b[0m\u001b]8;id=276233;file:///tmp/ipykernel_30654/412114492.py#107\u001b\\\u001b[2m107\u001b[0m\u001b]8;;\u001b\\\n"
      ]
     },
     "metadata": {},
     "output_type": "display_data"
    },
    {
     "data": {
      "text/html": [
       "<pre style=\"white-space:pre;overflow-x:auto;line-height:normal;font-family:Menlo,'DejaVu Sans Mono',consolas,'Courier New',monospace\"><span style=\"color: #7fbfbf; text-decoration-color: #7fbfbf\">           </span><span style=\"color: #000080; text-decoration-color: #000080\">INFO    </span> ⏭️ Skipping spitskoolstamppot-met-varkenshaas.jpg <span style=\"font-weight: bold\">(</span>already labeled<span style=\"font-weight: bold\">)</span>             <a href=\"file:///tmp/ipykernel_30654/412114492.py\" target=\"_blank\"><span style=\"color: #7f7f7f; text-decoration-color: #7f7f7f\">412114492.py</span></a><span style=\"color: #7f7f7f; text-decoration-color: #7f7f7f\">:</span><a href=\"file:///tmp/ipykernel_30654/412114492.py#107\" target=\"_blank\"><span style=\"color: #7f7f7f; text-decoration-color: #7f7f7f\">107</span></a>\n",
       "</pre>\n"
      ],
      "text/plain": [
       "\u001b[2;36m          \u001b[0m\u001b[2;36m \u001b[0m\u001b[34mINFO    \u001b[0m ⏭️ Skipping spitskoolstamppot-met-varkenshaas.jpg \u001b[1m(\u001b[0malready labeled\u001b[1m)\u001b[0m             \u001b]8;id=781529;file:///tmp/ipykernel_30654/412114492.py\u001b\\\u001b[2m412114492.py\u001b[0m\u001b]8;;\u001b\\\u001b[2m:\u001b[0m\u001b]8;id=49233;file:///tmp/ipykernel_30654/412114492.py#107\u001b\\\u001b[2m107\u001b[0m\u001b]8;;\u001b\\\n"
      ]
     },
     "metadata": {},
     "output_type": "display_data"
    },
    {
     "data": {
      "text/html": [
       "<pre style=\"white-space:pre;overflow-x:auto;line-height:normal;font-family:Menlo,'DejaVu Sans Mono',consolas,'Courier New',monospace\"><span style=\"color: #7fbfbf; text-decoration-color: #7fbfbf\">           </span><span style=\"color: #000080; text-decoration-color: #000080\">INFO    </span> ⏭️ Skipping traybake-met-kip-rostirondjes-en-bloemkool.jpg <span style=\"font-weight: bold\">(</span>already labeled<span style=\"font-weight: bold\">)</span>    <a href=\"file:///tmp/ipykernel_30654/412114492.py\" target=\"_blank\"><span style=\"color: #7f7f7f; text-decoration-color: #7f7f7f\">412114492.py</span></a><span style=\"color: #7f7f7f; text-decoration-color: #7f7f7f\">:</span><a href=\"file:///tmp/ipykernel_30654/412114492.py#107\" target=\"_blank\"><span style=\"color: #7f7f7f; text-decoration-color: #7f7f7f\">107</span></a>\n",
       "</pre>\n"
      ],
      "text/plain": [
       "\u001b[2;36m          \u001b[0m\u001b[2;36m \u001b[0m\u001b[34mINFO    \u001b[0m ⏭️ Skipping traybake-met-kip-rostirondjes-en-bloemkool.jpg \u001b[1m(\u001b[0malready labeled\u001b[1m)\u001b[0m    \u001b]8;id=809186;file:///tmp/ipykernel_30654/412114492.py\u001b\\\u001b[2m412114492.py\u001b[0m\u001b]8;;\u001b\\\u001b[2m:\u001b[0m\u001b]8;id=339469;file:///tmp/ipykernel_30654/412114492.py#107\u001b\\\u001b[2m107\u001b[0m\u001b]8;;\u001b\\\n"
      ]
     },
     "metadata": {},
     "output_type": "display_data"
    },
    {
     "data": {
      "text/html": [
       "<pre style=\"white-space:pre;overflow-x:auto;line-height:normal;font-family:Menlo,'DejaVu Sans Mono',consolas,'Courier New',monospace\"><span style=\"color: #7fbfbf; text-decoration-color: #7fbfbf\">           </span><span style=\"color: #000080; text-decoration-color: #000080\">INFO    </span> ⏭️ Skipping traybake-met-zoete-aardappel-en-chorizobraadworst.jpg <span style=\"font-weight: bold\">(</span>already      <a href=\"file:///tmp/ipykernel_30654/412114492.py\" target=\"_blank\"><span style=\"color: #7f7f7f; text-decoration-color: #7f7f7f\">412114492.py</span></a><span style=\"color: #7f7f7f; text-decoration-color: #7f7f7f\">:</span><a href=\"file:///tmp/ipykernel_30654/412114492.py#107\" target=\"_blank\"><span style=\"color: #7f7f7f; text-decoration-color: #7f7f7f\">107</span></a>\n",
       "<span style=\"color: #7fbfbf; text-decoration-color: #7fbfbf\">           </span>         labeled<span style=\"font-weight: bold\">)</span>                                                                       <span style=\"color: #7f7f7f; text-decoration-color: #7f7f7f\">                </span>\n",
       "</pre>\n"
      ],
      "text/plain": [
       "\u001b[2;36m          \u001b[0m\u001b[2;36m \u001b[0m\u001b[34mINFO    \u001b[0m ⏭️ Skipping traybake-met-zoete-aardappel-en-chorizobraadworst.jpg \u001b[1m(\u001b[0malready      \u001b]8;id=545404;file:///tmp/ipykernel_30654/412114492.py\u001b\\\u001b[2m412114492.py\u001b[0m\u001b]8;;\u001b\\\u001b[2m:\u001b[0m\u001b]8;id=424832;file:///tmp/ipykernel_30654/412114492.py#107\u001b\\\u001b[2m107\u001b[0m\u001b]8;;\u001b\\\n",
       "\u001b[2;36m           \u001b[0m         labeled\u001b[1m)\u001b[0m                                                                       \u001b[2m                \u001b[0m\n"
      ]
     },
     "metadata": {},
     "output_type": "display_data"
    },
    {
     "data": {
      "text/html": [
       "<pre style=\"white-space:pre;overflow-x:auto;line-height:normal;font-family:Menlo,'DejaVu Sans Mono',consolas,'Courier New',monospace\"><span style=\"color: #7fbfbf; text-decoration-color: #7fbfbf\">           </span><span style=\"color: #000080; text-decoration-color: #000080\">INFO    </span> ⏭️ Skipping vegaschnitzel-met-gebakken-aardappeltjes-en-sperziebonen.jpg        <a href=\"file:///tmp/ipykernel_30654/412114492.py\" target=\"_blank\"><span style=\"color: #7f7f7f; text-decoration-color: #7f7f7f\">412114492.py</span></a><span style=\"color: #7f7f7f; text-decoration-color: #7f7f7f\">:</span><a href=\"file:///tmp/ipykernel_30654/412114492.py#107\" target=\"_blank\"><span style=\"color: #7f7f7f; text-decoration-color: #7f7f7f\">107</span></a>\n",
       "<span style=\"color: #7fbfbf; text-decoration-color: #7fbfbf\">           </span>         <span style=\"font-weight: bold\">(</span>already labeled<span style=\"font-weight: bold\">)</span>                                                              <span style=\"color: #7f7f7f; text-decoration-color: #7f7f7f\">                </span>\n",
       "</pre>\n"
      ],
      "text/plain": [
       "\u001b[2;36m          \u001b[0m\u001b[2;36m \u001b[0m\u001b[34mINFO    \u001b[0m ⏭️ Skipping vegaschnitzel-met-gebakken-aardappeltjes-en-sperziebonen.jpg        \u001b]8;id=684997;file:///tmp/ipykernel_30654/412114492.py\u001b\\\u001b[2m412114492.py\u001b[0m\u001b]8;;\u001b\\\u001b[2m:\u001b[0m\u001b]8;id=354339;file:///tmp/ipykernel_30654/412114492.py#107\u001b\\\u001b[2m107\u001b[0m\u001b]8;;\u001b\\\n",
       "\u001b[2;36m           \u001b[0m         \u001b[1m(\u001b[0malready labeled\u001b[1m)\u001b[0m                                                              \u001b[2m                \u001b[0m\n"
      ]
     },
     "metadata": {},
     "output_type": "display_data"
    },
    {
     "data": {
      "text/html": [
       "<pre style=\"white-space:pre;overflow-x:auto;line-height:normal;font-family:Menlo,'DejaVu Sans Mono',consolas,'Courier New',monospace\"><span style=\"color: #7fbfbf; text-decoration-color: #7fbfbf\">           </span><span style=\"color: #000080; text-decoration-color: #000080\">INFO    </span> ⏭️ Skipping volkorenpizza-met-tomaat-en-courgette.jpg <span style=\"font-weight: bold\">(</span>already labeled<span style=\"font-weight: bold\">)</span>         <a href=\"file:///tmp/ipykernel_30654/412114492.py\" target=\"_blank\"><span style=\"color: #7f7f7f; text-decoration-color: #7f7f7f\">412114492.py</span></a><span style=\"color: #7f7f7f; text-decoration-color: #7f7f7f\">:</span><a href=\"file:///tmp/ipykernel_30654/412114492.py#107\" target=\"_blank\"><span style=\"color: #7f7f7f; text-decoration-color: #7f7f7f\">107</span></a>\n",
       "</pre>\n"
      ],
      "text/plain": [
       "\u001b[2;36m          \u001b[0m\u001b[2;36m \u001b[0m\u001b[34mINFO    \u001b[0m ⏭️ Skipping volkorenpizza-met-tomaat-en-courgette.jpg \u001b[1m(\u001b[0malready labeled\u001b[1m)\u001b[0m         \u001b]8;id=503202;file:///tmp/ipykernel_30654/412114492.py\u001b\\\u001b[2m412114492.py\u001b[0m\u001b]8;;\u001b\\\u001b[2m:\u001b[0m\u001b]8;id=809867;file:///tmp/ipykernel_30654/412114492.py#107\u001b\\\u001b[2m107\u001b[0m\u001b]8;;\u001b\\\n"
      ]
     },
     "metadata": {},
     "output_type": "display_data"
    },
    {
     "data": {
      "text/html": [
       "<pre style=\"white-space:pre;overflow-x:auto;line-height:normal;font-family:Menlo,'DejaVu Sans Mono',consolas,'Courier New',monospace\"><span style=\"color: #7fbfbf; text-decoration-color: #7fbfbf\">           </span><span style=\"color: #000080; text-decoration-color: #000080\">INFO    </span> ⏭️ Skipping volkorentacos-met-tofu-en-geroosterde-bloemkool.jpg <span style=\"font-weight: bold\">(</span>already        <a href=\"file:///tmp/ipykernel_30654/412114492.py\" target=\"_blank\"><span style=\"color: #7f7f7f; text-decoration-color: #7f7f7f\">412114492.py</span></a><span style=\"color: #7f7f7f; text-decoration-color: #7f7f7f\">:</span><a href=\"file:///tmp/ipykernel_30654/412114492.py#107\" target=\"_blank\"><span style=\"color: #7f7f7f; text-decoration-color: #7f7f7f\">107</span></a>\n",
       "<span style=\"color: #7fbfbf; text-decoration-color: #7fbfbf\">           </span>         labeled<span style=\"font-weight: bold\">)</span>                                                                       <span style=\"color: #7f7f7f; text-decoration-color: #7f7f7f\">                </span>\n",
       "</pre>\n"
      ],
      "text/plain": [
       "\u001b[2;36m          \u001b[0m\u001b[2;36m \u001b[0m\u001b[34mINFO    \u001b[0m ⏭️ Skipping volkorentacos-met-tofu-en-geroosterde-bloemkool.jpg \u001b[1m(\u001b[0malready        \u001b]8;id=152786;file:///tmp/ipykernel_30654/412114492.py\u001b\\\u001b[2m412114492.py\u001b[0m\u001b]8;;\u001b\\\u001b[2m:\u001b[0m\u001b]8;id=707550;file:///tmp/ipykernel_30654/412114492.py#107\u001b\\\u001b[2m107\u001b[0m\u001b]8;;\u001b\\\n",
       "\u001b[2;36m           \u001b[0m         labeled\u001b[1m)\u001b[0m                                                                       \u001b[2m                \u001b[0m\n"
      ]
     },
     "metadata": {},
     "output_type": "display_data"
    },
    {
     "data": {
      "text/html": [
       "<pre style=\"white-space:pre;overflow-x:auto;line-height:normal;font-family:Menlo,'DejaVu Sans Mono',consolas,'Courier New',monospace\"><span style=\"color: #7fbfbf; text-decoration-color: #7fbfbf\">           </span><span style=\"color: #000080; text-decoration-color: #000080\">INFO    </span> ⏭️ Skipping witlof-ovenschotel-met-vega-spekjes.jpg <span style=\"font-weight: bold\">(</span>already labeled<span style=\"font-weight: bold\">)</span>           <a href=\"file:///tmp/ipykernel_30654/412114492.py\" target=\"_blank\"><span style=\"color: #7f7f7f; text-decoration-color: #7f7f7f\">412114492.py</span></a><span style=\"color: #7f7f7f; text-decoration-color: #7f7f7f\">:</span><a href=\"file:///tmp/ipykernel_30654/412114492.py#107\" target=\"_blank\"><span style=\"color: #7f7f7f; text-decoration-color: #7f7f7f\">107</span></a>\n",
       "</pre>\n"
      ],
      "text/plain": [
       "\u001b[2;36m          \u001b[0m\u001b[2;36m \u001b[0m\u001b[34mINFO    \u001b[0m ⏭️ Skipping witlof-ovenschotel-met-vega-spekjes.jpg \u001b[1m(\u001b[0malready labeled\u001b[1m)\u001b[0m           \u001b]8;id=231236;file:///tmp/ipykernel_30654/412114492.py\u001b\\\u001b[2m412114492.py\u001b[0m\u001b]8;;\u001b\\\u001b[2m:\u001b[0m\u001b]8;id=552044;file:///tmp/ipykernel_30654/412114492.py#107\u001b\\\u001b[2m107\u001b[0m\u001b]8;;\u001b\\\n"
      ]
     },
     "metadata": {},
     "output_type": "display_data"
    },
    {
     "data": {
      "text/html": [
       "<pre style=\"white-space:pre;overflow-x:auto;line-height:normal;font-family:Menlo,'DejaVu Sans Mono',consolas,'Courier New',monospace\"><span style=\"color: #7fbfbf; text-decoration-color: #7fbfbf\">           </span><span style=\"color: #000080; text-decoration-color: #000080\">INFO    </span> ⏭️ Skipping zalm-met-aardappelpuree-en-prei-a-la-creme.jpg <span style=\"font-weight: bold\">(</span>already labeled<span style=\"font-weight: bold\">)</span>    <a href=\"file:///tmp/ipykernel_30654/412114492.py\" target=\"_blank\"><span style=\"color: #7f7f7f; text-decoration-color: #7f7f7f\">412114492.py</span></a><span style=\"color: #7f7f7f; text-decoration-color: #7f7f7f\">:</span><a href=\"file:///tmp/ipykernel_30654/412114492.py#107\" target=\"_blank\"><span style=\"color: #7f7f7f; text-decoration-color: #7f7f7f\">107</span></a>\n",
       "</pre>\n"
      ],
      "text/plain": [
       "\u001b[2;36m          \u001b[0m\u001b[2;36m \u001b[0m\u001b[34mINFO    \u001b[0m ⏭️ Skipping zalm-met-aardappelpuree-en-prei-a-la-creme.jpg \u001b[1m(\u001b[0malready labeled\u001b[1m)\u001b[0m    \u001b]8;id=998191;file:///tmp/ipykernel_30654/412114492.py\u001b\\\u001b[2m412114492.py\u001b[0m\u001b]8;;\u001b\\\u001b[2m:\u001b[0m\u001b]8;id=529834;file:///tmp/ipykernel_30654/412114492.py#107\u001b\\\u001b[2m107\u001b[0m\u001b]8;;\u001b\\\n"
      ]
     },
     "metadata": {},
     "output_type": "display_data"
    },
    {
     "data": {
      "text/html": [
       "<pre style=\"white-space:pre;overflow-x:auto;line-height:normal;font-family:Menlo,'DejaVu Sans Mono',consolas,'Courier New',monospace\"><span style=\"color: #7fbfbf; text-decoration-color: #7fbfbf\">           </span><span style=\"color: #000080; text-decoration-color: #000080\">INFO    </span> ⏭️ Skipping zoete-aardappel-met-kip-en-gebakken-paksoi.jpg <span style=\"font-weight: bold\">(</span>already labeled<span style=\"font-weight: bold\">)</span>    <a href=\"file:///tmp/ipykernel_30654/412114492.py\" target=\"_blank\"><span style=\"color: #7f7f7f; text-decoration-color: #7f7f7f\">412114492.py</span></a><span style=\"color: #7f7f7f; text-decoration-color: #7f7f7f\">:</span><a href=\"file:///tmp/ipykernel_30654/412114492.py#107\" target=\"_blank\"><span style=\"color: #7f7f7f; text-decoration-color: #7f7f7f\">107</span></a>\n",
       "</pre>\n"
      ],
      "text/plain": [
       "\u001b[2;36m          \u001b[0m\u001b[2;36m \u001b[0m\u001b[34mINFO    \u001b[0m ⏭️ Skipping zoete-aardappel-met-kip-en-gebakken-paksoi.jpg \u001b[1m(\u001b[0malready labeled\u001b[1m)\u001b[0m    \u001b]8;id=347137;file:///tmp/ipykernel_30654/412114492.py\u001b\\\u001b[2m412114492.py\u001b[0m\u001b]8;;\u001b\\\u001b[2m:\u001b[0m\u001b]8;id=953341;file:///tmp/ipykernel_30654/412114492.py#107\u001b\\\u001b[2m107\u001b[0m\u001b]8;;\u001b\\\n"
      ]
     },
     "metadata": {},
     "output_type": "display_data"
    },
    {
     "name": "stdout",
     "output_type": "stream",
     "text": [
      "✅ Labeled 0 new images, skipped 31 already labeled → work/labels/new_labels.jsonl\n"
     ]
    },
    {
     "data": {
      "application/vnd.jupyter.widget-view+json": {
       "model_id": "88387bca97814293be0829ce4af93e3d",
       "version_major": 2,
       "version_minor": 0
      },
      "text/plain": [
       "  0%|          | 0/16 [00:00<?, ?it/s]"
      ]
     },
     "metadata": {},
     "output_type": "display_data"
    },
    {
     "data": {
      "text/html": [
       "<pre style=\"white-space:pre;overflow-x:auto;line-height:normal;font-family:Menlo,'DejaVu Sans Mono',consolas,'Courier New',monospace\"><span style=\"color: #7fbfbf; text-decoration-color: #7fbfbf\">           </span><span style=\"color: #000080; text-decoration-color: #000080\">INFO    </span> ⏭️ Skipping courgettebroodjes.jpg <span style=\"font-weight: bold\">(</span>already labeled<span style=\"font-weight: bold\">)</span>                             <a href=\"file:///tmp/ipykernel_30654/412114492.py\" target=\"_blank\"><span style=\"color: #7f7f7f; text-decoration-color: #7f7f7f\">412114492.py</span></a><span style=\"color: #7f7f7f; text-decoration-color: #7f7f7f\">:</span><a href=\"file:///tmp/ipykernel_30654/412114492.py#107\" target=\"_blank\"><span style=\"color: #7f7f7f; text-decoration-color: #7f7f7f\">107</span></a>\n",
       "</pre>\n"
      ],
      "text/plain": [
       "\u001b[2;36m          \u001b[0m\u001b[2;36m \u001b[0m\u001b[34mINFO    \u001b[0m ⏭️ Skipping courgettebroodjes.jpg \u001b[1m(\u001b[0malready labeled\u001b[1m)\u001b[0m                             \u001b]8;id=850412;file:///tmp/ipykernel_30654/412114492.py\u001b\\\u001b[2m412114492.py\u001b[0m\u001b]8;;\u001b\\\u001b[2m:\u001b[0m\u001b]8;id=384197;file:///tmp/ipykernel_30654/412114492.py#107\u001b\\\u001b[2m107\u001b[0m\u001b]8;;\u001b\\\n"
      ]
     },
     "metadata": {},
     "output_type": "display_data"
    },
    {
     "data": {
      "text/html": [
       "<pre style=\"white-space:pre;overflow-x:auto;line-height:normal;font-family:Menlo,'DejaVu Sans Mono',consolas,'Courier New',monospace\"><span style=\"color: #7fbfbf; text-decoration-color: #7fbfbf\">           </span><span style=\"color: #000080; text-decoration-color: #000080\">INFO    </span> ⏭️ Skipping franse-zuurkoolschotel.jpg <span style=\"font-weight: bold\">(</span>already labeled<span style=\"font-weight: bold\">)</span>                        <a href=\"file:///tmp/ipykernel_30654/412114492.py\" target=\"_blank\"><span style=\"color: #7f7f7f; text-decoration-color: #7f7f7f\">412114492.py</span></a><span style=\"color: #7f7f7f; text-decoration-color: #7f7f7f\">:</span><a href=\"file:///tmp/ipykernel_30654/412114492.py#107\" target=\"_blank\"><span style=\"color: #7f7f7f; text-decoration-color: #7f7f7f\">107</span></a>\n",
       "</pre>\n"
      ],
      "text/plain": [
       "\u001b[2;36m          \u001b[0m\u001b[2;36m \u001b[0m\u001b[34mINFO    \u001b[0m ⏭️ Skipping franse-zuurkoolschotel.jpg \u001b[1m(\u001b[0malready labeled\u001b[1m)\u001b[0m                        \u001b]8;id=665351;file:///tmp/ipykernel_30654/412114492.py\u001b\\\u001b[2m412114492.py\u001b[0m\u001b]8;;\u001b\\\u001b[2m:\u001b[0m\u001b]8;id=141759;file:///tmp/ipykernel_30654/412114492.py#107\u001b\\\u001b[2m107\u001b[0m\u001b]8;;\u001b\\\n"
      ]
     },
     "metadata": {},
     "output_type": "display_data"
    },
    {
     "data": {
      "text/html": [
       "<pre style=\"white-space:pre;overflow-x:auto;line-height:normal;font-family:Menlo,'DejaVu Sans Mono',consolas,'Courier New',monospace\"><span style=\"color: #7fbfbf; text-decoration-color: #7fbfbf\">           </span><span style=\"color: #000080; text-decoration-color: #000080\">INFO    </span> ⏭️ Skipping gegratineerde-spruitjes.jpg <span style=\"font-weight: bold\">(</span>already labeled<span style=\"font-weight: bold\">)</span>                       <a href=\"file:///tmp/ipykernel_30654/412114492.py\" target=\"_blank\"><span style=\"color: #7f7f7f; text-decoration-color: #7f7f7f\">412114492.py</span></a><span style=\"color: #7f7f7f; text-decoration-color: #7f7f7f\">:</span><a href=\"file:///tmp/ipykernel_30654/412114492.py#107\" target=\"_blank\"><span style=\"color: #7f7f7f; text-decoration-color: #7f7f7f\">107</span></a>\n",
       "</pre>\n"
      ],
      "text/plain": [
       "\u001b[2;36m          \u001b[0m\u001b[2;36m \u001b[0m\u001b[34mINFO    \u001b[0m ⏭️ Skipping gegratineerde-spruitjes.jpg \u001b[1m(\u001b[0malready labeled\u001b[1m)\u001b[0m                       \u001b]8;id=924083;file:///tmp/ipykernel_30654/412114492.py\u001b\\\u001b[2m412114492.py\u001b[0m\u001b]8;;\u001b\\\u001b[2m:\u001b[0m\u001b]8;id=588921;file:///tmp/ipykernel_30654/412114492.py#107\u001b\\\u001b[2m107\u001b[0m\u001b]8;;\u001b\\\n"
      ]
     },
     "metadata": {},
     "output_type": "display_data"
    },
    {
     "data": {
      "text/html": [
       "<pre style=\"white-space:pre;overflow-x:auto;line-height:normal;font-family:Menlo,'DejaVu Sans Mono',consolas,'Courier New',monospace\"><span style=\"color: #7fbfbf; text-decoration-color: #7fbfbf\">           </span><span style=\"color: #000080; text-decoration-color: #000080\">INFO    </span> ⏭️ Skipping gepocheerde-prei-met-truffelvinaigrette.jpg <span style=\"font-weight: bold\">(</span>already labeled<span style=\"font-weight: bold\">)</span>       <a href=\"file:///tmp/ipykernel_30654/412114492.py\" target=\"_blank\"><span style=\"color: #7f7f7f; text-decoration-color: #7f7f7f\">412114492.py</span></a><span style=\"color: #7f7f7f; text-decoration-color: #7f7f7f\">:</span><a href=\"file:///tmp/ipykernel_30654/412114492.py#107\" target=\"_blank\"><span style=\"color: #7f7f7f; text-decoration-color: #7f7f7f\">107</span></a>\n",
       "</pre>\n"
      ],
      "text/plain": [
       "\u001b[2;36m          \u001b[0m\u001b[2;36m \u001b[0m\u001b[34mINFO    \u001b[0m ⏭️ Skipping gepocheerde-prei-met-truffelvinaigrette.jpg \u001b[1m(\u001b[0malready labeled\u001b[1m)\u001b[0m       \u001b]8;id=468488;file:///tmp/ipykernel_30654/412114492.py\u001b\\\u001b[2m412114492.py\u001b[0m\u001b]8;;\u001b\\\u001b[2m:\u001b[0m\u001b]8;id=728310;file:///tmp/ipykernel_30654/412114492.py#107\u001b\\\u001b[2m107\u001b[0m\u001b]8;;\u001b\\\n"
      ]
     },
     "metadata": {},
     "output_type": "display_data"
    },
    {
     "data": {
      "text/html": [
       "<pre style=\"white-space:pre;overflow-x:auto;line-height:normal;font-family:Menlo,'DejaVu Sans Mono',consolas,'Courier New',monospace\"><span style=\"color: #7fbfbf; text-decoration-color: #7fbfbf\">           </span><span style=\"color: #000080; text-decoration-color: #000080\">INFO    </span> ⏭️ Skipping kersen-ricottamousse.jpg <span style=\"font-weight: bold\">(</span>already labeled<span style=\"font-weight: bold\">)</span>                          <a href=\"file:///tmp/ipykernel_30654/412114492.py\" target=\"_blank\"><span style=\"color: #7f7f7f; text-decoration-color: #7f7f7f\">412114492.py</span></a><span style=\"color: #7f7f7f; text-decoration-color: #7f7f7f\">:</span><a href=\"file:///tmp/ipykernel_30654/412114492.py#107\" target=\"_blank\"><span style=\"color: #7f7f7f; text-decoration-color: #7f7f7f\">107</span></a>\n",
       "</pre>\n"
      ],
      "text/plain": [
       "\u001b[2;36m          \u001b[0m\u001b[2;36m \u001b[0m\u001b[34mINFO    \u001b[0m ⏭️ Skipping kersen-ricottamousse.jpg \u001b[1m(\u001b[0malready labeled\u001b[1m)\u001b[0m                          \u001b]8;id=281859;file:///tmp/ipykernel_30654/412114492.py\u001b\\\u001b[2m412114492.py\u001b[0m\u001b]8;;\u001b\\\u001b[2m:\u001b[0m\u001b]8;id=889430;file:///tmp/ipykernel_30654/412114492.py#107\u001b\\\u001b[2m107\u001b[0m\u001b]8;;\u001b\\\n"
      ]
     },
     "metadata": {},
     "output_type": "display_data"
    },
    {
     "data": {
      "text/html": [
       "<pre style=\"white-space:pre;overflow-x:auto;line-height:normal;font-family:Menlo,'DejaVu Sans Mono',consolas,'Courier New',monospace\"><span style=\"color: #7fbfbf; text-decoration-color: #7fbfbf\">[11:03:39] </span><span style=\"color: #000080; text-decoration-color: #000080\">INFO    </span> ⏭️ Skipping klassieke-boerenkoolstamppot.jpg <span style=\"font-weight: bold\">(</span>already labeled<span style=\"font-weight: bold\">)</span>                  <a href=\"file:///tmp/ipykernel_30654/412114492.py\" target=\"_blank\"><span style=\"color: #7f7f7f; text-decoration-color: #7f7f7f\">412114492.py</span></a><span style=\"color: #7f7f7f; text-decoration-color: #7f7f7f\">:</span><a href=\"file:///tmp/ipykernel_30654/412114492.py#107\" target=\"_blank\"><span style=\"color: #7f7f7f; text-decoration-color: #7f7f7f\">107</span></a>\n",
       "</pre>\n"
      ],
      "text/plain": [
       "\u001b[2;36m[11:03:39]\u001b[0m\u001b[2;36m \u001b[0m\u001b[34mINFO    \u001b[0m ⏭️ Skipping klassieke-boerenkoolstamppot.jpg \u001b[1m(\u001b[0malready labeled\u001b[1m)\u001b[0m                  \u001b]8;id=794322;file:///tmp/ipykernel_30654/412114492.py\u001b\\\u001b[2m412114492.py\u001b[0m\u001b]8;;\u001b\\\u001b[2m:\u001b[0m\u001b]8;id=958351;file:///tmp/ipykernel_30654/412114492.py#107\u001b\\\u001b[2m107\u001b[0m\u001b]8;;\u001b\\\n"
      ]
     },
     "metadata": {},
     "output_type": "display_data"
    },
    {
     "data": {
      "text/html": [
       "<pre style=\"white-space:pre;overflow-x:auto;line-height:normal;font-family:Menlo,'DejaVu Sans Mono',consolas,'Courier New',monospace\"><span style=\"color: #7fbfbf; text-decoration-color: #7fbfbf\">           </span><span style=\"color: #000080; text-decoration-color: #000080\">INFO    </span> ⏭️ Skipping korianderpasta-met-mosselen.jpg <span style=\"font-weight: bold\">(</span>already labeled<span style=\"font-weight: bold\">)</span>                   <a href=\"file:///tmp/ipykernel_30654/412114492.py\" target=\"_blank\"><span style=\"color: #7f7f7f; text-decoration-color: #7f7f7f\">412114492.py</span></a><span style=\"color: #7f7f7f; text-decoration-color: #7f7f7f\">:</span><a href=\"file:///tmp/ipykernel_30654/412114492.py#107\" target=\"_blank\"><span style=\"color: #7f7f7f; text-decoration-color: #7f7f7f\">107</span></a>\n",
       "</pre>\n"
      ],
      "text/plain": [
       "\u001b[2;36m          \u001b[0m\u001b[2;36m \u001b[0m\u001b[34mINFO    \u001b[0m ⏭️ Skipping korianderpasta-met-mosselen.jpg \u001b[1m(\u001b[0malready labeled\u001b[1m)\u001b[0m                   \u001b]8;id=882731;file:///tmp/ipykernel_30654/412114492.py\u001b\\\u001b[2m412114492.py\u001b[0m\u001b]8;;\u001b\\\u001b[2m:\u001b[0m\u001b]8;id=802947;file:///tmp/ipykernel_30654/412114492.py#107\u001b\\\u001b[2m107\u001b[0m\u001b]8;;\u001b\\\n"
      ]
     },
     "metadata": {},
     "output_type": "display_data"
    },
    {
     "data": {
      "text/html": [
       "<pre style=\"white-space:pre;overflow-x:auto;line-height:normal;font-family:Menlo,'DejaVu Sans Mono',consolas,'Courier New',monospace\"><span style=\"color: #7fbfbf; text-decoration-color: #7fbfbf\">           </span><span style=\"color: #000080; text-decoration-color: #000080\">INFO    </span> ⏭️ Skipping lams-courgettekebabs.jpg <span style=\"font-weight: bold\">(</span>already labeled<span style=\"font-weight: bold\">)</span>                          <a href=\"file:///tmp/ipykernel_30654/412114492.py\" target=\"_blank\"><span style=\"color: #7f7f7f; text-decoration-color: #7f7f7f\">412114492.py</span></a><span style=\"color: #7f7f7f; text-decoration-color: #7f7f7f\">:</span><a href=\"file:///tmp/ipykernel_30654/412114492.py#107\" target=\"_blank\"><span style=\"color: #7f7f7f; text-decoration-color: #7f7f7f\">107</span></a>\n",
       "</pre>\n"
      ],
      "text/plain": [
       "\u001b[2;36m          \u001b[0m\u001b[2;36m \u001b[0m\u001b[34mINFO    \u001b[0m ⏭️ Skipping lams-courgettekebabs.jpg \u001b[1m(\u001b[0malready labeled\u001b[1m)\u001b[0m                          \u001b]8;id=872354;file:///tmp/ipykernel_30654/412114492.py\u001b\\\u001b[2m412114492.py\u001b[0m\u001b]8;;\u001b\\\u001b[2m:\u001b[0m\u001b]8;id=798468;file:///tmp/ipykernel_30654/412114492.py#107\u001b\\\u001b[2m107\u001b[0m\u001b]8;;\u001b\\\n"
      ]
     },
     "metadata": {},
     "output_type": "display_data"
    },
    {
     "data": {
      "text/html": [
       "<pre style=\"white-space:pre;overflow-x:auto;line-height:normal;font-family:Menlo,'DejaVu Sans Mono',consolas,'Courier New',monospace\"><span style=\"color: #7fbfbf; text-decoration-color: #7fbfbf\">           </span><span style=\"color: #000080; text-decoration-color: #000080\">INFO    </span> ⏭️ Skipping maaltijdmosterdsoep-met-kaastoast.jpg <span style=\"font-weight: bold\">(</span>already labeled<span style=\"font-weight: bold\">)</span>             <a href=\"file:///tmp/ipykernel_30654/412114492.py\" target=\"_blank\"><span style=\"color: #7f7f7f; text-decoration-color: #7f7f7f\">412114492.py</span></a><span style=\"color: #7f7f7f; text-decoration-color: #7f7f7f\">:</span><a href=\"file:///tmp/ipykernel_30654/412114492.py#107\" target=\"_blank\"><span style=\"color: #7f7f7f; text-decoration-color: #7f7f7f\">107</span></a>\n",
       "</pre>\n"
      ],
      "text/plain": [
       "\u001b[2;36m          \u001b[0m\u001b[2;36m \u001b[0m\u001b[34mINFO    \u001b[0m ⏭️ Skipping maaltijdmosterdsoep-met-kaastoast.jpg \u001b[1m(\u001b[0malready labeled\u001b[1m)\u001b[0m             \u001b]8;id=729250;file:///tmp/ipykernel_30654/412114492.py\u001b\\\u001b[2m412114492.py\u001b[0m\u001b]8;;\u001b\\\u001b[2m:\u001b[0m\u001b]8;id=392579;file:///tmp/ipykernel_30654/412114492.py#107\u001b\\\u001b[2m107\u001b[0m\u001b]8;;\u001b\\\n"
      ]
     },
     "metadata": {},
     "output_type": "display_data"
    },
    {
     "data": {
      "text/html": [
       "<pre style=\"white-space:pre;overflow-x:auto;line-height:normal;font-family:Menlo,'DejaVu Sans Mono',consolas,'Courier New',monospace\"><span style=\"color: #7fbfbf; text-decoration-color: #7fbfbf\">           </span><span style=\"color: #000080; text-decoration-color: #000080\">INFO    </span> ⏭️ Skipping macaroni-met-boemboe-ham-en-kaas.jpg <span style=\"font-weight: bold\">(</span>already labeled<span style=\"font-weight: bold\">)</span>              <a href=\"file:///tmp/ipykernel_30654/412114492.py\" target=\"_blank\"><span style=\"color: #7f7f7f; text-decoration-color: #7f7f7f\">412114492.py</span></a><span style=\"color: #7f7f7f; text-decoration-color: #7f7f7f\">:</span><a href=\"file:///tmp/ipykernel_30654/412114492.py#107\" target=\"_blank\"><span style=\"color: #7f7f7f; text-decoration-color: #7f7f7f\">107</span></a>\n",
       "</pre>\n"
      ],
      "text/plain": [
       "\u001b[2;36m          \u001b[0m\u001b[2;36m \u001b[0m\u001b[34mINFO    \u001b[0m ⏭️ Skipping macaroni-met-boemboe-ham-en-kaas.jpg \u001b[1m(\u001b[0malready labeled\u001b[1m)\u001b[0m              \u001b]8;id=763842;file:///tmp/ipykernel_30654/412114492.py\u001b\\\u001b[2m412114492.py\u001b[0m\u001b]8;;\u001b\\\u001b[2m:\u001b[0m\u001b]8;id=421891;file:///tmp/ipykernel_30654/412114492.py#107\u001b\\\u001b[2m107\u001b[0m\u001b]8;;\u001b\\\n"
      ]
     },
     "metadata": {},
     "output_type": "display_data"
    },
    {
     "data": {
      "text/html": [
       "<pre style=\"white-space:pre;overflow-x:auto;line-height:normal;font-family:Menlo,'DejaVu Sans Mono',consolas,'Courier New',monospace\"><span style=\"color: #7fbfbf; text-decoration-color: #7fbfbf\">           </span><span style=\"color: #000080; text-decoration-color: #000080\">INFO    </span> ⏭️ Skipping maïskipfilet-met-boterbonen-en-tapenade.jpg <span style=\"font-weight: bold\">(</span>already labeled<span style=\"font-weight: bold\">)</span>       <a href=\"file:///tmp/ipykernel_30654/412114492.py\" target=\"_blank\"><span style=\"color: #7f7f7f; text-decoration-color: #7f7f7f\">412114492.py</span></a><span style=\"color: #7f7f7f; text-decoration-color: #7f7f7f\">:</span><a href=\"file:///tmp/ipykernel_30654/412114492.py#107\" target=\"_blank\"><span style=\"color: #7f7f7f; text-decoration-color: #7f7f7f\">107</span></a>\n",
       "</pre>\n"
      ],
      "text/plain": [
       "\u001b[2;36m          \u001b[0m\u001b[2;36m \u001b[0m\u001b[34mINFO    \u001b[0m ⏭️ Skipping maïskipfilet-met-boterbonen-en-tapenade.jpg \u001b[1m(\u001b[0malready labeled\u001b[1m)\u001b[0m       \u001b]8;id=589583;file:///tmp/ipykernel_30654/412114492.py\u001b\\\u001b[2m412114492.py\u001b[0m\u001b]8;;\u001b\\\u001b[2m:\u001b[0m\u001b]8;id=468356;file:///tmp/ipykernel_30654/412114492.py#107\u001b\\\u001b[2m107\u001b[0m\u001b]8;;\u001b\\\n"
      ]
     },
     "metadata": {},
     "output_type": "display_data"
    },
    {
     "data": {
      "text/html": [
       "<pre style=\"white-space:pre;overflow-x:auto;line-height:normal;font-family:Menlo,'DejaVu Sans Mono',consolas,'Courier New',monospace\"><span style=\"color: #7fbfbf; text-decoration-color: #7fbfbf\">           </span><span style=\"color: #000080; text-decoration-color: #000080\">INFO    </span> ⏭️ Skipping paddestoelenragout-met-schnitzelreepjes.jpg <span style=\"font-weight: bold\">(</span>already labeled<span style=\"font-weight: bold\">)</span>       <a href=\"file:///tmp/ipykernel_30654/412114492.py\" target=\"_blank\"><span style=\"color: #7f7f7f; text-decoration-color: #7f7f7f\">412114492.py</span></a><span style=\"color: #7f7f7f; text-decoration-color: #7f7f7f\">:</span><a href=\"file:///tmp/ipykernel_30654/412114492.py#107\" target=\"_blank\"><span style=\"color: #7f7f7f; text-decoration-color: #7f7f7f\">107</span></a>\n",
       "</pre>\n"
      ],
      "text/plain": [
       "\u001b[2;36m          \u001b[0m\u001b[2;36m \u001b[0m\u001b[34mINFO    \u001b[0m ⏭️ Skipping paddestoelenragout-met-schnitzelreepjes.jpg \u001b[1m(\u001b[0malready labeled\u001b[1m)\u001b[0m       \u001b]8;id=82180;file:///tmp/ipykernel_30654/412114492.py\u001b\\\u001b[2m412114492.py\u001b[0m\u001b]8;;\u001b\\\u001b[2m:\u001b[0m\u001b]8;id=425003;file:///tmp/ipykernel_30654/412114492.py#107\u001b\\\u001b[2m107\u001b[0m\u001b]8;;\u001b\\\n"
      ]
     },
     "metadata": {},
     "output_type": "display_data"
    },
    {
     "data": {
      "text/html": [
       "<pre style=\"white-space:pre;overflow-x:auto;line-height:normal;font-family:Menlo,'DejaVu Sans Mono',consolas,'Courier New',monospace\"><span style=\"color: #7fbfbf; text-decoration-color: #7fbfbf\">           </span><span style=\"color: #000080; text-decoration-color: #000080\">INFO    </span> ⏭️ Skipping pineapple-slush.jpg <span style=\"font-weight: bold\">(</span>already labeled<span style=\"font-weight: bold\">)</span>                               <a href=\"file:///tmp/ipykernel_30654/412114492.py\" target=\"_blank\"><span style=\"color: #7f7f7f; text-decoration-color: #7f7f7f\">412114492.py</span></a><span style=\"color: #7f7f7f; text-decoration-color: #7f7f7f\">:</span><a href=\"file:///tmp/ipykernel_30654/412114492.py#107\" target=\"_blank\"><span style=\"color: #7f7f7f; text-decoration-color: #7f7f7f\">107</span></a>\n",
       "</pre>\n"
      ],
      "text/plain": [
       "\u001b[2;36m          \u001b[0m\u001b[2;36m \u001b[0m\u001b[34mINFO    \u001b[0m ⏭️ Skipping pineapple-slush.jpg \u001b[1m(\u001b[0malready labeled\u001b[1m)\u001b[0m                               \u001b]8;id=114688;file:///tmp/ipykernel_30654/412114492.py\u001b\\\u001b[2m412114492.py\u001b[0m\u001b]8;;\u001b\\\u001b[2m:\u001b[0m\u001b]8;id=613418;file:///tmp/ipykernel_30654/412114492.py#107\u001b\\\u001b[2m107\u001b[0m\u001b]8;;\u001b\\\n"
      ]
     },
     "metadata": {},
     "output_type": "display_data"
    },
    {
     "data": {
      "text/html": [
       "<pre style=\"white-space:pre;overflow-x:auto;line-height:normal;font-family:Menlo,'DejaVu Sans Mono',consolas,'Courier New',monospace\"><span style=\"color: #7fbfbf; text-decoration-color: #7fbfbf\">           </span><span style=\"color: #000080; text-decoration-color: #000080\">INFO    </span> ⏭️ Skipping pitabroodjes-met-lamsvlees-en-tomatenrelish.jpg <span style=\"font-weight: bold\">(</span>already labeled<span style=\"font-weight: bold\">)</span>   <a href=\"file:///tmp/ipykernel_30654/412114492.py\" target=\"_blank\"><span style=\"color: #7f7f7f; text-decoration-color: #7f7f7f\">412114492.py</span></a><span style=\"color: #7f7f7f; text-decoration-color: #7f7f7f\">:</span><a href=\"file:///tmp/ipykernel_30654/412114492.py#107\" target=\"_blank\"><span style=\"color: #7f7f7f; text-decoration-color: #7f7f7f\">107</span></a>\n",
       "</pre>\n"
      ],
      "text/plain": [
       "\u001b[2;36m          \u001b[0m\u001b[2;36m \u001b[0m\u001b[34mINFO    \u001b[0m ⏭️ Skipping pitabroodjes-met-lamsvlees-en-tomatenrelish.jpg \u001b[1m(\u001b[0malready labeled\u001b[1m)\u001b[0m   \u001b]8;id=667178;file:///tmp/ipykernel_30654/412114492.py\u001b\\\u001b[2m412114492.py\u001b[0m\u001b]8;;\u001b\\\u001b[2m:\u001b[0m\u001b]8;id=919326;file:///tmp/ipykernel_30654/412114492.py#107\u001b\\\u001b[2m107\u001b[0m\u001b]8;;\u001b\\\n"
      ]
     },
     "metadata": {},
     "output_type": "display_data"
    },
    {
     "data": {
      "text/html": [
       "<pre style=\"white-space:pre;overflow-x:auto;line-height:normal;font-family:Menlo,'DejaVu Sans Mono',consolas,'Courier New',monospace\"><span style=\"color: #7fbfbf; text-decoration-color: #7fbfbf\">           </span><span style=\"color: #000080; text-decoration-color: #000080\">INFO    </span> ⏭️ Skipping pittige-vispakketjes.jpg <span style=\"font-weight: bold\">(</span>already labeled<span style=\"font-weight: bold\">)</span>                          <a href=\"file:///tmp/ipykernel_30654/412114492.py\" target=\"_blank\"><span style=\"color: #7f7f7f; text-decoration-color: #7f7f7f\">412114492.py</span></a><span style=\"color: #7f7f7f; text-decoration-color: #7f7f7f\">:</span><a href=\"file:///tmp/ipykernel_30654/412114492.py#107\" target=\"_blank\"><span style=\"color: #7f7f7f; text-decoration-color: #7f7f7f\">107</span></a>\n",
       "</pre>\n"
      ],
      "text/plain": [
       "\u001b[2;36m          \u001b[0m\u001b[2;36m \u001b[0m\u001b[34mINFO    \u001b[0m ⏭️ Skipping pittige-vispakketjes.jpg \u001b[1m(\u001b[0malready labeled\u001b[1m)\u001b[0m                          \u001b]8;id=308091;file:///tmp/ipykernel_30654/412114492.py\u001b\\\u001b[2m412114492.py\u001b[0m\u001b]8;;\u001b\\\u001b[2m:\u001b[0m\u001b]8;id=688580;file:///tmp/ipykernel_30654/412114492.py#107\u001b\\\u001b[2m107\u001b[0m\u001b]8;;\u001b\\\n"
      ]
     },
     "metadata": {},
     "output_type": "display_data"
    },
    {
     "data": {
      "text/html": [
       "<pre style=\"white-space:pre;overflow-x:auto;line-height:normal;font-family:Menlo,'DejaVu Sans Mono',consolas,'Courier New',monospace\"><span style=\"color: #7fbfbf; text-decoration-color: #7fbfbf\">           </span><span style=\"color: #000080; text-decoration-color: #000080\">INFO    </span> ⏭️ Skipping roergebakken-spruitjes.jpg <span style=\"font-weight: bold\">(</span>already labeled<span style=\"font-weight: bold\">)</span>                        <a href=\"file:///tmp/ipykernel_30654/412114492.py\" target=\"_blank\"><span style=\"color: #7f7f7f; text-decoration-color: #7f7f7f\">412114492.py</span></a><span style=\"color: #7f7f7f; text-decoration-color: #7f7f7f\">:</span><a href=\"file:///tmp/ipykernel_30654/412114492.py#107\" target=\"_blank\"><span style=\"color: #7f7f7f; text-decoration-color: #7f7f7f\">107</span></a>\n",
       "</pre>\n"
      ],
      "text/plain": [
       "\u001b[2;36m          \u001b[0m\u001b[2;36m \u001b[0m\u001b[34mINFO    \u001b[0m ⏭️ Skipping roergebakken-spruitjes.jpg \u001b[1m(\u001b[0malready labeled\u001b[1m)\u001b[0m                        \u001b]8;id=577181;file:///tmp/ipykernel_30654/412114492.py\u001b\\\u001b[2m412114492.py\u001b[0m\u001b]8;;\u001b\\\u001b[2m:\u001b[0m\u001b]8;id=246389;file:///tmp/ipykernel_30654/412114492.py#107\u001b\\\u001b[2m107\u001b[0m\u001b]8;;\u001b\\\n"
      ]
     },
     "metadata": {},
     "output_type": "display_data"
    },
    {
     "name": "stdout",
     "output_type": "stream",
     "text": [
      "✅ Labeled 0 new images, skipped 16 already labeled → work/labels/old_labels.jsonl\n",
      "🎉 Done.\n"
     ]
    }
   ],
   "source": [
    "from openai import AzureOpenAI\n",
    "import os\n",
    "import time\n",
    "import base64\n",
    "\n",
    "from dotenv import load_dotenv\n",
    "load_dotenv()\n",
    "\n",
    "AZURE_OPENAI_ENDPOINT = os.getenv(\"AZURE_OPENAI_ENDPOINT\")\n",
    "AZURE_OPENAI_API_KEY = os.getenv(\"AZURE_OPENAI_API_KEY\")\n",
    "AZURE_DEPLOYMENT_NAME = os.getenv(\"AZURE_DEPLOYMENT_NAME\")\n",
    "AZURE_OPENAI_API_VERSION = os.getenv(\"AZURE_OPENAI_API_VERSION\")\n",
    "\n",
    "client = AzureOpenAI(\n",
    "    api_key=AZURE_OPENAI_API_KEY,\n",
    "    api_version=AZURE_OPENAI_API_VERSION,\n",
    "    azure_endpoint=AZURE_OPENAI_ENDPOINT,\n",
    ")\n",
    "\n",
    "LABEL_SCHEMA = [\n",
    "    \"food item (main dish, ingredient, or drink that appears)\",\n",
    "    \"perspective (e.g., top-down, eye-level, low-angle)\",\n",
    "    \"background (describe setting, simplicity vs clutter)\",\n",
    "    \"lighting (e.g., soft, harsh, high-key, low-key, golden-hour)\",\n",
    "    \"color palette (e.g., muted, vibrant, pastel, monochrome)\",\n",
    "    \"texture treatment (e.g., painterly, grainy, smooth)\",\n",
    "    \"composition (e.g., centered subject, rule of thirds, negative space)\",\n",
    "    \"mood (e.g., nostalgic, cheerful, moody, futuristic)\",\n",
    "]\n",
    "\n",
    "\n",
    "def b64_image(image_path: Path) -> str:\n",
    "    with open(image_path, \"rb\") as f:\n",
    "        return base64.b64encode(f.read()).decode(\"utf-8\")\n",
    "\n",
    "def load_existing_labels(jsonl_path: Path) -> set:\n",
    "    \"\"\"Load already labeled filenames from existing JSONL file\"\"\"\n",
    "    labeled_files = set()\n",
    "    if jsonl_path.exists():\n",
    "        with open(jsonl_path, \"r\", encoding=\"utf-8\") as f:\n",
    "            for line in f:\n",
    "                try:\n",
    "                    data = json.loads(line.strip())\n",
    "                    if \"filename\" in data:\n",
    "                        labeled_files.add(str(Path(data[\"filename\"]).resolve()))\n",
    "                except json.JSONDecodeError:\n",
    "                    continue\n",
    "    return labeled_files\n",
    "\n",
    "def label_image(img_path: Path, schema):\n",
    "    img_b64 = b64_image(img_path)\n",
    "    schema_bullets = \"\\n\".join([f\"- {s}\" for s in schema])\n",
    "    system_prompt = (\n",
    "        \"You are a meticulous food and style image annotator. \"\n",
    "        \"Return a strict JSON object with fields exactly matching the requested schema.\"\n",
    "    )\n",
    "    user_prompt = f\"\"\"\n",
    "Analyze the image and label it for the following attributes:\n",
    "{schema_bullets}\n",
    "\n",
    "Rules:\n",
    "- Return strictly valid JSON (no markdown).\n",
    "- For 'food item', use the most specific name possible (e.g., 'spaghetti carbonara', 'latte art', 'sushi roll').\n",
    "- For style attributes, use short descriptive phrases.\n",
    "- Include a 'notes' field for anything noteworthy.\n",
    "\"\"\"\n",
    "    try:\n",
    "        resp = client.chat.completions.create(\n",
    "            model=AZURE_DEPLOYMENT_NAME,\n",
    "            messages=[\n",
    "                {\"role\": \"system\", \"content\": system_prompt},\n",
    "                {\"role\": \"user\", \"content\": [\n",
    "                    {\"type\": \"text\", \"text\": user_prompt},\n",
    "                    {\"type\": \"image_url\", \"image_url\": {\"url\": f\"data:image/jpeg;base64,{img_b64}\"}}\n",
    "                ]},\n",
    "            ],\n",
    "            temperature=0.2,\n",
    "        )\n",
    "        text = resp.choices[0].message.content\n",
    "        try:\n",
    "            return json.loads(text)\n",
    "        except Exception:\n",
    "            m = re.search(r\"\\{[\\s\\S]*\\}\", text)\n",
    "            log.error(f\"⚠️ Non-JSON response for {img_path}:\\n{text}\")\n",
    "            return json.loads(m.group(0)) if m else {\"raw\": text}\n",
    "    except Exception as e:\n",
    "        return {\"error\": str(e)}\n",
    "\n",
    "def label_folder(src: Path, out_jsonl: Path, max_images: int = 10, override: bool = False):\n",
    "    n = 0\n",
    "    skipped = 0\n",
    "    \n",
    "    # Load existing labels if not overriding\n",
    "    labeled_files = set() if override else load_existing_labels(out_jsonl)\n",
    "    \n",
    "    # Open file in append mode if not overriding and file exists\n",
    "    mode = \"w\" if override or not out_jsonl.exists() else \"a\"\n",
    "    \n",
    "    with open(out_jsonl, mode, encoding=\"utf-8\") as out:\n",
    "        for p in tqdm(sorted(src.glob(f\"*{TARGET_EXT}\"))):\n",
    "            if n >= max_images:\n",
    "                print(f\"⏹️ Stopping after {max_images} images\")\n",
    "                break\n",
    "                \n",
    "            # Check if already labeled\n",
    "            if str(p.resolve()) in labeled_files:\n",
    "                log.info(f\"⏭️ Skipping {p.name} (already labeled)\")\n",
    "                skipped += 1\n",
    "                continue\n",
    "                \n",
    "            log.info(f\"Labeling {p}...\")\n",
    "            result = label_image(p, LABEL_SCHEMA)\n",
    "            rec = {\"filename\": str(p.resolve()), \"labels\": result}\n",
    "            out.write(json.dumps(rec, ensure_ascii=False) + \"\\n\")\n",
    "            n += 1\n",
    "            time.sleep(0.2)            \n",
    "    \n",
    "    print(f\"✅ Labeled {n} new images, skipped {skipped} already labeled → {out_jsonl}\")\n",
    "\n",
    "print(\"Labeling images via Azure OpenAI...\")\n",
    "label_folder(CONVERTED_NEW, LABELS_DIR / \"new_labels.jsonl\", max_images=50, override=False)\n",
    "label_folder(CONVERTED_OLD, LABELS_DIR / \"old_labels.jsonl\", max_images=50, override=False)\n",
    "print(\"🎉 Done.\")"
   ]
  },
  {
   "cell_type": "markdown",
   "id": "576c2d83",
   "metadata": {},
   "source": [
    "# Image captions"
   ]
  },
  {
   "cell_type": "code",
   "execution_count": 6,
   "id": "da4bada7",
   "metadata": {},
   "outputs": [
    {
     "data": {
      "text/html": [
       "<pre style=\"white-space:pre;overflow-x:auto;line-height:normal;font-family:Menlo,'DejaVu Sans Mono',consolas,'Courier New',monospace\"><span style=\"color: #7fbfbf; text-decoration-color: #7fbfbf\">           </span><span style=\"color: #000080; text-decoration-color: #000080\">INFO    </span> 📑 Building captions from work/labels/new_labels.jsonl <span style=\"font-weight: bold\">(</span><span style=\"color: #008080; text-decoration-color: #008080; font-weight: bold\">31</span> records<span style=\"font-weight: bold\">)</span><span style=\"color: #808000; text-decoration-color: #808000\">...</span>         <a href=\"file:///tmp/ipykernel_30654/1215574807.py\" target=\"_blank\"><span style=\"color: #7f7f7f; text-decoration-color: #7f7f7f\">1215574807.py</span></a><span style=\"color: #7f7f7f; text-decoration-color: #7f7f7f\">:</span><a href=\"file:///tmp/ipykernel_30654/1215574807.py#18\" target=\"_blank\"><span style=\"color: #7f7f7f; text-decoration-color: #7f7f7f\">18</span></a>\n",
       "</pre>\n"
      ],
      "text/plain": [
       "\u001b[2;36m          \u001b[0m\u001b[2;36m \u001b[0m\u001b[34mINFO    \u001b[0m 📑 Building captions from work/labels/new_labels.jsonl \u001b[1m(\u001b[0m\u001b[1;36m31\u001b[0m records\u001b[1m)\u001b[0m\u001b[33m...\u001b[0m         \u001b]8;id=187436;file:///tmp/ipykernel_30654/1215574807.py\u001b\\\u001b[2m1215574807.py\u001b[0m\u001b]8;;\u001b\\\u001b[2m:\u001b[0m\u001b]8;id=337272;file:///tmp/ipykernel_30654/1215574807.py#18\u001b\\\u001b[2m18\u001b[0m\u001b]8;;\u001b\\\n"
      ]
     },
     "metadata": {},
     "output_type": "display_data"
    },
    {
     "data": {
      "application/vnd.jupyter.widget-view+json": {
       "model_id": "c14fe8a91e4c496bb39c3c0cbf7b2d4d",
       "version_major": 2,
       "version_minor": 0
      },
      "text/plain": [
       "Generating captions:   0%|          | 0/31 [00:00<?, ?it/s]"
      ]
     },
     "metadata": {},
     "output_type": "display_data"
    },
    {
     "data": {
      "text/html": [
       "<pre style=\"white-space:pre;overflow-x:auto;line-height:normal;font-family:Menlo,'DejaVu Sans Mono',consolas,'Courier New',monospace\"><span style=\"color: #7fbfbf; text-decoration-color: #7fbfbf\">           </span><span style=\"color: #800000; text-decoration-color: #800000; font-weight: bold\">ERROR   </span> ⚠️ Failed to process ananassalsa-met-kiwi-jalapeno-en-koriander.jpg: <span style=\"font-weight: bold\">[</span>Errno <span style=\"color: #008080; text-decoration-color: #008080; font-weight: bold\">1</span><span style=\"font-weight: bold\">]</span>  <a href=\"file:///tmp/ipykernel_30654/1215574807.py\" target=\"_blank\"><span style=\"color: #7f7f7f; text-decoration-color: #7f7f7f\">1215574807.py</span></a><span style=\"color: #7f7f7f; text-decoration-color: #7f7f7f\">:</span><a href=\"file:///tmp/ipykernel_30654/1215574807.py#66\" target=\"_blank\"><span style=\"color: #7f7f7f; text-decoration-color: #7f7f7f\">66</span></a>\n",
       "<span style=\"color: #7fbfbf; text-decoration-color: #7fbfbf\">           </span>         Operation not permitted                                                        <span style=\"color: #7f7f7f; text-decoration-color: #7f7f7f\">                </span>\n",
       "</pre>\n"
      ],
      "text/plain": [
       "\u001b[2;36m          \u001b[0m\u001b[2;36m \u001b[0m\u001b[1;31mERROR   \u001b[0m ⚠️ Failed to process ananassalsa-met-kiwi-jalapeno-en-koriander.jpg: \u001b[1m[\u001b[0mErrno \u001b[1;36m1\u001b[0m\u001b[1m]\u001b[0m  \u001b]8;id=545271;file:///tmp/ipykernel_30654/1215574807.py\u001b\\\u001b[2m1215574807.py\u001b[0m\u001b]8;;\u001b\\\u001b[2m:\u001b[0m\u001b]8;id=990670;file:///tmp/ipykernel_30654/1215574807.py#66\u001b\\\u001b[2m66\u001b[0m\u001b]8;;\u001b\\\n",
       "\u001b[2;36m           \u001b[0m         Operation not permitted                                                        \u001b[2m                \u001b[0m\n"
      ]
     },
     "metadata": {},
     "output_type": "display_data"
    },
    {
     "data": {
      "text/html": [
       "<pre style=\"white-space:pre;overflow-x:auto;line-height:normal;font-family:Menlo,'DejaVu Sans Mono',consolas,'Courier New',monospace\"><span style=\"color: #7fbfbf; text-decoration-color: #7fbfbf\">           </span><span style=\"color: #800000; text-decoration-color: #800000; font-weight: bold\">ERROR   </span> ⚠️ Failed to process andijviestamp-met-gerookte-kip-en-zongedroogde-tomaat.jpg: <a href=\"file:///tmp/ipykernel_30654/1215574807.py\" target=\"_blank\"><span style=\"color: #7f7f7f; text-decoration-color: #7f7f7f\">1215574807.py</span></a><span style=\"color: #7f7f7f; text-decoration-color: #7f7f7f\">:</span><a href=\"file:///tmp/ipykernel_30654/1215574807.py#66\" target=\"_blank\"><span style=\"color: #7f7f7f; text-decoration-color: #7f7f7f\">66</span></a>\n",
       "<span style=\"color: #7fbfbf; text-decoration-color: #7fbfbf\">           </span>         <span style=\"font-weight: bold\">[</span>Errno <span style=\"color: #008080; text-decoration-color: #008080; font-weight: bold\">1</span><span style=\"font-weight: bold\">]</span> Operation not permitted                                              <span style=\"color: #7f7f7f; text-decoration-color: #7f7f7f\">                </span>\n",
       "</pre>\n"
      ],
      "text/plain": [
       "\u001b[2;36m          \u001b[0m\u001b[2;36m \u001b[0m\u001b[1;31mERROR   \u001b[0m ⚠️ Failed to process andijviestamp-met-gerookte-kip-en-zongedroogde-tomaat.jpg: \u001b]8;id=547367;file:///tmp/ipykernel_30654/1215574807.py\u001b\\\u001b[2m1215574807.py\u001b[0m\u001b]8;;\u001b\\\u001b[2m:\u001b[0m\u001b]8;id=69155;file:///tmp/ipykernel_30654/1215574807.py#66\u001b\\\u001b[2m66\u001b[0m\u001b]8;;\u001b\\\n",
       "\u001b[2;36m           \u001b[0m         \u001b[1m[\u001b[0mErrno \u001b[1;36m1\u001b[0m\u001b[1m]\u001b[0m Operation not permitted                                              \u001b[2m                \u001b[0m\n"
      ]
     },
     "metadata": {},
     "output_type": "display_data"
    },
    {
     "data": {
      "text/html": [
       "<pre style=\"white-space:pre;overflow-x:auto;line-height:normal;font-family:Menlo,'DejaVu Sans Mono',consolas,'Courier New',monospace\"><span style=\"color: #7fbfbf; text-decoration-color: #7fbfbf\">           </span><span style=\"color: #800000; text-decoration-color: #800000; font-weight: bold\">ERROR   </span> ⚠️ Failed to process bananenbrood-choco-kokostopping-van-giorgias-kitchen.jpg:  <a href=\"file:///tmp/ipykernel_30654/1215574807.py\" target=\"_blank\"><span style=\"color: #7f7f7f; text-decoration-color: #7f7f7f\">1215574807.py</span></a><span style=\"color: #7f7f7f; text-decoration-color: #7f7f7f\">:</span><a href=\"file:///tmp/ipykernel_30654/1215574807.py#66\" target=\"_blank\"><span style=\"color: #7f7f7f; text-decoration-color: #7f7f7f\">66</span></a>\n",
       "<span style=\"color: #7fbfbf; text-decoration-color: #7fbfbf\">           </span>         <span style=\"font-weight: bold\">[</span>Errno <span style=\"color: #008080; text-decoration-color: #008080; font-weight: bold\">1</span><span style=\"font-weight: bold\">]</span> Operation not permitted                                              <span style=\"color: #7f7f7f; text-decoration-color: #7f7f7f\">                </span>\n",
       "</pre>\n"
      ],
      "text/plain": [
       "\u001b[2;36m          \u001b[0m\u001b[2;36m \u001b[0m\u001b[1;31mERROR   \u001b[0m ⚠️ Failed to process bananenbrood-choco-kokostopping-van-giorgias-kitchen.jpg:  \u001b]8;id=754573;file:///tmp/ipykernel_30654/1215574807.py\u001b\\\u001b[2m1215574807.py\u001b[0m\u001b]8;;\u001b\\\u001b[2m:\u001b[0m\u001b]8;id=405947;file:///tmp/ipykernel_30654/1215574807.py#66\u001b\\\u001b[2m66\u001b[0m\u001b]8;;\u001b\\\n",
       "\u001b[2;36m           \u001b[0m         \u001b[1m[\u001b[0mErrno \u001b[1;36m1\u001b[0m\u001b[1m]\u001b[0m Operation not permitted                                              \u001b[2m                \u001b[0m\n"
      ]
     },
     "metadata": {},
     "output_type": "display_data"
    },
    {
     "data": {
      "text/html": [
       "<pre style=\"white-space:pre;overflow-x:auto;line-height:normal;font-family:Menlo,'DejaVu Sans Mono',consolas,'Courier New',monospace\"><span style=\"color: #7fbfbf; text-decoration-color: #7fbfbf\">           </span><span style=\"color: #800000; text-decoration-color: #800000; font-weight: bold\">ERROR   </span> ⚠️ Failed to process belegde-maiswafels-van-giorgias-kitchen.jpg: <span style=\"font-weight: bold\">[</span>Errno <span style=\"color: #008080; text-decoration-color: #008080; font-weight: bold\">1</span><span style=\"font-weight: bold\">]</span>     <a href=\"file:///tmp/ipykernel_30654/1215574807.py\" target=\"_blank\"><span style=\"color: #7f7f7f; text-decoration-color: #7f7f7f\">1215574807.py</span></a><span style=\"color: #7f7f7f; text-decoration-color: #7f7f7f\">:</span><a href=\"file:///tmp/ipykernel_30654/1215574807.py#66\" target=\"_blank\"><span style=\"color: #7f7f7f; text-decoration-color: #7f7f7f\">66</span></a>\n",
       "<span style=\"color: #7fbfbf; text-decoration-color: #7fbfbf\">           </span>         Operation not permitted                                                        <span style=\"color: #7f7f7f; text-decoration-color: #7f7f7f\">                </span>\n",
       "</pre>\n"
      ],
      "text/plain": [
       "\u001b[2;36m          \u001b[0m\u001b[2;36m \u001b[0m\u001b[1;31mERROR   \u001b[0m ⚠️ Failed to process belegde-maiswafels-van-giorgias-kitchen.jpg: \u001b[1m[\u001b[0mErrno \u001b[1;36m1\u001b[0m\u001b[1m]\u001b[0m     \u001b]8;id=855580;file:///tmp/ipykernel_30654/1215574807.py\u001b\\\u001b[2m1215574807.py\u001b[0m\u001b]8;;\u001b\\\u001b[2m:\u001b[0m\u001b]8;id=144995;file:///tmp/ipykernel_30654/1215574807.py#66\u001b\\\u001b[2m66\u001b[0m\u001b]8;;\u001b\\\n",
       "\u001b[2;36m           \u001b[0m         Operation not permitted                                                        \u001b[2m                \u001b[0m\n"
      ]
     },
     "metadata": {},
     "output_type": "display_data"
    },
    {
     "data": {
      "text/html": [
       "<pre style=\"white-space:pre;overflow-x:auto;line-height:normal;font-family:Menlo,'DejaVu Sans Mono',consolas,'Courier New',monospace\"><span style=\"color: #7fbfbf; text-decoration-color: #7fbfbf\">           </span><span style=\"color: #800000; text-decoration-color: #800000; font-weight: bold\">ERROR   </span> ⚠️ Failed to process citrusdip.jpg: <span style=\"font-weight: bold\">[</span>Errno <span style=\"color: #008080; text-decoration-color: #008080; font-weight: bold\">1</span><span style=\"font-weight: bold\">]</span> Operation not permitted           <a href=\"file:///tmp/ipykernel_30654/1215574807.py\" target=\"_blank\"><span style=\"color: #7f7f7f; text-decoration-color: #7f7f7f\">1215574807.py</span></a><span style=\"color: #7f7f7f; text-decoration-color: #7f7f7f\">:</span><a href=\"file:///tmp/ipykernel_30654/1215574807.py#66\" target=\"_blank\"><span style=\"color: #7f7f7f; text-decoration-color: #7f7f7f\">66</span></a>\n",
       "</pre>\n"
      ],
      "text/plain": [
       "\u001b[2;36m          \u001b[0m\u001b[2;36m \u001b[0m\u001b[1;31mERROR   \u001b[0m ⚠️ Failed to process citrusdip.jpg: \u001b[1m[\u001b[0mErrno \u001b[1;36m1\u001b[0m\u001b[1m]\u001b[0m Operation not permitted           \u001b]8;id=234148;file:///tmp/ipykernel_30654/1215574807.py\u001b\\\u001b[2m1215574807.py\u001b[0m\u001b]8;;\u001b\\\u001b[2m:\u001b[0m\u001b]8;id=113043;file:///tmp/ipykernel_30654/1215574807.py#66\u001b\\\u001b[2m66\u001b[0m\u001b]8;;\u001b\\\n"
      ]
     },
     "metadata": {},
     "output_type": "display_data"
    },
    {
     "data": {
      "text/html": [
       "<pre style=\"white-space:pre;overflow-x:auto;line-height:normal;font-family:Menlo,'DejaVu Sans Mono',consolas,'Courier New',monospace\"><span style=\"color: #7fbfbf; text-decoration-color: #7fbfbf\">           </span><span style=\"color: #800000; text-decoration-color: #800000; font-weight: bold\">ERROR   </span> ⚠️ Failed to process cottage-cheese-chips-met-zalm-en-komkommer.jpg: <span style=\"font-weight: bold\">[</span>Errno <span style=\"color: #008080; text-decoration-color: #008080; font-weight: bold\">1</span><span style=\"font-weight: bold\">]</span>  <a href=\"file:///tmp/ipykernel_30654/1215574807.py\" target=\"_blank\"><span style=\"color: #7f7f7f; text-decoration-color: #7f7f7f\">1215574807.py</span></a><span style=\"color: #7f7f7f; text-decoration-color: #7f7f7f\">:</span><a href=\"file:///tmp/ipykernel_30654/1215574807.py#66\" target=\"_blank\"><span style=\"color: #7f7f7f; text-decoration-color: #7f7f7f\">66</span></a>\n",
       "<span style=\"color: #7fbfbf; text-decoration-color: #7fbfbf\">           </span>         Operation not permitted                                                        <span style=\"color: #7f7f7f; text-decoration-color: #7f7f7f\">                </span>\n",
       "</pre>\n"
      ],
      "text/plain": [
       "\u001b[2;36m          \u001b[0m\u001b[2;36m \u001b[0m\u001b[1;31mERROR   \u001b[0m ⚠️ Failed to process cottage-cheese-chips-met-zalm-en-komkommer.jpg: \u001b[1m[\u001b[0mErrno \u001b[1;36m1\u001b[0m\u001b[1m]\u001b[0m  \u001b]8;id=11864;file:///tmp/ipykernel_30654/1215574807.py\u001b\\\u001b[2m1215574807.py\u001b[0m\u001b]8;;\u001b\\\u001b[2m:\u001b[0m\u001b]8;id=587858;file:///tmp/ipykernel_30654/1215574807.py#66\u001b\\\u001b[2m66\u001b[0m\u001b]8;;\u001b\\\n",
       "\u001b[2;36m           \u001b[0m         Operation not permitted                                                        \u001b[2m                \u001b[0m\n"
      ]
     },
     "metadata": {},
     "output_type": "display_data"
    },
    {
     "data": {
      "text/html": [
       "<pre style=\"white-space:pre;overflow-x:auto;line-height:normal;font-family:Menlo,'DejaVu Sans Mono',consolas,'Courier New',monospace\"><span style=\"color: #7fbfbf; text-decoration-color: #7fbfbf\">           </span><span style=\"color: #800000; text-decoration-color: #800000; font-weight: bold\">ERROR   </span> ⚠️ Failed to process garnalenburger-uit-de-airfryer-met-coleslaw.jpg: <span style=\"font-weight: bold\">[</span>Errno <span style=\"color: #008080; text-decoration-color: #008080; font-weight: bold\">1</span><span style=\"font-weight: bold\">]</span> <a href=\"file:///tmp/ipykernel_30654/1215574807.py\" target=\"_blank\"><span style=\"color: #7f7f7f; text-decoration-color: #7f7f7f\">1215574807.py</span></a><span style=\"color: #7f7f7f; text-decoration-color: #7f7f7f\">:</span><a href=\"file:///tmp/ipykernel_30654/1215574807.py#66\" target=\"_blank\"><span style=\"color: #7f7f7f; text-decoration-color: #7f7f7f\">66</span></a>\n",
       "<span style=\"color: #7fbfbf; text-decoration-color: #7fbfbf\">           </span>         Operation not permitted                                                        <span style=\"color: #7f7f7f; text-decoration-color: #7f7f7f\">                </span>\n",
       "</pre>\n"
      ],
      "text/plain": [
       "\u001b[2;36m          \u001b[0m\u001b[2;36m \u001b[0m\u001b[1;31mERROR   \u001b[0m ⚠️ Failed to process garnalenburger-uit-de-airfryer-met-coleslaw.jpg: \u001b[1m[\u001b[0mErrno \u001b[1;36m1\u001b[0m\u001b[1m]\u001b[0m \u001b]8;id=495435;file:///tmp/ipykernel_30654/1215574807.py\u001b\\\u001b[2m1215574807.py\u001b[0m\u001b]8;;\u001b\\\u001b[2m:\u001b[0m\u001b]8;id=176108;file:///tmp/ipykernel_30654/1215574807.py#66\u001b\\\u001b[2m66\u001b[0m\u001b]8;;\u001b\\\n",
       "\u001b[2;36m           \u001b[0m         Operation not permitted                                                        \u001b[2m                \u001b[0m\n"
      ]
     },
     "metadata": {},
     "output_type": "display_data"
    },
    {
     "data": {
      "text/html": [
       "<pre style=\"white-space:pre;overflow-x:auto;line-height:normal;font-family:Menlo,'DejaVu Sans Mono',consolas,'Courier New',monospace\"><span style=\"color: #7fbfbf; text-decoration-color: #7fbfbf\">           </span><span style=\"color: #800000; text-decoration-color: #800000; font-weight: bold\">ERROR   </span> ⚠️ Failed to process gekruide-tartaar-met-aardappel-en-broccoli.jpg: <span style=\"font-weight: bold\">[</span>Errno <span style=\"color: #008080; text-decoration-color: #008080; font-weight: bold\">1</span><span style=\"font-weight: bold\">]</span>  <a href=\"file:///tmp/ipykernel_30654/1215574807.py\" target=\"_blank\"><span style=\"color: #7f7f7f; text-decoration-color: #7f7f7f\">1215574807.py</span></a><span style=\"color: #7f7f7f; text-decoration-color: #7f7f7f\">:</span><a href=\"file:///tmp/ipykernel_30654/1215574807.py#66\" target=\"_blank\"><span style=\"color: #7f7f7f; text-decoration-color: #7f7f7f\">66</span></a>\n",
       "<span style=\"color: #7fbfbf; text-decoration-color: #7fbfbf\">           </span>         Operation not permitted                                                        <span style=\"color: #7f7f7f; text-decoration-color: #7f7f7f\">                </span>\n",
       "</pre>\n"
      ],
      "text/plain": [
       "\u001b[2;36m          \u001b[0m\u001b[2;36m \u001b[0m\u001b[1;31mERROR   \u001b[0m ⚠️ Failed to process gekruide-tartaar-met-aardappel-en-broccoli.jpg: \u001b[1m[\u001b[0mErrno \u001b[1;36m1\u001b[0m\u001b[1m]\u001b[0m  \u001b]8;id=492542;file:///tmp/ipykernel_30654/1215574807.py\u001b\\\u001b[2m1215574807.py\u001b[0m\u001b]8;;\u001b\\\u001b[2m:\u001b[0m\u001b]8;id=428986;file:///tmp/ipykernel_30654/1215574807.py#66\u001b\\\u001b[2m66\u001b[0m\u001b]8;;\u001b\\\n",
       "\u001b[2;36m           \u001b[0m         Operation not permitted                                                        \u001b[2m                \u001b[0m\n"
      ]
     },
     "metadata": {},
     "output_type": "display_data"
    },
    {
     "data": {
      "text/html": [
       "<pre style=\"white-space:pre;overflow-x:auto;line-height:normal;font-family:Menlo,'DejaVu Sans Mono',consolas,'Courier New',monospace\"><span style=\"color: #7fbfbf; text-decoration-color: #7fbfbf\">           </span><span style=\"color: #800000; text-decoration-color: #800000; font-weight: bold\">ERROR   </span> ⚠️ Failed to process geraspte-tomatensalsa-met-rode-ui-en-peterselie.jpg:       <a href=\"file:///tmp/ipykernel_30654/1215574807.py\" target=\"_blank\"><span style=\"color: #7f7f7f; text-decoration-color: #7f7f7f\">1215574807.py</span></a><span style=\"color: #7f7f7f; text-decoration-color: #7f7f7f\">:</span><a href=\"file:///tmp/ipykernel_30654/1215574807.py#66\" target=\"_blank\"><span style=\"color: #7f7f7f; text-decoration-color: #7f7f7f\">66</span></a>\n",
       "<span style=\"color: #7fbfbf; text-decoration-color: #7fbfbf\">           </span>         <span style=\"font-weight: bold\">[</span>Errno <span style=\"color: #008080; text-decoration-color: #008080; font-weight: bold\">1</span><span style=\"font-weight: bold\">]</span> Operation not permitted                                              <span style=\"color: #7f7f7f; text-decoration-color: #7f7f7f\">                </span>\n",
       "</pre>\n"
      ],
      "text/plain": [
       "\u001b[2;36m          \u001b[0m\u001b[2;36m \u001b[0m\u001b[1;31mERROR   \u001b[0m ⚠️ Failed to process geraspte-tomatensalsa-met-rode-ui-en-peterselie.jpg:       \u001b]8;id=815006;file:///tmp/ipykernel_30654/1215574807.py\u001b\\\u001b[2m1215574807.py\u001b[0m\u001b]8;;\u001b\\\u001b[2m:\u001b[0m\u001b]8;id=100821;file:///tmp/ipykernel_30654/1215574807.py#66\u001b\\\u001b[2m66\u001b[0m\u001b]8;;\u001b\\\n",
       "\u001b[2;36m           \u001b[0m         \u001b[1m[\u001b[0mErrno \u001b[1;36m1\u001b[0m\u001b[1m]\u001b[0m Operation not permitted                                              \u001b[2m                \u001b[0m\n"
      ]
     },
     "metadata": {},
     "output_type": "display_data"
    },
    {
     "data": {
      "text/html": [
       "<pre style=\"white-space:pre;overflow-x:auto;line-height:normal;font-family:Menlo,'DejaVu Sans Mono',consolas,'Courier New',monospace\"><span style=\"color: #7fbfbf; text-decoration-color: #7fbfbf\">           </span><span style=\"color: #800000; text-decoration-color: #800000; font-weight: bold\">ERROR   </span> ⚠️ Failed to process gezonde-<span style=\"color: #008080; text-decoration-color: #008080; font-weight: bold\">4</span>-kazentosti-met-rode-ui.jpg: <span style=\"font-weight: bold\">[</span>Errno <span style=\"color: #008080; text-decoration-color: #008080; font-weight: bold\">1</span><span style=\"font-weight: bold\">]</span> Operation  <a href=\"file:///tmp/ipykernel_30654/1215574807.py\" target=\"_blank\"><span style=\"color: #7f7f7f; text-decoration-color: #7f7f7f\">1215574807.py</span></a><span style=\"color: #7f7f7f; text-decoration-color: #7f7f7f\">:</span><a href=\"file:///tmp/ipykernel_30654/1215574807.py#66\" target=\"_blank\"><span style=\"color: #7f7f7f; text-decoration-color: #7f7f7f\">66</span></a>\n",
       "<span style=\"color: #7fbfbf; text-decoration-color: #7fbfbf\">           </span>         not permitted                                                                  <span style=\"color: #7f7f7f; text-decoration-color: #7f7f7f\">                </span>\n",
       "</pre>\n"
      ],
      "text/plain": [
       "\u001b[2;36m          \u001b[0m\u001b[2;36m \u001b[0m\u001b[1;31mERROR   \u001b[0m ⚠️ Failed to process gezonde-\u001b[1;36m4\u001b[0m-kazentosti-met-rode-ui.jpg: \u001b[1m[\u001b[0mErrno \u001b[1;36m1\u001b[0m\u001b[1m]\u001b[0m Operation  \u001b]8;id=356778;file:///tmp/ipykernel_30654/1215574807.py\u001b\\\u001b[2m1215574807.py\u001b[0m\u001b]8;;\u001b\\\u001b[2m:\u001b[0m\u001b]8;id=995256;file:///tmp/ipykernel_30654/1215574807.py#66\u001b\\\u001b[2m66\u001b[0m\u001b]8;;\u001b\\\n",
       "\u001b[2;36m           \u001b[0m         not permitted                                                                  \u001b[2m                \u001b[0m\n"
      ]
     },
     "metadata": {},
     "output_type": "display_data"
    },
    {
     "data": {
      "text/html": [
       "<pre style=\"white-space:pre;overflow-x:auto;line-height:normal;font-family:Menlo,'DejaVu Sans Mono',consolas,'Courier New',monospace\"><span style=\"color: #7fbfbf; text-decoration-color: #7fbfbf\">           </span><span style=\"color: #800000; text-decoration-color: #800000; font-weight: bold\">ERROR   </span> ⚠️ Failed to process gezonde-burritos-met-kip-bonen-en-tomatenrijst.jpg: <span style=\"font-weight: bold\">[</span>Errno <a href=\"file:///tmp/ipykernel_30654/1215574807.py\" target=\"_blank\"><span style=\"color: #7f7f7f; text-decoration-color: #7f7f7f\">1215574807.py</span></a><span style=\"color: #7f7f7f; text-decoration-color: #7f7f7f\">:</span><a href=\"file:///tmp/ipykernel_30654/1215574807.py#66\" target=\"_blank\"><span style=\"color: #7f7f7f; text-decoration-color: #7f7f7f\">66</span></a>\n",
       "<span style=\"color: #7fbfbf; text-decoration-color: #7fbfbf\">           </span>         <span style=\"color: #008080; text-decoration-color: #008080; font-weight: bold\">1</span><span style=\"font-weight: bold\">]</span> Operation not permitted                                                     <span style=\"color: #7f7f7f; text-decoration-color: #7f7f7f\">                </span>\n",
       "</pre>\n"
      ],
      "text/plain": [
       "\u001b[2;36m          \u001b[0m\u001b[2;36m \u001b[0m\u001b[1;31mERROR   \u001b[0m ⚠️ Failed to process gezonde-burritos-met-kip-bonen-en-tomatenrijst.jpg: \u001b[1m[\u001b[0mErrno \u001b]8;id=86875;file:///tmp/ipykernel_30654/1215574807.py\u001b\\\u001b[2m1215574807.py\u001b[0m\u001b]8;;\u001b\\\u001b[2m:\u001b[0m\u001b]8;id=751497;file:///tmp/ipykernel_30654/1215574807.py#66\u001b\\\u001b[2m66\u001b[0m\u001b]8;;\u001b\\\n",
       "\u001b[2;36m           \u001b[0m         \u001b[1;36m1\u001b[0m\u001b[1m]\u001b[0m Operation not permitted                                                     \u001b[2m                \u001b[0m\n"
      ]
     },
     "metadata": {},
     "output_type": "display_data"
    },
    {
     "data": {
      "text/html": [
       "<pre style=\"white-space:pre;overflow-x:auto;line-height:normal;font-family:Menlo,'DejaVu Sans Mono',consolas,'Courier New',monospace\"><span style=\"color: #7fbfbf; text-decoration-color: #7fbfbf\">           </span><span style=\"color: #800000; text-decoration-color: #800000; font-weight: bold\">ERROR   </span> ⚠️ Failed to process gnocchi-en-meatballs.jpg: <span style=\"font-weight: bold\">[</span>Errno <span style=\"color: #008080; text-decoration-color: #008080; font-weight: bold\">1</span><span style=\"font-weight: bold\">]</span> Operation not          <a href=\"file:///tmp/ipykernel_30654/1215574807.py\" target=\"_blank\"><span style=\"color: #7f7f7f; text-decoration-color: #7f7f7f\">1215574807.py</span></a><span style=\"color: #7f7f7f; text-decoration-color: #7f7f7f\">:</span><a href=\"file:///tmp/ipykernel_30654/1215574807.py#66\" target=\"_blank\"><span style=\"color: #7f7f7f; text-decoration-color: #7f7f7f\">66</span></a>\n",
       "<span style=\"color: #7fbfbf; text-decoration-color: #7fbfbf\">           </span>         permitted                                                                      <span style=\"color: #7f7f7f; text-decoration-color: #7f7f7f\">                </span>\n",
       "</pre>\n"
      ],
      "text/plain": [
       "\u001b[2;36m          \u001b[0m\u001b[2;36m \u001b[0m\u001b[1;31mERROR   \u001b[0m ⚠️ Failed to process gnocchi-en-meatballs.jpg: \u001b[1m[\u001b[0mErrno \u001b[1;36m1\u001b[0m\u001b[1m]\u001b[0m Operation not          \u001b]8;id=717591;file:///tmp/ipykernel_30654/1215574807.py\u001b\\\u001b[2m1215574807.py\u001b[0m\u001b]8;;\u001b\\\u001b[2m:\u001b[0m\u001b]8;id=156899;file:///tmp/ipykernel_30654/1215574807.py#66\u001b\\\u001b[2m66\u001b[0m\u001b]8;;\u001b\\\n",
       "\u001b[2;36m           \u001b[0m         permitted                                                                      \u001b[2m                \u001b[0m\n"
      ]
     },
     "metadata": {},
     "output_type": "display_data"
    },
    {
     "data": {
      "text/html": [
       "<pre style=\"white-space:pre;overflow-x:auto;line-height:normal;font-family:Menlo,'DejaVu Sans Mono',consolas,'Courier New',monospace\"><span style=\"color: #7fbfbf; text-decoration-color: #7fbfbf\">           </span><span style=\"color: #800000; text-decoration-color: #800000; font-weight: bold\">ERROR   </span> ⚠️ Failed to process groene-kruidendip.jpg: <span style=\"font-weight: bold\">[</span>Errno <span style=\"color: #008080; text-decoration-color: #008080; font-weight: bold\">1</span><span style=\"font-weight: bold\">]</span> Operation not permitted   <a href=\"file:///tmp/ipykernel_30654/1215574807.py\" target=\"_blank\"><span style=\"color: #7f7f7f; text-decoration-color: #7f7f7f\">1215574807.py</span></a><span style=\"color: #7f7f7f; text-decoration-color: #7f7f7f\">:</span><a href=\"file:///tmp/ipykernel_30654/1215574807.py#66\" target=\"_blank\"><span style=\"color: #7f7f7f; text-decoration-color: #7f7f7f\">66</span></a>\n",
       "</pre>\n"
      ],
      "text/plain": [
       "\u001b[2;36m          \u001b[0m\u001b[2;36m \u001b[0m\u001b[1;31mERROR   \u001b[0m ⚠️ Failed to process groene-kruidendip.jpg: \u001b[1m[\u001b[0mErrno \u001b[1;36m1\u001b[0m\u001b[1m]\u001b[0m Operation not permitted   \u001b]8;id=931697;file:///tmp/ipykernel_30654/1215574807.py\u001b\\\u001b[2m1215574807.py\u001b[0m\u001b]8;;\u001b\\\u001b[2m:\u001b[0m\u001b]8;id=238661;file:///tmp/ipykernel_30654/1215574807.py#66\u001b\\\u001b[2m66\u001b[0m\u001b]8;;\u001b\\\n"
      ]
     },
     "metadata": {},
     "output_type": "display_data"
    },
    {
     "data": {
      "text/html": [
       "<pre style=\"white-space:pre;overflow-x:auto;line-height:normal;font-family:Menlo,'DejaVu Sans Mono',consolas,'Courier New',monospace\"><span style=\"color: #7fbfbf; text-decoration-color: #7fbfbf\">           </span><span style=\"color: #800000; text-decoration-color: #800000; font-weight: bold\">ERROR   </span> ⚠️ Failed to process groente-kipnuggets-uit-de-airfryer.jpg: <span style=\"font-weight: bold\">[</span>Errno <span style=\"color: #008080; text-decoration-color: #008080; font-weight: bold\">1</span><span style=\"font-weight: bold\">]</span>          <a href=\"file:///tmp/ipykernel_30654/1215574807.py\" target=\"_blank\"><span style=\"color: #7f7f7f; text-decoration-color: #7f7f7f\">1215574807.py</span></a><span style=\"color: #7f7f7f; text-decoration-color: #7f7f7f\">:</span><a href=\"file:///tmp/ipykernel_30654/1215574807.py#66\" target=\"_blank\"><span style=\"color: #7f7f7f; text-decoration-color: #7f7f7f\">66</span></a>\n",
       "<span style=\"color: #7fbfbf; text-decoration-color: #7fbfbf\">           </span>         Operation not permitted                                                        <span style=\"color: #7f7f7f; text-decoration-color: #7f7f7f\">                </span>\n",
       "</pre>\n"
      ],
      "text/plain": [
       "\u001b[2;36m          \u001b[0m\u001b[2;36m \u001b[0m\u001b[1;31mERROR   \u001b[0m ⚠️ Failed to process groente-kipnuggets-uit-de-airfryer.jpg: \u001b[1m[\u001b[0mErrno \u001b[1;36m1\u001b[0m\u001b[1m]\u001b[0m          \u001b]8;id=618463;file:///tmp/ipykernel_30654/1215574807.py\u001b\\\u001b[2m1215574807.py\u001b[0m\u001b]8;;\u001b\\\u001b[2m:\u001b[0m\u001b]8;id=648410;file:///tmp/ipykernel_30654/1215574807.py#66\u001b\\\u001b[2m66\u001b[0m\u001b]8;;\u001b\\\n",
       "\u001b[2;36m           \u001b[0m         Operation not permitted                                                        \u001b[2m                \u001b[0m\n"
      ]
     },
     "metadata": {},
     "output_type": "display_data"
    },
    {
     "data": {
      "text/html": [
       "<pre style=\"white-space:pre;overflow-x:auto;line-height:normal;font-family:Menlo,'DejaVu Sans Mono',consolas,'Courier New',monospace\"><span style=\"color: #7fbfbf; text-decoration-color: #7fbfbf\">           </span><span style=\"color: #800000; text-decoration-color: #800000; font-weight: bold\">ERROR   </span> ⚠️ Failed to process havermoutcrumble-met-frambozen-en-custard.jpg: <span style=\"font-weight: bold\">[</span>Errno <span style=\"color: #008080; text-decoration-color: #008080; font-weight: bold\">1</span><span style=\"font-weight: bold\">]</span>   <a href=\"file:///tmp/ipykernel_30654/1215574807.py\" target=\"_blank\"><span style=\"color: #7f7f7f; text-decoration-color: #7f7f7f\">1215574807.py</span></a><span style=\"color: #7f7f7f; text-decoration-color: #7f7f7f\">:</span><a href=\"file:///tmp/ipykernel_30654/1215574807.py#66\" target=\"_blank\"><span style=\"color: #7f7f7f; text-decoration-color: #7f7f7f\">66</span></a>\n",
       "<span style=\"color: #7fbfbf; text-decoration-color: #7fbfbf\">           </span>         Operation not permitted                                                        <span style=\"color: #7f7f7f; text-decoration-color: #7f7f7f\">                </span>\n",
       "</pre>\n"
      ],
      "text/plain": [
       "\u001b[2;36m          \u001b[0m\u001b[2;36m \u001b[0m\u001b[1;31mERROR   \u001b[0m ⚠️ Failed to process havermoutcrumble-met-frambozen-en-custard.jpg: \u001b[1m[\u001b[0mErrno \u001b[1;36m1\u001b[0m\u001b[1m]\u001b[0m   \u001b]8;id=536522;file:///tmp/ipykernel_30654/1215574807.py\u001b\\\u001b[2m1215574807.py\u001b[0m\u001b]8;;\u001b\\\u001b[2m:\u001b[0m\u001b]8;id=57130;file:///tmp/ipykernel_30654/1215574807.py#66\u001b\\\u001b[2m66\u001b[0m\u001b]8;;\u001b\\\n",
       "\u001b[2;36m           \u001b[0m         Operation not permitted                                                        \u001b[2m                \u001b[0m\n"
      ]
     },
     "metadata": {},
     "output_type": "display_data"
    },
    {
     "data": {
      "text/html": [
       "<pre style=\"white-space:pre;overflow-x:auto;line-height:normal;font-family:Menlo,'DejaVu Sans Mono',consolas,'Courier New',monospace\"><span style=\"color: #7fbfbf; text-decoration-color: #7fbfbf\">           </span><span style=\"color: #800000; text-decoration-color: #800000; font-weight: bold\">ERROR   </span> ⚠️ Failed to process kabeljauw-met-notencrunch-en-venkel.jpg: <span style=\"font-weight: bold\">[</span>Errno <span style=\"color: #008080; text-decoration-color: #008080; font-weight: bold\">1</span><span style=\"font-weight: bold\">]</span>         <a href=\"file:///tmp/ipykernel_30654/1215574807.py\" target=\"_blank\"><span style=\"color: #7f7f7f; text-decoration-color: #7f7f7f\">1215574807.py</span></a><span style=\"color: #7f7f7f; text-decoration-color: #7f7f7f\">:</span><a href=\"file:///tmp/ipykernel_30654/1215574807.py#66\" target=\"_blank\"><span style=\"color: #7f7f7f; text-decoration-color: #7f7f7f\">66</span></a>\n",
       "<span style=\"color: #7fbfbf; text-decoration-color: #7fbfbf\">           </span>         Operation not permitted                                                        <span style=\"color: #7f7f7f; text-decoration-color: #7f7f7f\">                </span>\n",
       "</pre>\n"
      ],
      "text/plain": [
       "\u001b[2;36m          \u001b[0m\u001b[2;36m \u001b[0m\u001b[1;31mERROR   \u001b[0m ⚠️ Failed to process kabeljauw-met-notencrunch-en-venkel.jpg: \u001b[1m[\u001b[0mErrno \u001b[1;36m1\u001b[0m\u001b[1m]\u001b[0m         \u001b]8;id=574574;file:///tmp/ipykernel_30654/1215574807.py\u001b\\\u001b[2m1215574807.py\u001b[0m\u001b]8;;\u001b\\\u001b[2m:\u001b[0m\u001b]8;id=755493;file:///tmp/ipykernel_30654/1215574807.py#66\u001b\\\u001b[2m66\u001b[0m\u001b]8;;\u001b\\\n",
       "\u001b[2;36m           \u001b[0m         Operation not permitted                                                        \u001b[2m                \u001b[0m\n"
      ]
     },
     "metadata": {},
     "output_type": "display_data"
    },
    {
     "data": {
      "text/html": [
       "<pre style=\"white-space:pre;overflow-x:auto;line-height:normal;font-family:Menlo,'DejaVu Sans Mono',consolas,'Courier New',monospace\"><span style=\"color: #7fbfbf; text-decoration-color: #7fbfbf\">           </span><span style=\"color: #800000; text-decoration-color: #800000; font-weight: bold\">ERROR   </span> ⚠️ Failed to process                                                            <a href=\"file:///tmp/ipykernel_30654/1215574807.py\" target=\"_blank\"><span style=\"color: #7f7f7f; text-decoration-color: #7f7f7f\">1215574807.py</span></a><span style=\"color: #7f7f7f; text-decoration-color: #7f7f7f\">:</span><a href=\"file:///tmp/ipykernel_30654/1215574807.py#66\" target=\"_blank\"><span style=\"color: #7f7f7f; text-decoration-color: #7f7f7f\">66</span></a>\n",
       "<span style=\"color: #7fbfbf; text-decoration-color: #7fbfbf\">           </span>         lunchwraps-gerookte-kip-en-komkommer-van-giorgias-kitchen.jpg: <span style=\"font-weight: bold\">[</span>Errno <span style=\"color: #008080; text-decoration-color: #008080; font-weight: bold\">1</span><span style=\"font-weight: bold\">]</span>       <span style=\"color: #7f7f7f; text-decoration-color: #7f7f7f\">                </span>\n",
       "<span style=\"color: #7fbfbf; text-decoration-color: #7fbfbf\">           </span>         Operation not permitted                                                        <span style=\"color: #7f7f7f; text-decoration-color: #7f7f7f\">                </span>\n",
       "</pre>\n"
      ],
      "text/plain": [
       "\u001b[2;36m          \u001b[0m\u001b[2;36m \u001b[0m\u001b[1;31mERROR   \u001b[0m ⚠️ Failed to process                                                            \u001b]8;id=319644;file:///tmp/ipykernel_30654/1215574807.py\u001b\\\u001b[2m1215574807.py\u001b[0m\u001b]8;;\u001b\\\u001b[2m:\u001b[0m\u001b]8;id=382120;file:///tmp/ipykernel_30654/1215574807.py#66\u001b\\\u001b[2m66\u001b[0m\u001b]8;;\u001b\\\n",
       "\u001b[2;36m           \u001b[0m         lunchwraps-gerookte-kip-en-komkommer-van-giorgias-kitchen.jpg: \u001b[1m[\u001b[0mErrno \u001b[1;36m1\u001b[0m\u001b[1m]\u001b[0m       \u001b[2m                \u001b[0m\n",
       "\u001b[2;36m           \u001b[0m         Operation not permitted                                                        \u001b[2m                \u001b[0m\n"
      ]
     },
     "metadata": {},
     "output_type": "display_data"
    },
    {
     "data": {
      "text/html": [
       "<pre style=\"white-space:pre;overflow-x:auto;line-height:normal;font-family:Menlo,'DejaVu Sans Mono',consolas,'Courier New',monospace\"><span style=\"color: #7fbfbf; text-decoration-color: #7fbfbf\">           </span><span style=\"color: #800000; text-decoration-color: #800000; font-weight: bold\">ERROR   </span> ⚠️ Failed to process ovenquesadillas-met-kipgehakt-en-komkommersla.jpg: <span style=\"font-weight: bold\">[</span>Errno  <a href=\"file:///tmp/ipykernel_30654/1215574807.py\" target=\"_blank\"><span style=\"color: #7f7f7f; text-decoration-color: #7f7f7f\">1215574807.py</span></a><span style=\"color: #7f7f7f; text-decoration-color: #7f7f7f\">:</span><a href=\"file:///tmp/ipykernel_30654/1215574807.py#66\" target=\"_blank\"><span style=\"color: #7f7f7f; text-decoration-color: #7f7f7f\">66</span></a>\n",
       "<span style=\"color: #7fbfbf; text-decoration-color: #7fbfbf\">           </span>         <span style=\"color: #008080; text-decoration-color: #008080; font-weight: bold\">1</span><span style=\"font-weight: bold\">]</span> Operation not permitted                                                     <span style=\"color: #7f7f7f; text-decoration-color: #7f7f7f\">                </span>\n",
       "</pre>\n"
      ],
      "text/plain": [
       "\u001b[2;36m          \u001b[0m\u001b[2;36m \u001b[0m\u001b[1;31mERROR   \u001b[0m ⚠️ Failed to process ovenquesadillas-met-kipgehakt-en-komkommersla.jpg: \u001b[1m[\u001b[0mErrno  \u001b]8;id=785095;file:///tmp/ipykernel_30654/1215574807.py\u001b\\\u001b[2m1215574807.py\u001b[0m\u001b]8;;\u001b\\\u001b[2m:\u001b[0m\u001b]8;id=454379;file:///tmp/ipykernel_30654/1215574807.py#66\u001b\\\u001b[2m66\u001b[0m\u001b]8;;\u001b\\\n",
       "\u001b[2;36m           \u001b[0m         \u001b[1;36m1\u001b[0m\u001b[1m]\u001b[0m Operation not permitted                                                     \u001b[2m                \u001b[0m\n"
      ]
     },
     "metadata": {},
     "output_type": "display_data"
    },
    {
     "data": {
      "text/html": [
       "<pre style=\"white-space:pre;overflow-x:auto;line-height:normal;font-family:Menlo,'DejaVu Sans Mono',consolas,'Courier New',monospace\"><span style=\"color: #7fbfbf; text-decoration-color: #7fbfbf\">           </span><span style=\"color: #800000; text-decoration-color: #800000; font-weight: bold\">ERROR   </span> ⚠️ Failed to process paprika-tomaatwraps-met-tonijnsalade.jpg: <span style=\"font-weight: bold\">[</span>Errno <span style=\"color: #008080; text-decoration-color: #008080; font-weight: bold\">1</span><span style=\"font-weight: bold\">]</span>        <a href=\"file:///tmp/ipykernel_30654/1215574807.py\" target=\"_blank\"><span style=\"color: #7f7f7f; text-decoration-color: #7f7f7f\">1215574807.py</span></a><span style=\"color: #7f7f7f; text-decoration-color: #7f7f7f\">:</span><a href=\"file:///tmp/ipykernel_30654/1215574807.py#66\" target=\"_blank\"><span style=\"color: #7f7f7f; text-decoration-color: #7f7f7f\">66</span></a>\n",
       "<span style=\"color: #7fbfbf; text-decoration-color: #7fbfbf\">           </span>         Operation not permitted                                                        <span style=\"color: #7f7f7f; text-decoration-color: #7f7f7f\">                </span>\n",
       "</pre>\n"
      ],
      "text/plain": [
       "\u001b[2;36m          \u001b[0m\u001b[2;36m \u001b[0m\u001b[1;31mERROR   \u001b[0m ⚠️ Failed to process paprika-tomaatwraps-met-tonijnsalade.jpg: \u001b[1m[\u001b[0mErrno \u001b[1;36m1\u001b[0m\u001b[1m]\u001b[0m        \u001b]8;id=81616;file:///tmp/ipykernel_30654/1215574807.py\u001b\\\u001b[2m1215574807.py\u001b[0m\u001b]8;;\u001b\\\u001b[2m:\u001b[0m\u001b]8;id=47701;file:///tmp/ipykernel_30654/1215574807.py#66\u001b\\\u001b[2m66\u001b[0m\u001b]8;;\u001b\\\n",
       "\u001b[2;36m           \u001b[0m         Operation not permitted                                                        \u001b[2m                \u001b[0m\n"
      ]
     },
     "metadata": {},
     "output_type": "display_data"
    },
    {
     "data": {
      "text/html": [
       "<pre style=\"white-space:pre;overflow-x:auto;line-height:normal;font-family:Menlo,'DejaVu Sans Mono',consolas,'Courier New',monospace\"><span style=\"color: #7fbfbf; text-decoration-color: #7fbfbf\">           </span><span style=\"color: #800000; text-decoration-color: #800000; font-weight: bold\">ERROR   </span> ⚠️ Failed to process paprikasalsa-met-limoen-en-bosui.jpg: <span style=\"font-weight: bold\">[</span>Errno <span style=\"color: #008080; text-decoration-color: #008080; font-weight: bold\">1</span><span style=\"font-weight: bold\">]</span> Operation  <a href=\"file:///tmp/ipykernel_30654/1215574807.py\" target=\"_blank\"><span style=\"color: #7f7f7f; text-decoration-color: #7f7f7f\">1215574807.py</span></a><span style=\"color: #7f7f7f; text-decoration-color: #7f7f7f\">:</span><a href=\"file:///tmp/ipykernel_30654/1215574807.py#66\" target=\"_blank\"><span style=\"color: #7f7f7f; text-decoration-color: #7f7f7f\">66</span></a>\n",
       "<span style=\"color: #7fbfbf; text-decoration-color: #7fbfbf\">           </span>         not permitted                                                                  <span style=\"color: #7f7f7f; text-decoration-color: #7f7f7f\">                </span>\n",
       "</pre>\n"
      ],
      "text/plain": [
       "\u001b[2;36m          \u001b[0m\u001b[2;36m \u001b[0m\u001b[1;31mERROR   \u001b[0m ⚠️ Failed to process paprikasalsa-met-limoen-en-bosui.jpg: \u001b[1m[\u001b[0mErrno \u001b[1;36m1\u001b[0m\u001b[1m]\u001b[0m Operation  \u001b]8;id=138603;file:///tmp/ipykernel_30654/1215574807.py\u001b\\\u001b[2m1215574807.py\u001b[0m\u001b]8;;\u001b\\\u001b[2m:\u001b[0m\u001b]8;id=573631;file:///tmp/ipykernel_30654/1215574807.py#66\u001b\\\u001b[2m66\u001b[0m\u001b]8;;\u001b\\\n",
       "\u001b[2;36m           \u001b[0m         not permitted                                                                  \u001b[2m                \u001b[0m\n"
      ]
     },
     "metadata": {},
     "output_type": "display_data"
    },
    {
     "data": {
      "text/html": [
       "<pre style=\"white-space:pre;overflow-x:auto;line-height:normal;font-family:Menlo,'DejaVu Sans Mono',consolas,'Courier New',monospace\"><span style=\"color: #7fbfbf; text-decoration-color: #7fbfbf\">           </span><span style=\"color: #800000; text-decoration-color: #800000; font-weight: bold\">ERROR   </span> ⚠️ Failed to process pittige-paprikadip.jpg: <span style=\"font-weight: bold\">[</span>Errno <span style=\"color: #008080; text-decoration-color: #008080; font-weight: bold\">1</span><span style=\"font-weight: bold\">]</span> Operation not permitted  <a href=\"file:///tmp/ipykernel_30654/1215574807.py\" target=\"_blank\"><span style=\"color: #7f7f7f; text-decoration-color: #7f7f7f\">1215574807.py</span></a><span style=\"color: #7f7f7f; text-decoration-color: #7f7f7f\">:</span><a href=\"file:///tmp/ipykernel_30654/1215574807.py#66\" target=\"_blank\"><span style=\"color: #7f7f7f; text-decoration-color: #7f7f7f\">66</span></a>\n",
       "</pre>\n"
      ],
      "text/plain": [
       "\u001b[2;36m          \u001b[0m\u001b[2;36m \u001b[0m\u001b[1;31mERROR   \u001b[0m ⚠️ Failed to process pittige-paprikadip.jpg: \u001b[1m[\u001b[0mErrno \u001b[1;36m1\u001b[0m\u001b[1m]\u001b[0m Operation not permitted  \u001b]8;id=30810;file:///tmp/ipykernel_30654/1215574807.py\u001b\\\u001b[2m1215574807.py\u001b[0m\u001b]8;;\u001b\\\u001b[2m:\u001b[0m\u001b]8;id=963492;file:///tmp/ipykernel_30654/1215574807.py#66\u001b\\\u001b[2m66\u001b[0m\u001b]8;;\u001b\\\n"
      ]
     },
     "metadata": {},
     "output_type": "display_data"
    },
    {
     "data": {
      "text/html": [
       "<pre style=\"white-space:pre;overflow-x:auto;line-height:normal;font-family:Menlo,'DejaVu Sans Mono',consolas,'Courier New',monospace\"><span style=\"color: #7fbfbf; text-decoration-color: #7fbfbf\">           </span><span style=\"color: #800000; text-decoration-color: #800000; font-weight: bold\">ERROR   </span> ⚠️ Failed to process snelle-noedels-met-een-gebakken-ei.jpg: <span style=\"font-weight: bold\">[</span>Errno <span style=\"color: #008080; text-decoration-color: #008080; font-weight: bold\">1</span><span style=\"font-weight: bold\">]</span>          <a href=\"file:///tmp/ipykernel_30654/1215574807.py\" target=\"_blank\"><span style=\"color: #7f7f7f; text-decoration-color: #7f7f7f\">1215574807.py</span></a><span style=\"color: #7f7f7f; text-decoration-color: #7f7f7f\">:</span><a href=\"file:///tmp/ipykernel_30654/1215574807.py#66\" target=\"_blank\"><span style=\"color: #7f7f7f; text-decoration-color: #7f7f7f\">66</span></a>\n",
       "<span style=\"color: #7fbfbf; text-decoration-color: #7fbfbf\">           </span>         Operation not permitted                                                        <span style=\"color: #7f7f7f; text-decoration-color: #7f7f7f\">                </span>\n",
       "</pre>\n"
      ],
      "text/plain": [
       "\u001b[2;36m          \u001b[0m\u001b[2;36m \u001b[0m\u001b[1;31mERROR   \u001b[0m ⚠️ Failed to process snelle-noedels-met-een-gebakken-ei.jpg: \u001b[1m[\u001b[0mErrno \u001b[1;36m1\u001b[0m\u001b[1m]\u001b[0m          \u001b]8;id=659251;file:///tmp/ipykernel_30654/1215574807.py\u001b\\\u001b[2m1215574807.py\u001b[0m\u001b]8;;\u001b\\\u001b[2m:\u001b[0m\u001b]8;id=678848;file:///tmp/ipykernel_30654/1215574807.py#66\u001b\\\u001b[2m66\u001b[0m\u001b]8;;\u001b\\\n",
       "\u001b[2;36m           \u001b[0m         Operation not permitted                                                        \u001b[2m                \u001b[0m\n"
      ]
     },
     "metadata": {},
     "output_type": "display_data"
    },
    {
     "data": {
      "text/html": [
       "<pre style=\"white-space:pre;overflow-x:auto;line-height:normal;font-family:Menlo,'DejaVu Sans Mono',consolas,'Courier New',monospace\"><span style=\"color: #7fbfbf; text-decoration-color: #7fbfbf\">           </span><span style=\"color: #800000; text-decoration-color: #800000; font-weight: bold\">ERROR   </span> ⚠️ Failed to process spitskoolstamppot-met-varkenshaas.jpg: <span style=\"font-weight: bold\">[</span>Errno <span style=\"color: #008080; text-decoration-color: #008080; font-weight: bold\">1</span><span style=\"font-weight: bold\">]</span> Operation <a href=\"file:///tmp/ipykernel_30654/1215574807.py\" target=\"_blank\"><span style=\"color: #7f7f7f; text-decoration-color: #7f7f7f\">1215574807.py</span></a><span style=\"color: #7f7f7f; text-decoration-color: #7f7f7f\">:</span><a href=\"file:///tmp/ipykernel_30654/1215574807.py#66\" target=\"_blank\"><span style=\"color: #7f7f7f; text-decoration-color: #7f7f7f\">66</span></a>\n",
       "<span style=\"color: #7fbfbf; text-decoration-color: #7fbfbf\">           </span>         not permitted                                                                  <span style=\"color: #7f7f7f; text-decoration-color: #7f7f7f\">                </span>\n",
       "</pre>\n"
      ],
      "text/plain": [
       "\u001b[2;36m          \u001b[0m\u001b[2;36m \u001b[0m\u001b[1;31mERROR   \u001b[0m ⚠️ Failed to process spitskoolstamppot-met-varkenshaas.jpg: \u001b[1m[\u001b[0mErrno \u001b[1;36m1\u001b[0m\u001b[1m]\u001b[0m Operation \u001b]8;id=645356;file:///tmp/ipykernel_30654/1215574807.py\u001b\\\u001b[2m1215574807.py\u001b[0m\u001b]8;;\u001b\\\u001b[2m:\u001b[0m\u001b]8;id=814636;file:///tmp/ipykernel_30654/1215574807.py#66\u001b\\\u001b[2m66\u001b[0m\u001b]8;;\u001b\\\n",
       "\u001b[2;36m           \u001b[0m         not permitted                                                                  \u001b[2m                \u001b[0m\n"
      ]
     },
     "metadata": {},
     "output_type": "display_data"
    },
    {
     "data": {
      "text/html": [
       "<pre style=\"white-space:pre;overflow-x:auto;line-height:normal;font-family:Menlo,'DejaVu Sans Mono',consolas,'Courier New',monospace\"><span style=\"color: #7fbfbf; text-decoration-color: #7fbfbf\">           </span><span style=\"color: #800000; text-decoration-color: #800000; font-weight: bold\">ERROR   </span> ⚠️ Failed to process traybake-met-kip-rostirondjes-en-bloemkool.jpg: <span style=\"font-weight: bold\">[</span>Errno <span style=\"color: #008080; text-decoration-color: #008080; font-weight: bold\">1</span><span style=\"font-weight: bold\">]</span>  <a href=\"file:///tmp/ipykernel_30654/1215574807.py\" target=\"_blank\"><span style=\"color: #7f7f7f; text-decoration-color: #7f7f7f\">1215574807.py</span></a><span style=\"color: #7f7f7f; text-decoration-color: #7f7f7f\">:</span><a href=\"file:///tmp/ipykernel_30654/1215574807.py#66\" target=\"_blank\"><span style=\"color: #7f7f7f; text-decoration-color: #7f7f7f\">66</span></a>\n",
       "<span style=\"color: #7fbfbf; text-decoration-color: #7fbfbf\">           </span>         Operation not permitted                                                        <span style=\"color: #7f7f7f; text-decoration-color: #7f7f7f\">                </span>\n",
       "</pre>\n"
      ],
      "text/plain": [
       "\u001b[2;36m          \u001b[0m\u001b[2;36m \u001b[0m\u001b[1;31mERROR   \u001b[0m ⚠️ Failed to process traybake-met-kip-rostirondjes-en-bloemkool.jpg: \u001b[1m[\u001b[0mErrno \u001b[1;36m1\u001b[0m\u001b[1m]\u001b[0m  \u001b]8;id=290886;file:///tmp/ipykernel_30654/1215574807.py\u001b\\\u001b[2m1215574807.py\u001b[0m\u001b]8;;\u001b\\\u001b[2m:\u001b[0m\u001b]8;id=370823;file:///tmp/ipykernel_30654/1215574807.py#66\u001b\\\u001b[2m66\u001b[0m\u001b]8;;\u001b\\\n",
       "\u001b[2;36m           \u001b[0m         Operation not permitted                                                        \u001b[2m                \u001b[0m\n"
      ]
     },
     "metadata": {},
     "output_type": "display_data"
    },
    {
     "data": {
      "text/html": [
       "<pre style=\"white-space:pre;overflow-x:auto;line-height:normal;font-family:Menlo,'DejaVu Sans Mono',consolas,'Courier New',monospace\"><span style=\"color: #7fbfbf; text-decoration-color: #7fbfbf\">           </span><span style=\"color: #800000; text-decoration-color: #800000; font-weight: bold\">ERROR   </span> ⚠️ Failed to process traybake-met-zoete-aardappel-en-chorizobraadworst.jpg:     <a href=\"file:///tmp/ipykernel_30654/1215574807.py\" target=\"_blank\"><span style=\"color: #7f7f7f; text-decoration-color: #7f7f7f\">1215574807.py</span></a><span style=\"color: #7f7f7f; text-decoration-color: #7f7f7f\">:</span><a href=\"file:///tmp/ipykernel_30654/1215574807.py#66\" target=\"_blank\"><span style=\"color: #7f7f7f; text-decoration-color: #7f7f7f\">66</span></a>\n",
       "<span style=\"color: #7fbfbf; text-decoration-color: #7fbfbf\">           </span>         <span style=\"font-weight: bold\">[</span>Errno <span style=\"color: #008080; text-decoration-color: #008080; font-weight: bold\">1</span><span style=\"font-weight: bold\">]</span> Operation not permitted                                              <span style=\"color: #7f7f7f; text-decoration-color: #7f7f7f\">                </span>\n",
       "</pre>\n"
      ],
      "text/plain": [
       "\u001b[2;36m          \u001b[0m\u001b[2;36m \u001b[0m\u001b[1;31mERROR   \u001b[0m ⚠️ Failed to process traybake-met-zoete-aardappel-en-chorizobraadworst.jpg:     \u001b]8;id=403957;file:///tmp/ipykernel_30654/1215574807.py\u001b\\\u001b[2m1215574807.py\u001b[0m\u001b]8;;\u001b\\\u001b[2m:\u001b[0m\u001b]8;id=344375;file:///tmp/ipykernel_30654/1215574807.py#66\u001b\\\u001b[2m66\u001b[0m\u001b]8;;\u001b\\\n",
       "\u001b[2;36m           \u001b[0m         \u001b[1m[\u001b[0mErrno \u001b[1;36m1\u001b[0m\u001b[1m]\u001b[0m Operation not permitted                                              \u001b[2m                \u001b[0m\n"
      ]
     },
     "metadata": {},
     "output_type": "display_data"
    },
    {
     "data": {
      "text/html": [
       "<pre style=\"white-space:pre;overflow-x:auto;line-height:normal;font-family:Menlo,'DejaVu Sans Mono',consolas,'Courier New',monospace\"><span style=\"color: #7fbfbf; text-decoration-color: #7fbfbf\">           </span><span style=\"color: #800000; text-decoration-color: #800000; font-weight: bold\">ERROR   </span> ⚠️ Failed to process                                                            <a href=\"file:///tmp/ipykernel_30654/1215574807.py\" target=\"_blank\"><span style=\"color: #7f7f7f; text-decoration-color: #7f7f7f\">1215574807.py</span></a><span style=\"color: #7f7f7f; text-decoration-color: #7f7f7f\">:</span><a href=\"file:///tmp/ipykernel_30654/1215574807.py#66\" target=\"_blank\"><span style=\"color: #7f7f7f; text-decoration-color: #7f7f7f\">66</span></a>\n",
       "<span style=\"color: #7fbfbf; text-decoration-color: #7fbfbf\">           </span>         vegaschnitzel-met-gebakken-aardappeltjes-en-sperziebonen.jpg: <span style=\"font-weight: bold\">[</span>Errno <span style=\"color: #008080; text-decoration-color: #008080; font-weight: bold\">1</span><span style=\"font-weight: bold\">]</span>        <span style=\"color: #7f7f7f; text-decoration-color: #7f7f7f\">                </span>\n",
       "<span style=\"color: #7fbfbf; text-decoration-color: #7fbfbf\">           </span>         Operation not permitted                                                        <span style=\"color: #7f7f7f; text-decoration-color: #7f7f7f\">                </span>\n",
       "</pre>\n"
      ],
      "text/plain": [
       "\u001b[2;36m          \u001b[0m\u001b[2;36m \u001b[0m\u001b[1;31mERROR   \u001b[0m ⚠️ Failed to process                                                            \u001b]8;id=134103;file:///tmp/ipykernel_30654/1215574807.py\u001b\\\u001b[2m1215574807.py\u001b[0m\u001b]8;;\u001b\\\u001b[2m:\u001b[0m\u001b]8;id=563907;file:///tmp/ipykernel_30654/1215574807.py#66\u001b\\\u001b[2m66\u001b[0m\u001b]8;;\u001b\\\n",
       "\u001b[2;36m           \u001b[0m         vegaschnitzel-met-gebakken-aardappeltjes-en-sperziebonen.jpg: \u001b[1m[\u001b[0mErrno \u001b[1;36m1\u001b[0m\u001b[1m]\u001b[0m        \u001b[2m                \u001b[0m\n",
       "\u001b[2;36m           \u001b[0m         Operation not permitted                                                        \u001b[2m                \u001b[0m\n"
      ]
     },
     "metadata": {},
     "output_type": "display_data"
    },
    {
     "data": {
      "text/html": [
       "<pre style=\"white-space:pre;overflow-x:auto;line-height:normal;font-family:Menlo,'DejaVu Sans Mono',consolas,'Courier New',monospace\"><span style=\"color: #7fbfbf; text-decoration-color: #7fbfbf\">           </span><span style=\"color: #800000; text-decoration-color: #800000; font-weight: bold\">ERROR   </span> ⚠️ Failed to process volkorenpizza-met-tomaat-en-courgette.jpg: <span style=\"font-weight: bold\">[</span>Errno <span style=\"color: #008080; text-decoration-color: #008080; font-weight: bold\">1</span><span style=\"font-weight: bold\">]</span>       <a href=\"file:///tmp/ipykernel_30654/1215574807.py\" target=\"_blank\"><span style=\"color: #7f7f7f; text-decoration-color: #7f7f7f\">1215574807.py</span></a><span style=\"color: #7f7f7f; text-decoration-color: #7f7f7f\">:</span><a href=\"file:///tmp/ipykernel_30654/1215574807.py#66\" target=\"_blank\"><span style=\"color: #7f7f7f; text-decoration-color: #7f7f7f\">66</span></a>\n",
       "<span style=\"color: #7fbfbf; text-decoration-color: #7fbfbf\">           </span>         Operation not permitted                                                        <span style=\"color: #7f7f7f; text-decoration-color: #7f7f7f\">                </span>\n",
       "</pre>\n"
      ],
      "text/plain": [
       "\u001b[2;36m          \u001b[0m\u001b[2;36m \u001b[0m\u001b[1;31mERROR   \u001b[0m ⚠️ Failed to process volkorenpizza-met-tomaat-en-courgette.jpg: \u001b[1m[\u001b[0mErrno \u001b[1;36m1\u001b[0m\u001b[1m]\u001b[0m       \u001b]8;id=398619;file:///tmp/ipykernel_30654/1215574807.py\u001b\\\u001b[2m1215574807.py\u001b[0m\u001b]8;;\u001b\\\u001b[2m:\u001b[0m\u001b]8;id=485866;file:///tmp/ipykernel_30654/1215574807.py#66\u001b\\\u001b[2m66\u001b[0m\u001b]8;;\u001b\\\n",
       "\u001b[2;36m           \u001b[0m         Operation not permitted                                                        \u001b[2m                \u001b[0m\n"
      ]
     },
     "metadata": {},
     "output_type": "display_data"
    },
    {
     "data": {
      "text/html": [
       "<pre style=\"white-space:pre;overflow-x:auto;line-height:normal;font-family:Menlo,'DejaVu Sans Mono',consolas,'Courier New',monospace\"><span style=\"color: #7fbfbf; text-decoration-color: #7fbfbf\">           </span><span style=\"color: #800000; text-decoration-color: #800000; font-weight: bold\">ERROR   </span> ⚠️ Failed to process volkorentacos-met-tofu-en-geroosterde-bloemkool.jpg:       <a href=\"file:///tmp/ipykernel_30654/1215574807.py\" target=\"_blank\"><span style=\"color: #7f7f7f; text-decoration-color: #7f7f7f\">1215574807.py</span></a><span style=\"color: #7f7f7f; text-decoration-color: #7f7f7f\">:</span><a href=\"file:///tmp/ipykernel_30654/1215574807.py#66\" target=\"_blank\"><span style=\"color: #7f7f7f; text-decoration-color: #7f7f7f\">66</span></a>\n",
       "<span style=\"color: #7fbfbf; text-decoration-color: #7fbfbf\">           </span>         <span style=\"font-weight: bold\">[</span>Errno <span style=\"color: #008080; text-decoration-color: #008080; font-weight: bold\">1</span><span style=\"font-weight: bold\">]</span> Operation not permitted                                              <span style=\"color: #7f7f7f; text-decoration-color: #7f7f7f\">                </span>\n",
       "</pre>\n"
      ],
      "text/plain": [
       "\u001b[2;36m          \u001b[0m\u001b[2;36m \u001b[0m\u001b[1;31mERROR   \u001b[0m ⚠️ Failed to process volkorentacos-met-tofu-en-geroosterde-bloemkool.jpg:       \u001b]8;id=201278;file:///tmp/ipykernel_30654/1215574807.py\u001b\\\u001b[2m1215574807.py\u001b[0m\u001b]8;;\u001b\\\u001b[2m:\u001b[0m\u001b]8;id=627509;file:///tmp/ipykernel_30654/1215574807.py#66\u001b\\\u001b[2m66\u001b[0m\u001b]8;;\u001b\\\n",
       "\u001b[2;36m           \u001b[0m         \u001b[1m[\u001b[0mErrno \u001b[1;36m1\u001b[0m\u001b[1m]\u001b[0m Operation not permitted                                              \u001b[2m                \u001b[0m\n"
      ]
     },
     "metadata": {},
     "output_type": "display_data"
    },
    {
     "data": {
      "text/html": [
       "<pre style=\"white-space:pre;overflow-x:auto;line-height:normal;font-family:Menlo,'DejaVu Sans Mono',consolas,'Courier New',monospace\"><span style=\"color: #7fbfbf; text-decoration-color: #7fbfbf\">           </span><span style=\"color: #800000; text-decoration-color: #800000; font-weight: bold\">ERROR   </span> ⚠️ Failed to process witlof-ovenschotel-met-vega-spekjes.jpg: <span style=\"font-weight: bold\">[</span>Errno <span style=\"color: #008080; text-decoration-color: #008080; font-weight: bold\">1</span><span style=\"font-weight: bold\">]</span>         <a href=\"file:///tmp/ipykernel_30654/1215574807.py\" target=\"_blank\"><span style=\"color: #7f7f7f; text-decoration-color: #7f7f7f\">1215574807.py</span></a><span style=\"color: #7f7f7f; text-decoration-color: #7f7f7f\">:</span><a href=\"file:///tmp/ipykernel_30654/1215574807.py#66\" target=\"_blank\"><span style=\"color: #7f7f7f; text-decoration-color: #7f7f7f\">66</span></a>\n",
       "<span style=\"color: #7fbfbf; text-decoration-color: #7fbfbf\">           </span>         Operation not permitted                                                        <span style=\"color: #7f7f7f; text-decoration-color: #7f7f7f\">                </span>\n",
       "</pre>\n"
      ],
      "text/plain": [
       "\u001b[2;36m          \u001b[0m\u001b[2;36m \u001b[0m\u001b[1;31mERROR   \u001b[0m ⚠️ Failed to process witlof-ovenschotel-met-vega-spekjes.jpg: \u001b[1m[\u001b[0mErrno \u001b[1;36m1\u001b[0m\u001b[1m]\u001b[0m         \u001b]8;id=750192;file:///tmp/ipykernel_30654/1215574807.py\u001b\\\u001b[2m1215574807.py\u001b[0m\u001b]8;;\u001b\\\u001b[2m:\u001b[0m\u001b]8;id=165487;file:///tmp/ipykernel_30654/1215574807.py#66\u001b\\\u001b[2m66\u001b[0m\u001b]8;;\u001b\\\n",
       "\u001b[2;36m           \u001b[0m         Operation not permitted                                                        \u001b[2m                \u001b[0m\n"
      ]
     },
     "metadata": {},
     "output_type": "display_data"
    },
    {
     "data": {
      "text/html": [
       "<pre style=\"white-space:pre;overflow-x:auto;line-height:normal;font-family:Menlo,'DejaVu Sans Mono',consolas,'Courier New',monospace\"><span style=\"color: #7fbfbf; text-decoration-color: #7fbfbf\">           </span><span style=\"color: #800000; text-decoration-color: #800000; font-weight: bold\">ERROR   </span> ⚠️ Failed to process zalm-met-aardappelpuree-en-prei-a-la-creme.jpg: <span style=\"font-weight: bold\">[</span>Errno <span style=\"color: #008080; text-decoration-color: #008080; font-weight: bold\">1</span><span style=\"font-weight: bold\">]</span>  <a href=\"file:///tmp/ipykernel_30654/1215574807.py\" target=\"_blank\"><span style=\"color: #7f7f7f; text-decoration-color: #7f7f7f\">1215574807.py</span></a><span style=\"color: #7f7f7f; text-decoration-color: #7f7f7f\">:</span><a href=\"file:///tmp/ipykernel_30654/1215574807.py#66\" target=\"_blank\"><span style=\"color: #7f7f7f; text-decoration-color: #7f7f7f\">66</span></a>\n",
       "<span style=\"color: #7fbfbf; text-decoration-color: #7fbfbf\">           </span>         Operation not permitted                                                        <span style=\"color: #7f7f7f; text-decoration-color: #7f7f7f\">                </span>\n",
       "</pre>\n"
      ],
      "text/plain": [
       "\u001b[2;36m          \u001b[0m\u001b[2;36m \u001b[0m\u001b[1;31mERROR   \u001b[0m ⚠️ Failed to process zalm-met-aardappelpuree-en-prei-a-la-creme.jpg: \u001b[1m[\u001b[0mErrno \u001b[1;36m1\u001b[0m\u001b[1m]\u001b[0m  \u001b]8;id=569236;file:///tmp/ipykernel_30654/1215574807.py\u001b\\\u001b[2m1215574807.py\u001b[0m\u001b]8;;\u001b\\\u001b[2m:\u001b[0m\u001b]8;id=175978;file:///tmp/ipykernel_30654/1215574807.py#66\u001b\\\u001b[2m66\u001b[0m\u001b]8;;\u001b\\\n",
       "\u001b[2;36m           \u001b[0m         Operation not permitted                                                        \u001b[2m                \u001b[0m\n"
      ]
     },
     "metadata": {},
     "output_type": "display_data"
    },
    {
     "data": {
      "text/html": [
       "<pre style=\"white-space:pre;overflow-x:auto;line-height:normal;font-family:Menlo,'DejaVu Sans Mono',consolas,'Courier New',monospace\"><span style=\"color: #7fbfbf; text-decoration-color: #7fbfbf\">           </span><span style=\"color: #800000; text-decoration-color: #800000; font-weight: bold\">ERROR   </span> ⚠️ Failed to process zoete-aardappel-met-kip-en-gebakken-paksoi.jpg: <span style=\"font-weight: bold\">[</span>Errno <span style=\"color: #008080; text-decoration-color: #008080; font-weight: bold\">1</span><span style=\"font-weight: bold\">]</span>  <a href=\"file:///tmp/ipykernel_30654/1215574807.py\" target=\"_blank\"><span style=\"color: #7f7f7f; text-decoration-color: #7f7f7f\">1215574807.py</span></a><span style=\"color: #7f7f7f; text-decoration-color: #7f7f7f\">:</span><a href=\"file:///tmp/ipykernel_30654/1215574807.py#66\" target=\"_blank\"><span style=\"color: #7f7f7f; text-decoration-color: #7f7f7f\">66</span></a>\n",
       "<span style=\"color: #7fbfbf; text-decoration-color: #7fbfbf\">           </span>         Operation not permitted                                                        <span style=\"color: #7f7f7f; text-decoration-color: #7f7f7f\">                </span>\n",
       "</pre>\n"
      ],
      "text/plain": [
       "\u001b[2;36m          \u001b[0m\u001b[2;36m \u001b[0m\u001b[1;31mERROR   \u001b[0m ⚠️ Failed to process zoete-aardappel-met-kip-en-gebakken-paksoi.jpg: \u001b[1m[\u001b[0mErrno \u001b[1;36m1\u001b[0m\u001b[1m]\u001b[0m  \u001b]8;id=73369;file:///tmp/ipykernel_30654/1215574807.py\u001b\\\u001b[2m1215574807.py\u001b[0m\u001b]8;;\u001b\\\u001b[2m:\u001b[0m\u001b]8;id=149004;file:///tmp/ipykernel_30654/1215574807.py#66\u001b\\\u001b[2m66\u001b[0m\u001b]8;;\u001b\\\n",
       "\u001b[2;36m           \u001b[0m         Operation not permitted                                                        \u001b[2m                \u001b[0m\n"
      ]
     },
     "metadata": {},
     "output_type": "display_data"
    },
    {
     "data": {
      "text/html": [
       "<pre style=\"white-space:pre;overflow-x:auto;line-height:normal;font-family:Menlo,'DejaVu Sans Mono',consolas,'Courier New',monospace\"><span style=\"color: #7fbfbf; text-decoration-color: #7fbfbf\">           </span><span style=\"color: #000080; text-decoration-color: #000080\">INFO    </span> ✅ Wrote captions for <span style=\"color: #008080; text-decoration-color: #008080; font-weight: bold\">0</span> images into work/dataset/new                           <a href=\"file:///tmp/ipykernel_30654/1215574807.py\" target=\"_blank\"><span style=\"color: #7f7f7f; text-decoration-color: #7f7f7f\">1215574807.py</span></a><span style=\"color: #7f7f7f; text-decoration-color: #7f7f7f\">:</span><a href=\"file:///tmp/ipykernel_30654/1215574807.py#68\" target=\"_blank\"><span style=\"color: #7f7f7f; text-decoration-color: #7f7f7f\">68</span></a>\n",
       "</pre>\n"
      ],
      "text/plain": [
       "\u001b[2;36m          \u001b[0m\u001b[2;36m \u001b[0m\u001b[34mINFO    \u001b[0m ✅ Wrote captions for \u001b[1;36m0\u001b[0m images into work/dataset/new                           \u001b]8;id=827631;file:///tmp/ipykernel_30654/1215574807.py\u001b\\\u001b[2m1215574807.py\u001b[0m\u001b]8;;\u001b\\\u001b[2m:\u001b[0m\u001b]8;id=583380;file:///tmp/ipykernel_30654/1215574807.py#68\u001b\\\u001b[2m68\u001b[0m\u001b]8;;\u001b\\\n"
      ]
     },
     "metadata": {},
     "output_type": "display_data"
    },
    {
     "data": {
      "text/html": [
       "<pre style=\"white-space:pre;overflow-x:auto;line-height:normal;font-family:Menlo,'DejaVu Sans Mono',consolas,'Courier New',monospace\"><span style=\"color: #7fbfbf; text-decoration-color: #7fbfbf\">           </span><span style=\"color: #000080; text-decoration-color: #000080\">INFO    </span> 📑 Building captions from work/labels/old_labels.jsonl <span style=\"font-weight: bold\">(</span><span style=\"color: #008080; text-decoration-color: #008080; font-weight: bold\">16</span> records<span style=\"font-weight: bold\">)</span><span style=\"color: #808000; text-decoration-color: #808000\">...</span>         <a href=\"file:///tmp/ipykernel_30654/1215574807.py\" target=\"_blank\"><span style=\"color: #7f7f7f; text-decoration-color: #7f7f7f\">1215574807.py</span></a><span style=\"color: #7f7f7f; text-decoration-color: #7f7f7f\">:</span><a href=\"file:///tmp/ipykernel_30654/1215574807.py#18\" target=\"_blank\"><span style=\"color: #7f7f7f; text-decoration-color: #7f7f7f\">18</span></a>\n",
       "</pre>\n"
      ],
      "text/plain": [
       "\u001b[2;36m          \u001b[0m\u001b[2;36m \u001b[0m\u001b[34mINFO    \u001b[0m 📑 Building captions from work/labels/old_labels.jsonl \u001b[1m(\u001b[0m\u001b[1;36m16\u001b[0m records\u001b[1m)\u001b[0m\u001b[33m...\u001b[0m         \u001b]8;id=616427;file:///tmp/ipykernel_30654/1215574807.py\u001b\\\u001b[2m1215574807.py\u001b[0m\u001b]8;;\u001b\\\u001b[2m:\u001b[0m\u001b]8;id=758930;file:///tmp/ipykernel_30654/1215574807.py#18\u001b\\\u001b[2m18\u001b[0m\u001b]8;;\u001b\\\n"
      ]
     },
     "metadata": {},
     "output_type": "display_data"
    },
    {
     "data": {
      "application/vnd.jupyter.widget-view+json": {
       "model_id": "6d132a8986b94f698fdc0b73a434c5f9",
       "version_major": 2,
       "version_minor": 0
      },
      "text/plain": [
       "Generating captions:   0%|          | 0/16 [00:00<?, ?it/s]"
      ]
     },
     "metadata": {},
     "output_type": "display_data"
    },
    {
     "data": {
      "text/html": [
       "<pre style=\"white-space:pre;overflow-x:auto;line-height:normal;font-family:Menlo,'DejaVu Sans Mono',consolas,'Courier New',monospace\"><span style=\"color: #7fbfbf; text-decoration-color: #7fbfbf\">           </span><span style=\"color: #800000; text-decoration-color: #800000; font-weight: bold\">ERROR   </span> ⚠️ Failed to process courgettebroodjes.jpg: <span style=\"font-weight: bold\">[</span>Errno <span style=\"color: #008080; text-decoration-color: #008080; font-weight: bold\">1</span><span style=\"font-weight: bold\">]</span> Operation not permitted   <a href=\"file:///tmp/ipykernel_30654/1215574807.py\" target=\"_blank\"><span style=\"color: #7f7f7f; text-decoration-color: #7f7f7f\">1215574807.py</span></a><span style=\"color: #7f7f7f; text-decoration-color: #7f7f7f\">:</span><a href=\"file:///tmp/ipykernel_30654/1215574807.py#66\" target=\"_blank\"><span style=\"color: #7f7f7f; text-decoration-color: #7f7f7f\">66</span></a>\n",
       "</pre>\n"
      ],
      "text/plain": [
       "\u001b[2;36m          \u001b[0m\u001b[2;36m \u001b[0m\u001b[1;31mERROR   \u001b[0m ⚠️ Failed to process courgettebroodjes.jpg: \u001b[1m[\u001b[0mErrno \u001b[1;36m1\u001b[0m\u001b[1m]\u001b[0m Operation not permitted   \u001b]8;id=978263;file:///tmp/ipykernel_30654/1215574807.py\u001b\\\u001b[2m1215574807.py\u001b[0m\u001b]8;;\u001b\\\u001b[2m:\u001b[0m\u001b]8;id=398759;file:///tmp/ipykernel_30654/1215574807.py#66\u001b\\\u001b[2m66\u001b[0m\u001b]8;;\u001b\\\n"
      ]
     },
     "metadata": {},
     "output_type": "display_data"
    },
    {
     "data": {
      "text/html": [
       "<pre style=\"white-space:pre;overflow-x:auto;line-height:normal;font-family:Menlo,'DejaVu Sans Mono',consolas,'Courier New',monospace\"><span style=\"color: #7fbfbf; text-decoration-color: #7fbfbf\">[11:03:40] </span><span style=\"color: #800000; text-decoration-color: #800000; font-weight: bold\">ERROR   </span> ⚠️ Failed to process franse-zuurkoolschotel.jpg: <span style=\"font-weight: bold\">[</span>Errno <span style=\"color: #008080; text-decoration-color: #008080; font-weight: bold\">1</span><span style=\"font-weight: bold\">]</span> Operation not        <a href=\"file:///tmp/ipykernel_30654/1215574807.py\" target=\"_blank\"><span style=\"color: #7f7f7f; text-decoration-color: #7f7f7f\">1215574807.py</span></a><span style=\"color: #7f7f7f; text-decoration-color: #7f7f7f\">:</span><a href=\"file:///tmp/ipykernel_30654/1215574807.py#66\" target=\"_blank\"><span style=\"color: #7f7f7f; text-decoration-color: #7f7f7f\">66</span></a>\n",
       "<span style=\"color: #7fbfbf; text-decoration-color: #7fbfbf\">           </span>         permitted                                                                      <span style=\"color: #7f7f7f; text-decoration-color: #7f7f7f\">                </span>\n",
       "</pre>\n"
      ],
      "text/plain": [
       "\u001b[2;36m[11:03:40]\u001b[0m\u001b[2;36m \u001b[0m\u001b[1;31mERROR   \u001b[0m ⚠️ Failed to process franse-zuurkoolschotel.jpg: \u001b[1m[\u001b[0mErrno \u001b[1;36m1\u001b[0m\u001b[1m]\u001b[0m Operation not        \u001b]8;id=535685;file:///tmp/ipykernel_30654/1215574807.py\u001b\\\u001b[2m1215574807.py\u001b[0m\u001b]8;;\u001b\\\u001b[2m:\u001b[0m\u001b]8;id=615151;file:///tmp/ipykernel_30654/1215574807.py#66\u001b\\\u001b[2m66\u001b[0m\u001b]8;;\u001b\\\n",
       "\u001b[2;36m           \u001b[0m         permitted                                                                      \u001b[2m                \u001b[0m\n"
      ]
     },
     "metadata": {},
     "output_type": "display_data"
    },
    {
     "data": {
      "text/html": [
       "<pre style=\"white-space:pre;overflow-x:auto;line-height:normal;font-family:Menlo,'DejaVu Sans Mono',consolas,'Courier New',monospace\"><span style=\"color: #7fbfbf; text-decoration-color: #7fbfbf\">           </span><span style=\"color: #800000; text-decoration-color: #800000; font-weight: bold\">ERROR   </span> ⚠️ Failed to process gegratineerde-spruitjes.jpg: <span style=\"font-weight: bold\">[</span>Errno <span style=\"color: #008080; text-decoration-color: #008080; font-weight: bold\">1</span><span style=\"font-weight: bold\">]</span> Operation not       <a href=\"file:///tmp/ipykernel_30654/1215574807.py\" target=\"_blank\"><span style=\"color: #7f7f7f; text-decoration-color: #7f7f7f\">1215574807.py</span></a><span style=\"color: #7f7f7f; text-decoration-color: #7f7f7f\">:</span><a href=\"file:///tmp/ipykernel_30654/1215574807.py#66\" target=\"_blank\"><span style=\"color: #7f7f7f; text-decoration-color: #7f7f7f\">66</span></a>\n",
       "<span style=\"color: #7fbfbf; text-decoration-color: #7fbfbf\">           </span>         permitted                                                                      <span style=\"color: #7f7f7f; text-decoration-color: #7f7f7f\">                </span>\n",
       "</pre>\n"
      ],
      "text/plain": [
       "\u001b[2;36m          \u001b[0m\u001b[2;36m \u001b[0m\u001b[1;31mERROR   \u001b[0m ⚠️ Failed to process gegratineerde-spruitjes.jpg: \u001b[1m[\u001b[0mErrno \u001b[1;36m1\u001b[0m\u001b[1m]\u001b[0m Operation not       \u001b]8;id=193880;file:///tmp/ipykernel_30654/1215574807.py\u001b\\\u001b[2m1215574807.py\u001b[0m\u001b]8;;\u001b\\\u001b[2m:\u001b[0m\u001b]8;id=140230;file:///tmp/ipykernel_30654/1215574807.py#66\u001b\\\u001b[2m66\u001b[0m\u001b]8;;\u001b\\\n",
       "\u001b[2;36m           \u001b[0m         permitted                                                                      \u001b[2m                \u001b[0m\n"
      ]
     },
     "metadata": {},
     "output_type": "display_data"
    },
    {
     "data": {
      "text/html": [
       "<pre style=\"white-space:pre;overflow-x:auto;line-height:normal;font-family:Menlo,'DejaVu Sans Mono',consolas,'Courier New',monospace\"><span style=\"color: #7fbfbf; text-decoration-color: #7fbfbf\">           </span><span style=\"color: #800000; text-decoration-color: #800000; font-weight: bold\">ERROR   </span> ⚠️ Failed to process gepocheerde-prei-met-truffelvinaigrette.jpg: <span style=\"font-weight: bold\">[</span>Errno <span style=\"color: #008080; text-decoration-color: #008080; font-weight: bold\">1</span><span style=\"font-weight: bold\">]</span>     <a href=\"file:///tmp/ipykernel_30654/1215574807.py\" target=\"_blank\"><span style=\"color: #7f7f7f; text-decoration-color: #7f7f7f\">1215574807.py</span></a><span style=\"color: #7f7f7f; text-decoration-color: #7f7f7f\">:</span><a href=\"file:///tmp/ipykernel_30654/1215574807.py#66\" target=\"_blank\"><span style=\"color: #7f7f7f; text-decoration-color: #7f7f7f\">66</span></a>\n",
       "<span style=\"color: #7fbfbf; text-decoration-color: #7fbfbf\">           </span>         Operation not permitted                                                        <span style=\"color: #7f7f7f; text-decoration-color: #7f7f7f\">                </span>\n",
       "</pre>\n"
      ],
      "text/plain": [
       "\u001b[2;36m          \u001b[0m\u001b[2;36m \u001b[0m\u001b[1;31mERROR   \u001b[0m ⚠️ Failed to process gepocheerde-prei-met-truffelvinaigrette.jpg: \u001b[1m[\u001b[0mErrno \u001b[1;36m1\u001b[0m\u001b[1m]\u001b[0m     \u001b]8;id=604549;file:///tmp/ipykernel_30654/1215574807.py\u001b\\\u001b[2m1215574807.py\u001b[0m\u001b]8;;\u001b\\\u001b[2m:\u001b[0m\u001b]8;id=606437;file:///tmp/ipykernel_30654/1215574807.py#66\u001b\\\u001b[2m66\u001b[0m\u001b]8;;\u001b\\\n",
       "\u001b[2;36m           \u001b[0m         Operation not permitted                                                        \u001b[2m                \u001b[0m\n"
      ]
     },
     "metadata": {},
     "output_type": "display_data"
    },
    {
     "data": {
      "text/html": [
       "<pre style=\"white-space:pre;overflow-x:auto;line-height:normal;font-family:Menlo,'DejaVu Sans Mono',consolas,'Courier New',monospace\"><span style=\"color: #7fbfbf; text-decoration-color: #7fbfbf\">           </span><span style=\"color: #800000; text-decoration-color: #800000; font-weight: bold\">ERROR   </span> ⚠️ Failed to process kersen-ricottamousse.jpg: <span style=\"font-weight: bold\">[</span>Errno <span style=\"color: #008080; text-decoration-color: #008080; font-weight: bold\">1</span><span style=\"font-weight: bold\">]</span> Operation not          <a href=\"file:///tmp/ipykernel_30654/1215574807.py\" target=\"_blank\"><span style=\"color: #7f7f7f; text-decoration-color: #7f7f7f\">1215574807.py</span></a><span style=\"color: #7f7f7f; text-decoration-color: #7f7f7f\">:</span><a href=\"file:///tmp/ipykernel_30654/1215574807.py#66\" target=\"_blank\"><span style=\"color: #7f7f7f; text-decoration-color: #7f7f7f\">66</span></a>\n",
       "<span style=\"color: #7fbfbf; text-decoration-color: #7fbfbf\">           </span>         permitted                                                                      <span style=\"color: #7f7f7f; text-decoration-color: #7f7f7f\">                </span>\n",
       "</pre>\n"
      ],
      "text/plain": [
       "\u001b[2;36m          \u001b[0m\u001b[2;36m \u001b[0m\u001b[1;31mERROR   \u001b[0m ⚠️ Failed to process kersen-ricottamousse.jpg: \u001b[1m[\u001b[0mErrno \u001b[1;36m1\u001b[0m\u001b[1m]\u001b[0m Operation not          \u001b]8;id=308958;file:///tmp/ipykernel_30654/1215574807.py\u001b\\\u001b[2m1215574807.py\u001b[0m\u001b]8;;\u001b\\\u001b[2m:\u001b[0m\u001b]8;id=746028;file:///tmp/ipykernel_30654/1215574807.py#66\u001b\\\u001b[2m66\u001b[0m\u001b]8;;\u001b\\\n",
       "\u001b[2;36m           \u001b[0m         permitted                                                                      \u001b[2m                \u001b[0m\n"
      ]
     },
     "metadata": {},
     "output_type": "display_data"
    },
    {
     "data": {
      "text/html": [
       "<pre style=\"white-space:pre;overflow-x:auto;line-height:normal;font-family:Menlo,'DejaVu Sans Mono',consolas,'Courier New',monospace\"><span style=\"color: #7fbfbf; text-decoration-color: #7fbfbf\">           </span><span style=\"color: #800000; text-decoration-color: #800000; font-weight: bold\">ERROR   </span> ⚠️ Failed to process klassieke-boerenkoolstamppot.jpg: <span style=\"font-weight: bold\">[</span>Errno <span style=\"color: #008080; text-decoration-color: #008080; font-weight: bold\">1</span><span style=\"font-weight: bold\">]</span> Operation not  <a href=\"file:///tmp/ipykernel_30654/1215574807.py\" target=\"_blank\"><span style=\"color: #7f7f7f; text-decoration-color: #7f7f7f\">1215574807.py</span></a><span style=\"color: #7f7f7f; text-decoration-color: #7f7f7f\">:</span><a href=\"file:///tmp/ipykernel_30654/1215574807.py#66\" target=\"_blank\"><span style=\"color: #7f7f7f; text-decoration-color: #7f7f7f\">66</span></a>\n",
       "<span style=\"color: #7fbfbf; text-decoration-color: #7fbfbf\">           </span>         permitted                                                                      <span style=\"color: #7f7f7f; text-decoration-color: #7f7f7f\">                </span>\n",
       "</pre>\n"
      ],
      "text/plain": [
       "\u001b[2;36m          \u001b[0m\u001b[2;36m \u001b[0m\u001b[1;31mERROR   \u001b[0m ⚠️ Failed to process klassieke-boerenkoolstamppot.jpg: \u001b[1m[\u001b[0mErrno \u001b[1;36m1\u001b[0m\u001b[1m]\u001b[0m Operation not  \u001b]8;id=638660;file:///tmp/ipykernel_30654/1215574807.py\u001b\\\u001b[2m1215574807.py\u001b[0m\u001b]8;;\u001b\\\u001b[2m:\u001b[0m\u001b]8;id=907822;file:///tmp/ipykernel_30654/1215574807.py#66\u001b\\\u001b[2m66\u001b[0m\u001b]8;;\u001b\\\n",
       "\u001b[2;36m           \u001b[0m         permitted                                                                      \u001b[2m                \u001b[0m\n"
      ]
     },
     "metadata": {},
     "output_type": "display_data"
    },
    {
     "data": {
      "text/html": [
       "<pre style=\"white-space:pre;overflow-x:auto;line-height:normal;font-family:Menlo,'DejaVu Sans Mono',consolas,'Courier New',monospace\"><span style=\"color: #7fbfbf; text-decoration-color: #7fbfbf\">           </span><span style=\"color: #800000; text-decoration-color: #800000; font-weight: bold\">ERROR   </span> ⚠️ Failed to process korianderpasta-met-mosselen.jpg: <span style=\"font-weight: bold\">[</span>Errno <span style=\"color: #008080; text-decoration-color: #008080; font-weight: bold\">1</span><span style=\"font-weight: bold\">]</span> Operation not   <a href=\"file:///tmp/ipykernel_30654/1215574807.py\" target=\"_blank\"><span style=\"color: #7f7f7f; text-decoration-color: #7f7f7f\">1215574807.py</span></a><span style=\"color: #7f7f7f; text-decoration-color: #7f7f7f\">:</span><a href=\"file:///tmp/ipykernel_30654/1215574807.py#66\" target=\"_blank\"><span style=\"color: #7f7f7f; text-decoration-color: #7f7f7f\">66</span></a>\n",
       "<span style=\"color: #7fbfbf; text-decoration-color: #7fbfbf\">           </span>         permitted                                                                      <span style=\"color: #7f7f7f; text-decoration-color: #7f7f7f\">                </span>\n",
       "</pre>\n"
      ],
      "text/plain": [
       "\u001b[2;36m          \u001b[0m\u001b[2;36m \u001b[0m\u001b[1;31mERROR   \u001b[0m ⚠️ Failed to process korianderpasta-met-mosselen.jpg: \u001b[1m[\u001b[0mErrno \u001b[1;36m1\u001b[0m\u001b[1m]\u001b[0m Operation not   \u001b]8;id=843370;file:///tmp/ipykernel_30654/1215574807.py\u001b\\\u001b[2m1215574807.py\u001b[0m\u001b]8;;\u001b\\\u001b[2m:\u001b[0m\u001b]8;id=7441;file:///tmp/ipykernel_30654/1215574807.py#66\u001b\\\u001b[2m66\u001b[0m\u001b]8;;\u001b\\\n",
       "\u001b[2;36m           \u001b[0m         permitted                                                                      \u001b[2m                \u001b[0m\n"
      ]
     },
     "metadata": {},
     "output_type": "display_data"
    },
    {
     "data": {
      "text/html": [
       "<pre style=\"white-space:pre;overflow-x:auto;line-height:normal;font-family:Menlo,'DejaVu Sans Mono',consolas,'Courier New',monospace\"><span style=\"color: #7fbfbf; text-decoration-color: #7fbfbf\">           </span><span style=\"color: #800000; text-decoration-color: #800000; font-weight: bold\">ERROR   </span> ⚠️ Failed to process lams-courgettekebabs.jpg: <span style=\"font-weight: bold\">[</span>Errno <span style=\"color: #008080; text-decoration-color: #008080; font-weight: bold\">1</span><span style=\"font-weight: bold\">]</span> Operation not          <a href=\"file:///tmp/ipykernel_30654/1215574807.py\" target=\"_blank\"><span style=\"color: #7f7f7f; text-decoration-color: #7f7f7f\">1215574807.py</span></a><span style=\"color: #7f7f7f; text-decoration-color: #7f7f7f\">:</span><a href=\"file:///tmp/ipykernel_30654/1215574807.py#66\" target=\"_blank\"><span style=\"color: #7f7f7f; text-decoration-color: #7f7f7f\">66</span></a>\n",
       "<span style=\"color: #7fbfbf; text-decoration-color: #7fbfbf\">           </span>         permitted                                                                      <span style=\"color: #7f7f7f; text-decoration-color: #7f7f7f\">                </span>\n",
       "</pre>\n"
      ],
      "text/plain": [
       "\u001b[2;36m          \u001b[0m\u001b[2;36m \u001b[0m\u001b[1;31mERROR   \u001b[0m ⚠️ Failed to process lams-courgettekebabs.jpg: \u001b[1m[\u001b[0mErrno \u001b[1;36m1\u001b[0m\u001b[1m]\u001b[0m Operation not          \u001b]8;id=238704;file:///tmp/ipykernel_30654/1215574807.py\u001b\\\u001b[2m1215574807.py\u001b[0m\u001b]8;;\u001b\\\u001b[2m:\u001b[0m\u001b]8;id=830166;file:///tmp/ipykernel_30654/1215574807.py#66\u001b\\\u001b[2m66\u001b[0m\u001b]8;;\u001b\\\n",
       "\u001b[2;36m           \u001b[0m         permitted                                                                      \u001b[2m                \u001b[0m\n"
      ]
     },
     "metadata": {},
     "output_type": "display_data"
    },
    {
     "data": {
      "text/html": [
       "<pre style=\"white-space:pre;overflow-x:auto;line-height:normal;font-family:Menlo,'DejaVu Sans Mono',consolas,'Courier New',monospace\"><span style=\"color: #7fbfbf; text-decoration-color: #7fbfbf\">           </span><span style=\"color: #800000; text-decoration-color: #800000; font-weight: bold\">ERROR   </span> ⚠️ Failed to process maaltijdmosterdsoep-met-kaastoast.jpg: <span style=\"font-weight: bold\">[</span>Errno <span style=\"color: #008080; text-decoration-color: #008080; font-weight: bold\">1</span><span style=\"font-weight: bold\">]</span> Operation <a href=\"file:///tmp/ipykernel_30654/1215574807.py\" target=\"_blank\"><span style=\"color: #7f7f7f; text-decoration-color: #7f7f7f\">1215574807.py</span></a><span style=\"color: #7f7f7f; text-decoration-color: #7f7f7f\">:</span><a href=\"file:///tmp/ipykernel_30654/1215574807.py#66\" target=\"_blank\"><span style=\"color: #7f7f7f; text-decoration-color: #7f7f7f\">66</span></a>\n",
       "<span style=\"color: #7fbfbf; text-decoration-color: #7fbfbf\">           </span>         not permitted                                                                  <span style=\"color: #7f7f7f; text-decoration-color: #7f7f7f\">                </span>\n",
       "</pre>\n"
      ],
      "text/plain": [
       "\u001b[2;36m          \u001b[0m\u001b[2;36m \u001b[0m\u001b[1;31mERROR   \u001b[0m ⚠️ Failed to process maaltijdmosterdsoep-met-kaastoast.jpg: \u001b[1m[\u001b[0mErrno \u001b[1;36m1\u001b[0m\u001b[1m]\u001b[0m Operation \u001b]8;id=366412;file:///tmp/ipykernel_30654/1215574807.py\u001b\\\u001b[2m1215574807.py\u001b[0m\u001b]8;;\u001b\\\u001b[2m:\u001b[0m\u001b]8;id=899466;file:///tmp/ipykernel_30654/1215574807.py#66\u001b\\\u001b[2m66\u001b[0m\u001b]8;;\u001b\\\n",
       "\u001b[2;36m           \u001b[0m         not permitted                                                                  \u001b[2m                \u001b[0m\n"
      ]
     },
     "metadata": {},
     "output_type": "display_data"
    },
    {
     "data": {
      "text/html": [
       "<pre style=\"white-space:pre;overflow-x:auto;line-height:normal;font-family:Menlo,'DejaVu Sans Mono',consolas,'Courier New',monospace\"><span style=\"color: #7fbfbf; text-decoration-color: #7fbfbf\">           </span><span style=\"color: #800000; text-decoration-color: #800000; font-weight: bold\">ERROR   </span> ⚠️ Failed to process macaroni-met-boemboe-ham-en-kaas.jpg: <span style=\"font-weight: bold\">[</span>Errno <span style=\"color: #008080; text-decoration-color: #008080; font-weight: bold\">1</span><span style=\"font-weight: bold\">]</span> Operation  <a href=\"file:///tmp/ipykernel_30654/1215574807.py\" target=\"_blank\"><span style=\"color: #7f7f7f; text-decoration-color: #7f7f7f\">1215574807.py</span></a><span style=\"color: #7f7f7f; text-decoration-color: #7f7f7f\">:</span><a href=\"file:///tmp/ipykernel_30654/1215574807.py#66\" target=\"_blank\"><span style=\"color: #7f7f7f; text-decoration-color: #7f7f7f\">66</span></a>\n",
       "<span style=\"color: #7fbfbf; text-decoration-color: #7fbfbf\">           </span>         not permitted                                                                  <span style=\"color: #7f7f7f; text-decoration-color: #7f7f7f\">                </span>\n",
       "</pre>\n"
      ],
      "text/plain": [
       "\u001b[2;36m          \u001b[0m\u001b[2;36m \u001b[0m\u001b[1;31mERROR   \u001b[0m ⚠️ Failed to process macaroni-met-boemboe-ham-en-kaas.jpg: \u001b[1m[\u001b[0mErrno \u001b[1;36m1\u001b[0m\u001b[1m]\u001b[0m Operation  \u001b]8;id=501602;file:///tmp/ipykernel_30654/1215574807.py\u001b\\\u001b[2m1215574807.py\u001b[0m\u001b]8;;\u001b\\\u001b[2m:\u001b[0m\u001b]8;id=496849;file:///tmp/ipykernel_30654/1215574807.py#66\u001b\\\u001b[2m66\u001b[0m\u001b]8;;\u001b\\\n",
       "\u001b[2;36m           \u001b[0m         not permitted                                                                  \u001b[2m                \u001b[0m\n"
      ]
     },
     "metadata": {},
     "output_type": "display_data"
    },
    {
     "data": {
      "text/html": [
       "<pre style=\"white-space:pre;overflow-x:auto;line-height:normal;font-family:Menlo,'DejaVu Sans Mono',consolas,'Courier New',monospace\"><span style=\"color: #7fbfbf; text-decoration-color: #7fbfbf\">           </span><span style=\"color: #800000; text-decoration-color: #800000; font-weight: bold\">ERROR   </span> ⚠️ Failed to process maïskipfilet-met-boterbonen-en-tapenade.jpg: <span style=\"font-weight: bold\">[</span>Errno <span style=\"color: #008080; text-decoration-color: #008080; font-weight: bold\">1</span><span style=\"font-weight: bold\">]</span>     <a href=\"file:///tmp/ipykernel_30654/1215574807.py\" target=\"_blank\"><span style=\"color: #7f7f7f; text-decoration-color: #7f7f7f\">1215574807.py</span></a><span style=\"color: #7f7f7f; text-decoration-color: #7f7f7f\">:</span><a href=\"file:///tmp/ipykernel_30654/1215574807.py#66\" target=\"_blank\"><span style=\"color: #7f7f7f; text-decoration-color: #7f7f7f\">66</span></a>\n",
       "<span style=\"color: #7fbfbf; text-decoration-color: #7fbfbf\">           </span>         Operation not permitted                                                        <span style=\"color: #7f7f7f; text-decoration-color: #7f7f7f\">                </span>\n",
       "</pre>\n"
      ],
      "text/plain": [
       "\u001b[2;36m          \u001b[0m\u001b[2;36m \u001b[0m\u001b[1;31mERROR   \u001b[0m ⚠️ Failed to process maïskipfilet-met-boterbonen-en-tapenade.jpg: \u001b[1m[\u001b[0mErrno \u001b[1;36m1\u001b[0m\u001b[1m]\u001b[0m     \u001b]8;id=422632;file:///tmp/ipykernel_30654/1215574807.py\u001b\\\u001b[2m1215574807.py\u001b[0m\u001b]8;;\u001b\\\u001b[2m:\u001b[0m\u001b]8;id=416048;file:///tmp/ipykernel_30654/1215574807.py#66\u001b\\\u001b[2m66\u001b[0m\u001b]8;;\u001b\\\n",
       "\u001b[2;36m           \u001b[0m         Operation not permitted                                                        \u001b[2m                \u001b[0m\n"
      ]
     },
     "metadata": {},
     "output_type": "display_data"
    },
    {
     "data": {
      "text/html": [
       "<pre style=\"white-space:pre;overflow-x:auto;line-height:normal;font-family:Menlo,'DejaVu Sans Mono',consolas,'Courier New',monospace\"><span style=\"color: #7fbfbf; text-decoration-color: #7fbfbf\">           </span><span style=\"color: #800000; text-decoration-color: #800000; font-weight: bold\">ERROR   </span> ⚠️ Failed to process paddestoelenragout-met-schnitzelreepjes.jpg: <span style=\"font-weight: bold\">[</span>Errno <span style=\"color: #008080; text-decoration-color: #008080; font-weight: bold\">1</span><span style=\"font-weight: bold\">]</span>     <a href=\"file:///tmp/ipykernel_30654/1215574807.py\" target=\"_blank\"><span style=\"color: #7f7f7f; text-decoration-color: #7f7f7f\">1215574807.py</span></a><span style=\"color: #7f7f7f; text-decoration-color: #7f7f7f\">:</span><a href=\"file:///tmp/ipykernel_30654/1215574807.py#66\" target=\"_blank\"><span style=\"color: #7f7f7f; text-decoration-color: #7f7f7f\">66</span></a>\n",
       "<span style=\"color: #7fbfbf; text-decoration-color: #7fbfbf\">           </span>         Operation not permitted                                                        <span style=\"color: #7f7f7f; text-decoration-color: #7f7f7f\">                </span>\n",
       "</pre>\n"
      ],
      "text/plain": [
       "\u001b[2;36m          \u001b[0m\u001b[2;36m \u001b[0m\u001b[1;31mERROR   \u001b[0m ⚠️ Failed to process paddestoelenragout-met-schnitzelreepjes.jpg: \u001b[1m[\u001b[0mErrno \u001b[1;36m1\u001b[0m\u001b[1m]\u001b[0m     \u001b]8;id=82591;file:///tmp/ipykernel_30654/1215574807.py\u001b\\\u001b[2m1215574807.py\u001b[0m\u001b]8;;\u001b\\\u001b[2m:\u001b[0m\u001b]8;id=321291;file:///tmp/ipykernel_30654/1215574807.py#66\u001b\\\u001b[2m66\u001b[0m\u001b]8;;\u001b\\\n",
       "\u001b[2;36m           \u001b[0m         Operation not permitted                                                        \u001b[2m                \u001b[0m\n"
      ]
     },
     "metadata": {},
     "output_type": "display_data"
    },
    {
     "data": {
      "text/html": [
       "<pre style=\"white-space:pre;overflow-x:auto;line-height:normal;font-family:Menlo,'DejaVu Sans Mono',consolas,'Courier New',monospace\"><span style=\"color: #7fbfbf; text-decoration-color: #7fbfbf\">           </span><span style=\"color: #800000; text-decoration-color: #800000; font-weight: bold\">ERROR   </span> ⚠️ Failed to process pineapple-slush.jpg: <span style=\"font-weight: bold\">[</span>Errno <span style=\"color: #008080; text-decoration-color: #008080; font-weight: bold\">1</span><span style=\"font-weight: bold\">]</span> Operation not permitted     <a href=\"file:///tmp/ipykernel_30654/1215574807.py\" target=\"_blank\"><span style=\"color: #7f7f7f; text-decoration-color: #7f7f7f\">1215574807.py</span></a><span style=\"color: #7f7f7f; text-decoration-color: #7f7f7f\">:</span><a href=\"file:///tmp/ipykernel_30654/1215574807.py#66\" target=\"_blank\"><span style=\"color: #7f7f7f; text-decoration-color: #7f7f7f\">66</span></a>\n",
       "</pre>\n"
      ],
      "text/plain": [
       "\u001b[2;36m          \u001b[0m\u001b[2;36m \u001b[0m\u001b[1;31mERROR   \u001b[0m ⚠️ Failed to process pineapple-slush.jpg: \u001b[1m[\u001b[0mErrno \u001b[1;36m1\u001b[0m\u001b[1m]\u001b[0m Operation not permitted     \u001b]8;id=416602;file:///tmp/ipykernel_30654/1215574807.py\u001b\\\u001b[2m1215574807.py\u001b[0m\u001b]8;;\u001b\\\u001b[2m:\u001b[0m\u001b]8;id=887551;file:///tmp/ipykernel_30654/1215574807.py#66\u001b\\\u001b[2m66\u001b[0m\u001b]8;;\u001b\\\n"
      ]
     },
     "metadata": {},
     "output_type": "display_data"
    },
    {
     "data": {
      "text/html": [
       "<pre style=\"white-space:pre;overflow-x:auto;line-height:normal;font-family:Menlo,'DejaVu Sans Mono',consolas,'Courier New',monospace\"><span style=\"color: #7fbfbf; text-decoration-color: #7fbfbf\">           </span><span style=\"color: #800000; text-decoration-color: #800000; font-weight: bold\">ERROR   </span> ⚠️ Failed to process pitabroodjes-met-lamsvlees-en-tomatenrelish.jpg: <span style=\"font-weight: bold\">[</span>Errno <span style=\"color: #008080; text-decoration-color: #008080; font-weight: bold\">1</span><span style=\"font-weight: bold\">]</span> <a href=\"file:///tmp/ipykernel_30654/1215574807.py\" target=\"_blank\"><span style=\"color: #7f7f7f; text-decoration-color: #7f7f7f\">1215574807.py</span></a><span style=\"color: #7f7f7f; text-decoration-color: #7f7f7f\">:</span><a href=\"file:///tmp/ipykernel_30654/1215574807.py#66\" target=\"_blank\"><span style=\"color: #7f7f7f; text-decoration-color: #7f7f7f\">66</span></a>\n",
       "<span style=\"color: #7fbfbf; text-decoration-color: #7fbfbf\">           </span>         Operation not permitted                                                        <span style=\"color: #7f7f7f; text-decoration-color: #7f7f7f\">                </span>\n",
       "</pre>\n"
      ],
      "text/plain": [
       "\u001b[2;36m          \u001b[0m\u001b[2;36m \u001b[0m\u001b[1;31mERROR   \u001b[0m ⚠️ Failed to process pitabroodjes-met-lamsvlees-en-tomatenrelish.jpg: \u001b[1m[\u001b[0mErrno \u001b[1;36m1\u001b[0m\u001b[1m]\u001b[0m \u001b]8;id=950660;file:///tmp/ipykernel_30654/1215574807.py\u001b\\\u001b[2m1215574807.py\u001b[0m\u001b]8;;\u001b\\\u001b[2m:\u001b[0m\u001b]8;id=172214;file:///tmp/ipykernel_30654/1215574807.py#66\u001b\\\u001b[2m66\u001b[0m\u001b]8;;\u001b\\\n",
       "\u001b[2;36m           \u001b[0m         Operation not permitted                                                        \u001b[2m                \u001b[0m\n"
      ]
     },
     "metadata": {},
     "output_type": "display_data"
    },
    {
     "data": {
      "text/html": [
       "<pre style=\"white-space:pre;overflow-x:auto;line-height:normal;font-family:Menlo,'DejaVu Sans Mono',consolas,'Courier New',monospace\"><span style=\"color: #7fbfbf; text-decoration-color: #7fbfbf\">           </span><span style=\"color: #800000; text-decoration-color: #800000; font-weight: bold\">ERROR   </span> ⚠️ Failed to process pittige-vispakketjes.jpg: <span style=\"font-weight: bold\">[</span>Errno <span style=\"color: #008080; text-decoration-color: #008080; font-weight: bold\">1</span><span style=\"font-weight: bold\">]</span> Operation not          <a href=\"file:///tmp/ipykernel_30654/1215574807.py\" target=\"_blank\"><span style=\"color: #7f7f7f; text-decoration-color: #7f7f7f\">1215574807.py</span></a><span style=\"color: #7f7f7f; text-decoration-color: #7f7f7f\">:</span><a href=\"file:///tmp/ipykernel_30654/1215574807.py#66\" target=\"_blank\"><span style=\"color: #7f7f7f; text-decoration-color: #7f7f7f\">66</span></a>\n",
       "<span style=\"color: #7fbfbf; text-decoration-color: #7fbfbf\">           </span>         permitted                                                                      <span style=\"color: #7f7f7f; text-decoration-color: #7f7f7f\">                </span>\n",
       "</pre>\n"
      ],
      "text/plain": [
       "\u001b[2;36m          \u001b[0m\u001b[2;36m \u001b[0m\u001b[1;31mERROR   \u001b[0m ⚠️ Failed to process pittige-vispakketjes.jpg: \u001b[1m[\u001b[0mErrno \u001b[1;36m1\u001b[0m\u001b[1m]\u001b[0m Operation not          \u001b]8;id=508553;file:///tmp/ipykernel_30654/1215574807.py\u001b\\\u001b[2m1215574807.py\u001b[0m\u001b]8;;\u001b\\\u001b[2m:\u001b[0m\u001b]8;id=69742;file:///tmp/ipykernel_30654/1215574807.py#66\u001b\\\u001b[2m66\u001b[0m\u001b]8;;\u001b\\\n",
       "\u001b[2;36m           \u001b[0m         permitted                                                                      \u001b[2m                \u001b[0m\n"
      ]
     },
     "metadata": {},
     "output_type": "display_data"
    },
    {
     "data": {
      "text/html": [
       "<pre style=\"white-space:pre;overflow-x:auto;line-height:normal;font-family:Menlo,'DejaVu Sans Mono',consolas,'Courier New',monospace\"><span style=\"color: #7fbfbf; text-decoration-color: #7fbfbf\">           </span><span style=\"color: #800000; text-decoration-color: #800000; font-weight: bold\">ERROR   </span> ⚠️ Failed to process roergebakken-spruitjes.jpg: <span style=\"font-weight: bold\">[</span>Errno <span style=\"color: #008080; text-decoration-color: #008080; font-weight: bold\">1</span><span style=\"font-weight: bold\">]</span> Operation not        <a href=\"file:///tmp/ipykernel_30654/1215574807.py\" target=\"_blank\"><span style=\"color: #7f7f7f; text-decoration-color: #7f7f7f\">1215574807.py</span></a><span style=\"color: #7f7f7f; text-decoration-color: #7f7f7f\">:</span><a href=\"file:///tmp/ipykernel_30654/1215574807.py#66\" target=\"_blank\"><span style=\"color: #7f7f7f; text-decoration-color: #7f7f7f\">66</span></a>\n",
       "<span style=\"color: #7fbfbf; text-decoration-color: #7fbfbf\">           </span>         permitted                                                                      <span style=\"color: #7f7f7f; text-decoration-color: #7f7f7f\">                </span>\n",
       "</pre>\n"
      ],
      "text/plain": [
       "\u001b[2;36m          \u001b[0m\u001b[2;36m \u001b[0m\u001b[1;31mERROR   \u001b[0m ⚠️ Failed to process roergebakken-spruitjes.jpg: \u001b[1m[\u001b[0mErrno \u001b[1;36m1\u001b[0m\u001b[1m]\u001b[0m Operation not        \u001b]8;id=842692;file:///tmp/ipykernel_30654/1215574807.py\u001b\\\u001b[2m1215574807.py\u001b[0m\u001b]8;;\u001b\\\u001b[2m:\u001b[0m\u001b]8;id=672305;file:///tmp/ipykernel_30654/1215574807.py#66\u001b\\\u001b[2m66\u001b[0m\u001b]8;;\u001b\\\n",
       "\u001b[2;36m           \u001b[0m         permitted                                                                      \u001b[2m                \u001b[0m\n"
      ]
     },
     "metadata": {},
     "output_type": "display_data"
    },
    {
     "data": {
      "text/html": [
       "<pre style=\"white-space:pre;overflow-x:auto;line-height:normal;font-family:Menlo,'DejaVu Sans Mono',consolas,'Courier New',monospace\"><span style=\"color: #7fbfbf; text-decoration-color: #7fbfbf\">           </span><span style=\"color: #000080; text-decoration-color: #000080\">INFO    </span> ✅ Wrote captions for <span style=\"color: #008080; text-decoration-color: #008080; font-weight: bold\">0</span> images into work/dataset/new                           <a href=\"file:///tmp/ipykernel_30654/1215574807.py\" target=\"_blank\"><span style=\"color: #7f7f7f; text-decoration-color: #7f7f7f\">1215574807.py</span></a><span style=\"color: #7f7f7f; text-decoration-color: #7f7f7f\">:</span><a href=\"file:///tmp/ipykernel_30654/1215574807.py#68\" target=\"_blank\"><span style=\"color: #7f7f7f; text-decoration-color: #7f7f7f\">68</span></a>\n",
       "</pre>\n"
      ],
      "text/plain": [
       "\u001b[2;36m          \u001b[0m\u001b[2;36m \u001b[0m\u001b[34mINFO    \u001b[0m ✅ Wrote captions for \u001b[1;36m0\u001b[0m images into work/dataset/new                           \u001b]8;id=939735;file:///tmp/ipykernel_30654/1215574807.py\u001b\\\u001b[2m1215574807.py\u001b[0m\u001b]8;;\u001b\\\u001b[2m:\u001b[0m\u001b]8;id=688150;file:///tmp/ipykernel_30654/1215574807.py#68\u001b\\\u001b[2m68\u001b[0m\u001b]8;;\u001b\\\n"
      ]
     },
     "metadata": {},
     "output_type": "display_data"
    },
    {
     "data": {
      "text/html": [
       "<pre style=\"white-space:pre;overflow-x:auto;line-height:normal;font-family:Menlo,'DejaVu Sans Mono',consolas,'Courier New',monospace\"><span style=\"color: #7fbfbf; text-decoration-color: #7fbfbf\">           </span><span style=\"color: #000080; text-decoration-color: #000080\">INFO    </span> 🎉 Done. Total captions created: <span style=\"color: #008080; text-decoration-color: #008080; font-weight: bold\">0</span>                                             <a href=\"file:///tmp/ipykernel_30654/1215574807.py\" target=\"_blank\"><span style=\"color: #7f7f7f; text-decoration-color: #7f7f7f\">1215574807.py</span></a><span style=\"color: #7f7f7f; text-decoration-color: #7f7f7f\">:</span><a href=\"file:///tmp/ipykernel_30654/1215574807.py#73\" target=\"_blank\"><span style=\"color: #7f7f7f; text-decoration-color: #7f7f7f\">73</span></a>\n",
       "</pre>\n"
      ],
      "text/plain": [
       "\u001b[2;36m          \u001b[0m\u001b[2;36m \u001b[0m\u001b[34mINFO    \u001b[0m 🎉 Done. Total captions created: \u001b[1;36m0\u001b[0m                                             \u001b]8;id=865458;file:///tmp/ipykernel_30654/1215574807.py\u001b\\\u001b[2m1215574807.py\u001b[0m\u001b]8;;\u001b\\\u001b[2m:\u001b[0m\u001b]8;id=477787;file:///tmp/ipykernel_30654/1215574807.py#73\u001b\\\u001b[2m73\u001b[0m\u001b]8;;\u001b\\\n"
      ]
     },
     "metadata": {},
     "output_type": "display_data"
    }
   ],
   "source": [
    "def captions_from_labels(jsonl_path: Path, out_dir: Path) -> int:\n",
    "    \"\"\"\n",
    "    Reads a JSONL file with Azure OpenAI labeling results and builds\n",
    "    caption .txt files next to each image for LoRA training.\n",
    "\n",
    "    Captions include the food item first, followed by style attributes.\n",
    "    Uses tqdm for progress and rich logging for clean notebook output.\n",
    "    \"\"\"\n",
    "    out_dir.mkdir(parents=True, exist_ok=True)\n",
    "    dst_img_dir = out_dir / \"new\"\n",
    "    dst_img_dir.mkdir(parents=True, exist_ok=True)\n",
    "\n",
    "    count = 0\n",
    "\n",
    "    # Count lines first for tqdm total\n",
    "    total = sum(1 for _ in open(jsonl_path, \"r\", encoding=\"utf-8\"))\n",
    "\n",
    "    log.info(f\"📑 Building captions from {jsonl_path} ({total} records)...\")\n",
    "\n",
    "    with open(jsonl_path, \"r\", encoding=\"utf-8\") as f:\n",
    "        for line in tqdm(f, total=total, desc=\"Generating captions\", leave=True):\n",
    "            rec = json.loads(line)\n",
    "            fp = Path(rec[\"filename\"])\n",
    "            labels = rec.get(\"labels\", {})\n",
    "\n",
    "            food = labels.get(\"food item\") or labels.get(\"food item (main dish, ingredient, or drink that appears)\")\n",
    "            perspective = labels.get(\"perspective\")\n",
    "            background = labels.get(\"background\")\n",
    "            lighting = labels.get(\"lighting\")\n",
    "            palette = labels.get(\"color palette\")\n",
    "            texture = labels.get(\"texture treatment\")\n",
    "            composition = labels.get(\"composition\")\n",
    "            mood = labels.get(\"mood\")\n",
    "\n",
    "            parts = []\n",
    "            if food:\n",
    "                parts.append(f\"a photo of {food}\")\n",
    "            if composition:\n",
    "                parts.append(f\"composition: {composition}\")\n",
    "            if perspective:\n",
    "                parts.append(f\"perspective: {perspective}\")\n",
    "            if lighting:\n",
    "                parts.append(f\"lighting: {lighting}\")\n",
    "            if palette:\n",
    "                parts.append(f\"color palette: {palette}\")\n",
    "            if texture:\n",
    "                parts.append(f\"texture: {texture}\")\n",
    "            if background:\n",
    "                parts.append(f\"background: {background}\")\n",
    "            if mood:\n",
    "                parts.append(f\"mood: {mood}\")\n",
    "\n",
    "            caption = \", \".join(parts) + \".\"\n",
    "            if not caption.strip() or caption == \".\":\n",
    "                caption = \"A food scene with distinctive style.\"\n",
    "\n",
    "            out_img_path = dst_img_dir / fp.name\n",
    "            out_txt_path = dst_img_dir / (fp.stem + \".txt\")\n",
    "\n",
    "            try:\n",
    "                shutil.copy2(fp, out_img_path)\n",
    "                with open(out_txt_path, \"w\", encoding=\"utf-8\") as out:\n",
    "                    out.write(caption)\n",
    "                count += 1\n",
    "            except Exception as e:\n",
    "                log.error(f\"⚠️ Failed to process {fp.name}: {e}\")\n",
    "\n",
    "    log.info(f\"✅ Wrote captions for {count} images into {dst_img_dir}\")\n",
    "    return count\n",
    "\n",
    "n1 = captions_from_labels(LABELS_DIR / \"new_labels.jsonl\", DATASET_DIR)\n",
    "n2 = captions_from_labels(LABELS_DIR / \"old_labels.jsonl\", DATASET_DIR)\n",
    "log.info(f\"🎉 Done. Total captions created: {n1 + n2}\")"
   ]
  },
  {
   "cell_type": "markdown",
   "id": "26e43419",
   "metadata": {},
   "source": [
    "# Model training"
   ]
  },
  {
   "cell_type": "code",
   "execution_count": 7,
   "id": "9a68a579",
   "metadata": {},
   "outputs": [
    {
     "name": "stdout",
     "output_type": "stream",
     "text": [
      "Current PyTorch version: 2.1.0a0+b5021ba\n",
      "PyTorch tensor test: tensor([1., 2.])\n",
      "CUDA available: True\n",
      "CUDA device count: 1\n",
      "Current CUDA device: 0\n",
      "Detected development PyTorch version: 2.1.0a0+b5021ba\n",
      "Patching version string for compatibility...\n",
      "Patched PyTorch version to: 2.1.0\n"
     ]
    }
   ],
   "source": [
    "# Check PyTorch version and fix if needed\n",
    "import torch\n",
    "print(f\"Current PyTorch version: {torch.__version__}\")\n",
    "\n",
    "# Check if we have a proper PyTorch installation\n",
    "try:\n",
    "    # Test basic PyTorch functionality\n",
    "    x = torch.tensor([1.0, 2.0])\n",
    "    print(f\"PyTorch tensor test: {x}\")\n",
    "    print(f\"CUDA available: {torch.cuda.is_available()}\")\n",
    "    if torch.cuda.is_available():\n",
    "        print(f\"CUDA device count: {torch.cuda.device_count()}\")\n",
    "        print(f\"Current CUDA device: {torch.cuda.current_device()}\")\n",
    "except Exception as e:\n",
    "    print(f\"PyTorch test failed: {e}\")\n",
    "\n",
    "# The issue might be that the development version isn't recognized by transformers\n",
    "# Let's patch the version check by setting a compatible version string\n",
    "import sys\n",
    "if hasattr(torch, '__version__'):\n",
    "    original_version = torch.__version__\n",
    "    if 'a0' in torch.__version__:\n",
    "        print(f\"Detected development PyTorch version: {original_version}\")\n",
    "        print(\"Patching version string for compatibility...\")\n",
    "        # Set a stable version string that transformers will accept\n",
    "        torch.__version__ = \"2.1.0\"\n",
    "        print(f\"Patched PyTorch version to: {torch.__version__}\")"
   ]
  },
  {
   "cell_type": "code",
   "execution_count": 8,
   "id": "25f165aa",
   "metadata": {},
   "outputs": [
    {
     "name": "stderr",
     "output_type": "stream",
     "text": [
      "/usr/local/lib/python3.10/dist-packages/torchvision/datapoints/__init__.py:12: UserWarning: The torchvision.datapoints and torchvision.transforms.v2 namespaces are still Beta. While we do not expect major breaking changes, some APIs may still change according to user feedback. Please submit any feedback you may have in this issue: https://github.com/pytorch/vision/issues/6753, and you can also check out https://github.com/pytorch/vision/issues/7319 to learn more about the APIs that we suspect might involve future changes. You can silence this warning by calling torchvision.disable_beta_transforms_warning().\n",
      "  warnings.warn(_BETA_TRANSFORMS_WARNING)\n",
      "/usr/local/lib/python3.10/dist-packages/torchvision/transforms/v2/__init__.py:54: UserWarning: The torchvision.datapoints and torchvision.transforms.v2 namespaces are still Beta. While we do not expect major breaking changes, some APIs may still change according to user feedback. Please submit any feedback you may have in this issue: https://github.com/pytorch/vision/issues/6753, and you can also check out https://github.com/pytorch/vision/issues/7319 to learn more about the APIs that we suspect might involve future changes. You can silence this warning by calling torchvision.disable_beta_transforms_warning().\n",
      "  warnings.warn(_BETA_TRANSFORMS_WARNING)\n"
     ]
    },
    {
     "data": {
      "text/html": [
       "<pre style=\"white-space:pre;overflow-x:auto;line-height:normal;font-family:Menlo,'DejaVu Sans Mono',consolas,'Courier New',monospace\"><span style=\"color: #7fbfbf; text-decoration-color: #7fbfbf\">[11:03:44] </span><span style=\"color: #000080; text-decoration-color: #000080\">INFO    </span> Loading models<span style=\"color: #808000; text-decoration-color: #808000\">...</span>                                                              <a href=\"file:///tmp/ipykernel_30654/2619882089.py\" target=\"_blank\"><span style=\"color: #7f7f7f; text-decoration-color: #7f7f7f\">2619882089.py</span></a><span style=\"color: #7f7f7f; text-decoration-color: #7f7f7f\">:</span><a href=\"file:///tmp/ipykernel_30654/2619882089.py#20\" target=\"_blank\"><span style=\"color: #7f7f7f; text-decoration-color: #7f7f7f\">20</span></a>\n",
       "</pre>\n"
      ],
      "text/plain": [
       "\u001b[2;36m[11:03:44]\u001b[0m\u001b[2;36m \u001b[0m\u001b[34mINFO    \u001b[0m Loading models\u001b[33m...\u001b[0m                                                              \u001b]8;id=234053;file:///tmp/ipykernel_30654/2619882089.py\u001b\\\u001b[2m2619882089.py\u001b[0m\u001b]8;;\u001b\\\u001b[2m:\u001b[0m\u001b]8;id=146316;file:///tmp/ipykernel_30654/2619882089.py#20\u001b\\\u001b[2m20\u001b[0m\u001b]8;;\u001b\\\n"
      ]
     },
     "metadata": {},
     "output_type": "display_data"
    },
    {
     "data": {
      "text/html": [
       "<pre style=\"white-space:pre;overflow-x:auto;line-height:normal;font-family:Menlo,'DejaVu Sans Mono',consolas,'Courier New',monospace\"><span style=\"color: #7fbfbf; text-decoration-color: #7fbfbf\">[11:03:46] </span><span style=\"color: #000080; text-decoration-color: #000080\">INFO    </span> LoRA applied to UNet                                                           <a href=\"file:///tmp/ipykernel_30654/2619882089.py\" target=\"_blank\"><span style=\"color: #7f7f7f; text-decoration-color: #7f7f7f\">2619882089.py</span></a><span style=\"color: #7f7f7f; text-decoration-color: #7f7f7f\">:</span><a href=\"file:///tmp/ipykernel_30654/2619882089.py#38\" target=\"_blank\"><span style=\"color: #7f7f7f; text-decoration-color: #7f7f7f\">38</span></a>\n",
       "</pre>\n"
      ],
      "text/plain": [
       "\u001b[2;36m[11:03:46]\u001b[0m\u001b[2;36m \u001b[0m\u001b[34mINFO    \u001b[0m LoRA applied to UNet                                                           \u001b]8;id=571858;file:///tmp/ipykernel_30654/2619882089.py\u001b\\\u001b[2m2619882089.py\u001b[0m\u001b]8;;\u001b\\\u001b[2m:\u001b[0m\u001b]8;id=91161;file:///tmp/ipykernel_30654/2619882089.py#38\u001b\\\u001b[2m38\u001b[0m\u001b]8;;\u001b\\\n"
      ]
     },
     "metadata": {},
     "output_type": "display_data"
    },
    {
     "data": {
      "text/html": [
       "<pre style=\"white-space:pre;overflow-x:auto;line-height:normal;font-family:Menlo,'DejaVu Sans Mono',consolas,'Courier New',monospace\"><span style=\"color: #7fbfbf; text-decoration-color: #7fbfbf\">           </span><span style=\"color: #000080; text-decoration-color: #000080\">INFO    </span> Dataset created with <span style=\"color: #008080; text-decoration-color: #008080; font-weight: bold\">47</span> images                                                 <a href=\"file:///tmp/ipykernel_30654/2619882089.py\" target=\"_blank\"><span style=\"color: #7f7f7f; text-decoration-color: #7f7f7f\">2619882089.py</span></a><span style=\"color: #7f7f7f; text-decoration-color: #7f7f7f\">:</span><a href=\"file:///tmp/ipykernel_30654/2619882089.py#45\" target=\"_blank\"><span style=\"color: #7f7f7f; text-decoration-color: #7f7f7f\">45</span></a>\n",
       "</pre>\n"
      ],
      "text/plain": [
       "\u001b[2;36m          \u001b[0m\u001b[2;36m \u001b[0m\u001b[34mINFO    \u001b[0m Dataset created with \u001b[1;36m47\u001b[0m images                                                 \u001b]8;id=229258;file:///tmp/ipykernel_30654/2619882089.py\u001b\\\u001b[2m2619882089.py\u001b[0m\u001b]8;;\u001b\\\u001b[2m:\u001b[0m\u001b]8;id=243962;file:///tmp/ipykernel_30654/2619882089.py#45\u001b\\\u001b[2m45\u001b[0m\u001b]8;;\u001b\\\n"
      ]
     },
     "metadata": {},
     "output_type": "display_data"
    },
    {
     "data": {
      "text/html": [
       "<pre style=\"white-space:pre;overflow-x:auto;line-height:normal;font-family:Menlo,'DejaVu Sans Mono',consolas,'Courier New',monospace\"><span style=\"color: #7fbfbf; text-decoration-color: #7fbfbf\">[11:03:47] </span><span style=\"color: #000080; text-decoration-color: #000080\">INFO    </span> Using device: cuda                                                             <a href=\"file:///tmp/ipykernel_30654/2619882089.py\" target=\"_blank\"><span style=\"color: #7f7f7f; text-decoration-color: #7f7f7f\">2619882089.py</span></a><span style=\"color: #7f7f7f; text-decoration-color: #7f7f7f\">:</span><a href=\"file:///tmp/ipykernel_30654/2619882089.py#68\" target=\"_blank\"><span style=\"color: #7f7f7f; text-decoration-color: #7f7f7f\">68</span></a>\n",
       "</pre>\n"
      ],
      "text/plain": [
       "\u001b[2;36m[11:03:47]\u001b[0m\u001b[2;36m \u001b[0m\u001b[34mINFO    \u001b[0m Using device: cuda                                                             \u001b]8;id=750800;file:///tmp/ipykernel_30654/2619882089.py\u001b\\\u001b[2m2619882089.py\u001b[0m\u001b]8;;\u001b\\\u001b[2m:\u001b[0m\u001b]8;id=681453;file:///tmp/ipykernel_30654/2619882089.py#68\u001b\\\u001b[2m68\u001b[0m\u001b]8;;\u001b\\\n"
      ]
     },
     "metadata": {},
     "output_type": "display_data"
    },
    {
     "data": {
      "text/html": [
       "<pre style=\"white-space:pre;overflow-x:auto;line-height:normal;font-family:Menlo,'DejaVu Sans Mono',consolas,'Courier New',monospace\"><span style=\"color: #7fbfbf; text-decoration-color: #7fbfbf\">[11:03:48] </span><span style=\"color: #000080; text-decoration-color: #000080\">INFO    </span> Using standard AdamW optimizer                                                 <a href=\"file:///tmp/ipykernel_30654/2619882089.py\" target=\"_blank\"><span style=\"color: #7f7f7f; text-decoration-color: #7f7f7f\">2619882089.py</span></a><span style=\"color: #7f7f7f; text-decoration-color: #7f7f7f\">:</span><a href=\"file:///tmp/ipykernel_30654/2619882089.py#82\" target=\"_blank\"><span style=\"color: #7f7f7f; text-decoration-color: #7f7f7f\">82</span></a>\n",
       "</pre>\n"
      ],
      "text/plain": [
       "\u001b[2;36m[11:03:48]\u001b[0m\u001b[2;36m \u001b[0m\u001b[34mINFO    \u001b[0m Using standard AdamW optimizer                                                 \u001b]8;id=617889;file:///tmp/ipykernel_30654/2619882089.py\u001b\\\u001b[2m2619882089.py\u001b[0m\u001b]8;;\u001b\\\u001b[2m:\u001b[0m\u001b]8;id=291704;file:///tmp/ipykernel_30654/2619882089.py#82\u001b\\\u001b[2m82\u001b[0m\u001b]8;;\u001b\\\n"
      ]
     },
     "metadata": {},
     "output_type": "display_data"
    },
    {
     "data": {
      "text/html": [
       "<pre style=\"white-space:pre;overflow-x:auto;line-height:normal;font-family:Menlo,'DejaVu Sans Mono',consolas,'Courier New',monospace\"><span style=\"color: #7fbfbf; text-decoration-color: #7fbfbf\">           </span><span style=\"color: #000080; text-decoration-color: #000080\">INFO    </span> Starting training<span style=\"color: #808000; text-decoration-color: #808000\">...</span>                                                           <a href=\"file:///tmp/ipykernel_30654/2619882089.py\" target=\"_blank\"><span style=\"color: #7f7f7f; text-decoration-color: #7f7f7f\">2619882089.py</span></a><span style=\"color: #7f7f7f; text-decoration-color: #7f7f7f\">:</span><a href=\"file:///tmp/ipykernel_30654/2619882089.py#88\" target=\"_blank\"><span style=\"color: #7f7f7f; text-decoration-color: #7f7f7f\">88</span></a>\n",
       "</pre>\n"
      ],
      "text/plain": [
       "\u001b[2;36m          \u001b[0m\u001b[2;36m \u001b[0m\u001b[34mINFO    \u001b[0m Starting training\u001b[33m...\u001b[0m                                                           \u001b]8;id=167414;file:///tmp/ipykernel_30654/2619882089.py\u001b\\\u001b[2m2619882089.py\u001b[0m\u001b]8;;\u001b\\\u001b[2m:\u001b[0m\u001b]8;id=732052;file:///tmp/ipykernel_30654/2619882089.py#88\u001b\\\u001b[2m88\u001b[0m\u001b]8;;\u001b\\\n"
      ]
     },
     "metadata": {},
     "output_type": "display_data"
    },
    {
     "data": {
      "text/html": [
       "<pre style=\"white-space:pre;overflow-x:auto;line-height:normal;font-family:Menlo,'DejaVu Sans Mono',consolas,'Courier New',monospace\"><span style=\"color: #7fbfbf; text-decoration-color: #7fbfbf\">[11:03:50] </span><span style=\"color: #000080; text-decoration-color: #000080\">INFO    </span> step <span style=\"color: #008080; text-decoration-color: #008080; font-weight: bold\">0</span> | loss <span style=\"color: #008080; text-decoration-color: #008080; font-weight: bold\">0.6095</span>                                                          <a href=\"file:///tmp/ipykernel_30654/2619882089.py\" target=\"_blank\"><span style=\"color: #7f7f7f; text-decoration-color: #7f7f7f\">2619882089.py</span></a><span style=\"color: #7f7f7f; text-decoration-color: #7f7f7f\">:</span><a href=\"file:///tmp/ipykernel_30654/2619882089.py#106\" target=\"_blank\"><span style=\"color: #7f7f7f; text-decoration-color: #7f7f7f\">106</span></a>\n",
       "</pre>\n"
      ],
      "text/plain": [
       "\u001b[2;36m[11:03:50]\u001b[0m\u001b[2;36m \u001b[0m\u001b[34mINFO    \u001b[0m step \u001b[1;36m0\u001b[0m | loss \u001b[1;36m0.6095\u001b[0m                                                          \u001b]8;id=800581;file:///tmp/ipykernel_30654/2619882089.py\u001b\\\u001b[2m2619882089.py\u001b[0m\u001b]8;;\u001b\\\u001b[2m:\u001b[0m\u001b]8;id=352944;file:///tmp/ipykernel_30654/2619882089.py#106\u001b\\\u001b[2m106\u001b[0m\u001b]8;;\u001b\\\n"
      ]
     },
     "metadata": {},
     "output_type": "display_data"
    },
    {
     "data": {
      "text/html": [
       "<pre style=\"white-space:pre;overflow-x:auto;line-height:normal;font-family:Menlo,'DejaVu Sans Mono',consolas,'Courier New',monospace\"><span style=\"color: #7fbfbf; text-decoration-color: #7fbfbf\">[11:04:06] </span><span style=\"color: #000080; text-decoration-color: #000080\">INFO    </span> step <span style=\"color: #008080; text-decoration-color: #008080; font-weight: bold\">50</span> | loss <span style=\"color: #008080; text-decoration-color: #008080; font-weight: bold\">0.0356</span>                                                         <a href=\"file:///tmp/ipykernel_30654/2619882089.py\" target=\"_blank\"><span style=\"color: #7f7f7f; text-decoration-color: #7f7f7f\">2619882089.py</span></a><span style=\"color: #7f7f7f; text-decoration-color: #7f7f7f\">:</span><a href=\"file:///tmp/ipykernel_30654/2619882089.py#106\" target=\"_blank\"><span style=\"color: #7f7f7f; text-decoration-color: #7f7f7f\">106</span></a>\n",
       "</pre>\n"
      ],
      "text/plain": [
       "\u001b[2;36m[11:04:06]\u001b[0m\u001b[2;36m \u001b[0m\u001b[34mINFO    \u001b[0m step \u001b[1;36m50\u001b[0m | loss \u001b[1;36m0.0356\u001b[0m                                                         \u001b]8;id=376417;file:///tmp/ipykernel_30654/2619882089.py\u001b\\\u001b[2m2619882089.py\u001b[0m\u001b]8;;\u001b\\\u001b[2m:\u001b[0m\u001b]8;id=888662;file:///tmp/ipykernel_30654/2619882089.py#106\u001b\\\u001b[2m106\u001b[0m\u001b]8;;\u001b\\\n"
      ]
     },
     "metadata": {},
     "output_type": "display_data"
    },
    {
     "data": {
      "text/html": [
       "<pre style=\"white-space:pre;overflow-x:auto;line-height:normal;font-family:Menlo,'DejaVu Sans Mono',consolas,'Courier New',monospace\"><span style=\"color: #7fbfbf; text-decoration-color: #7fbfbf\">[11:04:25] </span><span style=\"color: #000080; text-decoration-color: #000080\">INFO    </span> step <span style=\"color: #008080; text-decoration-color: #008080; font-weight: bold\">100</span> | loss <span style=\"color: #008080; text-decoration-color: #008080; font-weight: bold\">0.1196</span>                                                        <a href=\"file:///tmp/ipykernel_30654/2619882089.py\" target=\"_blank\"><span style=\"color: #7f7f7f; text-decoration-color: #7f7f7f\">2619882089.py</span></a><span style=\"color: #7f7f7f; text-decoration-color: #7f7f7f\">:</span><a href=\"file:///tmp/ipykernel_30654/2619882089.py#106\" target=\"_blank\"><span style=\"color: #7f7f7f; text-decoration-color: #7f7f7f\">106</span></a>\n",
       "</pre>\n"
      ],
      "text/plain": [
       "\u001b[2;36m[11:04:25]\u001b[0m\u001b[2;36m \u001b[0m\u001b[34mINFO    \u001b[0m step \u001b[1;36m100\u001b[0m | loss \u001b[1;36m0.1196\u001b[0m                                                        \u001b]8;id=45561;file:///tmp/ipykernel_30654/2619882089.py\u001b\\\u001b[2m2619882089.py\u001b[0m\u001b]8;;\u001b\\\u001b[2m:\u001b[0m\u001b]8;id=765179;file:///tmp/ipykernel_30654/2619882089.py#106\u001b\\\u001b[2m106\u001b[0m\u001b]8;;\u001b\\\n"
      ]
     },
     "metadata": {},
     "output_type": "display_data"
    },
    {
     "data": {
      "text/html": [
       "<pre style=\"white-space:pre;overflow-x:auto;line-height:normal;font-family:Menlo,'DejaVu Sans Mono',consolas,'Courier New',monospace\"><span style=\"color: #7fbfbf; text-decoration-color: #7fbfbf\">[11:04:41] </span><span style=\"color: #000080; text-decoration-color: #000080\">INFO    </span> step <span style=\"color: #008080; text-decoration-color: #008080; font-weight: bold\">150</span> | loss <span style=\"color: #008080; text-decoration-color: #008080; font-weight: bold\">0.3995</span>                                                        <a href=\"file:///tmp/ipykernel_30654/2619882089.py\" target=\"_blank\"><span style=\"color: #7f7f7f; text-decoration-color: #7f7f7f\">2619882089.py</span></a><span style=\"color: #7f7f7f; text-decoration-color: #7f7f7f\">:</span><a href=\"file:///tmp/ipykernel_30654/2619882089.py#106\" target=\"_blank\"><span style=\"color: #7f7f7f; text-decoration-color: #7f7f7f\">106</span></a>\n",
       "</pre>\n"
      ],
      "text/plain": [
       "\u001b[2;36m[11:04:41]\u001b[0m\u001b[2;36m \u001b[0m\u001b[34mINFO    \u001b[0m step \u001b[1;36m150\u001b[0m | loss \u001b[1;36m0.3995\u001b[0m                                                        \u001b]8;id=396922;file:///tmp/ipykernel_30654/2619882089.py\u001b\\\u001b[2m2619882089.py\u001b[0m\u001b]8;;\u001b\\\u001b[2m:\u001b[0m\u001b]8;id=82627;file:///tmp/ipykernel_30654/2619882089.py#106\u001b\\\u001b[2m106\u001b[0m\u001b]8;;\u001b\\\n"
      ]
     },
     "metadata": {},
     "output_type": "display_data"
    },
    {
     "data": {
      "text/html": [
       "<pre style=\"white-space:pre;overflow-x:auto;line-height:normal;font-family:Menlo,'DejaVu Sans Mono',consolas,'Courier New',monospace\"><span style=\"color: #7fbfbf; text-decoration-color: #7fbfbf\">[11:04:57] </span><span style=\"color: #000080; text-decoration-color: #000080\">INFO    </span> step <span style=\"color: #008080; text-decoration-color: #008080; font-weight: bold\">200</span> | loss <span style=\"color: #008080; text-decoration-color: #008080; font-weight: bold\">0.0871</span>                                                        <a href=\"file:///tmp/ipykernel_30654/2619882089.py\" target=\"_blank\"><span style=\"color: #7f7f7f; text-decoration-color: #7f7f7f\">2619882089.py</span></a><span style=\"color: #7f7f7f; text-decoration-color: #7f7f7f\">:</span><a href=\"file:///tmp/ipykernel_30654/2619882089.py#106\" target=\"_blank\"><span style=\"color: #7f7f7f; text-decoration-color: #7f7f7f\">106</span></a>\n",
       "</pre>\n"
      ],
      "text/plain": [
       "\u001b[2;36m[11:04:57]\u001b[0m\u001b[2;36m \u001b[0m\u001b[34mINFO    \u001b[0m step \u001b[1;36m200\u001b[0m | loss \u001b[1;36m0.0871\u001b[0m                                                        \u001b]8;id=648564;file:///tmp/ipykernel_30654/2619882089.py\u001b\\\u001b[2m2619882089.py\u001b[0m\u001b]8;;\u001b\\\u001b[2m:\u001b[0m\u001b]8;id=928463;file:///tmp/ipykernel_30654/2619882089.py#106\u001b\\\u001b[2m106\u001b[0m\u001b]8;;\u001b\\\n"
      ]
     },
     "metadata": {},
     "output_type": "display_data"
    },
    {
     "data": {
      "text/html": [
       "<pre style=\"white-space:pre;overflow-x:auto;line-height:normal;font-family:Menlo,'DejaVu Sans Mono',consolas,'Courier New',monospace\"><span style=\"color: #7fbfbf; text-decoration-color: #7fbfbf\">[11:05:15] </span><span style=\"color: #000080; text-decoration-color: #000080\">INFO    </span> step <span style=\"color: #008080; text-decoration-color: #008080; font-weight: bold\">250</span> | loss <span style=\"color: #008080; text-decoration-color: #008080; font-weight: bold\">0.1398</span>                                                        <a href=\"file:///tmp/ipykernel_30654/2619882089.py\" target=\"_blank\"><span style=\"color: #7f7f7f; text-decoration-color: #7f7f7f\">2619882089.py</span></a><span style=\"color: #7f7f7f; text-decoration-color: #7f7f7f\">:</span><a href=\"file:///tmp/ipykernel_30654/2619882089.py#106\" target=\"_blank\"><span style=\"color: #7f7f7f; text-decoration-color: #7f7f7f\">106</span></a>\n",
       "</pre>\n"
      ],
      "text/plain": [
       "\u001b[2;36m[11:05:15]\u001b[0m\u001b[2;36m \u001b[0m\u001b[34mINFO    \u001b[0m step \u001b[1;36m250\u001b[0m | loss \u001b[1;36m0.1398\u001b[0m                                                        \u001b]8;id=738797;file:///tmp/ipykernel_30654/2619882089.py\u001b\\\u001b[2m2619882089.py\u001b[0m\u001b]8;;\u001b\\\u001b[2m:\u001b[0m\u001b]8;id=72933;file:///tmp/ipykernel_30654/2619882089.py#106\u001b\\\u001b[2m106\u001b[0m\u001b]8;;\u001b\\\n"
      ]
     },
     "metadata": {},
     "output_type": "display_data"
    },
    {
     "data": {
      "text/html": [
       "<pre style=\"white-space:pre;overflow-x:auto;line-height:normal;font-family:Menlo,'DejaVu Sans Mono',consolas,'Courier New',monospace\"><span style=\"color: #7fbfbf; text-decoration-color: #7fbfbf\">[11:05:31] </span><span style=\"color: #000080; text-decoration-color: #000080\">INFO    </span> step <span style=\"color: #008080; text-decoration-color: #008080; font-weight: bold\">300</span> | loss <span style=\"color: #008080; text-decoration-color: #008080; font-weight: bold\">0.1517</span>                                                        <a href=\"file:///tmp/ipykernel_30654/2619882089.py\" target=\"_blank\"><span style=\"color: #7f7f7f; text-decoration-color: #7f7f7f\">2619882089.py</span></a><span style=\"color: #7f7f7f; text-decoration-color: #7f7f7f\">:</span><a href=\"file:///tmp/ipykernel_30654/2619882089.py#106\" target=\"_blank\"><span style=\"color: #7f7f7f; text-decoration-color: #7f7f7f\">106</span></a>\n",
       "</pre>\n"
      ],
      "text/plain": [
       "\u001b[2;36m[11:05:31]\u001b[0m\u001b[2;36m \u001b[0m\u001b[34mINFO    \u001b[0m step \u001b[1;36m300\u001b[0m | loss \u001b[1;36m0.1517\u001b[0m                                                        \u001b]8;id=303445;file:///tmp/ipykernel_30654/2619882089.py\u001b\\\u001b[2m2619882089.py\u001b[0m\u001b]8;;\u001b\\\u001b[2m:\u001b[0m\u001b]8;id=83667;file:///tmp/ipykernel_30654/2619882089.py#106\u001b\\\u001b[2m106\u001b[0m\u001b]8;;\u001b\\\n"
      ]
     },
     "metadata": {},
     "output_type": "display_data"
    },
    {
     "data": {
      "text/html": [
       "<pre style=\"white-space:pre;overflow-x:auto;line-height:normal;font-family:Menlo,'DejaVu Sans Mono',consolas,'Courier New',monospace\"><span style=\"color: #7fbfbf; text-decoration-color: #7fbfbf\">[11:05:50] </span><span style=\"color: #000080; text-decoration-color: #000080\">INFO    </span> step <span style=\"color: #008080; text-decoration-color: #008080; font-weight: bold\">350</span> | loss <span style=\"color: #008080; text-decoration-color: #008080; font-weight: bold\">0.0840</span>                                                        <a href=\"file:///tmp/ipykernel_30654/2619882089.py\" target=\"_blank\"><span style=\"color: #7f7f7f; text-decoration-color: #7f7f7f\">2619882089.py</span></a><span style=\"color: #7f7f7f; text-decoration-color: #7f7f7f\">:</span><a href=\"file:///tmp/ipykernel_30654/2619882089.py#106\" target=\"_blank\"><span style=\"color: #7f7f7f; text-decoration-color: #7f7f7f\">106</span></a>\n",
       "</pre>\n"
      ],
      "text/plain": [
       "\u001b[2;36m[11:05:50]\u001b[0m\u001b[2;36m \u001b[0m\u001b[34mINFO    \u001b[0m step \u001b[1;36m350\u001b[0m | loss \u001b[1;36m0.0840\u001b[0m                                                        \u001b]8;id=398591;file:///tmp/ipykernel_30654/2619882089.py\u001b\\\u001b[2m2619882089.py\u001b[0m\u001b]8;;\u001b\\\u001b[2m:\u001b[0m\u001b]8;id=291476;file:///tmp/ipykernel_30654/2619882089.py#106\u001b\\\u001b[2m106\u001b[0m\u001b]8;;\u001b\\\n"
      ]
     },
     "metadata": {},
     "output_type": "display_data"
    },
    {
     "data": {
      "text/html": [
       "<pre style=\"white-space:pre;overflow-x:auto;line-height:normal;font-family:Menlo,'DejaVu Sans Mono',consolas,'Courier New',monospace\"><span style=\"color: #7fbfbf; text-decoration-color: #7fbfbf\">[11:06:06] </span><span style=\"color: #000080; text-decoration-color: #000080\">INFO    </span> step <span style=\"color: #008080; text-decoration-color: #008080; font-weight: bold\">400</span> | loss <span style=\"color: #008080; text-decoration-color: #008080; font-weight: bold\">0.1917</span>                                                        <a href=\"file:///tmp/ipykernel_30654/2619882089.py\" target=\"_blank\"><span style=\"color: #7f7f7f; text-decoration-color: #7f7f7f\">2619882089.py</span></a><span style=\"color: #7f7f7f; text-decoration-color: #7f7f7f\">:</span><a href=\"file:///tmp/ipykernel_30654/2619882089.py#106\" target=\"_blank\"><span style=\"color: #7f7f7f; text-decoration-color: #7f7f7f\">106</span></a>\n",
       "</pre>\n"
      ],
      "text/plain": [
       "\u001b[2;36m[11:06:06]\u001b[0m\u001b[2;36m \u001b[0m\u001b[34mINFO    \u001b[0m step \u001b[1;36m400\u001b[0m | loss \u001b[1;36m0.1917\u001b[0m                                                        \u001b]8;id=170555;file:///tmp/ipykernel_30654/2619882089.py\u001b\\\u001b[2m2619882089.py\u001b[0m\u001b]8;;\u001b\\\u001b[2m:\u001b[0m\u001b]8;id=388162;file:///tmp/ipykernel_30654/2619882089.py#106\u001b\\\u001b[2m106\u001b[0m\u001b]8;;\u001b\\\n"
      ]
     },
     "metadata": {},
     "output_type": "display_data"
    },
    {
     "data": {
      "text/html": [
       "<pre style=\"white-space:pre;overflow-x:auto;line-height:normal;font-family:Menlo,'DejaVu Sans Mono',consolas,'Courier New',monospace\"><span style=\"color: #7fbfbf; text-decoration-color: #7fbfbf\">[11:06:22] </span><span style=\"color: #000080; text-decoration-color: #000080\">INFO    </span> step <span style=\"color: #008080; text-decoration-color: #008080; font-weight: bold\">450</span> | loss <span style=\"color: #008080; text-decoration-color: #008080; font-weight: bold\">0.0494</span>                                                        <a href=\"file:///tmp/ipykernel_30654/2619882089.py\" target=\"_blank\"><span style=\"color: #7f7f7f; text-decoration-color: #7f7f7f\">2619882089.py</span></a><span style=\"color: #7f7f7f; text-decoration-color: #7f7f7f\">:</span><a href=\"file:///tmp/ipykernel_30654/2619882089.py#106\" target=\"_blank\"><span style=\"color: #7f7f7f; text-decoration-color: #7f7f7f\">106</span></a>\n",
       "</pre>\n"
      ],
      "text/plain": [
       "\u001b[2;36m[11:06:22]\u001b[0m\u001b[2;36m \u001b[0m\u001b[34mINFO    \u001b[0m step \u001b[1;36m450\u001b[0m | loss \u001b[1;36m0.0494\u001b[0m                                                        \u001b]8;id=735911;file:///tmp/ipykernel_30654/2619882089.py\u001b\\\u001b[2m2619882089.py\u001b[0m\u001b]8;;\u001b\\\u001b[2m:\u001b[0m\u001b]8;id=982153;file:///tmp/ipykernel_30654/2619882089.py#106\u001b\\\u001b[2m106\u001b[0m\u001b]8;;\u001b\\\n"
      ]
     },
     "metadata": {},
     "output_type": "display_data"
    },
    {
     "data": {
      "text/html": [
       "<pre style=\"white-space:pre;overflow-x:auto;line-height:normal;font-family:Menlo,'DejaVu Sans Mono',consolas,'Courier New',monospace\"><span style=\"color: #7fbfbf; text-decoration-color: #7fbfbf\">[11:06:40] </span><span style=\"color: #000080; text-decoration-color: #000080\">INFO    </span> step <span style=\"color: #008080; text-decoration-color: #008080; font-weight: bold\">500</span> | loss <span style=\"color: #008080; text-decoration-color: #008080; font-weight: bold\">0.1142</span>                                                        <a href=\"file:///tmp/ipykernel_30654/2619882089.py\" target=\"_blank\"><span style=\"color: #7f7f7f; text-decoration-color: #7f7f7f\">2619882089.py</span></a><span style=\"color: #7f7f7f; text-decoration-color: #7f7f7f\">:</span><a href=\"file:///tmp/ipykernel_30654/2619882089.py#106\" target=\"_blank\"><span style=\"color: #7f7f7f; text-decoration-color: #7f7f7f\">106</span></a>\n",
       "</pre>\n"
      ],
      "text/plain": [
       "\u001b[2;36m[11:06:40]\u001b[0m\u001b[2;36m \u001b[0m\u001b[34mINFO    \u001b[0m step \u001b[1;36m500\u001b[0m | loss \u001b[1;36m0.1142\u001b[0m                                                        \u001b]8;id=665822;file:///tmp/ipykernel_30654/2619882089.py\u001b\\\u001b[2m2619882089.py\u001b[0m\u001b]8;;\u001b\\\u001b[2m:\u001b[0m\u001b]8;id=179451;file:///tmp/ipykernel_30654/2619882089.py#106\u001b\\\u001b[2m106\u001b[0m\u001b]8;;\u001b\\\n"
      ]
     },
     "metadata": {},
     "output_type": "display_data"
    },
    {
     "data": {
      "text/html": [
       "<pre style=\"white-space:pre;overflow-x:auto;line-height:normal;font-family:Menlo,'DejaVu Sans Mono',consolas,'Courier New',monospace\"><span style=\"color: #7fbfbf; text-decoration-color: #7fbfbf\">[11:06:57] </span><span style=\"color: #000080; text-decoration-color: #000080\">INFO    </span> step <span style=\"color: #008080; text-decoration-color: #008080; font-weight: bold\">550</span> | loss <span style=\"color: #008080; text-decoration-color: #008080; font-weight: bold\">0.0051</span>                                                        <a href=\"file:///tmp/ipykernel_30654/2619882089.py\" target=\"_blank\"><span style=\"color: #7f7f7f; text-decoration-color: #7f7f7f\">2619882089.py</span></a><span style=\"color: #7f7f7f; text-decoration-color: #7f7f7f\">:</span><a href=\"file:///tmp/ipykernel_30654/2619882089.py#106\" target=\"_blank\"><span style=\"color: #7f7f7f; text-decoration-color: #7f7f7f\">106</span></a>\n",
       "</pre>\n"
      ],
      "text/plain": [
       "\u001b[2;36m[11:06:57]\u001b[0m\u001b[2;36m \u001b[0m\u001b[34mINFO    \u001b[0m step \u001b[1;36m550\u001b[0m | loss \u001b[1;36m0.0051\u001b[0m                                                        \u001b]8;id=484714;file:///tmp/ipykernel_30654/2619882089.py\u001b\\\u001b[2m2619882089.py\u001b[0m\u001b]8;;\u001b\\\u001b[2m:\u001b[0m\u001b]8;id=397887;file:///tmp/ipykernel_30654/2619882089.py#106\u001b\\\u001b[2m106\u001b[0m\u001b]8;;\u001b\\\n"
      ]
     },
     "metadata": {},
     "output_type": "display_data"
    },
    {
     "data": {
      "text/html": [
       "<pre style=\"white-space:pre;overflow-x:auto;line-height:normal;font-family:Menlo,'DejaVu Sans Mono',consolas,'Courier New',monospace\"><span style=\"color: #7fbfbf; text-decoration-color: #7fbfbf\">[11:07:12] </span><span style=\"color: #000080; text-decoration-color: #000080\">INFO    </span> step <span style=\"color: #008080; text-decoration-color: #008080; font-weight: bold\">600</span> | loss <span style=\"color: #008080; text-decoration-color: #008080; font-weight: bold\">0.0039</span>                                                        <a href=\"file:///tmp/ipykernel_30654/2619882089.py\" target=\"_blank\"><span style=\"color: #7f7f7f; text-decoration-color: #7f7f7f\">2619882089.py</span></a><span style=\"color: #7f7f7f; text-decoration-color: #7f7f7f\">:</span><a href=\"file:///tmp/ipykernel_30654/2619882089.py#106\" target=\"_blank\"><span style=\"color: #7f7f7f; text-decoration-color: #7f7f7f\">106</span></a>\n",
       "</pre>\n"
      ],
      "text/plain": [
       "\u001b[2;36m[11:07:12]\u001b[0m\u001b[2;36m \u001b[0m\u001b[34mINFO    \u001b[0m step \u001b[1;36m600\u001b[0m | loss \u001b[1;36m0.0039\u001b[0m                                                        \u001b]8;id=584004;file:///tmp/ipykernel_30654/2619882089.py\u001b\\\u001b[2m2619882089.py\u001b[0m\u001b]8;;\u001b\\\u001b[2m:\u001b[0m\u001b]8;id=230283;file:///tmp/ipykernel_30654/2619882089.py#106\u001b\\\u001b[2m106\u001b[0m\u001b]8;;\u001b\\\n"
      ]
     },
     "metadata": {},
     "output_type": "display_data"
    },
    {
     "data": {
      "text/html": [
       "<pre style=\"white-space:pre;overflow-x:auto;line-height:normal;font-family:Menlo,'DejaVu Sans Mono',consolas,'Courier New',monospace\"><span style=\"color: #7fbfbf; text-decoration-color: #7fbfbf\">[11:07:31] </span><span style=\"color: #000080; text-decoration-color: #000080\">INFO    </span> step <span style=\"color: #008080; text-decoration-color: #008080; font-weight: bold\">650</span> | loss <span style=\"color: #008080; text-decoration-color: #008080; font-weight: bold\">0.1811</span>                                                        <a href=\"file:///tmp/ipykernel_30654/2619882089.py\" target=\"_blank\"><span style=\"color: #7f7f7f; text-decoration-color: #7f7f7f\">2619882089.py</span></a><span style=\"color: #7f7f7f; text-decoration-color: #7f7f7f\">:</span><a href=\"file:///tmp/ipykernel_30654/2619882089.py#106\" target=\"_blank\"><span style=\"color: #7f7f7f; text-decoration-color: #7f7f7f\">106</span></a>\n",
       "</pre>\n"
      ],
      "text/plain": [
       "\u001b[2;36m[11:07:31]\u001b[0m\u001b[2;36m \u001b[0m\u001b[34mINFO    \u001b[0m step \u001b[1;36m650\u001b[0m | loss \u001b[1;36m0.1811\u001b[0m                                                        \u001b]8;id=813694;file:///tmp/ipykernel_30654/2619882089.py\u001b\\\u001b[2m2619882089.py\u001b[0m\u001b]8;;\u001b\\\u001b[2m:\u001b[0m\u001b]8;id=58655;file:///tmp/ipykernel_30654/2619882089.py#106\u001b\\\u001b[2m106\u001b[0m\u001b]8;;\u001b\\\n"
      ]
     },
     "metadata": {},
     "output_type": "display_data"
    },
    {
     "data": {
      "text/html": [
       "<pre style=\"white-space:pre;overflow-x:auto;line-height:normal;font-family:Menlo,'DejaVu Sans Mono',consolas,'Courier New',monospace\"><span style=\"color: #7fbfbf; text-decoration-color: #7fbfbf\">[11:07:47] </span><span style=\"color: #000080; text-decoration-color: #000080\">INFO    </span> step <span style=\"color: #008080; text-decoration-color: #008080; font-weight: bold\">700</span> | loss <span style=\"color: #008080; text-decoration-color: #008080; font-weight: bold\">0.1810</span>                                                        <a href=\"file:///tmp/ipykernel_30654/2619882089.py\" target=\"_blank\"><span style=\"color: #7f7f7f; text-decoration-color: #7f7f7f\">2619882089.py</span></a><span style=\"color: #7f7f7f; text-decoration-color: #7f7f7f\">:</span><a href=\"file:///tmp/ipykernel_30654/2619882089.py#106\" target=\"_blank\"><span style=\"color: #7f7f7f; text-decoration-color: #7f7f7f\">106</span></a>\n",
       "</pre>\n"
      ],
      "text/plain": [
       "\u001b[2;36m[11:07:47]\u001b[0m\u001b[2;36m \u001b[0m\u001b[34mINFO    \u001b[0m step \u001b[1;36m700\u001b[0m | loss \u001b[1;36m0.1810\u001b[0m                                                        \u001b]8;id=330776;file:///tmp/ipykernel_30654/2619882089.py\u001b\\\u001b[2m2619882089.py\u001b[0m\u001b]8;;\u001b\\\u001b[2m:\u001b[0m\u001b]8;id=420651;file:///tmp/ipykernel_30654/2619882089.py#106\u001b\\\u001b[2m106\u001b[0m\u001b]8;;\u001b\\\n"
      ]
     },
     "metadata": {},
     "output_type": "display_data"
    },
    {
     "data": {
      "text/html": [
       "<pre style=\"white-space:pre;overflow-x:auto;line-height:normal;font-family:Menlo,'DejaVu Sans Mono',consolas,'Courier New',monospace\"><span style=\"color: #7fbfbf; text-decoration-color: #7fbfbf\">[11:08:06] </span><span style=\"color: #000080; text-decoration-color: #000080\">INFO    </span> step <span style=\"color: #008080; text-decoration-color: #008080; font-weight: bold\">750</span> | loss <span style=\"color: #008080; text-decoration-color: #008080; font-weight: bold\">0.1350</span>                                                        <a href=\"file:///tmp/ipykernel_30654/2619882089.py\" target=\"_blank\"><span style=\"color: #7f7f7f; text-decoration-color: #7f7f7f\">2619882089.py</span></a><span style=\"color: #7f7f7f; text-decoration-color: #7f7f7f\">:</span><a href=\"file:///tmp/ipykernel_30654/2619882089.py#106\" target=\"_blank\"><span style=\"color: #7f7f7f; text-decoration-color: #7f7f7f\">106</span></a>\n",
       "</pre>\n"
      ],
      "text/plain": [
       "\u001b[2;36m[11:08:06]\u001b[0m\u001b[2;36m \u001b[0m\u001b[34mINFO    \u001b[0m step \u001b[1;36m750\u001b[0m | loss \u001b[1;36m0.1350\u001b[0m                                                        \u001b]8;id=988712;file:///tmp/ipykernel_30654/2619882089.py\u001b\\\u001b[2m2619882089.py\u001b[0m\u001b]8;;\u001b\\\u001b[2m:\u001b[0m\u001b]8;id=594731;file:///tmp/ipykernel_30654/2619882089.py#106\u001b\\\u001b[2m106\u001b[0m\u001b]8;;\u001b\\\n"
      ]
     },
     "metadata": {},
     "output_type": "display_data"
    },
    {
     "data": {
      "text/html": [
       "<pre style=\"white-space:pre;overflow-x:auto;line-height:normal;font-family:Menlo,'DejaVu Sans Mono',consolas,'Courier New',monospace\"><span style=\"color: #7fbfbf; text-decoration-color: #7fbfbf\">[11:08:22] </span><span style=\"color: #000080; text-decoration-color: #000080\">INFO    </span> step <span style=\"color: #008080; text-decoration-color: #008080; font-weight: bold\">800</span> | loss <span style=\"color: #008080; text-decoration-color: #008080; font-weight: bold\">0.0521</span>                                                        <a href=\"file:///tmp/ipykernel_30654/2619882089.py\" target=\"_blank\"><span style=\"color: #7f7f7f; text-decoration-color: #7f7f7f\">2619882089.py</span></a><span style=\"color: #7f7f7f; text-decoration-color: #7f7f7f\">:</span><a href=\"file:///tmp/ipykernel_30654/2619882089.py#106\" target=\"_blank\"><span style=\"color: #7f7f7f; text-decoration-color: #7f7f7f\">106</span></a>\n",
       "</pre>\n"
      ],
      "text/plain": [
       "\u001b[2;36m[11:08:22]\u001b[0m\u001b[2;36m \u001b[0m\u001b[34mINFO    \u001b[0m step \u001b[1;36m800\u001b[0m | loss \u001b[1;36m0.0521\u001b[0m                                                        \u001b]8;id=687277;file:///tmp/ipykernel_30654/2619882089.py\u001b\\\u001b[2m2619882089.py\u001b[0m\u001b]8;;\u001b\\\u001b[2m:\u001b[0m\u001b]8;id=523481;file:///tmp/ipykernel_30654/2619882089.py#106\u001b\\\u001b[2m106\u001b[0m\u001b]8;;\u001b\\\n"
      ]
     },
     "metadata": {},
     "output_type": "display_data"
    },
    {
     "data": {
      "text/html": [
       "<pre style=\"white-space:pre;overflow-x:auto;line-height:normal;font-family:Menlo,'DejaVu Sans Mono',consolas,'Courier New',monospace\"><span style=\"color: #7fbfbf; text-decoration-color: #7fbfbf\">[11:08:37] </span><span style=\"color: #000080; text-decoration-color: #000080\">INFO    </span> step <span style=\"color: #008080; text-decoration-color: #008080; font-weight: bold\">850</span> | loss <span style=\"color: #008080; text-decoration-color: #008080; font-weight: bold\">0.0348</span>                                                        <a href=\"file:///tmp/ipykernel_30654/2619882089.py\" target=\"_blank\"><span style=\"color: #7f7f7f; text-decoration-color: #7f7f7f\">2619882089.py</span></a><span style=\"color: #7f7f7f; text-decoration-color: #7f7f7f\">:</span><a href=\"file:///tmp/ipykernel_30654/2619882089.py#106\" target=\"_blank\"><span style=\"color: #7f7f7f; text-decoration-color: #7f7f7f\">106</span></a>\n",
       "</pre>\n"
      ],
      "text/plain": [
       "\u001b[2;36m[11:08:37]\u001b[0m\u001b[2;36m \u001b[0m\u001b[34mINFO    \u001b[0m step \u001b[1;36m850\u001b[0m | loss \u001b[1;36m0.0348\u001b[0m                                                        \u001b]8;id=481141;file:///tmp/ipykernel_30654/2619882089.py\u001b\\\u001b[2m2619882089.py\u001b[0m\u001b]8;;\u001b\\\u001b[2m:\u001b[0m\u001b]8;id=149811;file:///tmp/ipykernel_30654/2619882089.py#106\u001b\\\u001b[2m106\u001b[0m\u001b]8;;\u001b\\\n"
      ]
     },
     "metadata": {},
     "output_type": "display_data"
    },
    {
     "data": {
      "text/html": [
       "<pre style=\"white-space:pre;overflow-x:auto;line-height:normal;font-family:Menlo,'DejaVu Sans Mono',consolas,'Courier New',monospace\"><span style=\"color: #7fbfbf; text-decoration-color: #7fbfbf\">[11:08:56] </span><span style=\"color: #000080; text-decoration-color: #000080\">INFO    </span> step <span style=\"color: #008080; text-decoration-color: #008080; font-weight: bold\">900</span> | loss <span style=\"color: #008080; text-decoration-color: #008080; font-weight: bold\">0.3439</span>                                                        <a href=\"file:///tmp/ipykernel_30654/2619882089.py\" target=\"_blank\"><span style=\"color: #7f7f7f; text-decoration-color: #7f7f7f\">2619882089.py</span></a><span style=\"color: #7f7f7f; text-decoration-color: #7f7f7f\">:</span><a href=\"file:///tmp/ipykernel_30654/2619882089.py#106\" target=\"_blank\"><span style=\"color: #7f7f7f; text-decoration-color: #7f7f7f\">106</span></a>\n",
       "</pre>\n"
      ],
      "text/plain": [
       "\u001b[2;36m[11:08:56]\u001b[0m\u001b[2;36m \u001b[0m\u001b[34mINFO    \u001b[0m step \u001b[1;36m900\u001b[0m | loss \u001b[1;36m0.3439\u001b[0m                                                        \u001b]8;id=588637;file:///tmp/ipykernel_30654/2619882089.py\u001b\\\u001b[2m2619882089.py\u001b[0m\u001b]8;;\u001b\\\u001b[2m:\u001b[0m\u001b]8;id=565158;file:///tmp/ipykernel_30654/2619882089.py#106\u001b\\\u001b[2m106\u001b[0m\u001b]8;;\u001b\\\n"
      ]
     },
     "metadata": {},
     "output_type": "display_data"
    },
    {
     "data": {
      "text/html": [
       "<pre style=\"white-space:pre;overflow-x:auto;line-height:normal;font-family:Menlo,'DejaVu Sans Mono',consolas,'Courier New',monospace\"><span style=\"color: #7fbfbf; text-decoration-color: #7fbfbf\">[11:09:12] </span><span style=\"color: #000080; text-decoration-color: #000080\">INFO    </span> step <span style=\"color: #008080; text-decoration-color: #008080; font-weight: bold\">950</span> | loss <span style=\"color: #008080; text-decoration-color: #008080; font-weight: bold\">0.0139</span>                                                        <a href=\"file:///tmp/ipykernel_30654/2619882089.py\" target=\"_blank\"><span style=\"color: #7f7f7f; text-decoration-color: #7f7f7f\">2619882089.py</span></a><span style=\"color: #7f7f7f; text-decoration-color: #7f7f7f\">:</span><a href=\"file:///tmp/ipykernel_30654/2619882089.py#106\" target=\"_blank\"><span style=\"color: #7f7f7f; text-decoration-color: #7f7f7f\">106</span></a>\n",
       "</pre>\n"
      ],
      "text/plain": [
       "\u001b[2;36m[11:09:12]\u001b[0m\u001b[2;36m \u001b[0m\u001b[34mINFO    \u001b[0m step \u001b[1;36m950\u001b[0m | loss \u001b[1;36m0.0139\u001b[0m                                                        \u001b]8;id=941435;file:///tmp/ipykernel_30654/2619882089.py\u001b\\\u001b[2m2619882089.py\u001b[0m\u001b]8;;\u001b\\\u001b[2m:\u001b[0m\u001b]8;id=611878;file:///tmp/ipykernel_30654/2619882089.py#106\u001b\\\u001b[2m106\u001b[0m\u001b]8;;\u001b\\\n"
      ]
     },
     "metadata": {},
     "output_type": "display_data"
    },
    {
     "data": {
      "text/html": [
       "<pre style=\"white-space:pre;overflow-x:auto;line-height:normal;font-family:Menlo,'DejaVu Sans Mono',consolas,'Courier New',monospace\"><span style=\"color: #7fbfbf; text-decoration-color: #7fbfbf\">[11:09:28] </span><span style=\"color: #000080; text-decoration-color: #000080\">INFO    </span> step <span style=\"color: #008080; text-decoration-color: #008080; font-weight: bold\">1000</span> | loss <span style=\"color: #008080; text-decoration-color: #008080; font-weight: bold\">0.0459</span>                                                       <a href=\"file:///tmp/ipykernel_30654/2619882089.py\" target=\"_blank\"><span style=\"color: #7f7f7f; text-decoration-color: #7f7f7f\">2619882089.py</span></a><span style=\"color: #7f7f7f; text-decoration-color: #7f7f7f\">:</span><a href=\"file:///tmp/ipykernel_30654/2619882089.py#106\" target=\"_blank\"><span style=\"color: #7f7f7f; text-decoration-color: #7f7f7f\">106</span></a>\n",
       "</pre>\n"
      ],
      "text/plain": [
       "\u001b[2;36m[11:09:28]\u001b[0m\u001b[2;36m \u001b[0m\u001b[34mINFO    \u001b[0m step \u001b[1;36m1000\u001b[0m | loss \u001b[1;36m0.0459\u001b[0m                                                       \u001b]8;id=534277;file:///tmp/ipykernel_30654/2619882089.py\u001b\\\u001b[2m2619882089.py\u001b[0m\u001b]8;;\u001b\\\u001b[2m:\u001b[0m\u001b]8;id=517488;file:///tmp/ipykernel_30654/2619882089.py#106\u001b\\\u001b[2m106\u001b[0m\u001b]8;;\u001b\\\n"
      ]
     },
     "metadata": {},
     "output_type": "display_data"
    },
    {
     "data": {
      "text/html": [
       "<pre style=\"white-space:pre;overflow-x:auto;line-height:normal;font-family:Menlo,'DejaVu Sans Mono',consolas,'Courier New',monospace\"><span style=\"color: #7fbfbf; text-decoration-color: #7fbfbf\">[11:09:47] </span><span style=\"color: #000080; text-decoration-color: #000080\">INFO    </span> step <span style=\"color: #008080; text-decoration-color: #008080; font-weight: bold\">1050</span> | loss <span style=\"color: #008080; text-decoration-color: #008080; font-weight: bold\">0.3365</span>                                                       <a href=\"file:///tmp/ipykernel_30654/2619882089.py\" target=\"_blank\"><span style=\"color: #7f7f7f; text-decoration-color: #7f7f7f\">2619882089.py</span></a><span style=\"color: #7f7f7f; text-decoration-color: #7f7f7f\">:</span><a href=\"file:///tmp/ipykernel_30654/2619882089.py#106\" target=\"_blank\"><span style=\"color: #7f7f7f; text-decoration-color: #7f7f7f\">106</span></a>\n",
       "</pre>\n"
      ],
      "text/plain": [
       "\u001b[2;36m[11:09:47]\u001b[0m\u001b[2;36m \u001b[0m\u001b[34mINFO    \u001b[0m step \u001b[1;36m1050\u001b[0m | loss \u001b[1;36m0.3365\u001b[0m                                                       \u001b]8;id=114975;file:///tmp/ipykernel_30654/2619882089.py\u001b\\\u001b[2m2619882089.py\u001b[0m\u001b]8;;\u001b\\\u001b[2m:\u001b[0m\u001b]8;id=160265;file:///tmp/ipykernel_30654/2619882089.py#106\u001b\\\u001b[2m106\u001b[0m\u001b]8;;\u001b\\\n"
      ]
     },
     "metadata": {},
     "output_type": "display_data"
    },
    {
     "data": {
      "text/html": [
       "<pre style=\"white-space:pre;overflow-x:auto;line-height:normal;font-family:Menlo,'DejaVu Sans Mono',consolas,'Courier New',monospace\"><span style=\"color: #7fbfbf; text-decoration-color: #7fbfbf\">[11:10:03] </span><span style=\"color: #000080; text-decoration-color: #000080\">INFO    </span> step <span style=\"color: #008080; text-decoration-color: #008080; font-weight: bold\">1100</span> | loss <span style=\"color: #008080; text-decoration-color: #008080; font-weight: bold\">0.0570</span>                                                       <a href=\"file:///tmp/ipykernel_30654/2619882089.py\" target=\"_blank\"><span style=\"color: #7f7f7f; text-decoration-color: #7f7f7f\">2619882089.py</span></a><span style=\"color: #7f7f7f; text-decoration-color: #7f7f7f\">:</span><a href=\"file:///tmp/ipykernel_30654/2619882089.py#106\" target=\"_blank\"><span style=\"color: #7f7f7f; text-decoration-color: #7f7f7f\">106</span></a>\n",
       "</pre>\n"
      ],
      "text/plain": [
       "\u001b[2;36m[11:10:03]\u001b[0m\u001b[2;36m \u001b[0m\u001b[34mINFO    \u001b[0m step \u001b[1;36m1100\u001b[0m | loss \u001b[1;36m0.0570\u001b[0m                                                       \u001b]8;id=442666;file:///tmp/ipykernel_30654/2619882089.py\u001b\\\u001b[2m2619882089.py\u001b[0m\u001b]8;;\u001b\\\u001b[2m:\u001b[0m\u001b]8;id=625380;file:///tmp/ipykernel_30654/2619882089.py#106\u001b\\\u001b[2m106\u001b[0m\u001b]8;;\u001b\\\n"
      ]
     },
     "metadata": {},
     "output_type": "display_data"
    },
    {
     "data": {
      "text/html": [
       "<pre style=\"white-space:pre;overflow-x:auto;line-height:normal;font-family:Menlo,'DejaVu Sans Mono',consolas,'Courier New',monospace\"><span style=\"color: #7fbfbf; text-decoration-color: #7fbfbf\">[11:10:22] </span><span style=\"color: #000080; text-decoration-color: #000080\">INFO    </span> step <span style=\"color: #008080; text-decoration-color: #008080; font-weight: bold\">1150</span> | loss <span style=\"color: #008080; text-decoration-color: #008080; font-weight: bold\">0.4107</span>                                                       <a href=\"file:///tmp/ipykernel_30654/2619882089.py\" target=\"_blank\"><span style=\"color: #7f7f7f; text-decoration-color: #7f7f7f\">2619882089.py</span></a><span style=\"color: #7f7f7f; text-decoration-color: #7f7f7f\">:</span><a href=\"file:///tmp/ipykernel_30654/2619882089.py#106\" target=\"_blank\"><span style=\"color: #7f7f7f; text-decoration-color: #7f7f7f\">106</span></a>\n",
       "</pre>\n"
      ],
      "text/plain": [
       "\u001b[2;36m[11:10:22]\u001b[0m\u001b[2;36m \u001b[0m\u001b[34mINFO    \u001b[0m step \u001b[1;36m1150\u001b[0m | loss \u001b[1;36m0.4107\u001b[0m                                                       \u001b]8;id=490785;file:///tmp/ipykernel_30654/2619882089.py\u001b\\\u001b[2m2619882089.py\u001b[0m\u001b]8;;\u001b\\\u001b[2m:\u001b[0m\u001b]8;id=554816;file:///tmp/ipykernel_30654/2619882089.py#106\u001b\\\u001b[2m106\u001b[0m\u001b]8;;\u001b\\\n"
      ]
     },
     "metadata": {},
     "output_type": "display_data"
    },
    {
     "data": {
      "text/html": [
       "<pre style=\"white-space:pre;overflow-x:auto;line-height:normal;font-family:Menlo,'DejaVu Sans Mono',consolas,'Courier New',monospace\"><span style=\"color: #7fbfbf; text-decoration-color: #7fbfbf\">[11:10:38] </span><span style=\"color: #000080; text-decoration-color: #000080\">INFO    </span> step <span style=\"color: #008080; text-decoration-color: #008080; font-weight: bold\">1200</span> | loss <span style=\"color: #008080; text-decoration-color: #008080; font-weight: bold\">0.0565</span>                                                       <a href=\"file:///tmp/ipykernel_30654/2619882089.py\" target=\"_blank\"><span style=\"color: #7f7f7f; text-decoration-color: #7f7f7f\">2619882089.py</span></a><span style=\"color: #7f7f7f; text-decoration-color: #7f7f7f\">:</span><a href=\"file:///tmp/ipykernel_30654/2619882089.py#106\" target=\"_blank\"><span style=\"color: #7f7f7f; text-decoration-color: #7f7f7f\">106</span></a>\n",
       "</pre>\n"
      ],
      "text/plain": [
       "\u001b[2;36m[11:10:38]\u001b[0m\u001b[2;36m \u001b[0m\u001b[34mINFO    \u001b[0m step \u001b[1;36m1200\u001b[0m | loss \u001b[1;36m0.0565\u001b[0m                                                       \u001b]8;id=12038;file:///tmp/ipykernel_30654/2619882089.py\u001b\\\u001b[2m2619882089.py\u001b[0m\u001b]8;;\u001b\\\u001b[2m:\u001b[0m\u001b]8;id=713328;file:///tmp/ipykernel_30654/2619882089.py#106\u001b\\\u001b[2m106\u001b[0m\u001b]8;;\u001b\\\n"
      ]
     },
     "metadata": {},
     "output_type": "display_data"
    },
    {
     "data": {
      "text/html": [
       "<pre style=\"white-space:pre;overflow-x:auto;line-height:normal;font-family:Menlo,'DejaVu Sans Mono',consolas,'Courier New',monospace\"><span style=\"color: #7fbfbf; text-decoration-color: #7fbfbf\">[11:10:54] </span><span style=\"color: #000080; text-decoration-color: #000080\">INFO    </span> step <span style=\"color: #008080; text-decoration-color: #008080; font-weight: bold\">1250</span> | loss <span style=\"color: #008080; text-decoration-color: #008080; font-weight: bold\">0.0784</span>                                                       <a href=\"file:///tmp/ipykernel_30654/2619882089.py\" target=\"_blank\"><span style=\"color: #7f7f7f; text-decoration-color: #7f7f7f\">2619882089.py</span></a><span style=\"color: #7f7f7f; text-decoration-color: #7f7f7f\">:</span><a href=\"file:///tmp/ipykernel_30654/2619882089.py#106\" target=\"_blank\"><span style=\"color: #7f7f7f; text-decoration-color: #7f7f7f\">106</span></a>\n",
       "</pre>\n"
      ],
      "text/plain": [
       "\u001b[2;36m[11:10:54]\u001b[0m\u001b[2;36m \u001b[0m\u001b[34mINFO    \u001b[0m step \u001b[1;36m1250\u001b[0m | loss \u001b[1;36m0.0784\u001b[0m                                                       \u001b]8;id=563054;file:///tmp/ipykernel_30654/2619882089.py\u001b\\\u001b[2m2619882089.py\u001b[0m\u001b]8;;\u001b\\\u001b[2m:\u001b[0m\u001b]8;id=787352;file:///tmp/ipykernel_30654/2619882089.py#106\u001b\\\u001b[2m106\u001b[0m\u001b]8;;\u001b\\\n"
      ]
     },
     "metadata": {},
     "output_type": "display_data"
    },
    {
     "data": {
      "text/html": [
       "<pre style=\"white-space:pre;overflow-x:auto;line-height:normal;font-family:Menlo,'DejaVu Sans Mono',consolas,'Courier New',monospace\"><span style=\"color: #7fbfbf; text-decoration-color: #7fbfbf\">[11:11:13] </span><span style=\"color: #000080; text-decoration-color: #000080\">INFO    </span> step <span style=\"color: #008080; text-decoration-color: #008080; font-weight: bold\">1300</span> | loss <span style=\"color: #008080; text-decoration-color: #008080; font-weight: bold\">0.1382</span>                                                       <a href=\"file:///tmp/ipykernel_30654/2619882089.py\" target=\"_blank\"><span style=\"color: #7f7f7f; text-decoration-color: #7f7f7f\">2619882089.py</span></a><span style=\"color: #7f7f7f; text-decoration-color: #7f7f7f\">:</span><a href=\"file:///tmp/ipykernel_30654/2619882089.py#106\" target=\"_blank\"><span style=\"color: #7f7f7f; text-decoration-color: #7f7f7f\">106</span></a>\n",
       "</pre>\n"
      ],
      "text/plain": [
       "\u001b[2;36m[11:11:13]\u001b[0m\u001b[2;36m \u001b[0m\u001b[34mINFO    \u001b[0m step \u001b[1;36m1300\u001b[0m | loss \u001b[1;36m0.1382\u001b[0m                                                       \u001b]8;id=116970;file:///tmp/ipykernel_30654/2619882089.py\u001b\\\u001b[2m2619882089.py\u001b[0m\u001b]8;;\u001b\\\u001b[2m:\u001b[0m\u001b]8;id=307757;file:///tmp/ipykernel_30654/2619882089.py#106\u001b\\\u001b[2m106\u001b[0m\u001b]8;;\u001b\\\n"
      ]
     },
     "metadata": {},
     "output_type": "display_data"
    },
    {
     "data": {
      "text/html": [
       "<pre style=\"white-space:pre;overflow-x:auto;line-height:normal;font-family:Menlo,'DejaVu Sans Mono',consolas,'Courier New',monospace\"><span style=\"color: #7fbfbf; text-decoration-color: #7fbfbf\">[11:11:29] </span><span style=\"color: #000080; text-decoration-color: #000080\">INFO    </span> step <span style=\"color: #008080; text-decoration-color: #008080; font-weight: bold\">1350</span> | loss <span style=\"color: #008080; text-decoration-color: #008080; font-weight: bold\">0.1832</span>                                                       <a href=\"file:///tmp/ipykernel_30654/2619882089.py\" target=\"_blank\"><span style=\"color: #7f7f7f; text-decoration-color: #7f7f7f\">2619882089.py</span></a><span style=\"color: #7f7f7f; text-decoration-color: #7f7f7f\">:</span><a href=\"file:///tmp/ipykernel_30654/2619882089.py#106\" target=\"_blank\"><span style=\"color: #7f7f7f; text-decoration-color: #7f7f7f\">106</span></a>\n",
       "</pre>\n"
      ],
      "text/plain": [
       "\u001b[2;36m[11:11:29]\u001b[0m\u001b[2;36m \u001b[0m\u001b[34mINFO    \u001b[0m step \u001b[1;36m1350\u001b[0m | loss \u001b[1;36m0.1832\u001b[0m                                                       \u001b]8;id=757168;file:///tmp/ipykernel_30654/2619882089.py\u001b\\\u001b[2m2619882089.py\u001b[0m\u001b]8;;\u001b\\\u001b[2m:\u001b[0m\u001b]8;id=918398;file:///tmp/ipykernel_30654/2619882089.py#106\u001b\\\u001b[2m106\u001b[0m\u001b]8;;\u001b\\\n"
      ]
     },
     "metadata": {},
     "output_type": "display_data"
    },
    {
     "data": {
      "text/html": [
       "<pre style=\"white-space:pre;overflow-x:auto;line-height:normal;font-family:Menlo,'DejaVu Sans Mono',consolas,'Courier New',monospace\"><span style=\"color: #7fbfbf; text-decoration-color: #7fbfbf\">[11:11:45] </span><span style=\"color: #000080; text-decoration-color: #000080\">INFO    </span> step <span style=\"color: #008080; text-decoration-color: #008080; font-weight: bold\">1400</span> | loss <span style=\"color: #008080; text-decoration-color: #008080; font-weight: bold\">0.0905</span>                                                       <a href=\"file:///tmp/ipykernel_30654/2619882089.py\" target=\"_blank\"><span style=\"color: #7f7f7f; text-decoration-color: #7f7f7f\">2619882089.py</span></a><span style=\"color: #7f7f7f; text-decoration-color: #7f7f7f\">:</span><a href=\"file:///tmp/ipykernel_30654/2619882089.py#106\" target=\"_blank\"><span style=\"color: #7f7f7f; text-decoration-color: #7f7f7f\">106</span></a>\n",
       "</pre>\n"
      ],
      "text/plain": [
       "\u001b[2;36m[11:11:45]\u001b[0m\u001b[2;36m \u001b[0m\u001b[34mINFO    \u001b[0m step \u001b[1;36m1400\u001b[0m | loss \u001b[1;36m0.0905\u001b[0m                                                       \u001b]8;id=187330;file:///tmp/ipykernel_30654/2619882089.py\u001b\\\u001b[2m2619882089.py\u001b[0m\u001b]8;;\u001b\\\u001b[2m:\u001b[0m\u001b]8;id=532342;file:///tmp/ipykernel_30654/2619882089.py#106\u001b\\\u001b[2m106\u001b[0m\u001b]8;;\u001b\\\n"
      ]
     },
     "metadata": {},
     "output_type": "display_data"
    },
    {
     "data": {
      "text/html": [
       "<pre style=\"white-space:pre;overflow-x:auto;line-height:normal;font-family:Menlo,'DejaVu Sans Mono',consolas,'Courier New',monospace\"><span style=\"color: #7fbfbf; text-decoration-color: #7fbfbf\">[11:12:04] </span><span style=\"color: #000080; text-decoration-color: #000080\">INFO    </span> step <span style=\"color: #008080; text-decoration-color: #008080; font-weight: bold\">1450</span> | loss <span style=\"color: #008080; text-decoration-color: #008080; font-weight: bold\">0.1249</span>                                                       <a href=\"file:///tmp/ipykernel_30654/2619882089.py\" target=\"_blank\"><span style=\"color: #7f7f7f; text-decoration-color: #7f7f7f\">2619882089.py</span></a><span style=\"color: #7f7f7f; text-decoration-color: #7f7f7f\">:</span><a href=\"file:///tmp/ipykernel_30654/2619882089.py#106\" target=\"_blank\"><span style=\"color: #7f7f7f; text-decoration-color: #7f7f7f\">106</span></a>\n",
       "</pre>\n"
      ],
      "text/plain": [
       "\u001b[2;36m[11:12:04]\u001b[0m\u001b[2;36m \u001b[0m\u001b[34mINFO    \u001b[0m step \u001b[1;36m1450\u001b[0m | loss \u001b[1;36m0.1249\u001b[0m                                                       \u001b]8;id=312942;file:///tmp/ipykernel_30654/2619882089.py\u001b\\\u001b[2m2619882089.py\u001b[0m\u001b]8;;\u001b\\\u001b[2m:\u001b[0m\u001b]8;id=882554;file:///tmp/ipykernel_30654/2619882089.py#106\u001b\\\u001b[2m106\u001b[0m\u001b]8;;\u001b\\\n"
      ]
     },
     "metadata": {},
     "output_type": "display_data"
    },
    {
     "data": {
      "text/html": [
       "<pre style=\"white-space:pre;overflow-x:auto;line-height:normal;font-family:Menlo,'DejaVu Sans Mono',consolas,'Courier New',monospace\"><span style=\"color: #7fbfbf; text-decoration-color: #7fbfbf\">[11:12:19] </span><span style=\"color: #000080; text-decoration-color: #000080\">INFO    </span> step <span style=\"color: #008080; text-decoration-color: #008080; font-weight: bold\">1500</span> | loss <span style=\"color: #008080; text-decoration-color: #008080; font-weight: bold\">0.0090</span>                                                       <a href=\"file:///tmp/ipykernel_30654/2619882089.py\" target=\"_blank\"><span style=\"color: #7f7f7f; text-decoration-color: #7f7f7f\">2619882089.py</span></a><span style=\"color: #7f7f7f; text-decoration-color: #7f7f7f\">:</span><a href=\"file:///tmp/ipykernel_30654/2619882089.py#106\" target=\"_blank\"><span style=\"color: #7f7f7f; text-decoration-color: #7f7f7f\">106</span></a>\n",
       "</pre>\n"
      ],
      "text/plain": [
       "\u001b[2;36m[11:12:19]\u001b[0m\u001b[2;36m \u001b[0m\u001b[34mINFO    \u001b[0m step \u001b[1;36m1500\u001b[0m | loss \u001b[1;36m0.0090\u001b[0m                                                       \u001b]8;id=160263;file:///tmp/ipykernel_30654/2619882089.py\u001b\\\u001b[2m2619882089.py\u001b[0m\u001b]8;;\u001b\\\u001b[2m:\u001b[0m\u001b]8;id=392077;file:///tmp/ipykernel_30654/2619882089.py#106\u001b\\\u001b[2m106\u001b[0m\u001b]8;;\u001b\\\n"
      ]
     },
     "metadata": {},
     "output_type": "display_data"
    },
    {
     "data": {
      "text/html": [
       "<pre style=\"white-space:pre;overflow-x:auto;line-height:normal;font-family:Menlo,'DejaVu Sans Mono',consolas,'Courier New',monospace\"><span style=\"color: #7fbfbf; text-decoration-color: #7fbfbf\">[11:12:38] </span><span style=\"color: #000080; text-decoration-color: #000080\">INFO    </span> step <span style=\"color: #008080; text-decoration-color: #008080; font-weight: bold\">1550</span> | loss <span style=\"color: #008080; text-decoration-color: #008080; font-weight: bold\">0.0086</span>                                                       <a href=\"file:///tmp/ipykernel_30654/2619882089.py\" target=\"_blank\"><span style=\"color: #7f7f7f; text-decoration-color: #7f7f7f\">2619882089.py</span></a><span style=\"color: #7f7f7f; text-decoration-color: #7f7f7f\">:</span><a href=\"file:///tmp/ipykernel_30654/2619882089.py#106\" target=\"_blank\"><span style=\"color: #7f7f7f; text-decoration-color: #7f7f7f\">106</span></a>\n",
       "</pre>\n"
      ],
      "text/plain": [
       "\u001b[2;36m[11:12:38]\u001b[0m\u001b[2;36m \u001b[0m\u001b[34mINFO    \u001b[0m step \u001b[1;36m1550\u001b[0m | loss \u001b[1;36m0.0086\u001b[0m                                                       \u001b]8;id=816449;file:///tmp/ipykernel_30654/2619882089.py\u001b\\\u001b[2m2619882089.py\u001b[0m\u001b]8;;\u001b\\\u001b[2m:\u001b[0m\u001b]8;id=967242;file:///tmp/ipykernel_30654/2619882089.py#106\u001b\\\u001b[2m106\u001b[0m\u001b]8;;\u001b\\\n"
      ]
     },
     "metadata": {},
     "output_type": "display_data"
    },
    {
     "data": {
      "text/html": [
       "<pre style=\"white-space:pre;overflow-x:auto;line-height:normal;font-family:Menlo,'DejaVu Sans Mono',consolas,'Courier New',monospace\"><span style=\"color: #7fbfbf; text-decoration-color: #7fbfbf\">[11:12:53] </span><span style=\"color: #000080; text-decoration-color: #000080\">INFO    </span> step <span style=\"color: #008080; text-decoration-color: #008080; font-weight: bold\">1600</span> | loss <span style=\"color: #008080; text-decoration-color: #008080; font-weight: bold\">0.0186</span>                                                       <a href=\"file:///tmp/ipykernel_30654/2619882089.py\" target=\"_blank\"><span style=\"color: #7f7f7f; text-decoration-color: #7f7f7f\">2619882089.py</span></a><span style=\"color: #7f7f7f; text-decoration-color: #7f7f7f\">:</span><a href=\"file:///tmp/ipykernel_30654/2619882089.py#106\" target=\"_blank\"><span style=\"color: #7f7f7f; text-decoration-color: #7f7f7f\">106</span></a>\n",
       "</pre>\n"
      ],
      "text/plain": [
       "\u001b[2;36m[11:12:53]\u001b[0m\u001b[2;36m \u001b[0m\u001b[34mINFO    \u001b[0m step \u001b[1;36m1600\u001b[0m | loss \u001b[1;36m0.0186\u001b[0m                                                       \u001b]8;id=339902;file:///tmp/ipykernel_30654/2619882089.py\u001b\\\u001b[2m2619882089.py\u001b[0m\u001b]8;;\u001b\\\u001b[2m:\u001b[0m\u001b]8;id=512340;file:///tmp/ipykernel_30654/2619882089.py#106\u001b\\\u001b[2m106\u001b[0m\u001b]8;;\u001b\\\n"
      ]
     },
     "metadata": {},
     "output_type": "display_data"
    },
    {
     "data": {
      "text/html": [
       "<pre style=\"white-space:pre;overflow-x:auto;line-height:normal;font-family:Menlo,'DejaVu Sans Mono',consolas,'Courier New',monospace\"><span style=\"color: #7fbfbf; text-decoration-color: #7fbfbf\">[11:13:09] </span><span style=\"color: #000080; text-decoration-color: #000080\">INFO    </span> step <span style=\"color: #008080; text-decoration-color: #008080; font-weight: bold\">1650</span> | loss <span style=\"color: #008080; text-decoration-color: #008080; font-weight: bold\">0.0741</span>                                                       <a href=\"file:///tmp/ipykernel_30654/2619882089.py\" target=\"_blank\"><span style=\"color: #7f7f7f; text-decoration-color: #7f7f7f\">2619882089.py</span></a><span style=\"color: #7f7f7f; text-decoration-color: #7f7f7f\">:</span><a href=\"file:///tmp/ipykernel_30654/2619882089.py#106\" target=\"_blank\"><span style=\"color: #7f7f7f; text-decoration-color: #7f7f7f\">106</span></a>\n",
       "</pre>\n"
      ],
      "text/plain": [
       "\u001b[2;36m[11:13:09]\u001b[0m\u001b[2;36m \u001b[0m\u001b[34mINFO    \u001b[0m step \u001b[1;36m1650\u001b[0m | loss \u001b[1;36m0.0741\u001b[0m                                                       \u001b]8;id=921406;file:///tmp/ipykernel_30654/2619882089.py\u001b\\\u001b[2m2619882089.py\u001b[0m\u001b]8;;\u001b\\\u001b[2m:\u001b[0m\u001b]8;id=872064;file:///tmp/ipykernel_30654/2619882089.py#106\u001b\\\u001b[2m106\u001b[0m\u001b]8;;\u001b\\\n"
      ]
     },
     "metadata": {},
     "output_type": "display_data"
    },
    {
     "data": {
      "text/html": [
       "<pre style=\"white-space:pre;overflow-x:auto;line-height:normal;font-family:Menlo,'DejaVu Sans Mono',consolas,'Courier New',monospace\"><span style=\"color: #7fbfbf; text-decoration-color: #7fbfbf\">[11:13:27] </span><span style=\"color: #000080; text-decoration-color: #000080\">INFO    </span> step <span style=\"color: #008080; text-decoration-color: #008080; font-weight: bold\">1700</span> | loss <span style=\"color: #008080; text-decoration-color: #008080; font-weight: bold\">0.1843</span>                                                       <a href=\"file:///tmp/ipykernel_30654/2619882089.py\" target=\"_blank\"><span style=\"color: #7f7f7f; text-decoration-color: #7f7f7f\">2619882089.py</span></a><span style=\"color: #7f7f7f; text-decoration-color: #7f7f7f\">:</span><a href=\"file:///tmp/ipykernel_30654/2619882089.py#106\" target=\"_blank\"><span style=\"color: #7f7f7f; text-decoration-color: #7f7f7f\">106</span></a>\n",
       "</pre>\n"
      ],
      "text/plain": [
       "\u001b[2;36m[11:13:27]\u001b[0m\u001b[2;36m \u001b[0m\u001b[34mINFO    \u001b[0m step \u001b[1;36m1700\u001b[0m | loss \u001b[1;36m0.1843\u001b[0m                                                       \u001b]8;id=252572;file:///tmp/ipykernel_30654/2619882089.py\u001b\\\u001b[2m2619882089.py\u001b[0m\u001b]8;;\u001b\\\u001b[2m:\u001b[0m\u001b]8;id=920659;file:///tmp/ipykernel_30654/2619882089.py#106\u001b\\\u001b[2m106\u001b[0m\u001b]8;;\u001b\\\n"
      ]
     },
     "metadata": {},
     "output_type": "display_data"
    },
    {
     "data": {
      "text/html": [
       "<pre style=\"white-space:pre;overflow-x:auto;line-height:normal;font-family:Menlo,'DejaVu Sans Mono',consolas,'Courier New',monospace\"><span style=\"color: #7fbfbf; text-decoration-color: #7fbfbf\">[11:13:43] </span><span style=\"color: #000080; text-decoration-color: #000080\">INFO    </span> step <span style=\"color: #008080; text-decoration-color: #008080; font-weight: bold\">1750</span> | loss <span style=\"color: #008080; text-decoration-color: #008080; font-weight: bold\">0.1128</span>                                                       <a href=\"file:///tmp/ipykernel_30654/2619882089.py\" target=\"_blank\"><span style=\"color: #7f7f7f; text-decoration-color: #7f7f7f\">2619882089.py</span></a><span style=\"color: #7f7f7f; text-decoration-color: #7f7f7f\">:</span><a href=\"file:///tmp/ipykernel_30654/2619882089.py#106\" target=\"_blank\"><span style=\"color: #7f7f7f; text-decoration-color: #7f7f7f\">106</span></a>\n",
       "</pre>\n"
      ],
      "text/plain": [
       "\u001b[2;36m[11:13:43]\u001b[0m\u001b[2;36m \u001b[0m\u001b[34mINFO    \u001b[0m step \u001b[1;36m1750\u001b[0m | loss \u001b[1;36m0.1128\u001b[0m                                                       \u001b]8;id=767460;file:///tmp/ipykernel_30654/2619882089.py\u001b\\\u001b[2m2619882089.py\u001b[0m\u001b]8;;\u001b\\\u001b[2m:\u001b[0m\u001b]8;id=509597;file:///tmp/ipykernel_30654/2619882089.py#106\u001b\\\u001b[2m106\u001b[0m\u001b]8;;\u001b\\\n"
      ]
     },
     "metadata": {},
     "output_type": "display_data"
    },
    {
     "data": {
      "text/html": [
       "<pre style=\"white-space:pre;overflow-x:auto;line-height:normal;font-family:Menlo,'DejaVu Sans Mono',consolas,'Courier New',monospace\"><span style=\"color: #7fbfbf; text-decoration-color: #7fbfbf\">[11:14:01] </span><span style=\"color: #000080; text-decoration-color: #000080\">INFO    </span> step <span style=\"color: #008080; text-decoration-color: #008080; font-weight: bold\">1800</span> | loss <span style=\"color: #008080; text-decoration-color: #008080; font-weight: bold\">0.0141</span>                                                       <a href=\"file:///tmp/ipykernel_30654/2619882089.py\" target=\"_blank\"><span style=\"color: #7f7f7f; text-decoration-color: #7f7f7f\">2619882089.py</span></a><span style=\"color: #7f7f7f; text-decoration-color: #7f7f7f\">:</span><a href=\"file:///tmp/ipykernel_30654/2619882089.py#106\" target=\"_blank\"><span style=\"color: #7f7f7f; text-decoration-color: #7f7f7f\">106</span></a>\n",
       "</pre>\n"
      ],
      "text/plain": [
       "\u001b[2;36m[11:14:01]\u001b[0m\u001b[2;36m \u001b[0m\u001b[34mINFO    \u001b[0m step \u001b[1;36m1800\u001b[0m | loss \u001b[1;36m0.0141\u001b[0m                                                       \u001b]8;id=803035;file:///tmp/ipykernel_30654/2619882089.py\u001b\\\u001b[2m2619882089.py\u001b[0m\u001b]8;;\u001b\\\u001b[2m:\u001b[0m\u001b]8;id=131869;file:///tmp/ipykernel_30654/2619882089.py#106\u001b\\\u001b[2m106\u001b[0m\u001b]8;;\u001b\\\n"
      ]
     },
     "metadata": {},
     "output_type": "display_data"
    },
    {
     "data": {
      "text/html": [
       "<pre style=\"white-space:pre;overflow-x:auto;line-height:normal;font-family:Menlo,'DejaVu Sans Mono',consolas,'Courier New',monospace\"><span style=\"color: #7fbfbf; text-decoration-color: #7fbfbf\">[11:14:16] </span><span style=\"color: #000080; text-decoration-color: #000080\">INFO    </span> step <span style=\"color: #008080; text-decoration-color: #008080; font-weight: bold\">1850</span> | loss <span style=\"color: #008080; text-decoration-color: #008080; font-weight: bold\">0.1076</span>                                                       <a href=\"file:///tmp/ipykernel_30654/2619882089.py\" target=\"_blank\"><span style=\"color: #7f7f7f; text-decoration-color: #7f7f7f\">2619882089.py</span></a><span style=\"color: #7f7f7f; text-decoration-color: #7f7f7f\">:</span><a href=\"file:///tmp/ipykernel_30654/2619882089.py#106\" target=\"_blank\"><span style=\"color: #7f7f7f; text-decoration-color: #7f7f7f\">106</span></a>\n",
       "</pre>\n"
      ],
      "text/plain": [
       "\u001b[2;36m[11:14:16]\u001b[0m\u001b[2;36m \u001b[0m\u001b[34mINFO    \u001b[0m step \u001b[1;36m1850\u001b[0m | loss \u001b[1;36m0.1076\u001b[0m                                                       \u001b]8;id=576510;file:///tmp/ipykernel_30654/2619882089.py\u001b\\\u001b[2m2619882089.py\u001b[0m\u001b]8;;\u001b\\\u001b[2m:\u001b[0m\u001b]8;id=173148;file:///tmp/ipykernel_30654/2619882089.py#106\u001b\\\u001b[2m106\u001b[0m\u001b]8;;\u001b\\\n"
      ]
     },
     "metadata": {},
     "output_type": "display_data"
    },
    {
     "data": {
      "text/html": [
       "<pre style=\"white-space:pre;overflow-x:auto;line-height:normal;font-family:Menlo,'DejaVu Sans Mono',consolas,'Courier New',monospace\"><span style=\"color: #7fbfbf; text-decoration-color: #7fbfbf\">[11:14:32] </span><span style=\"color: #000080; text-decoration-color: #000080\">INFO    </span> step <span style=\"color: #008080; text-decoration-color: #008080; font-weight: bold\">1900</span> | loss <span style=\"color: #008080; text-decoration-color: #008080; font-weight: bold\">0.0632</span>                                                       <a href=\"file:///tmp/ipykernel_30654/2619882089.py\" target=\"_blank\"><span style=\"color: #7f7f7f; text-decoration-color: #7f7f7f\">2619882089.py</span></a><span style=\"color: #7f7f7f; text-decoration-color: #7f7f7f\">:</span><a href=\"file:///tmp/ipykernel_30654/2619882089.py#106\" target=\"_blank\"><span style=\"color: #7f7f7f; text-decoration-color: #7f7f7f\">106</span></a>\n",
       "</pre>\n"
      ],
      "text/plain": [
       "\u001b[2;36m[11:14:32]\u001b[0m\u001b[2;36m \u001b[0m\u001b[34mINFO    \u001b[0m step \u001b[1;36m1900\u001b[0m | loss \u001b[1;36m0.0632\u001b[0m                                                       \u001b]8;id=443692;file:///tmp/ipykernel_30654/2619882089.py\u001b\\\u001b[2m2619882089.py\u001b[0m\u001b]8;;\u001b\\\u001b[2m:\u001b[0m\u001b]8;id=222086;file:///tmp/ipykernel_30654/2619882089.py#106\u001b\\\u001b[2m106\u001b[0m\u001b]8;;\u001b\\\n"
      ]
     },
     "metadata": {},
     "output_type": "display_data"
    },
    {
     "data": {
      "text/html": [
       "<pre style=\"white-space:pre;overflow-x:auto;line-height:normal;font-family:Menlo,'DejaVu Sans Mono',consolas,'Courier New',monospace\"><span style=\"color: #7fbfbf; text-decoration-color: #7fbfbf\">[11:14:50] </span><span style=\"color: #000080; text-decoration-color: #000080\">INFO    </span> step <span style=\"color: #008080; text-decoration-color: #008080; font-weight: bold\">1950</span> | loss <span style=\"color: #008080; text-decoration-color: #008080; font-weight: bold\">0.1634</span>                                                       <a href=\"file:///tmp/ipykernel_30654/2619882089.py\" target=\"_blank\"><span style=\"color: #7f7f7f; text-decoration-color: #7f7f7f\">2619882089.py</span></a><span style=\"color: #7f7f7f; text-decoration-color: #7f7f7f\">:</span><a href=\"file:///tmp/ipykernel_30654/2619882089.py#106\" target=\"_blank\"><span style=\"color: #7f7f7f; text-decoration-color: #7f7f7f\">106</span></a>\n",
       "</pre>\n"
      ],
      "text/plain": [
       "\u001b[2;36m[11:14:50]\u001b[0m\u001b[2;36m \u001b[0m\u001b[34mINFO    \u001b[0m step \u001b[1;36m1950\u001b[0m | loss \u001b[1;36m0.1634\u001b[0m                                                       \u001b]8;id=723378;file:///tmp/ipykernel_30654/2619882089.py\u001b\\\u001b[2m2619882089.py\u001b[0m\u001b]8;;\u001b\\\u001b[2m:\u001b[0m\u001b]8;id=210922;file:///tmp/ipykernel_30654/2619882089.py#106\u001b\\\u001b[2m106\u001b[0m\u001b]8;;\u001b\\\n"
      ]
     },
     "metadata": {},
     "output_type": "display_data"
    },
    {
     "data": {
      "text/html": [
       "<pre style=\"white-space:pre;overflow-x:auto;line-height:normal;font-family:Menlo,'DejaVu Sans Mono',consolas,'Courier New',monospace\"><span style=\"color: #7fbfbf; text-decoration-color: #7fbfbf\">[11:15:05] </span><span style=\"color: #000080; text-decoration-color: #000080\">INFO    </span> step <span style=\"color: #008080; text-decoration-color: #008080; font-weight: bold\">2000</span> | loss <span style=\"color: #008080; text-decoration-color: #008080; font-weight: bold\">0.3904</span>                                                       <a href=\"file:///tmp/ipykernel_30654/2619882089.py\" target=\"_blank\"><span style=\"color: #7f7f7f; text-decoration-color: #7f7f7f\">2619882089.py</span></a><span style=\"color: #7f7f7f; text-decoration-color: #7f7f7f\">:</span><a href=\"file:///tmp/ipykernel_30654/2619882089.py#106\" target=\"_blank\"><span style=\"color: #7f7f7f; text-decoration-color: #7f7f7f\">106</span></a>\n",
       "</pre>\n"
      ],
      "text/plain": [
       "\u001b[2;36m[11:15:05]\u001b[0m\u001b[2;36m \u001b[0m\u001b[34mINFO    \u001b[0m step \u001b[1;36m2000\u001b[0m | loss \u001b[1;36m0.3904\u001b[0m                                                       \u001b]8;id=681446;file:///tmp/ipykernel_30654/2619882089.py\u001b\\\u001b[2m2619882089.py\u001b[0m\u001b]8;;\u001b\\\u001b[2m:\u001b[0m\u001b]8;id=391559;file:///tmp/ipykernel_30654/2619882089.py#106\u001b\\\u001b[2m106\u001b[0m\u001b]8;;\u001b\\\n"
      ]
     },
     "metadata": {},
     "output_type": "display_data"
    },
    {
     "data": {
      "text/html": [
       "<pre style=\"white-space:pre;overflow-x:auto;line-height:normal;font-family:Menlo,'DejaVu Sans Mono',consolas,'Courier New',monospace\"><span style=\"color: #7fbfbf; text-decoration-color: #7fbfbf\">[11:15:23] </span><span style=\"color: #000080; text-decoration-color: #000080\">INFO    </span> step <span style=\"color: #008080; text-decoration-color: #008080; font-weight: bold\">2050</span> | loss <span style=\"color: #008080; text-decoration-color: #008080; font-weight: bold\">0.1580</span>                                                       <a href=\"file:///tmp/ipykernel_30654/2619882089.py\" target=\"_blank\"><span style=\"color: #7f7f7f; text-decoration-color: #7f7f7f\">2619882089.py</span></a><span style=\"color: #7f7f7f; text-decoration-color: #7f7f7f\">:</span><a href=\"file:///tmp/ipykernel_30654/2619882089.py#106\" target=\"_blank\"><span style=\"color: #7f7f7f; text-decoration-color: #7f7f7f\">106</span></a>\n",
       "</pre>\n"
      ],
      "text/plain": [
       "\u001b[2;36m[11:15:23]\u001b[0m\u001b[2;36m \u001b[0m\u001b[34mINFO    \u001b[0m step \u001b[1;36m2050\u001b[0m | loss \u001b[1;36m0.1580\u001b[0m                                                       \u001b]8;id=126882;file:///tmp/ipykernel_30654/2619882089.py\u001b\\\u001b[2m2619882089.py\u001b[0m\u001b]8;;\u001b\\\u001b[2m:\u001b[0m\u001b]8;id=259947;file:///tmp/ipykernel_30654/2619882089.py#106\u001b\\\u001b[2m106\u001b[0m\u001b]8;;\u001b\\\n"
      ]
     },
     "metadata": {},
     "output_type": "display_data"
    },
    {
     "data": {
      "text/html": [
       "<pre style=\"white-space:pre;overflow-x:auto;line-height:normal;font-family:Menlo,'DejaVu Sans Mono',consolas,'Courier New',monospace\"><span style=\"color: #7fbfbf; text-decoration-color: #7fbfbf\">[11:15:38] </span><span style=\"color: #000080; text-decoration-color: #000080\">INFO    </span> step <span style=\"color: #008080; text-decoration-color: #008080; font-weight: bold\">2100</span> | loss <span style=\"color: #008080; text-decoration-color: #008080; font-weight: bold\">0.1672</span>                                                       <a href=\"file:///tmp/ipykernel_30654/2619882089.py\" target=\"_blank\"><span style=\"color: #7f7f7f; text-decoration-color: #7f7f7f\">2619882089.py</span></a><span style=\"color: #7f7f7f; text-decoration-color: #7f7f7f\">:</span><a href=\"file:///tmp/ipykernel_30654/2619882089.py#106\" target=\"_blank\"><span style=\"color: #7f7f7f; text-decoration-color: #7f7f7f\">106</span></a>\n",
       "</pre>\n"
      ],
      "text/plain": [
       "\u001b[2;36m[11:15:38]\u001b[0m\u001b[2;36m \u001b[0m\u001b[34mINFO    \u001b[0m step \u001b[1;36m2100\u001b[0m | loss \u001b[1;36m0.1672\u001b[0m                                                       \u001b]8;id=616886;file:///tmp/ipykernel_30654/2619882089.py\u001b\\\u001b[2m2619882089.py\u001b[0m\u001b]8;;\u001b\\\u001b[2m:\u001b[0m\u001b]8;id=580828;file:///tmp/ipykernel_30654/2619882089.py#106\u001b\\\u001b[2m106\u001b[0m\u001b]8;;\u001b\\\n"
      ]
     },
     "metadata": {},
     "output_type": "display_data"
    },
    {
     "data": {
      "text/html": [
       "<pre style=\"white-space:pre;overflow-x:auto;line-height:normal;font-family:Menlo,'DejaVu Sans Mono',consolas,'Courier New',monospace\"><span style=\"color: #7fbfbf; text-decoration-color: #7fbfbf\">[11:15:53] </span><span style=\"color: #000080; text-decoration-color: #000080\">INFO    </span> step <span style=\"color: #008080; text-decoration-color: #008080; font-weight: bold\">2150</span> | loss <span style=\"color: #008080; text-decoration-color: #008080; font-weight: bold\">0.0852</span>                                                       <a href=\"file:///tmp/ipykernel_30654/2619882089.py\" target=\"_blank\"><span style=\"color: #7f7f7f; text-decoration-color: #7f7f7f\">2619882089.py</span></a><span style=\"color: #7f7f7f; text-decoration-color: #7f7f7f\">:</span><a href=\"file:///tmp/ipykernel_30654/2619882089.py#106\" target=\"_blank\"><span style=\"color: #7f7f7f; text-decoration-color: #7f7f7f\">106</span></a>\n",
       "</pre>\n"
      ],
      "text/plain": [
       "\u001b[2;36m[11:15:53]\u001b[0m\u001b[2;36m \u001b[0m\u001b[34mINFO    \u001b[0m step \u001b[1;36m2150\u001b[0m | loss \u001b[1;36m0.0852\u001b[0m                                                       \u001b]8;id=74441;file:///tmp/ipykernel_30654/2619882089.py\u001b\\\u001b[2m2619882089.py\u001b[0m\u001b]8;;\u001b\\\u001b[2m:\u001b[0m\u001b]8;id=742225;file:///tmp/ipykernel_30654/2619882089.py#106\u001b\\\u001b[2m106\u001b[0m\u001b]8;;\u001b\\\n"
      ]
     },
     "metadata": {},
     "output_type": "display_data"
    },
    {
     "data": {
      "text/html": [
       "<pre style=\"white-space:pre;overflow-x:auto;line-height:normal;font-family:Menlo,'DejaVu Sans Mono',consolas,'Courier New',monospace\"><span style=\"color: #7fbfbf; text-decoration-color: #7fbfbf\">[11:16:11] </span><span style=\"color: #000080; text-decoration-color: #000080\">INFO    </span> step <span style=\"color: #008080; text-decoration-color: #008080; font-weight: bold\">2200</span> | loss <span style=\"color: #008080; text-decoration-color: #008080; font-weight: bold\">0.0910</span>                                                       <a href=\"file:///tmp/ipykernel_30654/2619882089.py\" target=\"_blank\"><span style=\"color: #7f7f7f; text-decoration-color: #7f7f7f\">2619882089.py</span></a><span style=\"color: #7f7f7f; text-decoration-color: #7f7f7f\">:</span><a href=\"file:///tmp/ipykernel_30654/2619882089.py#106\" target=\"_blank\"><span style=\"color: #7f7f7f; text-decoration-color: #7f7f7f\">106</span></a>\n",
       "</pre>\n"
      ],
      "text/plain": [
       "\u001b[2;36m[11:16:11]\u001b[0m\u001b[2;36m \u001b[0m\u001b[34mINFO    \u001b[0m step \u001b[1;36m2200\u001b[0m | loss \u001b[1;36m0.0910\u001b[0m                                                       \u001b]8;id=949401;file:///tmp/ipykernel_30654/2619882089.py\u001b\\\u001b[2m2619882089.py\u001b[0m\u001b]8;;\u001b\\\u001b[2m:\u001b[0m\u001b]8;id=32938;file:///tmp/ipykernel_30654/2619882089.py#106\u001b\\\u001b[2m106\u001b[0m\u001b]8;;\u001b\\\n"
      ]
     },
     "metadata": {},
     "output_type": "display_data"
    },
    {
     "data": {
      "text/html": [
       "<pre style=\"white-space:pre;overflow-x:auto;line-height:normal;font-family:Menlo,'DejaVu Sans Mono',consolas,'Courier New',monospace\"><span style=\"color: #7fbfbf; text-decoration-color: #7fbfbf\">[11:16:28] </span><span style=\"color: #000080; text-decoration-color: #000080\">INFO    </span> step <span style=\"color: #008080; text-decoration-color: #008080; font-weight: bold\">2250</span> | loss <span style=\"color: #008080; text-decoration-color: #008080; font-weight: bold\">0.0729</span>                                                       <a href=\"file:///tmp/ipykernel_30654/2619882089.py\" target=\"_blank\"><span style=\"color: #7f7f7f; text-decoration-color: #7f7f7f\">2619882089.py</span></a><span style=\"color: #7f7f7f; text-decoration-color: #7f7f7f\">:</span><a href=\"file:///tmp/ipykernel_30654/2619882089.py#106\" target=\"_blank\"><span style=\"color: #7f7f7f; text-decoration-color: #7f7f7f\">106</span></a>\n",
       "</pre>\n"
      ],
      "text/plain": [
       "\u001b[2;36m[11:16:28]\u001b[0m\u001b[2;36m \u001b[0m\u001b[34mINFO    \u001b[0m step \u001b[1;36m2250\u001b[0m | loss \u001b[1;36m0.0729\u001b[0m                                                       \u001b]8;id=249565;file:///tmp/ipykernel_30654/2619882089.py\u001b\\\u001b[2m2619882089.py\u001b[0m\u001b]8;;\u001b\\\u001b[2m:\u001b[0m\u001b]8;id=292004;file:///tmp/ipykernel_30654/2619882089.py#106\u001b\\\u001b[2m106\u001b[0m\u001b]8;;\u001b\\\n"
      ]
     },
     "metadata": {},
     "output_type": "display_data"
    },
    {
     "data": {
      "text/html": [
       "<pre style=\"white-space:pre;overflow-x:auto;line-height:normal;font-family:Menlo,'DejaVu Sans Mono',consolas,'Courier New',monospace\"><span style=\"color: #7fbfbf; text-decoration-color: #7fbfbf\">[11:16:46] </span><span style=\"color: #000080; text-decoration-color: #000080\">INFO    </span> step <span style=\"color: #008080; text-decoration-color: #008080; font-weight: bold\">2300</span> | loss <span style=\"color: #008080; text-decoration-color: #008080; font-weight: bold\">0.0138</span>                                                       <a href=\"file:///tmp/ipykernel_30654/2619882089.py\" target=\"_blank\"><span style=\"color: #7f7f7f; text-decoration-color: #7f7f7f\">2619882089.py</span></a><span style=\"color: #7f7f7f; text-decoration-color: #7f7f7f\">:</span><a href=\"file:///tmp/ipykernel_30654/2619882089.py#106\" target=\"_blank\"><span style=\"color: #7f7f7f; text-decoration-color: #7f7f7f\">106</span></a>\n",
       "</pre>\n"
      ],
      "text/plain": [
       "\u001b[2;36m[11:16:46]\u001b[0m\u001b[2;36m \u001b[0m\u001b[34mINFO    \u001b[0m step \u001b[1;36m2300\u001b[0m | loss \u001b[1;36m0.0138\u001b[0m                                                       \u001b]8;id=138739;file:///tmp/ipykernel_30654/2619882089.py\u001b\\\u001b[2m2619882089.py\u001b[0m\u001b]8;;\u001b\\\u001b[2m:\u001b[0m\u001b]8;id=758490;file:///tmp/ipykernel_30654/2619882089.py#106\u001b\\\u001b[2m106\u001b[0m\u001b]8;;\u001b\\\n"
      ]
     },
     "metadata": {},
     "output_type": "display_data"
    },
    {
     "data": {
      "text/html": [
       "<pre style=\"white-space:pre;overflow-x:auto;line-height:normal;font-family:Menlo,'DejaVu Sans Mono',consolas,'Courier New',monospace\"><span style=\"color: #7fbfbf; text-decoration-color: #7fbfbf\">[11:16:59] </span><span style=\"color: #000080; text-decoration-color: #000080\">INFO    </span> step <span style=\"color: #008080; text-decoration-color: #008080; font-weight: bold\">2350</span> | loss <span style=\"color: #008080; text-decoration-color: #008080; font-weight: bold\">0.1484</span>                                                       <a href=\"file:///tmp/ipykernel_30654/2619882089.py\" target=\"_blank\"><span style=\"color: #7f7f7f; text-decoration-color: #7f7f7f\">2619882089.py</span></a><span style=\"color: #7f7f7f; text-decoration-color: #7f7f7f\">:</span><a href=\"file:///tmp/ipykernel_30654/2619882089.py#106\" target=\"_blank\"><span style=\"color: #7f7f7f; text-decoration-color: #7f7f7f\">106</span></a>\n",
       "</pre>\n"
      ],
      "text/plain": [
       "\u001b[2;36m[11:16:59]\u001b[0m\u001b[2;36m \u001b[0m\u001b[34mINFO    \u001b[0m step \u001b[1;36m2350\u001b[0m | loss \u001b[1;36m0.1484\u001b[0m                                                       \u001b]8;id=495631;file:///tmp/ipykernel_30654/2619882089.py\u001b\\\u001b[2m2619882089.py\u001b[0m\u001b]8;;\u001b\\\u001b[2m:\u001b[0m\u001b]8;id=254801;file:///tmp/ipykernel_30654/2619882089.py#106\u001b\\\u001b[2m106\u001b[0m\u001b]8;;\u001b\\\n"
      ]
     },
     "metadata": {},
     "output_type": "display_data"
    },
    {
     "data": {
      "text/html": [
       "<pre style=\"white-space:pre;overflow-x:auto;line-height:normal;font-family:Menlo,'DejaVu Sans Mono',consolas,'Courier New',monospace\"><span style=\"color: #7fbfbf; text-decoration-color: #7fbfbf\">[11:17:14] </span><span style=\"color: #000080; text-decoration-color: #000080\">INFO    </span> step <span style=\"color: #008080; text-decoration-color: #008080; font-weight: bold\">2400</span> | loss <span style=\"color: #008080; text-decoration-color: #008080; font-weight: bold\">0.2453</span>                                                       <a href=\"file:///tmp/ipykernel_30654/2619882089.py\" target=\"_blank\"><span style=\"color: #7f7f7f; text-decoration-color: #7f7f7f\">2619882089.py</span></a><span style=\"color: #7f7f7f; text-decoration-color: #7f7f7f\">:</span><a href=\"file:///tmp/ipykernel_30654/2619882089.py#106\" target=\"_blank\"><span style=\"color: #7f7f7f; text-decoration-color: #7f7f7f\">106</span></a>\n",
       "</pre>\n"
      ],
      "text/plain": [
       "\u001b[2;36m[11:17:14]\u001b[0m\u001b[2;36m \u001b[0m\u001b[34mINFO    \u001b[0m step \u001b[1;36m2400\u001b[0m | loss \u001b[1;36m0.2453\u001b[0m                                                       \u001b]8;id=199659;file:///tmp/ipykernel_30654/2619882089.py\u001b\\\u001b[2m2619882089.py\u001b[0m\u001b]8;;\u001b\\\u001b[2m:\u001b[0m\u001b]8;id=98907;file:///tmp/ipykernel_30654/2619882089.py#106\u001b\\\u001b[2m106\u001b[0m\u001b]8;;\u001b\\\n"
      ]
     },
     "metadata": {},
     "output_type": "display_data"
    },
    {
     "data": {
      "text/html": [
       "<pre style=\"white-space:pre;overflow-x:auto;line-height:normal;font-family:Menlo,'DejaVu Sans Mono',consolas,'Courier New',monospace\"><span style=\"color: #7fbfbf; text-decoration-color: #7fbfbf\">[11:17:32] </span><span style=\"color: #000080; text-decoration-color: #000080\">INFO    </span> step <span style=\"color: #008080; text-decoration-color: #008080; font-weight: bold\">2450</span> | loss <span style=\"color: #008080; text-decoration-color: #008080; font-weight: bold\">0.0541</span>                                                       <a href=\"file:///tmp/ipykernel_30654/2619882089.py\" target=\"_blank\"><span style=\"color: #7f7f7f; text-decoration-color: #7f7f7f\">2619882089.py</span></a><span style=\"color: #7f7f7f; text-decoration-color: #7f7f7f\">:</span><a href=\"file:///tmp/ipykernel_30654/2619882089.py#106\" target=\"_blank\"><span style=\"color: #7f7f7f; text-decoration-color: #7f7f7f\">106</span></a>\n",
       "</pre>\n"
      ],
      "text/plain": [
       "\u001b[2;36m[11:17:32]\u001b[0m\u001b[2;36m \u001b[0m\u001b[34mINFO    \u001b[0m step \u001b[1;36m2450\u001b[0m | loss \u001b[1;36m0.0541\u001b[0m                                                       \u001b]8;id=444154;file:///tmp/ipykernel_30654/2619882089.py\u001b\\\u001b[2m2619882089.py\u001b[0m\u001b]8;;\u001b\\\u001b[2m:\u001b[0m\u001b]8;id=431071;file:///tmp/ipykernel_30654/2619882089.py#106\u001b\\\u001b[2m106\u001b[0m\u001b]8;;\u001b\\\n"
      ]
     },
     "metadata": {},
     "output_type": "display_data"
    },
    {
     "data": {
      "text/html": [
       "<pre style=\"white-space:pre;overflow-x:auto;line-height:normal;font-family:Menlo,'DejaVu Sans Mono',consolas,'Courier New',monospace\"><span style=\"color: #7fbfbf; text-decoration-color: #7fbfbf\">[11:17:47] </span><span style=\"color: #000080; text-decoration-color: #000080\">INFO    </span> step <span style=\"color: #008080; text-decoration-color: #008080; font-weight: bold\">2500</span> | loss <span style=\"color: #008080; text-decoration-color: #008080; font-weight: bold\">0.0645</span>                                                       <a href=\"file:///tmp/ipykernel_30654/2619882089.py\" target=\"_blank\"><span style=\"color: #7f7f7f; text-decoration-color: #7f7f7f\">2619882089.py</span></a><span style=\"color: #7f7f7f; text-decoration-color: #7f7f7f\">:</span><a href=\"file:///tmp/ipykernel_30654/2619882089.py#106\" target=\"_blank\"><span style=\"color: #7f7f7f; text-decoration-color: #7f7f7f\">106</span></a>\n",
       "</pre>\n"
      ],
      "text/plain": [
       "\u001b[2;36m[11:17:47]\u001b[0m\u001b[2;36m \u001b[0m\u001b[34mINFO    \u001b[0m step \u001b[1;36m2500\u001b[0m | loss \u001b[1;36m0.0645\u001b[0m                                                       \u001b]8;id=706073;file:///tmp/ipykernel_30654/2619882089.py\u001b\\\u001b[2m2619882089.py\u001b[0m\u001b]8;;\u001b\\\u001b[2m:\u001b[0m\u001b]8;id=685197;file:///tmp/ipykernel_30654/2619882089.py#106\u001b\\\u001b[2m106\u001b[0m\u001b]8;;\u001b\\\n"
      ]
     },
     "metadata": {},
     "output_type": "display_data"
    },
    {
     "data": {
      "text/html": [
       "<pre style=\"white-space:pre;overflow-x:auto;line-height:normal;font-family:Menlo,'DejaVu Sans Mono',consolas,'Courier New',monospace\"><span style=\"color: #7fbfbf; text-decoration-color: #7fbfbf\">[11:18:05] </span><span style=\"color: #000080; text-decoration-color: #000080\">INFO    </span> step <span style=\"color: #008080; text-decoration-color: #008080; font-weight: bold\">2550</span> | loss <span style=\"color: #008080; text-decoration-color: #008080; font-weight: bold\">0.0076</span>                                                       <a href=\"file:///tmp/ipykernel_30654/2619882089.py\" target=\"_blank\"><span style=\"color: #7f7f7f; text-decoration-color: #7f7f7f\">2619882089.py</span></a><span style=\"color: #7f7f7f; text-decoration-color: #7f7f7f\">:</span><a href=\"file:///tmp/ipykernel_30654/2619882089.py#106\" target=\"_blank\"><span style=\"color: #7f7f7f; text-decoration-color: #7f7f7f\">106</span></a>\n",
       "</pre>\n"
      ],
      "text/plain": [
       "\u001b[2;36m[11:18:05]\u001b[0m\u001b[2;36m \u001b[0m\u001b[34mINFO    \u001b[0m step \u001b[1;36m2550\u001b[0m | loss \u001b[1;36m0.0076\u001b[0m                                                       \u001b]8;id=763587;file:///tmp/ipykernel_30654/2619882089.py\u001b\\\u001b[2m2619882089.py\u001b[0m\u001b]8;;\u001b\\\u001b[2m:\u001b[0m\u001b]8;id=355784;file:///tmp/ipykernel_30654/2619882089.py#106\u001b\\\u001b[2m106\u001b[0m\u001b]8;;\u001b\\\n"
      ]
     },
     "metadata": {},
     "output_type": "display_data"
    },
    {
     "data": {
      "text/html": [
       "<pre style=\"white-space:pre;overflow-x:auto;line-height:normal;font-family:Menlo,'DejaVu Sans Mono',consolas,'Courier New',monospace\"><span style=\"color: #7fbfbf; text-decoration-color: #7fbfbf\">[11:18:20] </span><span style=\"color: #000080; text-decoration-color: #000080\">INFO    </span> step <span style=\"color: #008080; text-decoration-color: #008080; font-weight: bold\">2600</span> | loss <span style=\"color: #008080; text-decoration-color: #008080; font-weight: bold\">0.1070</span>                                                       <a href=\"file:///tmp/ipykernel_30654/2619882089.py\" target=\"_blank\"><span style=\"color: #7f7f7f; text-decoration-color: #7f7f7f\">2619882089.py</span></a><span style=\"color: #7f7f7f; text-decoration-color: #7f7f7f\">:</span><a href=\"file:///tmp/ipykernel_30654/2619882089.py#106\" target=\"_blank\"><span style=\"color: #7f7f7f; text-decoration-color: #7f7f7f\">106</span></a>\n",
       "</pre>\n"
      ],
      "text/plain": [
       "\u001b[2;36m[11:18:20]\u001b[0m\u001b[2;36m \u001b[0m\u001b[34mINFO    \u001b[0m step \u001b[1;36m2600\u001b[0m | loss \u001b[1;36m0.1070\u001b[0m                                                       \u001b]8;id=200896;file:///tmp/ipykernel_30654/2619882089.py\u001b\\\u001b[2m2619882089.py\u001b[0m\u001b]8;;\u001b\\\u001b[2m:\u001b[0m\u001b]8;id=199448;file:///tmp/ipykernel_30654/2619882089.py#106\u001b\\\u001b[2m106\u001b[0m\u001b]8;;\u001b\\\n"
      ]
     },
     "metadata": {},
     "output_type": "display_data"
    },
    {
     "data": {
      "text/html": [
       "<pre style=\"white-space:pre;overflow-x:auto;line-height:normal;font-family:Menlo,'DejaVu Sans Mono',consolas,'Courier New',monospace\"><span style=\"color: #7fbfbf; text-decoration-color: #7fbfbf\">[11:18:35] </span><span style=\"color: #000080; text-decoration-color: #000080\">INFO    </span> step <span style=\"color: #008080; text-decoration-color: #008080; font-weight: bold\">2650</span> | loss <span style=\"color: #008080; text-decoration-color: #008080; font-weight: bold\">0.0641</span>                                                       <a href=\"file:///tmp/ipykernel_30654/2619882089.py\" target=\"_blank\"><span style=\"color: #7f7f7f; text-decoration-color: #7f7f7f\">2619882089.py</span></a><span style=\"color: #7f7f7f; text-decoration-color: #7f7f7f\">:</span><a href=\"file:///tmp/ipykernel_30654/2619882089.py#106\" target=\"_blank\"><span style=\"color: #7f7f7f; text-decoration-color: #7f7f7f\">106</span></a>\n",
       "</pre>\n"
      ],
      "text/plain": [
       "\u001b[2;36m[11:18:35]\u001b[0m\u001b[2;36m \u001b[0m\u001b[34mINFO    \u001b[0m step \u001b[1;36m2650\u001b[0m | loss \u001b[1;36m0.0641\u001b[0m                                                       \u001b]8;id=192401;file:///tmp/ipykernel_30654/2619882089.py\u001b\\\u001b[2m2619882089.py\u001b[0m\u001b]8;;\u001b\\\u001b[2m:\u001b[0m\u001b]8;id=292075;file:///tmp/ipykernel_30654/2619882089.py#106\u001b\\\u001b[2m106\u001b[0m\u001b]8;;\u001b\\\n"
      ]
     },
     "metadata": {},
     "output_type": "display_data"
    },
    {
     "data": {
      "text/html": [
       "<pre style=\"white-space:pre;overflow-x:auto;line-height:normal;font-family:Menlo,'DejaVu Sans Mono',consolas,'Courier New',monospace\"><span style=\"color: #7fbfbf; text-decoration-color: #7fbfbf\">[11:18:53] </span><span style=\"color: #000080; text-decoration-color: #000080\">INFO    </span> step <span style=\"color: #008080; text-decoration-color: #008080; font-weight: bold\">2700</span> | loss <span style=\"color: #008080; text-decoration-color: #008080; font-weight: bold\">0.0355</span>                                                       <a href=\"file:///tmp/ipykernel_30654/2619882089.py\" target=\"_blank\"><span style=\"color: #7f7f7f; text-decoration-color: #7f7f7f\">2619882089.py</span></a><span style=\"color: #7f7f7f; text-decoration-color: #7f7f7f\">:</span><a href=\"file:///tmp/ipykernel_30654/2619882089.py#106\" target=\"_blank\"><span style=\"color: #7f7f7f; text-decoration-color: #7f7f7f\">106</span></a>\n",
       "</pre>\n"
      ],
      "text/plain": [
       "\u001b[2;36m[11:18:53]\u001b[0m\u001b[2;36m \u001b[0m\u001b[34mINFO    \u001b[0m step \u001b[1;36m2700\u001b[0m | loss \u001b[1;36m0.0355\u001b[0m                                                       \u001b]8;id=79046;file:///tmp/ipykernel_30654/2619882089.py\u001b\\\u001b[2m2619882089.py\u001b[0m\u001b]8;;\u001b\\\u001b[2m:\u001b[0m\u001b]8;id=464656;file:///tmp/ipykernel_30654/2619882089.py#106\u001b\\\u001b[2m106\u001b[0m\u001b]8;;\u001b\\\n"
      ]
     },
     "metadata": {},
     "output_type": "display_data"
    },
    {
     "data": {
      "text/html": [
       "<pre style=\"white-space:pre;overflow-x:auto;line-height:normal;font-family:Menlo,'DejaVu Sans Mono',consolas,'Courier New',monospace\"><span style=\"color: #7fbfbf; text-decoration-color: #7fbfbf\">[11:19:08] </span><span style=\"color: #000080; text-decoration-color: #000080\">INFO    </span> step <span style=\"color: #008080; text-decoration-color: #008080; font-weight: bold\">2750</span> | loss <span style=\"color: #008080; text-decoration-color: #008080; font-weight: bold\">0.2190</span>                                                       <a href=\"file:///tmp/ipykernel_30654/2619882089.py\" target=\"_blank\"><span style=\"color: #7f7f7f; text-decoration-color: #7f7f7f\">2619882089.py</span></a><span style=\"color: #7f7f7f; text-decoration-color: #7f7f7f\">:</span><a href=\"file:///tmp/ipykernel_30654/2619882089.py#106\" target=\"_blank\"><span style=\"color: #7f7f7f; text-decoration-color: #7f7f7f\">106</span></a>\n",
       "</pre>\n"
      ],
      "text/plain": [
       "\u001b[2;36m[11:19:08]\u001b[0m\u001b[2;36m \u001b[0m\u001b[34mINFO    \u001b[0m step \u001b[1;36m2750\u001b[0m | loss \u001b[1;36m0.2190\u001b[0m                                                       \u001b]8;id=102664;file:///tmp/ipykernel_30654/2619882089.py\u001b\\\u001b[2m2619882089.py\u001b[0m\u001b]8;;\u001b\\\u001b[2m:\u001b[0m\u001b]8;id=53045;file:///tmp/ipykernel_30654/2619882089.py#106\u001b\\\u001b[2m106\u001b[0m\u001b]8;;\u001b\\\n"
      ]
     },
     "metadata": {},
     "output_type": "display_data"
    },
    {
     "data": {
      "text/html": [
       "<pre style=\"white-space:pre;overflow-x:auto;line-height:normal;font-family:Menlo,'DejaVu Sans Mono',consolas,'Courier New',monospace\"><span style=\"color: #7fbfbf; text-decoration-color: #7fbfbf\">[11:19:26] </span><span style=\"color: #000080; text-decoration-color: #000080\">INFO    </span> step <span style=\"color: #008080; text-decoration-color: #008080; font-weight: bold\">2800</span> | loss <span style=\"color: #008080; text-decoration-color: #008080; font-weight: bold\">0.1202</span>                                                       <a href=\"file:///tmp/ipykernel_30654/2619882089.py\" target=\"_blank\"><span style=\"color: #7f7f7f; text-decoration-color: #7f7f7f\">2619882089.py</span></a><span style=\"color: #7f7f7f; text-decoration-color: #7f7f7f\">:</span><a href=\"file:///tmp/ipykernel_30654/2619882089.py#106\" target=\"_blank\"><span style=\"color: #7f7f7f; text-decoration-color: #7f7f7f\">106</span></a>\n",
       "</pre>\n"
      ],
      "text/plain": [
       "\u001b[2;36m[11:19:26]\u001b[0m\u001b[2;36m \u001b[0m\u001b[34mINFO    \u001b[0m step \u001b[1;36m2800\u001b[0m | loss \u001b[1;36m0.1202\u001b[0m                                                       \u001b]8;id=97793;file:///tmp/ipykernel_30654/2619882089.py\u001b\\\u001b[2m2619882089.py\u001b[0m\u001b]8;;\u001b\\\u001b[2m:\u001b[0m\u001b]8;id=971366;file:///tmp/ipykernel_30654/2619882089.py#106\u001b\\\u001b[2m106\u001b[0m\u001b]8;;\u001b\\\n"
      ]
     },
     "metadata": {},
     "output_type": "display_data"
    },
    {
     "data": {
      "text/html": [
       "<pre style=\"white-space:pre;overflow-x:auto;line-height:normal;font-family:Menlo,'DejaVu Sans Mono',consolas,'Courier New',monospace\"><span style=\"color: #7fbfbf; text-decoration-color: #7fbfbf\">[11:19:41] </span><span style=\"color: #000080; text-decoration-color: #000080\">INFO    </span> step <span style=\"color: #008080; text-decoration-color: #008080; font-weight: bold\">2850</span> | loss <span style=\"color: #008080; text-decoration-color: #008080; font-weight: bold\">0.0213</span>                                                       <a href=\"file:///tmp/ipykernel_30654/2619882089.py\" target=\"_blank\"><span style=\"color: #7f7f7f; text-decoration-color: #7f7f7f\">2619882089.py</span></a><span style=\"color: #7f7f7f; text-decoration-color: #7f7f7f\">:</span><a href=\"file:///tmp/ipykernel_30654/2619882089.py#106\" target=\"_blank\"><span style=\"color: #7f7f7f; text-decoration-color: #7f7f7f\">106</span></a>\n",
       "</pre>\n"
      ],
      "text/plain": [
       "\u001b[2;36m[11:19:41]\u001b[0m\u001b[2;36m \u001b[0m\u001b[34mINFO    \u001b[0m step \u001b[1;36m2850\u001b[0m | loss \u001b[1;36m0.0213\u001b[0m                                                       \u001b]8;id=426156;file:///tmp/ipykernel_30654/2619882089.py\u001b\\\u001b[2m2619882089.py\u001b[0m\u001b]8;;\u001b\\\u001b[2m:\u001b[0m\u001b]8;id=509231;file:///tmp/ipykernel_30654/2619882089.py#106\u001b\\\u001b[2m106\u001b[0m\u001b]8;;\u001b\\\n"
      ]
     },
     "metadata": {},
     "output_type": "display_data"
    },
    {
     "data": {
      "text/html": [
       "<pre style=\"white-space:pre;overflow-x:auto;line-height:normal;font-family:Menlo,'DejaVu Sans Mono',consolas,'Courier New',monospace\"><span style=\"color: #7fbfbf; text-decoration-color: #7fbfbf\">[11:19:56] </span><span style=\"color: #000080; text-decoration-color: #000080\">INFO    </span> step <span style=\"color: #008080; text-decoration-color: #008080; font-weight: bold\">2900</span> | loss <span style=\"color: #008080; text-decoration-color: #008080; font-weight: bold\">0.0383</span>                                                       <a href=\"file:///tmp/ipykernel_30654/2619882089.py\" target=\"_blank\"><span style=\"color: #7f7f7f; text-decoration-color: #7f7f7f\">2619882089.py</span></a><span style=\"color: #7f7f7f; text-decoration-color: #7f7f7f\">:</span><a href=\"file:///tmp/ipykernel_30654/2619882089.py#106\" target=\"_blank\"><span style=\"color: #7f7f7f; text-decoration-color: #7f7f7f\">106</span></a>\n",
       "</pre>\n"
      ],
      "text/plain": [
       "\u001b[2;36m[11:19:56]\u001b[0m\u001b[2;36m \u001b[0m\u001b[34mINFO    \u001b[0m step \u001b[1;36m2900\u001b[0m | loss \u001b[1;36m0.0383\u001b[0m                                                       \u001b]8;id=946279;file:///tmp/ipykernel_30654/2619882089.py\u001b\\\u001b[2m2619882089.py\u001b[0m\u001b]8;;\u001b\\\u001b[2m:\u001b[0m\u001b]8;id=61483;file:///tmp/ipykernel_30654/2619882089.py#106\u001b\\\u001b[2m106\u001b[0m\u001b]8;;\u001b\\\n"
      ]
     },
     "metadata": {},
     "output_type": "display_data"
    },
    {
     "data": {
      "text/html": [
       "<pre style=\"white-space:pre;overflow-x:auto;line-height:normal;font-family:Menlo,'DejaVu Sans Mono',consolas,'Courier New',monospace\"><span style=\"color: #7fbfbf; text-decoration-color: #7fbfbf\">[11:20:14] </span><span style=\"color: #000080; text-decoration-color: #000080\">INFO    </span> step <span style=\"color: #008080; text-decoration-color: #008080; font-weight: bold\">2950</span> | loss <span style=\"color: #008080; text-decoration-color: #008080; font-weight: bold\">0.3927</span>                                                       <a href=\"file:///tmp/ipykernel_30654/2619882089.py\" target=\"_blank\"><span style=\"color: #7f7f7f; text-decoration-color: #7f7f7f\">2619882089.py</span></a><span style=\"color: #7f7f7f; text-decoration-color: #7f7f7f\">:</span><a href=\"file:///tmp/ipykernel_30654/2619882089.py#106\" target=\"_blank\"><span style=\"color: #7f7f7f; text-decoration-color: #7f7f7f\">106</span></a>\n",
       "</pre>\n"
      ],
      "text/plain": [
       "\u001b[2;36m[11:20:14]\u001b[0m\u001b[2;36m \u001b[0m\u001b[34mINFO    \u001b[0m step \u001b[1;36m2950\u001b[0m | loss \u001b[1;36m0.3927\u001b[0m                                                       \u001b]8;id=278085;file:///tmp/ipykernel_30654/2619882089.py\u001b\\\u001b[2m2619882089.py\u001b[0m\u001b]8;;\u001b\\\u001b[2m:\u001b[0m\u001b]8;id=971524;file:///tmp/ipykernel_30654/2619882089.py#106\u001b\\\u001b[2m106\u001b[0m\u001b]8;;\u001b\\\n"
      ]
     },
     "metadata": {},
     "output_type": "display_data"
    },
    {
     "data": {
      "text/html": [
       "<pre style=\"white-space:pre;overflow-x:auto;line-height:normal;font-family:Menlo,'DejaVu Sans Mono',consolas,'Courier New',monospace\"><span style=\"color: #7fbfbf; text-decoration-color: #7fbfbf\">[11:20:29] </span><span style=\"color: #000080; text-decoration-color: #000080\">INFO    </span> step <span style=\"color: #008080; text-decoration-color: #008080; font-weight: bold\">3000</span> | loss <span style=\"color: #008080; text-decoration-color: #008080; font-weight: bold\">0.0691</span>                                                       <a href=\"file:///tmp/ipykernel_30654/2619882089.py\" target=\"_blank\"><span style=\"color: #7f7f7f; text-decoration-color: #7f7f7f\">2619882089.py</span></a><span style=\"color: #7f7f7f; text-decoration-color: #7f7f7f\">:</span><a href=\"file:///tmp/ipykernel_30654/2619882089.py#106\" target=\"_blank\"><span style=\"color: #7f7f7f; text-decoration-color: #7f7f7f\">106</span></a>\n",
       "</pre>\n"
      ],
      "text/plain": [
       "\u001b[2;36m[11:20:29]\u001b[0m\u001b[2;36m \u001b[0m\u001b[34mINFO    \u001b[0m step \u001b[1;36m3000\u001b[0m | loss \u001b[1;36m0.0691\u001b[0m                                                       \u001b]8;id=443555;file:///tmp/ipykernel_30654/2619882089.py\u001b\\\u001b[2m2619882089.py\u001b[0m\u001b]8;;\u001b\\\u001b[2m:\u001b[0m\u001b]8;id=730429;file:///tmp/ipykernel_30654/2619882089.py#106\u001b\\\u001b[2m106\u001b[0m\u001b]8;;\u001b\\\n"
      ]
     },
     "metadata": {},
     "output_type": "display_data"
    },
    {
     "data": {
      "text/html": [
       "<pre style=\"white-space:pre;overflow-x:auto;line-height:normal;font-family:Menlo,'DejaVu Sans Mono',consolas,'Courier New',monospace\"><span style=\"color: #7fbfbf; text-decoration-color: #7fbfbf\">[11:20:47] </span><span style=\"color: #000080; text-decoration-color: #000080\">INFO    </span> step <span style=\"color: #008080; text-decoration-color: #008080; font-weight: bold\">3050</span> | loss <span style=\"color: #008080; text-decoration-color: #008080; font-weight: bold\">0.1880</span>                                                       <a href=\"file:///tmp/ipykernel_30654/2619882089.py\" target=\"_blank\"><span style=\"color: #7f7f7f; text-decoration-color: #7f7f7f\">2619882089.py</span></a><span style=\"color: #7f7f7f; text-decoration-color: #7f7f7f\">:</span><a href=\"file:///tmp/ipykernel_30654/2619882089.py#106\" target=\"_blank\"><span style=\"color: #7f7f7f; text-decoration-color: #7f7f7f\">106</span></a>\n",
       "</pre>\n"
      ],
      "text/plain": [
       "\u001b[2;36m[11:20:47]\u001b[0m\u001b[2;36m \u001b[0m\u001b[34mINFO    \u001b[0m step \u001b[1;36m3050\u001b[0m | loss \u001b[1;36m0.1880\u001b[0m                                                       \u001b]8;id=753305;file:///tmp/ipykernel_30654/2619882089.py\u001b\\\u001b[2m2619882089.py\u001b[0m\u001b]8;;\u001b\\\u001b[2m:\u001b[0m\u001b]8;id=510311;file:///tmp/ipykernel_30654/2619882089.py#106\u001b\\\u001b[2m106\u001b[0m\u001b]8;;\u001b\\\n"
      ]
     },
     "metadata": {},
     "output_type": "display_data"
    },
    {
     "data": {
      "text/html": [
       "<pre style=\"white-space:pre;overflow-x:auto;line-height:normal;font-family:Menlo,'DejaVu Sans Mono',consolas,'Courier New',monospace\"><span style=\"color: #7fbfbf; text-decoration-color: #7fbfbf\">[11:21:02] </span><span style=\"color: #000080; text-decoration-color: #000080\">INFO    </span> step <span style=\"color: #008080; text-decoration-color: #008080; font-weight: bold\">3100</span> | loss <span style=\"color: #008080; text-decoration-color: #008080; font-weight: bold\">0.3402</span>                                                       <a href=\"file:///tmp/ipykernel_30654/2619882089.py\" target=\"_blank\"><span style=\"color: #7f7f7f; text-decoration-color: #7f7f7f\">2619882089.py</span></a><span style=\"color: #7f7f7f; text-decoration-color: #7f7f7f\">:</span><a href=\"file:///tmp/ipykernel_30654/2619882089.py#106\" target=\"_blank\"><span style=\"color: #7f7f7f; text-decoration-color: #7f7f7f\">106</span></a>\n",
       "</pre>\n"
      ],
      "text/plain": [
       "\u001b[2;36m[11:21:02]\u001b[0m\u001b[2;36m \u001b[0m\u001b[34mINFO    \u001b[0m step \u001b[1;36m3100\u001b[0m | loss \u001b[1;36m0.3402\u001b[0m                                                       \u001b]8;id=61324;file:///tmp/ipykernel_30654/2619882089.py\u001b\\\u001b[2m2619882089.py\u001b[0m\u001b]8;;\u001b\\\u001b[2m:\u001b[0m\u001b]8;id=607314;file:///tmp/ipykernel_30654/2619882089.py#106\u001b\\\u001b[2m106\u001b[0m\u001b]8;;\u001b\\\n"
      ]
     },
     "metadata": {},
     "output_type": "display_data"
    },
    {
     "data": {
      "text/html": [
       "<pre style=\"white-space:pre;overflow-x:auto;line-height:normal;font-family:Menlo,'DejaVu Sans Mono',consolas,'Courier New',monospace\"><span style=\"color: #7fbfbf; text-decoration-color: #7fbfbf\">[11:21:20] </span><span style=\"color: #000080; text-decoration-color: #000080\">INFO    </span> step <span style=\"color: #008080; text-decoration-color: #008080; font-weight: bold\">3150</span> | loss <span style=\"color: #008080; text-decoration-color: #008080; font-weight: bold\">0.1398</span>                                                       <a href=\"file:///tmp/ipykernel_30654/2619882089.py\" target=\"_blank\"><span style=\"color: #7f7f7f; text-decoration-color: #7f7f7f\">2619882089.py</span></a><span style=\"color: #7f7f7f; text-decoration-color: #7f7f7f\">:</span><a href=\"file:///tmp/ipykernel_30654/2619882089.py#106\" target=\"_blank\"><span style=\"color: #7f7f7f; text-decoration-color: #7f7f7f\">106</span></a>\n",
       "</pre>\n"
      ],
      "text/plain": [
       "\u001b[2;36m[11:21:20]\u001b[0m\u001b[2;36m \u001b[0m\u001b[34mINFO    \u001b[0m step \u001b[1;36m3150\u001b[0m | loss \u001b[1;36m0.1398\u001b[0m                                                       \u001b]8;id=328838;file:///tmp/ipykernel_30654/2619882089.py\u001b\\\u001b[2m2619882089.py\u001b[0m\u001b]8;;\u001b\\\u001b[2m:\u001b[0m\u001b]8;id=59942;file:///tmp/ipykernel_30654/2619882089.py#106\u001b\\\u001b[2m106\u001b[0m\u001b]8;;\u001b\\\n"
      ]
     },
     "metadata": {},
     "output_type": "display_data"
    },
    {
     "data": {
      "text/html": [
       "<pre style=\"white-space:pre;overflow-x:auto;line-height:normal;font-family:Menlo,'DejaVu Sans Mono',consolas,'Courier New',monospace\"><span style=\"color: #7fbfbf; text-decoration-color: #7fbfbf\">[11:21:35] </span><span style=\"color: #000080; text-decoration-color: #000080\">INFO    </span> step <span style=\"color: #008080; text-decoration-color: #008080; font-weight: bold\">3200</span> | loss <span style=\"color: #008080; text-decoration-color: #008080; font-weight: bold\">0.1344</span>                                                       <a href=\"file:///tmp/ipykernel_30654/2619882089.py\" target=\"_blank\"><span style=\"color: #7f7f7f; text-decoration-color: #7f7f7f\">2619882089.py</span></a><span style=\"color: #7f7f7f; text-decoration-color: #7f7f7f\">:</span><a href=\"file:///tmp/ipykernel_30654/2619882089.py#106\" target=\"_blank\"><span style=\"color: #7f7f7f; text-decoration-color: #7f7f7f\">106</span></a>\n",
       "</pre>\n"
      ],
      "text/plain": [
       "\u001b[2;36m[11:21:35]\u001b[0m\u001b[2;36m \u001b[0m\u001b[34mINFO    \u001b[0m step \u001b[1;36m3200\u001b[0m | loss \u001b[1;36m0.1344\u001b[0m                                                       \u001b]8;id=964047;file:///tmp/ipykernel_30654/2619882089.py\u001b\\\u001b[2m2619882089.py\u001b[0m\u001b]8;;\u001b\\\u001b[2m:\u001b[0m\u001b]8;id=894141;file:///tmp/ipykernel_30654/2619882089.py#106\u001b\\\u001b[2m106\u001b[0m\u001b]8;;\u001b\\\n"
      ]
     },
     "metadata": {},
     "output_type": "display_data"
    },
    {
     "data": {
      "text/html": [
       "<pre style=\"white-space:pre;overflow-x:auto;line-height:normal;font-family:Menlo,'DejaVu Sans Mono',consolas,'Courier New',monospace\"><span style=\"color: #7fbfbf; text-decoration-color: #7fbfbf\">[11:21:50] </span><span style=\"color: #000080; text-decoration-color: #000080\">INFO    </span> step <span style=\"color: #008080; text-decoration-color: #008080; font-weight: bold\">3250</span> | loss <span style=\"color: #008080; text-decoration-color: #008080; font-weight: bold\">0.0471</span>                                                       <a href=\"file:///tmp/ipykernel_30654/2619882089.py\" target=\"_blank\"><span style=\"color: #7f7f7f; text-decoration-color: #7f7f7f\">2619882089.py</span></a><span style=\"color: #7f7f7f; text-decoration-color: #7f7f7f\">:</span><a href=\"file:///tmp/ipykernel_30654/2619882089.py#106\" target=\"_blank\"><span style=\"color: #7f7f7f; text-decoration-color: #7f7f7f\">106</span></a>\n",
       "</pre>\n"
      ],
      "text/plain": [
       "\u001b[2;36m[11:21:50]\u001b[0m\u001b[2;36m \u001b[0m\u001b[34mINFO    \u001b[0m step \u001b[1;36m3250\u001b[0m | loss \u001b[1;36m0.0471\u001b[0m                                                       \u001b]8;id=84002;file:///tmp/ipykernel_30654/2619882089.py\u001b\\\u001b[2m2619882089.py\u001b[0m\u001b]8;;\u001b\\\u001b[2m:\u001b[0m\u001b]8;id=892697;file:///tmp/ipykernel_30654/2619882089.py#106\u001b\\\u001b[2m106\u001b[0m\u001b]8;;\u001b\\\n"
      ]
     },
     "metadata": {},
     "output_type": "display_data"
    },
    {
     "data": {
      "text/html": [
       "<pre style=\"white-space:pre;overflow-x:auto;line-height:normal;font-family:Menlo,'DejaVu Sans Mono',consolas,'Courier New',monospace\"><span style=\"color: #7fbfbf; text-decoration-color: #7fbfbf\">[11:22:08] </span><span style=\"color: #000080; text-decoration-color: #000080\">INFO    </span> step <span style=\"color: #008080; text-decoration-color: #008080; font-weight: bold\">3300</span> | loss <span style=\"color: #008080; text-decoration-color: #008080; font-weight: bold\">0.3121</span>                                                       <a href=\"file:///tmp/ipykernel_30654/2619882089.py\" target=\"_blank\"><span style=\"color: #7f7f7f; text-decoration-color: #7f7f7f\">2619882089.py</span></a><span style=\"color: #7f7f7f; text-decoration-color: #7f7f7f\">:</span><a href=\"file:///tmp/ipykernel_30654/2619882089.py#106\" target=\"_blank\"><span style=\"color: #7f7f7f; text-decoration-color: #7f7f7f\">106</span></a>\n",
       "</pre>\n"
      ],
      "text/plain": [
       "\u001b[2;36m[11:22:08]\u001b[0m\u001b[2;36m \u001b[0m\u001b[34mINFO    \u001b[0m step \u001b[1;36m3300\u001b[0m | loss \u001b[1;36m0.3121\u001b[0m                                                       \u001b]8;id=708011;file:///tmp/ipykernel_30654/2619882089.py\u001b\\\u001b[2m2619882089.py\u001b[0m\u001b]8;;\u001b\\\u001b[2m:\u001b[0m\u001b]8;id=903682;file:///tmp/ipykernel_30654/2619882089.py#106\u001b\\\u001b[2m106\u001b[0m\u001b]8;;\u001b\\\n"
      ]
     },
     "metadata": {},
     "output_type": "display_data"
    },
    {
     "data": {
      "text/html": [
       "<pre style=\"white-space:pre;overflow-x:auto;line-height:normal;font-family:Menlo,'DejaVu Sans Mono',consolas,'Courier New',monospace\"><span style=\"color: #7fbfbf; text-decoration-color: #7fbfbf\">[11:22:23] </span><span style=\"color: #000080; text-decoration-color: #000080\">INFO    </span> step <span style=\"color: #008080; text-decoration-color: #008080; font-weight: bold\">3350</span> | loss <span style=\"color: #008080; text-decoration-color: #008080; font-weight: bold\">0.1186</span>                                                       <a href=\"file:///tmp/ipykernel_30654/2619882089.py\" target=\"_blank\"><span style=\"color: #7f7f7f; text-decoration-color: #7f7f7f\">2619882089.py</span></a><span style=\"color: #7f7f7f; text-decoration-color: #7f7f7f\">:</span><a href=\"file:///tmp/ipykernel_30654/2619882089.py#106\" target=\"_blank\"><span style=\"color: #7f7f7f; text-decoration-color: #7f7f7f\">106</span></a>\n",
       "</pre>\n"
      ],
      "text/plain": [
       "\u001b[2;36m[11:22:23]\u001b[0m\u001b[2;36m \u001b[0m\u001b[34mINFO    \u001b[0m step \u001b[1;36m3350\u001b[0m | loss \u001b[1;36m0.1186\u001b[0m                                                       \u001b]8;id=933533;file:///tmp/ipykernel_30654/2619882089.py\u001b\\\u001b[2m2619882089.py\u001b[0m\u001b]8;;\u001b\\\u001b[2m:\u001b[0m\u001b]8;id=597347;file:///tmp/ipykernel_30654/2619882089.py#106\u001b\\\u001b[2m106\u001b[0m\u001b]8;;\u001b\\\n"
      ]
     },
     "metadata": {},
     "output_type": "display_data"
    },
    {
     "data": {
      "text/html": [
       "<pre style=\"white-space:pre;overflow-x:auto;line-height:normal;font-family:Menlo,'DejaVu Sans Mono',consolas,'Courier New',monospace\"><span style=\"color: #7fbfbf; text-decoration-color: #7fbfbf\">[11:22:41] </span><span style=\"color: #000080; text-decoration-color: #000080\">INFO    </span> step <span style=\"color: #008080; text-decoration-color: #008080; font-weight: bold\">3400</span> | loss <span style=\"color: #008080; text-decoration-color: #008080; font-weight: bold\">0.0063</span>                                                       <a href=\"file:///tmp/ipykernel_30654/2619882089.py\" target=\"_blank\"><span style=\"color: #7f7f7f; text-decoration-color: #7f7f7f\">2619882089.py</span></a><span style=\"color: #7f7f7f; text-decoration-color: #7f7f7f\">:</span><a href=\"file:///tmp/ipykernel_30654/2619882089.py#106\" target=\"_blank\"><span style=\"color: #7f7f7f; text-decoration-color: #7f7f7f\">106</span></a>\n",
       "</pre>\n"
      ],
      "text/plain": [
       "\u001b[2;36m[11:22:41]\u001b[0m\u001b[2;36m \u001b[0m\u001b[34mINFO    \u001b[0m step \u001b[1;36m3400\u001b[0m | loss \u001b[1;36m0.0063\u001b[0m                                                       \u001b]8;id=649468;file:///tmp/ipykernel_30654/2619882089.py\u001b\\\u001b[2m2619882089.py\u001b[0m\u001b]8;;\u001b\\\u001b[2m:\u001b[0m\u001b]8;id=85965;file:///tmp/ipykernel_30654/2619882089.py#106\u001b\\\u001b[2m106\u001b[0m\u001b]8;;\u001b\\\n"
      ]
     },
     "metadata": {},
     "output_type": "display_data"
    },
    {
     "data": {
      "text/html": [
       "<pre style=\"white-space:pre;overflow-x:auto;line-height:normal;font-family:Menlo,'DejaVu Sans Mono',consolas,'Courier New',monospace\"><span style=\"color: #7fbfbf; text-decoration-color: #7fbfbf\">[11:22:56] </span><span style=\"color: #000080; text-decoration-color: #000080\">INFO    </span> step <span style=\"color: #008080; text-decoration-color: #008080; font-weight: bold\">3450</span> | loss <span style=\"color: #008080; text-decoration-color: #008080; font-weight: bold\">0.0613</span>                                                       <a href=\"file:///tmp/ipykernel_30654/2619882089.py\" target=\"_blank\"><span style=\"color: #7f7f7f; text-decoration-color: #7f7f7f\">2619882089.py</span></a><span style=\"color: #7f7f7f; text-decoration-color: #7f7f7f\">:</span><a href=\"file:///tmp/ipykernel_30654/2619882089.py#106\" target=\"_blank\"><span style=\"color: #7f7f7f; text-decoration-color: #7f7f7f\">106</span></a>\n",
       "</pre>\n"
      ],
      "text/plain": [
       "\u001b[2;36m[11:22:56]\u001b[0m\u001b[2;36m \u001b[0m\u001b[34mINFO    \u001b[0m step \u001b[1;36m3450\u001b[0m | loss \u001b[1;36m0.0613\u001b[0m                                                       \u001b]8;id=548177;file:///tmp/ipykernel_30654/2619882089.py\u001b\\\u001b[2m2619882089.py\u001b[0m\u001b]8;;\u001b\\\u001b[2m:\u001b[0m\u001b]8;id=331737;file:///tmp/ipykernel_30654/2619882089.py#106\u001b\\\u001b[2m106\u001b[0m\u001b]8;;\u001b\\\n"
      ]
     },
     "metadata": {},
     "output_type": "display_data"
    },
    {
     "data": {
      "text/html": [
       "<pre style=\"white-space:pre;overflow-x:auto;line-height:normal;font-family:Menlo,'DejaVu Sans Mono',consolas,'Courier New',monospace\"><span style=\"color: #7fbfbf; text-decoration-color: #7fbfbf\">[11:23:11] </span><span style=\"color: #000080; text-decoration-color: #000080\">INFO    </span> step <span style=\"color: #008080; text-decoration-color: #008080; font-weight: bold\">3500</span> | loss <span style=\"color: #008080; text-decoration-color: #008080; font-weight: bold\">0.2120</span>                                                       <a href=\"file:///tmp/ipykernel_30654/2619882089.py\" target=\"_blank\"><span style=\"color: #7f7f7f; text-decoration-color: #7f7f7f\">2619882089.py</span></a><span style=\"color: #7f7f7f; text-decoration-color: #7f7f7f\">:</span><a href=\"file:///tmp/ipykernel_30654/2619882089.py#106\" target=\"_blank\"><span style=\"color: #7f7f7f; text-decoration-color: #7f7f7f\">106</span></a>\n",
       "</pre>\n"
      ],
      "text/plain": [
       "\u001b[2;36m[11:23:11]\u001b[0m\u001b[2;36m \u001b[0m\u001b[34mINFO    \u001b[0m step \u001b[1;36m3500\u001b[0m | loss \u001b[1;36m0.2120\u001b[0m                                                       \u001b]8;id=750981;file:///tmp/ipykernel_30654/2619882089.py\u001b\\\u001b[2m2619882089.py\u001b[0m\u001b]8;;\u001b\\\u001b[2m:\u001b[0m\u001b]8;id=329445;file:///tmp/ipykernel_30654/2619882089.py#106\u001b\\\u001b[2m106\u001b[0m\u001b]8;;\u001b\\\n"
      ]
     },
     "metadata": {},
     "output_type": "display_data"
    },
    {
     "data": {
      "text/html": [
       "<pre style=\"white-space:pre;overflow-x:auto;line-height:normal;font-family:Menlo,'DejaVu Sans Mono',consolas,'Courier New',monospace\"><span style=\"color: #7fbfbf; text-decoration-color: #7fbfbf\">[11:23:29] </span><span style=\"color: #000080; text-decoration-color: #000080\">INFO    </span> step <span style=\"color: #008080; text-decoration-color: #008080; font-weight: bold\">3550</span> | loss <span style=\"color: #008080; text-decoration-color: #008080; font-weight: bold\">0.0320</span>                                                       <a href=\"file:///tmp/ipykernel_30654/2619882089.py\" target=\"_blank\"><span style=\"color: #7f7f7f; text-decoration-color: #7f7f7f\">2619882089.py</span></a><span style=\"color: #7f7f7f; text-decoration-color: #7f7f7f\">:</span><a href=\"file:///tmp/ipykernel_30654/2619882089.py#106\" target=\"_blank\"><span style=\"color: #7f7f7f; text-decoration-color: #7f7f7f\">106</span></a>\n",
       "</pre>\n"
      ],
      "text/plain": [
       "\u001b[2;36m[11:23:29]\u001b[0m\u001b[2;36m \u001b[0m\u001b[34mINFO    \u001b[0m step \u001b[1;36m3550\u001b[0m | loss \u001b[1;36m0.0320\u001b[0m                                                       \u001b]8;id=704318;file:///tmp/ipykernel_30654/2619882089.py\u001b\\\u001b[2m2619882089.py\u001b[0m\u001b]8;;\u001b\\\u001b[2m:\u001b[0m\u001b]8;id=676856;file:///tmp/ipykernel_30654/2619882089.py#106\u001b\\\u001b[2m106\u001b[0m\u001b]8;;\u001b\\\n"
      ]
     },
     "metadata": {},
     "output_type": "display_data"
    },
    {
     "data": {
      "text/html": [
       "<pre style=\"white-space:pre;overflow-x:auto;line-height:normal;font-family:Menlo,'DejaVu Sans Mono',consolas,'Courier New',monospace\"><span style=\"color: #7fbfbf; text-decoration-color: #7fbfbf\">[11:23:45] </span><span style=\"color: #000080; text-decoration-color: #000080\">INFO    </span> step <span style=\"color: #008080; text-decoration-color: #008080; font-weight: bold\">3600</span> | loss <span style=\"color: #008080; text-decoration-color: #008080; font-weight: bold\">0.0223</span>                                                       <a href=\"file:///tmp/ipykernel_30654/2619882089.py\" target=\"_blank\"><span style=\"color: #7f7f7f; text-decoration-color: #7f7f7f\">2619882089.py</span></a><span style=\"color: #7f7f7f; text-decoration-color: #7f7f7f\">:</span><a href=\"file:///tmp/ipykernel_30654/2619882089.py#106\" target=\"_blank\"><span style=\"color: #7f7f7f; text-decoration-color: #7f7f7f\">106</span></a>\n",
       "</pre>\n"
      ],
      "text/plain": [
       "\u001b[2;36m[11:23:45]\u001b[0m\u001b[2;36m \u001b[0m\u001b[34mINFO    \u001b[0m step \u001b[1;36m3600\u001b[0m | loss \u001b[1;36m0.0223\u001b[0m                                                       \u001b]8;id=788387;file:///tmp/ipykernel_30654/2619882089.py\u001b\\\u001b[2m2619882089.py\u001b[0m\u001b]8;;\u001b\\\u001b[2m:\u001b[0m\u001b]8;id=981188;file:///tmp/ipykernel_30654/2619882089.py#106\u001b\\\u001b[2m106\u001b[0m\u001b]8;;\u001b\\\n"
      ]
     },
     "metadata": {},
     "output_type": "display_data"
    },
    {
     "data": {
      "text/html": [
       "<pre style=\"white-space:pre;overflow-x:auto;line-height:normal;font-family:Menlo,'DejaVu Sans Mono',consolas,'Courier New',monospace\"><span style=\"color: #7fbfbf; text-decoration-color: #7fbfbf\">[11:24:03] </span><span style=\"color: #000080; text-decoration-color: #000080\">INFO    </span> step <span style=\"color: #008080; text-decoration-color: #008080; font-weight: bold\">3650</span> | loss <span style=\"color: #008080; text-decoration-color: #008080; font-weight: bold\">0.1797</span>                                                       <a href=\"file:///tmp/ipykernel_30654/2619882089.py\" target=\"_blank\"><span style=\"color: #7f7f7f; text-decoration-color: #7f7f7f\">2619882089.py</span></a><span style=\"color: #7f7f7f; text-decoration-color: #7f7f7f\">:</span><a href=\"file:///tmp/ipykernel_30654/2619882089.py#106\" target=\"_blank\"><span style=\"color: #7f7f7f; text-decoration-color: #7f7f7f\">106</span></a>\n",
       "</pre>\n"
      ],
      "text/plain": [
       "\u001b[2;36m[11:24:03]\u001b[0m\u001b[2;36m \u001b[0m\u001b[34mINFO    \u001b[0m step \u001b[1;36m3650\u001b[0m | loss \u001b[1;36m0.1797\u001b[0m                                                       \u001b]8;id=590341;file:///tmp/ipykernel_30654/2619882089.py\u001b\\\u001b[2m2619882089.py\u001b[0m\u001b]8;;\u001b\\\u001b[2m:\u001b[0m\u001b]8;id=104837;file:///tmp/ipykernel_30654/2619882089.py#106\u001b\\\u001b[2m106\u001b[0m\u001b]8;;\u001b\\\n"
      ]
     },
     "metadata": {},
     "output_type": "display_data"
    },
    {
     "data": {
      "text/html": [
       "<pre style=\"white-space:pre;overflow-x:auto;line-height:normal;font-family:Menlo,'DejaVu Sans Mono',consolas,'Courier New',monospace\"><span style=\"color: #7fbfbf; text-decoration-color: #7fbfbf\">[11:24:18] </span><span style=\"color: #000080; text-decoration-color: #000080\">INFO    </span> step <span style=\"color: #008080; text-decoration-color: #008080; font-weight: bold\">3700</span> | loss <span style=\"color: #008080; text-decoration-color: #008080; font-weight: bold\">0.2163</span>                                                       <a href=\"file:///tmp/ipykernel_30654/2619882089.py\" target=\"_blank\"><span style=\"color: #7f7f7f; text-decoration-color: #7f7f7f\">2619882089.py</span></a><span style=\"color: #7f7f7f; text-decoration-color: #7f7f7f\">:</span><a href=\"file:///tmp/ipykernel_30654/2619882089.py#106\" target=\"_blank\"><span style=\"color: #7f7f7f; text-decoration-color: #7f7f7f\">106</span></a>\n",
       "</pre>\n"
      ],
      "text/plain": [
       "\u001b[2;36m[11:24:18]\u001b[0m\u001b[2;36m \u001b[0m\u001b[34mINFO    \u001b[0m step \u001b[1;36m3700\u001b[0m | loss \u001b[1;36m0.2163\u001b[0m                                                       \u001b]8;id=278082;file:///tmp/ipykernel_30654/2619882089.py\u001b\\\u001b[2m2619882089.py\u001b[0m\u001b]8;;\u001b\\\u001b[2m:\u001b[0m\u001b]8;id=138890;file:///tmp/ipykernel_30654/2619882089.py#106\u001b\\\u001b[2m106\u001b[0m\u001b]8;;\u001b\\\n"
      ]
     },
     "metadata": {},
     "output_type": "display_data"
    },
    {
     "data": {
      "text/html": [
       "<pre style=\"white-space:pre;overflow-x:auto;line-height:normal;font-family:Menlo,'DejaVu Sans Mono',consolas,'Courier New',monospace\"><span style=\"color: #7fbfbf; text-decoration-color: #7fbfbf\">[11:24:33] </span><span style=\"color: #000080; text-decoration-color: #000080\">INFO    </span> step <span style=\"color: #008080; text-decoration-color: #008080; font-weight: bold\">3750</span> | loss <span style=\"color: #008080; text-decoration-color: #008080; font-weight: bold\">0.4430</span>                                                       <a href=\"file:///tmp/ipykernel_30654/2619882089.py\" target=\"_blank\"><span style=\"color: #7f7f7f; text-decoration-color: #7f7f7f\">2619882089.py</span></a><span style=\"color: #7f7f7f; text-decoration-color: #7f7f7f\">:</span><a href=\"file:///tmp/ipykernel_30654/2619882089.py#106\" target=\"_blank\"><span style=\"color: #7f7f7f; text-decoration-color: #7f7f7f\">106</span></a>\n",
       "</pre>\n"
      ],
      "text/plain": [
       "\u001b[2;36m[11:24:33]\u001b[0m\u001b[2;36m \u001b[0m\u001b[34mINFO    \u001b[0m step \u001b[1;36m3750\u001b[0m | loss \u001b[1;36m0.4430\u001b[0m                                                       \u001b]8;id=921981;file:///tmp/ipykernel_30654/2619882089.py\u001b\\\u001b[2m2619882089.py\u001b[0m\u001b]8;;\u001b\\\u001b[2m:\u001b[0m\u001b]8;id=256150;file:///tmp/ipykernel_30654/2619882089.py#106\u001b\\\u001b[2m106\u001b[0m\u001b]8;;\u001b\\\n"
      ]
     },
     "metadata": {},
     "output_type": "display_data"
    },
    {
     "data": {
      "text/html": [
       "<pre style=\"white-space:pre;overflow-x:auto;line-height:normal;font-family:Menlo,'DejaVu Sans Mono',consolas,'Courier New',monospace\"><span style=\"color: #7fbfbf; text-decoration-color: #7fbfbf\">[11:24:51] </span><span style=\"color: #000080; text-decoration-color: #000080\">INFO    </span> step <span style=\"color: #008080; text-decoration-color: #008080; font-weight: bold\">3800</span> | loss <span style=\"color: #008080; text-decoration-color: #008080; font-weight: bold\">0.0143</span>                                                       <a href=\"file:///tmp/ipykernel_30654/2619882089.py\" target=\"_blank\"><span style=\"color: #7f7f7f; text-decoration-color: #7f7f7f\">2619882089.py</span></a><span style=\"color: #7f7f7f; text-decoration-color: #7f7f7f\">:</span><a href=\"file:///tmp/ipykernel_30654/2619882089.py#106\" target=\"_blank\"><span style=\"color: #7f7f7f; text-decoration-color: #7f7f7f\">106</span></a>\n",
       "</pre>\n"
      ],
      "text/plain": [
       "\u001b[2;36m[11:24:51]\u001b[0m\u001b[2;36m \u001b[0m\u001b[34mINFO    \u001b[0m step \u001b[1;36m3800\u001b[0m | loss \u001b[1;36m0.0143\u001b[0m                                                       \u001b]8;id=874244;file:///tmp/ipykernel_30654/2619882089.py\u001b\\\u001b[2m2619882089.py\u001b[0m\u001b]8;;\u001b\\\u001b[2m:\u001b[0m\u001b]8;id=569605;file:///tmp/ipykernel_30654/2619882089.py#106\u001b\\\u001b[2m106\u001b[0m\u001b]8;;\u001b\\\n"
      ]
     },
     "metadata": {},
     "output_type": "display_data"
    },
    {
     "data": {
      "text/html": [
       "<pre style=\"white-space:pre;overflow-x:auto;line-height:normal;font-family:Menlo,'DejaVu Sans Mono',consolas,'Courier New',monospace\"><span style=\"color: #7fbfbf; text-decoration-color: #7fbfbf\">[11:25:06] </span><span style=\"color: #000080; text-decoration-color: #000080\">INFO    </span> step <span style=\"color: #008080; text-decoration-color: #008080; font-weight: bold\">3850</span> | loss <span style=\"color: #008080; text-decoration-color: #008080; font-weight: bold\">0.0959</span>                                                       <a href=\"file:///tmp/ipykernel_30654/2619882089.py\" target=\"_blank\"><span style=\"color: #7f7f7f; text-decoration-color: #7f7f7f\">2619882089.py</span></a><span style=\"color: #7f7f7f; text-decoration-color: #7f7f7f\">:</span><a href=\"file:///tmp/ipykernel_30654/2619882089.py#106\" target=\"_blank\"><span style=\"color: #7f7f7f; text-decoration-color: #7f7f7f\">106</span></a>\n",
       "</pre>\n"
      ],
      "text/plain": [
       "\u001b[2;36m[11:25:06]\u001b[0m\u001b[2;36m \u001b[0m\u001b[34mINFO    \u001b[0m step \u001b[1;36m3850\u001b[0m | loss \u001b[1;36m0.0959\u001b[0m                                                       \u001b]8;id=685743;file:///tmp/ipykernel_30654/2619882089.py\u001b\\\u001b[2m2619882089.py\u001b[0m\u001b]8;;\u001b\\\u001b[2m:\u001b[0m\u001b]8;id=554634;file:///tmp/ipykernel_30654/2619882089.py#106\u001b\\\u001b[2m106\u001b[0m\u001b]8;;\u001b\\\n"
      ]
     },
     "metadata": {},
     "output_type": "display_data"
    },
    {
     "data": {
      "text/html": [
       "<pre style=\"white-space:pre;overflow-x:auto;line-height:normal;font-family:Menlo,'DejaVu Sans Mono',consolas,'Courier New',monospace\"><span style=\"color: #7fbfbf; text-decoration-color: #7fbfbf\">[11:25:24] </span><span style=\"color: #000080; text-decoration-color: #000080\">INFO    </span> step <span style=\"color: #008080; text-decoration-color: #008080; font-weight: bold\">3900</span> | loss <span style=\"color: #008080; text-decoration-color: #008080; font-weight: bold\">0.0359</span>                                                       <a href=\"file:///tmp/ipykernel_30654/2619882089.py\" target=\"_blank\"><span style=\"color: #7f7f7f; text-decoration-color: #7f7f7f\">2619882089.py</span></a><span style=\"color: #7f7f7f; text-decoration-color: #7f7f7f\">:</span><a href=\"file:///tmp/ipykernel_30654/2619882089.py#106\" target=\"_blank\"><span style=\"color: #7f7f7f; text-decoration-color: #7f7f7f\">106</span></a>\n",
       "</pre>\n"
      ],
      "text/plain": [
       "\u001b[2;36m[11:25:24]\u001b[0m\u001b[2;36m \u001b[0m\u001b[34mINFO    \u001b[0m step \u001b[1;36m3900\u001b[0m | loss \u001b[1;36m0.0359\u001b[0m                                                       \u001b]8;id=313921;file:///tmp/ipykernel_30654/2619882089.py\u001b\\\u001b[2m2619882089.py\u001b[0m\u001b]8;;\u001b\\\u001b[2m:\u001b[0m\u001b]8;id=977017;file:///tmp/ipykernel_30654/2619882089.py#106\u001b\\\u001b[2m106\u001b[0m\u001b]8;;\u001b\\\n"
      ]
     },
     "metadata": {},
     "output_type": "display_data"
    },
    {
     "data": {
      "text/html": [
       "<pre style=\"white-space:pre;overflow-x:auto;line-height:normal;font-family:Menlo,'DejaVu Sans Mono',consolas,'Courier New',monospace\"><span style=\"color: #7fbfbf; text-decoration-color: #7fbfbf\">[11:25:39] </span><span style=\"color: #000080; text-decoration-color: #000080\">INFO    </span> step <span style=\"color: #008080; text-decoration-color: #008080; font-weight: bold\">3950</span> | loss <span style=\"color: #008080; text-decoration-color: #008080; font-weight: bold\">0.0899</span>                                                       <a href=\"file:///tmp/ipykernel_30654/2619882089.py\" target=\"_blank\"><span style=\"color: #7f7f7f; text-decoration-color: #7f7f7f\">2619882089.py</span></a><span style=\"color: #7f7f7f; text-decoration-color: #7f7f7f\">:</span><a href=\"file:///tmp/ipykernel_30654/2619882089.py#106\" target=\"_blank\"><span style=\"color: #7f7f7f; text-decoration-color: #7f7f7f\">106</span></a>\n",
       "</pre>\n"
      ],
      "text/plain": [
       "\u001b[2;36m[11:25:39]\u001b[0m\u001b[2;36m \u001b[0m\u001b[34mINFO    \u001b[0m step \u001b[1;36m3950\u001b[0m | loss \u001b[1;36m0.0899\u001b[0m                                                       \u001b]8;id=140814;file:///tmp/ipykernel_30654/2619882089.py\u001b\\\u001b[2m2619882089.py\u001b[0m\u001b]8;;\u001b\\\u001b[2m:\u001b[0m\u001b]8;id=277312;file:///tmp/ipykernel_30654/2619882089.py#106\u001b\\\u001b[2m106\u001b[0m\u001b]8;;\u001b\\\n"
      ]
     },
     "metadata": {},
     "output_type": "display_data"
    },
    {
     "data": {
      "text/html": [
       "<pre style=\"white-space:pre;overflow-x:auto;line-height:normal;font-family:Menlo,'DejaVu Sans Mono',consolas,'Courier New',monospace\"><span style=\"color: #7fbfbf; text-decoration-color: #7fbfbf\">[11:25:54] </span><span style=\"color: #000080; text-decoration-color: #000080\">INFO    </span> step <span style=\"color: #008080; text-decoration-color: #008080; font-weight: bold\">4000</span> | loss <span style=\"color: #008080; text-decoration-color: #008080; font-weight: bold\">0.0105</span>                                                       <a href=\"file:///tmp/ipykernel_30654/2619882089.py\" target=\"_blank\"><span style=\"color: #7f7f7f; text-decoration-color: #7f7f7f\">2619882089.py</span></a><span style=\"color: #7f7f7f; text-decoration-color: #7f7f7f\">:</span><a href=\"file:///tmp/ipykernel_30654/2619882089.py#106\" target=\"_blank\"><span style=\"color: #7f7f7f; text-decoration-color: #7f7f7f\">106</span></a>\n",
       "</pre>\n"
      ],
      "text/plain": [
       "\u001b[2;36m[11:25:54]\u001b[0m\u001b[2;36m \u001b[0m\u001b[34mINFO    \u001b[0m step \u001b[1;36m4000\u001b[0m | loss \u001b[1;36m0.0105\u001b[0m                                                       \u001b]8;id=580097;file:///tmp/ipykernel_30654/2619882089.py\u001b\\\u001b[2m2619882089.py\u001b[0m\u001b]8;;\u001b\\\u001b[2m:\u001b[0m\u001b]8;id=162998;file:///tmp/ipykernel_30654/2619882089.py#106\u001b\\\u001b[2m106\u001b[0m\u001b]8;;\u001b\\\n"
      ]
     },
     "metadata": {},
     "output_type": "display_data"
    },
    {
     "data": {
      "text/html": [
       "<pre style=\"white-space:pre;overflow-x:auto;line-height:normal;font-family:Menlo,'DejaVu Sans Mono',consolas,'Courier New',monospace\"><span style=\"color: #7fbfbf; text-decoration-color: #7fbfbf\">[11:26:12] </span><span style=\"color: #000080; text-decoration-color: #000080\">INFO    </span> step <span style=\"color: #008080; text-decoration-color: #008080; font-weight: bold\">4050</span> | loss <span style=\"color: #008080; text-decoration-color: #008080; font-weight: bold\">0.0883</span>                                                       <a href=\"file:///tmp/ipykernel_30654/2619882089.py\" target=\"_blank\"><span style=\"color: #7f7f7f; text-decoration-color: #7f7f7f\">2619882089.py</span></a><span style=\"color: #7f7f7f; text-decoration-color: #7f7f7f\">:</span><a href=\"file:///tmp/ipykernel_30654/2619882089.py#106\" target=\"_blank\"><span style=\"color: #7f7f7f; text-decoration-color: #7f7f7f\">106</span></a>\n",
       "</pre>\n"
      ],
      "text/plain": [
       "\u001b[2;36m[11:26:12]\u001b[0m\u001b[2;36m \u001b[0m\u001b[34mINFO    \u001b[0m step \u001b[1;36m4050\u001b[0m | loss \u001b[1;36m0.0883\u001b[0m                                                       \u001b]8;id=752470;file:///tmp/ipykernel_30654/2619882089.py\u001b\\\u001b[2m2619882089.py\u001b[0m\u001b]8;;\u001b\\\u001b[2m:\u001b[0m\u001b]8;id=359536;file:///tmp/ipykernel_30654/2619882089.py#106\u001b\\\u001b[2m106\u001b[0m\u001b]8;;\u001b\\\n"
      ]
     },
     "metadata": {},
     "output_type": "display_data"
    },
    {
     "data": {
      "text/html": [
       "<pre style=\"white-space:pre;overflow-x:auto;line-height:normal;font-family:Menlo,'DejaVu Sans Mono',consolas,'Courier New',monospace\"><span style=\"color: #7fbfbf; text-decoration-color: #7fbfbf\">[11:26:28] </span><span style=\"color: #000080; text-decoration-color: #000080\">INFO    </span> step <span style=\"color: #008080; text-decoration-color: #008080; font-weight: bold\">4100</span> | loss <span style=\"color: #008080; text-decoration-color: #008080; font-weight: bold\">0.0089</span>                                                       <a href=\"file:///tmp/ipykernel_30654/2619882089.py\" target=\"_blank\"><span style=\"color: #7f7f7f; text-decoration-color: #7f7f7f\">2619882089.py</span></a><span style=\"color: #7f7f7f; text-decoration-color: #7f7f7f\">:</span><a href=\"file:///tmp/ipykernel_30654/2619882089.py#106\" target=\"_blank\"><span style=\"color: #7f7f7f; text-decoration-color: #7f7f7f\">106</span></a>\n",
       "</pre>\n"
      ],
      "text/plain": [
       "\u001b[2;36m[11:26:28]\u001b[0m\u001b[2;36m \u001b[0m\u001b[34mINFO    \u001b[0m step \u001b[1;36m4100\u001b[0m | loss \u001b[1;36m0.0089\u001b[0m                                                       \u001b]8;id=276807;file:///tmp/ipykernel_30654/2619882089.py\u001b\\\u001b[2m2619882089.py\u001b[0m\u001b]8;;\u001b\\\u001b[2m:\u001b[0m\u001b]8;id=529959;file:///tmp/ipykernel_30654/2619882089.py#106\u001b\\\u001b[2m106\u001b[0m\u001b]8;;\u001b\\\n"
      ]
     },
     "metadata": {},
     "output_type": "display_data"
    },
    {
     "data": {
      "text/html": [
       "<pre style=\"white-space:pre;overflow-x:auto;line-height:normal;font-family:Menlo,'DejaVu Sans Mono',consolas,'Courier New',monospace\"><span style=\"color: #7fbfbf; text-decoration-color: #7fbfbf\">[11:26:45] </span><span style=\"color: #000080; text-decoration-color: #000080\">INFO    </span> step <span style=\"color: #008080; text-decoration-color: #008080; font-weight: bold\">4150</span> | loss <span style=\"color: #008080; text-decoration-color: #008080; font-weight: bold\">0.2252</span>                                                       <a href=\"file:///tmp/ipykernel_30654/2619882089.py\" target=\"_blank\"><span style=\"color: #7f7f7f; text-decoration-color: #7f7f7f\">2619882089.py</span></a><span style=\"color: #7f7f7f; text-decoration-color: #7f7f7f\">:</span><a href=\"file:///tmp/ipykernel_30654/2619882089.py#106\" target=\"_blank\"><span style=\"color: #7f7f7f; text-decoration-color: #7f7f7f\">106</span></a>\n",
       "</pre>\n"
      ],
      "text/plain": [
       "\u001b[2;36m[11:26:45]\u001b[0m\u001b[2;36m \u001b[0m\u001b[34mINFO    \u001b[0m step \u001b[1;36m4150\u001b[0m | loss \u001b[1;36m0.2252\u001b[0m                                                       \u001b]8;id=887204;file:///tmp/ipykernel_30654/2619882089.py\u001b\\\u001b[2m2619882089.py\u001b[0m\u001b]8;;\u001b\\\u001b[2m:\u001b[0m\u001b]8;id=53266;file:///tmp/ipykernel_30654/2619882089.py#106\u001b\\\u001b[2m106\u001b[0m\u001b]8;;\u001b\\\n"
      ]
     },
     "metadata": {},
     "output_type": "display_data"
    },
    {
     "data": {
      "text/html": [
       "<pre style=\"white-space:pre;overflow-x:auto;line-height:normal;font-family:Menlo,'DejaVu Sans Mono',consolas,'Courier New',monospace\"><span style=\"color: #7fbfbf; text-decoration-color: #7fbfbf\">[11:27:01] </span><span style=\"color: #000080; text-decoration-color: #000080\">INFO    </span> step <span style=\"color: #008080; text-decoration-color: #008080; font-weight: bold\">4200</span> | loss <span style=\"color: #008080; text-decoration-color: #008080; font-weight: bold\">0.0286</span>                                                       <a href=\"file:///tmp/ipykernel_30654/2619882089.py\" target=\"_blank\"><span style=\"color: #7f7f7f; text-decoration-color: #7f7f7f\">2619882089.py</span></a><span style=\"color: #7f7f7f; text-decoration-color: #7f7f7f\">:</span><a href=\"file:///tmp/ipykernel_30654/2619882089.py#106\" target=\"_blank\"><span style=\"color: #7f7f7f; text-decoration-color: #7f7f7f\">106</span></a>\n",
       "</pre>\n"
      ],
      "text/plain": [
       "\u001b[2;36m[11:27:01]\u001b[0m\u001b[2;36m \u001b[0m\u001b[34mINFO    \u001b[0m step \u001b[1;36m4200\u001b[0m | loss \u001b[1;36m0.0286\u001b[0m                                                       \u001b]8;id=290120;file:///tmp/ipykernel_30654/2619882089.py\u001b\\\u001b[2m2619882089.py\u001b[0m\u001b]8;;\u001b\\\u001b[2m:\u001b[0m\u001b]8;id=46228;file:///tmp/ipykernel_30654/2619882089.py#106\u001b\\\u001b[2m106\u001b[0m\u001b]8;;\u001b\\\n"
      ]
     },
     "metadata": {},
     "output_type": "display_data"
    },
    {
     "data": {
      "text/html": [
       "<pre style=\"white-space:pre;overflow-x:auto;line-height:normal;font-family:Menlo,'DejaVu Sans Mono',consolas,'Courier New',monospace\"><span style=\"color: #7fbfbf; text-decoration-color: #7fbfbf\">[11:27:16] </span><span style=\"color: #000080; text-decoration-color: #000080\">INFO    </span> step <span style=\"color: #008080; text-decoration-color: #008080; font-weight: bold\">4250</span> | loss <span style=\"color: #008080; text-decoration-color: #008080; font-weight: bold\">0.1566</span>                                                       <a href=\"file:///tmp/ipykernel_30654/2619882089.py\" target=\"_blank\"><span style=\"color: #7f7f7f; text-decoration-color: #7f7f7f\">2619882089.py</span></a><span style=\"color: #7f7f7f; text-decoration-color: #7f7f7f\">:</span><a href=\"file:///tmp/ipykernel_30654/2619882089.py#106\" target=\"_blank\"><span style=\"color: #7f7f7f; text-decoration-color: #7f7f7f\">106</span></a>\n",
       "</pre>\n"
      ],
      "text/plain": [
       "\u001b[2;36m[11:27:16]\u001b[0m\u001b[2;36m \u001b[0m\u001b[34mINFO    \u001b[0m step \u001b[1;36m4250\u001b[0m | loss \u001b[1;36m0.1566\u001b[0m                                                       \u001b]8;id=668061;file:///tmp/ipykernel_30654/2619882089.py\u001b\\\u001b[2m2619882089.py\u001b[0m\u001b]8;;\u001b\\\u001b[2m:\u001b[0m\u001b]8;id=274680;file:///tmp/ipykernel_30654/2619882089.py#106\u001b\\\u001b[2m106\u001b[0m\u001b]8;;\u001b\\\n"
      ]
     },
     "metadata": {},
     "output_type": "display_data"
    },
    {
     "data": {
      "text/html": [
       "<pre style=\"white-space:pre;overflow-x:auto;line-height:normal;font-family:Menlo,'DejaVu Sans Mono',consolas,'Courier New',monospace\"><span style=\"color: #7fbfbf; text-decoration-color: #7fbfbf\">[11:27:33] </span><span style=\"color: #000080; text-decoration-color: #000080\">INFO    </span> step <span style=\"color: #008080; text-decoration-color: #008080; font-weight: bold\">4300</span> | loss <span style=\"color: #008080; text-decoration-color: #008080; font-weight: bold\">0.3937</span>                                                       <a href=\"file:///tmp/ipykernel_30654/2619882089.py\" target=\"_blank\"><span style=\"color: #7f7f7f; text-decoration-color: #7f7f7f\">2619882089.py</span></a><span style=\"color: #7f7f7f; text-decoration-color: #7f7f7f\">:</span><a href=\"file:///tmp/ipykernel_30654/2619882089.py#106\" target=\"_blank\"><span style=\"color: #7f7f7f; text-decoration-color: #7f7f7f\">106</span></a>\n",
       "</pre>\n"
      ],
      "text/plain": [
       "\u001b[2;36m[11:27:33]\u001b[0m\u001b[2;36m \u001b[0m\u001b[34mINFO    \u001b[0m step \u001b[1;36m4300\u001b[0m | loss \u001b[1;36m0.3937\u001b[0m                                                       \u001b]8;id=739945;file:///tmp/ipykernel_30654/2619882089.py\u001b\\\u001b[2m2619882089.py\u001b[0m\u001b]8;;\u001b\\\u001b[2m:\u001b[0m\u001b]8;id=448462;file:///tmp/ipykernel_30654/2619882089.py#106\u001b\\\u001b[2m106\u001b[0m\u001b]8;;\u001b\\\n"
      ]
     },
     "metadata": {},
     "output_type": "display_data"
    },
    {
     "data": {
      "text/html": [
       "<pre style=\"white-space:pre;overflow-x:auto;line-height:normal;font-family:Menlo,'DejaVu Sans Mono',consolas,'Courier New',monospace\"><span style=\"color: #7fbfbf; text-decoration-color: #7fbfbf\">[11:27:49] </span><span style=\"color: #000080; text-decoration-color: #000080\">INFO    </span> step <span style=\"color: #008080; text-decoration-color: #008080; font-weight: bold\">4350</span> | loss <span style=\"color: #008080; text-decoration-color: #008080; font-weight: bold\">0.0165</span>                                                       <a href=\"file:///tmp/ipykernel_30654/2619882089.py\" target=\"_blank\"><span style=\"color: #7f7f7f; text-decoration-color: #7f7f7f\">2619882089.py</span></a><span style=\"color: #7f7f7f; text-decoration-color: #7f7f7f\">:</span><a href=\"file:///tmp/ipykernel_30654/2619882089.py#106\" target=\"_blank\"><span style=\"color: #7f7f7f; text-decoration-color: #7f7f7f\">106</span></a>\n",
       "</pre>\n"
      ],
      "text/plain": [
       "\u001b[2;36m[11:27:49]\u001b[0m\u001b[2;36m \u001b[0m\u001b[34mINFO    \u001b[0m step \u001b[1;36m4350\u001b[0m | loss \u001b[1;36m0.0165\u001b[0m                                                       \u001b]8;id=990957;file:///tmp/ipykernel_30654/2619882089.py\u001b\\\u001b[2m2619882089.py\u001b[0m\u001b]8;;\u001b\\\u001b[2m:\u001b[0m\u001b]8;id=926004;file:///tmp/ipykernel_30654/2619882089.py#106\u001b\\\u001b[2m106\u001b[0m\u001b]8;;\u001b\\\n"
      ]
     },
     "metadata": {},
     "output_type": "display_data"
    },
    {
     "data": {
      "text/html": [
       "<pre style=\"white-space:pre;overflow-x:auto;line-height:normal;font-family:Menlo,'DejaVu Sans Mono',consolas,'Courier New',monospace\"><span style=\"color: #7fbfbf; text-decoration-color: #7fbfbf\">[11:28:07] </span><span style=\"color: #000080; text-decoration-color: #000080\">INFO    </span> step <span style=\"color: #008080; text-decoration-color: #008080; font-weight: bold\">4400</span> | loss <span style=\"color: #008080; text-decoration-color: #008080; font-weight: bold\">0.4532</span>                                                       <a href=\"file:///tmp/ipykernel_30654/2619882089.py\" target=\"_blank\"><span style=\"color: #7f7f7f; text-decoration-color: #7f7f7f\">2619882089.py</span></a><span style=\"color: #7f7f7f; text-decoration-color: #7f7f7f\">:</span><a href=\"file:///tmp/ipykernel_30654/2619882089.py#106\" target=\"_blank\"><span style=\"color: #7f7f7f; text-decoration-color: #7f7f7f\">106</span></a>\n",
       "</pre>\n"
      ],
      "text/plain": [
       "\u001b[2;36m[11:28:07]\u001b[0m\u001b[2;36m \u001b[0m\u001b[34mINFO    \u001b[0m step \u001b[1;36m4400\u001b[0m | loss \u001b[1;36m0.4532\u001b[0m                                                       \u001b]8;id=37778;file:///tmp/ipykernel_30654/2619882089.py\u001b\\\u001b[2m2619882089.py\u001b[0m\u001b]8;;\u001b\\\u001b[2m:\u001b[0m\u001b]8;id=875136;file:///tmp/ipykernel_30654/2619882089.py#106\u001b\\\u001b[2m106\u001b[0m\u001b]8;;\u001b\\\n"
      ]
     },
     "metadata": {},
     "output_type": "display_data"
    },
    {
     "data": {
      "text/html": [
       "<pre style=\"white-space:pre;overflow-x:auto;line-height:normal;font-family:Menlo,'DejaVu Sans Mono',consolas,'Courier New',monospace\"><span style=\"color: #7fbfbf; text-decoration-color: #7fbfbf\">[11:28:22] </span><span style=\"color: #000080; text-decoration-color: #000080\">INFO    </span> step <span style=\"color: #008080; text-decoration-color: #008080; font-weight: bold\">4450</span> | loss <span style=\"color: #008080; text-decoration-color: #008080; font-weight: bold\">0.0866</span>                                                       <a href=\"file:///tmp/ipykernel_30654/2619882089.py\" target=\"_blank\"><span style=\"color: #7f7f7f; text-decoration-color: #7f7f7f\">2619882089.py</span></a><span style=\"color: #7f7f7f; text-decoration-color: #7f7f7f\">:</span><a href=\"file:///tmp/ipykernel_30654/2619882089.py#106\" target=\"_blank\"><span style=\"color: #7f7f7f; text-decoration-color: #7f7f7f\">106</span></a>\n",
       "</pre>\n"
      ],
      "text/plain": [
       "\u001b[2;36m[11:28:22]\u001b[0m\u001b[2;36m \u001b[0m\u001b[34mINFO    \u001b[0m step \u001b[1;36m4450\u001b[0m | loss \u001b[1;36m0.0866\u001b[0m                                                       \u001b]8;id=450664;file:///tmp/ipykernel_30654/2619882089.py\u001b\\\u001b[2m2619882089.py\u001b[0m\u001b]8;;\u001b\\\u001b[2m:\u001b[0m\u001b]8;id=133636;file:///tmp/ipykernel_30654/2619882089.py#106\u001b\\\u001b[2m106\u001b[0m\u001b]8;;\u001b\\\n"
      ]
     },
     "metadata": {},
     "output_type": "display_data"
    },
    {
     "data": {
      "text/html": [
       "<pre style=\"white-space:pre;overflow-x:auto;line-height:normal;font-family:Menlo,'DejaVu Sans Mono',consolas,'Courier New',monospace\"><span style=\"color: #7fbfbf; text-decoration-color: #7fbfbf\">[11:28:37] </span><span style=\"color: #000080; text-decoration-color: #000080\">INFO    </span> step <span style=\"color: #008080; text-decoration-color: #008080; font-weight: bold\">4500</span> | loss <span style=\"color: #008080; text-decoration-color: #008080; font-weight: bold\">0.1234</span>                                                       <a href=\"file:///tmp/ipykernel_30654/2619882089.py\" target=\"_blank\"><span style=\"color: #7f7f7f; text-decoration-color: #7f7f7f\">2619882089.py</span></a><span style=\"color: #7f7f7f; text-decoration-color: #7f7f7f\">:</span><a href=\"file:///tmp/ipykernel_30654/2619882089.py#106\" target=\"_blank\"><span style=\"color: #7f7f7f; text-decoration-color: #7f7f7f\">106</span></a>\n",
       "</pre>\n"
      ],
      "text/plain": [
       "\u001b[2;36m[11:28:37]\u001b[0m\u001b[2;36m \u001b[0m\u001b[34mINFO    \u001b[0m step \u001b[1;36m4500\u001b[0m | loss \u001b[1;36m0.1234\u001b[0m                                                       \u001b]8;id=978413;file:///tmp/ipykernel_30654/2619882089.py\u001b\\\u001b[2m2619882089.py\u001b[0m\u001b]8;;\u001b\\\u001b[2m:\u001b[0m\u001b]8;id=834794;file:///tmp/ipykernel_30654/2619882089.py#106\u001b\\\u001b[2m106\u001b[0m\u001b]8;;\u001b\\\n"
      ]
     },
     "metadata": {},
     "output_type": "display_data"
    },
    {
     "data": {
      "text/html": [
       "<pre style=\"white-space:pre;overflow-x:auto;line-height:normal;font-family:Menlo,'DejaVu Sans Mono',consolas,'Courier New',monospace\"><span style=\"color: #7fbfbf; text-decoration-color: #7fbfbf\">[11:28:55] </span><span style=\"color: #000080; text-decoration-color: #000080\">INFO    </span> step <span style=\"color: #008080; text-decoration-color: #008080; font-weight: bold\">4550</span> | loss <span style=\"color: #008080; text-decoration-color: #008080; font-weight: bold\">0.0351</span>                                                       <a href=\"file:///tmp/ipykernel_30654/2619882089.py\" target=\"_blank\"><span style=\"color: #7f7f7f; text-decoration-color: #7f7f7f\">2619882089.py</span></a><span style=\"color: #7f7f7f; text-decoration-color: #7f7f7f\">:</span><a href=\"file:///tmp/ipykernel_30654/2619882089.py#106\" target=\"_blank\"><span style=\"color: #7f7f7f; text-decoration-color: #7f7f7f\">106</span></a>\n",
       "</pre>\n"
      ],
      "text/plain": [
       "\u001b[2;36m[11:28:55]\u001b[0m\u001b[2;36m \u001b[0m\u001b[34mINFO    \u001b[0m step \u001b[1;36m4550\u001b[0m | loss \u001b[1;36m0.0351\u001b[0m                                                       \u001b]8;id=220281;file:///tmp/ipykernel_30654/2619882089.py\u001b\\\u001b[2m2619882089.py\u001b[0m\u001b]8;;\u001b\\\u001b[2m:\u001b[0m\u001b]8;id=715198;file:///tmp/ipykernel_30654/2619882089.py#106\u001b\\\u001b[2m106\u001b[0m\u001b]8;;\u001b\\\n"
      ]
     },
     "metadata": {},
     "output_type": "display_data"
    },
    {
     "data": {
      "text/html": [
       "<pre style=\"white-space:pre;overflow-x:auto;line-height:normal;font-family:Menlo,'DejaVu Sans Mono',consolas,'Courier New',monospace\"><span style=\"color: #7fbfbf; text-decoration-color: #7fbfbf\">[11:29:10] </span><span style=\"color: #000080; text-decoration-color: #000080\">INFO    </span> step <span style=\"color: #008080; text-decoration-color: #008080; font-weight: bold\">4600</span> | loss <span style=\"color: #008080; text-decoration-color: #008080; font-weight: bold\">0.1131</span>                                                       <a href=\"file:///tmp/ipykernel_30654/2619882089.py\" target=\"_blank\"><span style=\"color: #7f7f7f; text-decoration-color: #7f7f7f\">2619882089.py</span></a><span style=\"color: #7f7f7f; text-decoration-color: #7f7f7f\">:</span><a href=\"file:///tmp/ipykernel_30654/2619882089.py#106\" target=\"_blank\"><span style=\"color: #7f7f7f; text-decoration-color: #7f7f7f\">106</span></a>\n",
       "</pre>\n"
      ],
      "text/plain": [
       "\u001b[2;36m[11:29:10]\u001b[0m\u001b[2;36m \u001b[0m\u001b[34mINFO    \u001b[0m step \u001b[1;36m4600\u001b[0m | loss \u001b[1;36m0.1131\u001b[0m                                                       \u001b]8;id=818011;file:///tmp/ipykernel_30654/2619882089.py\u001b\\\u001b[2m2619882089.py\u001b[0m\u001b]8;;\u001b\\\u001b[2m:\u001b[0m\u001b]8;id=587080;file:///tmp/ipykernel_30654/2619882089.py#106\u001b\\\u001b[2m106\u001b[0m\u001b]8;;\u001b\\\n"
      ]
     },
     "metadata": {},
     "output_type": "display_data"
    },
    {
     "data": {
      "text/html": [
       "<pre style=\"white-space:pre;overflow-x:auto;line-height:normal;font-family:Menlo,'DejaVu Sans Mono',consolas,'Courier New',monospace\"><span style=\"color: #7fbfbf; text-decoration-color: #7fbfbf\">[11:29:28] </span><span style=\"color: #000080; text-decoration-color: #000080\">INFO    </span> step <span style=\"color: #008080; text-decoration-color: #008080; font-weight: bold\">4650</span> | loss <span style=\"color: #008080; text-decoration-color: #008080; font-weight: bold\">0.0121</span>                                                       <a href=\"file:///tmp/ipykernel_30654/2619882089.py\" target=\"_blank\"><span style=\"color: #7f7f7f; text-decoration-color: #7f7f7f\">2619882089.py</span></a><span style=\"color: #7f7f7f; text-decoration-color: #7f7f7f\">:</span><a href=\"file:///tmp/ipykernel_30654/2619882089.py#106\" target=\"_blank\"><span style=\"color: #7f7f7f; text-decoration-color: #7f7f7f\">106</span></a>\n",
       "</pre>\n"
      ],
      "text/plain": [
       "\u001b[2;36m[11:29:28]\u001b[0m\u001b[2;36m \u001b[0m\u001b[34mINFO    \u001b[0m step \u001b[1;36m4650\u001b[0m | loss \u001b[1;36m0.0121\u001b[0m                                                       \u001b]8;id=785884;file:///tmp/ipykernel_30654/2619882089.py\u001b\\\u001b[2m2619882089.py\u001b[0m\u001b]8;;\u001b\\\u001b[2m:\u001b[0m\u001b]8;id=162060;file:///tmp/ipykernel_30654/2619882089.py#106\u001b\\\u001b[2m106\u001b[0m\u001b]8;;\u001b\\\n"
      ]
     },
     "metadata": {},
     "output_type": "display_data"
    },
    {
     "data": {
      "text/html": [
       "<pre style=\"white-space:pre;overflow-x:auto;line-height:normal;font-family:Menlo,'DejaVu Sans Mono',consolas,'Courier New',monospace\"><span style=\"color: #7fbfbf; text-decoration-color: #7fbfbf\">[11:29:43] </span><span style=\"color: #000080; text-decoration-color: #000080\">INFO    </span> step <span style=\"color: #008080; text-decoration-color: #008080; font-weight: bold\">4700</span> | loss <span style=\"color: #008080; text-decoration-color: #008080; font-weight: bold\">0.0350</span>                                                       <a href=\"file:///tmp/ipykernel_30654/2619882089.py\" target=\"_blank\"><span style=\"color: #7f7f7f; text-decoration-color: #7f7f7f\">2619882089.py</span></a><span style=\"color: #7f7f7f; text-decoration-color: #7f7f7f\">:</span><a href=\"file:///tmp/ipykernel_30654/2619882089.py#106\" target=\"_blank\"><span style=\"color: #7f7f7f; text-decoration-color: #7f7f7f\">106</span></a>\n",
       "</pre>\n"
      ],
      "text/plain": [
       "\u001b[2;36m[11:29:43]\u001b[0m\u001b[2;36m \u001b[0m\u001b[34mINFO    \u001b[0m step \u001b[1;36m4700\u001b[0m | loss \u001b[1;36m0.0350\u001b[0m                                                       \u001b]8;id=170395;file:///tmp/ipykernel_30654/2619882089.py\u001b\\\u001b[2m2619882089.py\u001b[0m\u001b]8;;\u001b\\\u001b[2m:\u001b[0m\u001b]8;id=838742;file:///tmp/ipykernel_30654/2619882089.py#106\u001b\\\u001b[2m106\u001b[0m\u001b]8;;\u001b\\\n"
      ]
     },
     "metadata": {},
     "output_type": "display_data"
    },
    {
     "data": {
      "text/html": [
       "<pre style=\"white-space:pre;overflow-x:auto;line-height:normal;font-family:Menlo,'DejaVu Sans Mono',consolas,'Courier New',monospace\"><span style=\"color: #7fbfbf; text-decoration-color: #7fbfbf\">[11:29:58] </span><span style=\"color: #000080; text-decoration-color: #000080\">INFO    </span> step <span style=\"color: #008080; text-decoration-color: #008080; font-weight: bold\">4750</span> | loss <span style=\"color: #008080; text-decoration-color: #008080; font-weight: bold\">0.2993</span>                                                       <a href=\"file:///tmp/ipykernel_30654/2619882089.py\" target=\"_blank\"><span style=\"color: #7f7f7f; text-decoration-color: #7f7f7f\">2619882089.py</span></a><span style=\"color: #7f7f7f; text-decoration-color: #7f7f7f\">:</span><a href=\"file:///tmp/ipykernel_30654/2619882089.py#106\" target=\"_blank\"><span style=\"color: #7f7f7f; text-decoration-color: #7f7f7f\">106</span></a>\n",
       "</pre>\n"
      ],
      "text/plain": [
       "\u001b[2;36m[11:29:58]\u001b[0m\u001b[2;36m \u001b[0m\u001b[34mINFO    \u001b[0m step \u001b[1;36m4750\u001b[0m | loss \u001b[1;36m0.2993\u001b[0m                                                       \u001b]8;id=25990;file:///tmp/ipykernel_30654/2619882089.py\u001b\\\u001b[2m2619882089.py\u001b[0m\u001b]8;;\u001b\\\u001b[2m:\u001b[0m\u001b]8;id=188073;file:///tmp/ipykernel_30654/2619882089.py#106\u001b\\\u001b[2m106\u001b[0m\u001b]8;;\u001b\\\n"
      ]
     },
     "metadata": {},
     "output_type": "display_data"
    },
    {
     "data": {
      "text/html": [
       "<pre style=\"white-space:pre;overflow-x:auto;line-height:normal;font-family:Menlo,'DejaVu Sans Mono',consolas,'Courier New',monospace\"><span style=\"color: #7fbfbf; text-decoration-color: #7fbfbf\">[11:30:16] </span><span style=\"color: #000080; text-decoration-color: #000080\">INFO    </span> step <span style=\"color: #008080; text-decoration-color: #008080; font-weight: bold\">4800</span> | loss <span style=\"color: #008080; text-decoration-color: #008080; font-weight: bold\">0.0122</span>                                                       <a href=\"file:///tmp/ipykernel_30654/2619882089.py\" target=\"_blank\"><span style=\"color: #7f7f7f; text-decoration-color: #7f7f7f\">2619882089.py</span></a><span style=\"color: #7f7f7f; text-decoration-color: #7f7f7f\">:</span><a href=\"file:///tmp/ipykernel_30654/2619882089.py#106\" target=\"_blank\"><span style=\"color: #7f7f7f; text-decoration-color: #7f7f7f\">106</span></a>\n",
       "</pre>\n"
      ],
      "text/plain": [
       "\u001b[2;36m[11:30:16]\u001b[0m\u001b[2;36m \u001b[0m\u001b[34mINFO    \u001b[0m step \u001b[1;36m4800\u001b[0m | loss \u001b[1;36m0.0122\u001b[0m                                                       \u001b]8;id=976031;file:///tmp/ipykernel_30654/2619882089.py\u001b\\\u001b[2m2619882089.py\u001b[0m\u001b]8;;\u001b\\\u001b[2m:\u001b[0m\u001b]8;id=431712;file:///tmp/ipykernel_30654/2619882089.py#106\u001b\\\u001b[2m106\u001b[0m\u001b]8;;\u001b\\\n"
      ]
     },
     "metadata": {},
     "output_type": "display_data"
    },
    {
     "data": {
      "text/html": [
       "<pre style=\"white-space:pre;overflow-x:auto;line-height:normal;font-family:Menlo,'DejaVu Sans Mono',consolas,'Courier New',monospace\"><span style=\"color: #7fbfbf; text-decoration-color: #7fbfbf\">[11:30:31] </span><span style=\"color: #000080; text-decoration-color: #000080\">INFO    </span> step <span style=\"color: #008080; text-decoration-color: #008080; font-weight: bold\">4850</span> | loss <span style=\"color: #008080; text-decoration-color: #008080; font-weight: bold\">0.1305</span>                                                       <a href=\"file:///tmp/ipykernel_30654/2619882089.py\" target=\"_blank\"><span style=\"color: #7f7f7f; text-decoration-color: #7f7f7f\">2619882089.py</span></a><span style=\"color: #7f7f7f; text-decoration-color: #7f7f7f\">:</span><a href=\"file:///tmp/ipykernel_30654/2619882089.py#106\" target=\"_blank\"><span style=\"color: #7f7f7f; text-decoration-color: #7f7f7f\">106</span></a>\n",
       "</pre>\n"
      ],
      "text/plain": [
       "\u001b[2;36m[11:30:31]\u001b[0m\u001b[2;36m \u001b[0m\u001b[34mINFO    \u001b[0m step \u001b[1;36m4850\u001b[0m | loss \u001b[1;36m0.1305\u001b[0m                                                       \u001b]8;id=850132;file:///tmp/ipykernel_30654/2619882089.py\u001b\\\u001b[2m2619882089.py\u001b[0m\u001b]8;;\u001b\\\u001b[2m:\u001b[0m\u001b]8;id=260222;file:///tmp/ipykernel_30654/2619882089.py#106\u001b\\\u001b[2m106\u001b[0m\u001b]8;;\u001b\\\n"
      ]
     },
     "metadata": {},
     "output_type": "display_data"
    },
    {
     "data": {
      "text/html": [
       "<pre style=\"white-space:pre;overflow-x:auto;line-height:normal;font-family:Menlo,'DejaVu Sans Mono',consolas,'Courier New',monospace\"><span style=\"color: #7fbfbf; text-decoration-color: #7fbfbf\">[11:30:49] </span><span style=\"color: #000080; text-decoration-color: #000080\">INFO    </span> step <span style=\"color: #008080; text-decoration-color: #008080; font-weight: bold\">4900</span> | loss <span style=\"color: #008080; text-decoration-color: #008080; font-weight: bold\">0.0779</span>                                                       <a href=\"file:///tmp/ipykernel_30654/2619882089.py\" target=\"_blank\"><span style=\"color: #7f7f7f; text-decoration-color: #7f7f7f\">2619882089.py</span></a><span style=\"color: #7f7f7f; text-decoration-color: #7f7f7f\">:</span><a href=\"file:///tmp/ipykernel_30654/2619882089.py#106\" target=\"_blank\"><span style=\"color: #7f7f7f; text-decoration-color: #7f7f7f\">106</span></a>\n",
       "</pre>\n"
      ],
      "text/plain": [
       "\u001b[2;36m[11:30:49]\u001b[0m\u001b[2;36m \u001b[0m\u001b[34mINFO    \u001b[0m step \u001b[1;36m4900\u001b[0m | loss \u001b[1;36m0.0779\u001b[0m                                                       \u001b]8;id=113346;file:///tmp/ipykernel_30654/2619882089.py\u001b\\\u001b[2m2619882089.py\u001b[0m\u001b]8;;\u001b\\\u001b[2m:\u001b[0m\u001b]8;id=401124;file:///tmp/ipykernel_30654/2619882089.py#106\u001b\\\u001b[2m106\u001b[0m\u001b]8;;\u001b\\\n"
      ]
     },
     "metadata": {},
     "output_type": "display_data"
    },
    {
     "data": {
      "text/html": [
       "<pre style=\"white-space:pre;overflow-x:auto;line-height:normal;font-family:Menlo,'DejaVu Sans Mono',consolas,'Courier New',monospace\"><span style=\"color: #7fbfbf; text-decoration-color: #7fbfbf\">[11:31:05] </span><span style=\"color: #000080; text-decoration-color: #000080\">INFO    </span> step <span style=\"color: #008080; text-decoration-color: #008080; font-weight: bold\">4950</span> | loss <span style=\"color: #008080; text-decoration-color: #008080; font-weight: bold\">0.0807</span>                                                       <a href=\"file:///tmp/ipykernel_30654/2619882089.py\" target=\"_blank\"><span style=\"color: #7f7f7f; text-decoration-color: #7f7f7f\">2619882089.py</span></a><span style=\"color: #7f7f7f; text-decoration-color: #7f7f7f\">:</span><a href=\"file:///tmp/ipykernel_30654/2619882089.py#106\" target=\"_blank\"><span style=\"color: #7f7f7f; text-decoration-color: #7f7f7f\">106</span></a>\n",
       "</pre>\n"
      ],
      "text/plain": [
       "\u001b[2;36m[11:31:05]\u001b[0m\u001b[2;36m \u001b[0m\u001b[34mINFO    \u001b[0m step \u001b[1;36m4950\u001b[0m | loss \u001b[1;36m0.0807\u001b[0m                                                       \u001b]8;id=233238;file:///tmp/ipykernel_30654/2619882089.py\u001b\\\u001b[2m2619882089.py\u001b[0m\u001b]8;;\u001b\\\u001b[2m:\u001b[0m\u001b]8;id=209267;file:///tmp/ipykernel_30654/2619882089.py#106\u001b\\\u001b[2m106\u001b[0m\u001b]8;;\u001b\\\n"
      ]
     },
     "metadata": {},
     "output_type": "display_data"
    },
    {
     "data": {
      "text/html": [
       "<pre style=\"white-space:pre;overflow-x:auto;line-height:normal;font-family:Menlo,'DejaVu Sans Mono',consolas,'Courier New',monospace\"><span style=\"color: #7fbfbf; text-decoration-color: #7fbfbf\">[11:31:21] </span><span style=\"color: #000080; text-decoration-color: #000080\">INFO    </span> Saved LoRA weights to work/lora-weights                                       <a href=\"file:///tmp/ipykernel_30654/2619882089.py\" target=\"_blank\"><span style=\"color: #7f7f7f; text-decoration-color: #7f7f7f\">2619882089.py</span></a><span style=\"color: #7f7f7f; text-decoration-color: #7f7f7f\">:</span><a href=\"file:///tmp/ipykernel_30654/2619882089.py#112\" target=\"_blank\"><span style=\"color: #7f7f7f; text-decoration-color: #7f7f7f\">112</span></a>\n",
       "</pre>\n"
      ],
      "text/plain": [
       "\u001b[2;36m[11:31:21]\u001b[0m\u001b[2;36m \u001b[0m\u001b[34mINFO    \u001b[0m Saved LoRA weights to work/lora-weights                                       \u001b]8;id=860394;file:///tmp/ipykernel_30654/2619882089.py\u001b\\\u001b[2m2619882089.py\u001b[0m\u001b]8;;\u001b\\\u001b[2m:\u001b[0m\u001b]8;id=833980;file:///tmp/ipykernel_30654/2619882089.py#112\u001b\\\u001b[2m112\u001b[0m\u001b]8;;\u001b\\\n"
      ]
     },
     "metadata": {},
     "output_type": "display_data"
    }
   ],
   "source": [
    "import torch, random\n",
    "from torch.utils.data import Dataset, DataLoader\n",
    "from PIL import Image\n",
    "from transformers import T5EncoderModel, T5Tokenizer\n",
    "from diffusers import FluxTransformer2DModel, AutoencoderKL, FlowMatchEulerDiscreteScheduler\n",
    "from accelerate import Accelerator\n",
    "from peft import LoraConfig, get_peft_model\n",
    "\n",
    "random.seed(SEED)\n",
    "torch.manual_seed(SEED)\n",
    "\n",
    "TRAIN_BATCH_SIZE = 1  # FLUX requires more memory, reduce batch size\n",
    "LR = 1e-4\n",
    "MAX_STEPS = 5000\n",
    "IMG_RES = 1024  # FLUX works at higher resolution\n",
    "LORA_R = 16  # Higher rank for better quality\n",
    "LORA_ALPHA = 32\n",
    "LORA_DROPOUT = 0.1\n",
    "\n",
    "log.info(\"Loading models...\")\n",
    "tokenizer = T5Tokenizer.from_pretrained(BASE_MODEL_ID, subfolder=\"tokenizer\")\n",
    "text_encoder = T5EncoderModel.from_pretrained(BASE_MODEL_ID, subfolder=\"text_encoder\")\n",
    "vae = AutoencoderKL.from_pretrained(BASE_MODEL_ID, subfolder=\"vae\")\n",
    "transformer = FluxTransformer2DModel.from_pretrained(BASE_MODEL_ID, subfolder=\"transformer\")\n",
    "\n",
    "# LoRA configuration for FLUX transformer\n",
    "# Using FEATURE_EXTRACTION because we want to fine-tune the transformer attention layers\n",
    "# while keeping text encoder and VAE frozen to preserve base language understanding\n",
    "lora_config = LoraConfig(\n",
    "    r=LORA_R,\n",
    "    lora_alpha=LORA_ALPHA,\n",
    "    target_modules=[\"to_q\", \"to_k\", \"to_v\", \"to_out.0\"],  # Transformer attention modules\n",
    "    lora_dropout=LORA_DROPOUT,\n",
    "    bias=\"none\",\n",
    "    task_type=\"FEATURE_EXTRACTION\",  # Correct for transformer-based models\n",
    ")\n",
    "transformer = get_peft_model(transformer, lora_config)\n",
    "log.info(\"LoRA applied to Transformer\")\n",
    "\n",
    "class CaptionImageDataset(Dataset):\n",
    "    def __init__(self, img_dir: Path, tokenizer, size=1024):\n",
    "        self.paths = sorted((img_dir).glob(\"*.jpg\"))\n",
    "        self.tokenizer = tokenizer\n",
    "        self.size = size\n",
    "        log.info(f\"Dataset created with {len(self.paths)} images\")\n",
    "    def __len__(self): return len(self.paths)\n",
    "    def __getitem__(self, idx):\n",
    "        img_path = self.paths[idx]\n",
    "        txt_path = img_path.with_suffix(\".txt\")\n",
    "        with open(txt_path, \"r\", encoding=\"utf-8\") as f:\n",
    "            caption = f.read().strip()\n",
    "        image = Image.open(img_path).convert(\"RGB\").resize((self.size, self.size), Image.BICUBIC)\n",
    "        import numpy as np\n",
    "        arr = np.array(image).astype(\"float32\")/255.0\n",
    "        arr = arr.transpose(2,0,1)\n",
    "        arr = 2.0 * arr - 1.0\n",
    "        image_tensor = torch.from_numpy(arr)\n",
    "        ids = self.tokenizer(caption, truncation=True, padding=\"max_length\",\n",
    "            max_length=self.tokenizer.model_max_length, return_tensors=\"pt\").input_ids[0]\n",
    "        return {\"pixel_values\": image_tensor, \"input_ids\": ids}\n",
    "\n",
    "train_ds = CaptionImageDataset(DATASET_DIR / \"new\", tokenizer, IMG_RES)\n",
    "train_loader = DataLoader(train_ds, batch_size=TRAIN_BATCH_SIZE, shuffle=True, drop_last=True)\n",
    "\n",
    "noise_scheduler = FlowMatchEulerDiscreteScheduler.from_pretrained(BASE_MODEL_ID, subfolder=\"scheduler\")\n",
    "accelerator = Accelerator(mixed_precision=MIXED_PRECISION if MIXED_PRECISION in (\"fp16\",\"bf16\") else \"no\")\n",
    "device = accelerator.device\n",
    "log.info(f\"Using device: {device}\")\n",
    "\n",
    "vae.to(device); text_encoder.to(device); transformer.to(device)\n",
    "\n",
    "try:\n",
    "    if USE_8BIT_ADAM:\n",
    "        from bitsandbytes.optim import AdamW8bit\n",
    "        optimizer = AdamW8bit((p for p in transformer.parameters() if p.requires_grad), lr=LR)\n",
    "        log.info(\"Using 8-bit AdamW optimizer\")\n",
    "    else:\n",
    "        raise Exception(\"use torch adamw\")\n",
    "except Exception:\n",
    "    from torch.optim import AdamW\n",
    "    optimizer = AdamW((p for p in transformer.parameters() if p.requires_grad), lr=LR)\n",
    "    log.info(\"Using standard AdamW optimizer\")\n",
    "\n",
    "transformer, optimizer, train_loader = accelerator.prepare(transformer, optimizer, train_loader)\n",
    "global_step = 0\n",
    "transformer.train()\n",
    "\n",
    "log.info(\"Starting training...\")\n",
    "for epoch in range(999999):\n",
    "    for batch in train_loader:\n",
    "        if global_step >= MAX_STEPS:\n",
    "            break\n",
    "        with accelerator.accumulate(transformer):\n",
    "            pixel_values = batch[\"pixel_values\"].to(device)\n",
    "            input_ids = batch[\"input_ids\"].to(device)\n",
    "            latents = vae.encode(pixel_values).latent_dist.sample() * vae.config.scaling_factor\n",
    "            noise = torch.randn_like(latents)\n",
    "            timesteps = torch.randint(0, noise_scheduler.config.num_train_timesteps, (latents.shape[0],), device=device).long()\n",
    "            noisy_latents = noise_scheduler.add_noise(latents, noise, timesteps)\n",
    "            encoder_hidden_states = text_encoder(input_ids)[0]\n",
    "            model_pred = transformer(\n",
    "                hidden_states=noisy_latents,\n",
    "                timestep=timesteps,\n",
    "                encoder_hidden_states=encoder_hidden_states,\n",
    "            ).sample\n",
    "            loss = torch.nn.functional.mse_loss(model_pred, noise, reduction=\"mean\")\n",
    "            accelerator.backward(loss)\n",
    "            optimizer.step(); optimizer.zero_grad()\n",
    "        if accelerator.is_main_process and global_step % 50 == 0:\n",
    "            log.info(f\"step {global_step} | loss {loss.item():.4f}\")\n",
    "        global_step += 1\n",
    "    if global_step >= MAX_STEPS: break\n",
    "\n",
    "if accelerator.is_main_process:\n",
    "    transformer.save_pretrained(str(LORA_OUTPUT_DIR))\n",
    "    log.info(f\"Saved LoRA weights to {LORA_OUTPUT_DIR}\")"
   ]
  },
  {
   "cell_type": "markdown",
   "id": "a19b2e3b",
   "metadata": {},
   "source": [
    "# Image generation"
   ]
  },
  {
   "cell_type": "code",
   "execution_count": null,
   "id": "713b7ff1",
   "metadata": {},
   "outputs": [
    {
     "data": {
      "application/vnd.jupyter.widget-view+json": {
       "model_id": "dd3af3ed47404ea198d256df33f676cb",
       "version_major": 2,
       "version_minor": 0
      },
      "text/plain": [
       "Loading pipeline components...:   0%|          | 0/7 [00:00<?, ?it/s]"
      ]
     },
     "metadata": {},
     "output_type": "display_data"
    }
   ],
   "source": [
    "from diffusers import FluxPipeline\n",
    "from peft import PeftModel\n",
    "import torch\n",
    "\n",
    "\n",
    "pipe = FluxPipeline.from_pretrained(\n",
    "    BASE_MODEL_ID, torch_dtype=torch.bfloat16 if MIXED_PRECISION==\"bf16\" else torch.float32\n",
    ").to(accelerator.device)\n",
    "pipe.transformer = PeftModel.from_pretrained(pipe.transformer, LORA_OUTPUT_DIR)\n",
    "\n",
    "CANONICAL_STYLE_PROMPT = (\n",
    "    \"food photography, professional culinary styling, top-down composition, \"\n",
    "    \"minimal background, soft natural lighting, vibrant colors, \"\n",
    "    \"high quality, detailed textures, appetizing presentation\"\n",
    ")\n",
    "\n",
    "OUT_DIR = WORK_DIR / \"outputs\"\n",
    "OUT_DIR.mkdir(parents=True, exist_ok=True)\n",
    "\n",
    "\n",
    "guidance_scale = 3.5  # FLUX works better with lower guidance\n",
    "num_inference_steps = 28  # FLUX optimal steps\n",
    "\n",
    "height = 1024\n",
    "width = 1024\n",
    "\n",
    "# Generate a few sample images using FLUX with trained LoRA\n",
    "sample_prompts = [\n",
    "    \"delicious pasta dish with herbs and parmesan cheese\",\n",
    "    \"fresh salad with colorful vegetables and dressing\", \n",
    "    \"grilled chicken with roasted vegetables\",\n",
    "    \"chocolate dessert with berries and cream\"\n",
    "]\n",
    "\n",
    "for i, base_prompt in enumerate(sample_prompts):\n",
    "    full_prompt = f\"{base_prompt}, {CANONICAL_STYLE_PROMPT}\"\n",
    "    result = pipe(\n",
    "        prompt=full_prompt,\n",
    "        guidance_scale=guidance_scale,\n",
    "        num_inference_steps=num_inference_steps,\n",
    "        height=height,\n",
    "        width=width,\n",
    "    ).images[0]\n",
    "    out_path = OUT_DIR / f\"flux_generated_{i:02d}.jpg\"\n",
    "    result.save(out_path, \"JPEG\", quality=95, optimize=True)\n",
    "    print(f\"✅ Generated {out_path.name} with prompt: {full_prompt}\")\n"
   ]
  }
 ],
 "metadata": {
  "kernelspec": {
   "display_name": "Python 3",
   "language": "python",
   "name": "python3"
  },
  "language_info": {
   "codemirror_mode": {
    "name": "ipython",
    "version": 3
   },
   "file_extension": ".py",
   "mimetype": "text/x-python",
   "name": "python",
   "nbconvert_exporter": "python",
   "pygments_lexer": "ipython3",
   "version": "3.10.12"
  }
 },
 "nbformat": 4,
 "nbformat_minor": 5
}

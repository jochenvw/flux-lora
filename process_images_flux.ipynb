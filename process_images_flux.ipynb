{
 "cells": [
  {
   "cell_type": "markdown",
   "id": "8809152f",
   "metadata": {},
   "source": [
    "# Low Rank Adaptation (LoRA) Training for FLUX.1-dev Model\n",
    "\n",
    "This notebook trains a LoRA adapter specifically for the **FLUX.1-dev** model by Black Forest Labs.\n",
    "\n",
    "## Key Differences from Stable Diffusion LoRA:\n",
    "\n",
    "### Architecture Changes:\n",
    "- **Base Model**: `black-forest-labs/FLUX.1-dev` (instead of Stable Diffusion 1.5)\n",
    "- **Text Encoder**: T5EncoderModel (instead of CLIP)\n",
    "- **Main Model**: FluxTransformer2DModel (instead of UNet2DConditionModel)\n",
    "- **Scheduler**: FlowMatchEulerDiscreteScheduler (instead of DDPM)\n",
    "- **Pipeline**: FluxPipeline (text2img, no img2img)\n",
    "\n",
    "### Optimizations for RTX4090:\n",
    "- **Resolution**: 1024x1024 (instead of 512x512)\n",
    "- **Batch Size**: 1 (FLUX requires more VRAM)\n",
    "- **Mixed Precision**: bf16 (optimal for FLUX)\n",
    "- **LoRA Rank**: 16 (higher for better quality)\n",
    "- **LoRA Alpha**: 32\n",
    "\n",
    "### Generation Parameters:\n",
    "- **Guidance Scale**: 3.5 (FLUX works better with lower guidance)\n",
    "- **Steps**: 28 (optimal for FLUX)\n",
    "- **Output**: Direct text2img generation\n",
    "\n",
    "⚠️ **Requirements**: This notebook requires significant VRAM (8GB+ recommended) and the FLUX.1-dev model access on HuggingFace."
   ]
  },
  {
   "cell_type": "markdown",
   "id": "8d1b0106",
   "metadata": {},
   "source": [
    "## Imports + Settings"
   ]
  },
  {
   "cell_type": "code",
   "execution_count": 1,
   "id": "6f3b177e",
   "metadata": {},
   "outputs": [
    {
     "name": "stdout",
     "output_type": "stream",
     "text": [
      "Defaulting to user installation because normal site-packages is not writeable\n",
      "Looking in indexes: https://pypi.org/simple, https://pypi.ngc.nvidia.com\n",
      "Requirement already satisfied: pillow in /home/vscode/.local/lib/python3.10/site-packages (11.3.0)\n",
      "Requirement already satisfied: pillow-avif-plugin in /home/vscode/.local/lib/python3.10/site-packages (1.5.2)\n",
      "Requirement already satisfied: openai in /home/vscode/.local/lib/python3.10/site-packages (1.109.0)\n",
      "Requirement already satisfied: diffusers==0.30.2 in /home/vscode/.local/lib/python3.10/site-packages (0.30.2)\n",
      "Requirement already satisfied: huggingface_hub==0.24.6 in /home/vscode/.local/lib/python3.10/site-packages (0.24.6)\n",
      "Requirement already satisfied: accelerate in /home/vscode/.local/lib/python3.10/site-packages (1.10.1)\n",
      "Requirement already satisfied: peft in /home/vscode/.local/lib/python3.10/site-packages (0.13.2)\n",
      "Requirement already satisfied: datasets in /home/vscode/.local/lib/python3.10/site-packages (4.1.1)\n",
      "Requirement already satisfied: dotenv in /home/vscode/.local/lib/python3.10/site-packages (0.9.9)\n",
      "Requirement already satisfied: rich in /home/vscode/.local/lib/python3.10/site-packages (14.1.0)\n",
      "Requirement already satisfied: tqdm in /home/vscode/.local/lib/python3.10/site-packages (4.67.1)\n",
      "Requirement already satisfied: ipywidgets in /home/vscode/.local/lib/python3.10/site-packages (8.1.7)\n",
      "Requirement already satisfied: sentencepiece in /home/vscode/.local/lib/python3.10/site-packages (0.2.1)\n",
      "Requirement already satisfied: importlib-metadata in /usr/local/lib/python3.10/dist-packages (from diffusers==0.30.2) (6.7.0)\n",
      "Requirement already satisfied: filelock in /usr/local/lib/python3.10/dist-packages (from diffusers==0.30.2) (3.12.2)\n",
      "Requirement already satisfied: numpy in /usr/local/lib/python3.10/dist-packages (from diffusers==0.30.2) (1.22.2)\n",
      "Requirement already satisfied: regex!=2019.12.17 in /usr/local/lib/python3.10/dist-packages (from diffusers==0.30.2) (2023.6.3)\n",
      "Requirement already satisfied: requests in /home/vscode/.local/lib/python3.10/site-packages (from diffusers==0.30.2) (2.32.5)\n",
      "Requirement already satisfied: safetensors>=0.3.1 in /home/vscode/.local/lib/python3.10/site-packages (from diffusers==0.30.2) (0.6.2)\n",
      "Requirement already satisfied: fsspec>=2023.5.0 in /usr/local/lib/python3.10/dist-packages (from huggingface_hub==0.24.6) (2023.6.0)\n",
      "Requirement already satisfied: packaging>=20.9 in /usr/local/lib/python3.10/dist-packages (from huggingface_hub==0.24.6) (23.1)\n",
      "Requirement already satisfied: pyyaml>=5.1 in /usr/local/lib/python3.10/dist-packages (from huggingface_hub==0.24.6) (6.0)\n",
      "Requirement already satisfied: typing-extensions>=3.7.4.3 in /home/vscode/.local/lib/python3.10/site-packages (from huggingface_hub==0.24.6) (4.15.0)\n",
      "Requirement already satisfied: anyio<5,>=3.5.0 in /home/vscode/.local/lib/python3.10/site-packages (from openai) (4.11.0)\n",
      "Requirement already satisfied: distro<2,>=1.7.0 in /home/vscode/.local/lib/python3.10/site-packages (from openai) (1.9.0)\n",
      "Requirement already satisfied: httpx<1,>=0.23.0 in /home/vscode/.local/lib/python3.10/site-packages (from openai) (0.28.1)\n",
      "Requirement already satisfied: jiter<1,>=0.4.0 in /home/vscode/.local/lib/python3.10/site-packages (from openai) (0.11.0)\n",
      "Requirement already satisfied: pydantic<3,>=1.9.0 in /usr/local/lib/python3.10/dist-packages (from openai) (1.10.11)\n",
      "Requirement already satisfied: sniffio in /home/vscode/.local/lib/python3.10/site-packages (from openai) (1.3.1)\n",
      "Requirement already satisfied: exceptiongroup>=1.0.2 in /usr/local/lib/python3.10/dist-packages (from anyio<5,>=3.5.0->openai) (1.1.2)\n",
      "Requirement already satisfied: idna>=2.8 in /usr/local/lib/python3.10/dist-packages (from anyio<5,>=3.5.0->openai) (3.4)\n",
      "Requirement already satisfied: certifi in /usr/local/lib/python3.10/dist-packages (from httpx<1,>=0.23.0->openai) (2023.5.7)\n",
      "Requirement already satisfied: httpcore==1.* in /home/vscode/.local/lib/python3.10/site-packages (from httpx<1,>=0.23.0->openai) (1.0.9)\n",
      "Requirement already satisfied: h11>=0.16 in /home/vscode/.local/lib/python3.10/site-packages (from httpcore==1.*->httpx<1,>=0.23.0->openai) (0.16.0)\n",
      "Requirement already satisfied: psutil in /usr/local/lib/python3.10/dist-packages (from accelerate) (5.9.4)\n",
      "Requirement already satisfied: torch>=2.0.0 in /usr/local/lib/python3.10/dist-packages (from accelerate) (2.1.0a0+b5021ba)\n",
      "Requirement already satisfied: transformers in /home/vscode/.local/lib/python3.10/site-packages (from peft) (4.48.3)\n",
      "Requirement already satisfied: pyarrow>=21.0.0 in /home/vscode/.local/lib/python3.10/site-packages (from datasets) (21.0.0)\n",
      "Requirement already satisfied: dill<0.4.1,>=0.3.0 in /home/vscode/.local/lib/python3.10/site-packages (from datasets) (0.4.0)\n",
      "Requirement already satisfied: pandas in /usr/local/lib/python3.10/dist-packages (from datasets) (1.5.2)\n",
      "Requirement already satisfied: xxhash in /home/vscode/.local/lib/python3.10/site-packages (from datasets) (3.5.0)\n",
      "Requirement already satisfied: multiprocess<0.70.17 in /home/vscode/.local/lib/python3.10/site-packages (from datasets) (0.70.16)\n",
      "Requirement already satisfied: aiohttp!=4.0.0a0,!=4.0.0a1 in /usr/local/lib/python3.10/dist-packages (from fsspec[http]<=2025.9.0,>=2023.1.0->datasets) (3.8.4)\n",
      "Requirement already satisfied: python-dotenv in /home/vscode/.local/lib/python3.10/site-packages (from dotenv) (1.1.1)\n",
      "Requirement already satisfied: markdown-it-py>=2.2.0 in /usr/local/lib/python3.10/dist-packages (from rich) (3.0.0)\n",
      "Requirement already satisfied: pygments<3.0.0,>=2.13.0 in /usr/local/lib/python3.10/dist-packages (from rich) (2.15.1)\n",
      "Requirement already satisfied: comm>=0.1.3 in /usr/local/lib/python3.10/dist-packages (from ipywidgets) (0.1.3)\n",
      "Requirement already satisfied: ipython>=6.1.0 in /usr/local/lib/python3.10/dist-packages (from ipywidgets) (8.14.0)\n",
      "Requirement already satisfied: traitlets>=4.3.1 in /usr/local/lib/python3.10/dist-packages (from ipywidgets) (5.9.0)\n",
      "Requirement already satisfied: widgetsnbextension~=4.0.14 in /home/vscode/.local/lib/python3.10/site-packages (from ipywidgets) (4.0.14)\n",
      "Requirement already satisfied: jupyterlab_widgets~=3.0.15 in /home/vscode/.local/lib/python3.10/site-packages (from ipywidgets) (3.0.15)\n",
      "Requirement already satisfied: attrs>=17.3.0 in /usr/local/lib/python3.10/dist-packages (from aiohttp!=4.0.0a0,!=4.0.0a1->fsspec[http]<=2025.9.0,>=2023.1.0->datasets) (23.1.0)\n",
      "Requirement already satisfied: charset-normalizer<4.0,>=2.0 in /usr/local/lib/python3.10/dist-packages (from aiohttp!=4.0.0a0,!=4.0.0a1->fsspec[http]<=2025.9.0,>=2023.1.0->datasets) (3.1.0)\n",
      "Requirement already satisfied: multidict<7.0,>=4.5 in /usr/local/lib/python3.10/dist-packages (from aiohttp!=4.0.0a0,!=4.0.0a1->fsspec[http]<=2025.9.0,>=2023.1.0->datasets) (6.0.4)\n",
      "Requirement already satisfied: async-timeout<5.0,>=4.0.0a3 in /usr/local/lib/python3.10/dist-packages (from aiohttp!=4.0.0a0,!=4.0.0a1->fsspec[http]<=2025.9.0,>=2023.1.0->datasets) (4.0.2)\n",
      "Requirement already satisfied: yarl<2.0,>=1.0 in /usr/local/lib/python3.10/dist-packages (from aiohttp!=4.0.0a0,!=4.0.0a1->fsspec[http]<=2025.9.0,>=2023.1.0->datasets) (1.9.2)\n",
      "Requirement already satisfied: frozenlist>=1.1.1 in /usr/local/lib/python3.10/dist-packages (from aiohttp!=4.0.0a0,!=4.0.0a1->fsspec[http]<=2025.9.0,>=2023.1.0->datasets) (1.3.3)\n",
      "Requirement already satisfied: aiosignal>=1.1.2 in /usr/local/lib/python3.10/dist-packages (from aiohttp!=4.0.0a0,!=4.0.0a1->fsspec[http]<=2025.9.0,>=2023.1.0->datasets) (1.3.1)\n",
      "Requirement already satisfied: backcall in /usr/local/lib/python3.10/dist-packages (from ipython>=6.1.0->ipywidgets) (0.2.0)\n",
      "Requirement already satisfied: decorator in /usr/local/lib/python3.10/dist-packages (from ipython>=6.1.0->ipywidgets) (5.1.1)\n",
      "Requirement already satisfied: jedi>=0.16 in /usr/local/lib/python3.10/dist-packages (from ipython>=6.1.0->ipywidgets) (0.18.2)\n",
      "Requirement already satisfied: matplotlib-inline in /usr/local/lib/python3.10/dist-packages (from ipython>=6.1.0->ipywidgets) (0.1.6)\n",
      "Requirement already satisfied: pickleshare in /usr/local/lib/python3.10/dist-packages (from ipython>=6.1.0->ipywidgets) (0.7.5)\n",
      "Requirement already satisfied: prompt-toolkit!=3.0.37,<3.1.0,>=3.0.30 in /usr/local/lib/python3.10/dist-packages (from ipython>=6.1.0->ipywidgets) (3.0.39)\n",
      "Requirement already satisfied: stack-data in /usr/local/lib/python3.10/dist-packages (from ipython>=6.1.0->ipywidgets) (0.6.2)\n",
      "Requirement already satisfied: pexpect>4.3 in /usr/local/lib/python3.10/dist-packages (from ipython>=6.1.0->ipywidgets) (4.8.0)\n",
      "Requirement already satisfied: wcwidth in /usr/local/lib/python3.10/dist-packages (from prompt-toolkit!=3.0.37,<3.1.0,>=3.0.30->ipython>=6.1.0->ipywidgets) (0.2.6)\n",
      "Requirement already satisfied: parso<0.9.0,>=0.8.0 in /usr/local/lib/python3.10/dist-packages (from jedi>=0.16->ipython>=6.1.0->ipywidgets) (0.8.3)\n",
      "Requirement already satisfied: mdurl~=0.1 in /usr/local/lib/python3.10/dist-packages (from markdown-it-py>=2.2.0->rich) (0.1.2)\n",
      "Requirement already satisfied: ptyprocess>=0.5 in /usr/local/lib/python3.10/dist-packages (from pexpect>4.3->ipython>=6.1.0->ipywidgets) (0.7.0)\n",
      "Requirement already satisfied: urllib3<3,>=1.21.1 in /usr/local/lib/python3.10/dist-packages (from requests->diffusers==0.30.2) (1.26.16)\n",
      "Requirement already satisfied: sympy in /usr/local/lib/python3.10/dist-packages (from torch>=2.0.0->accelerate) (1.12)\n",
      "Requirement already satisfied: networkx in /usr/local/lib/python3.10/dist-packages (from torch>=2.0.0->accelerate) (2.6.3)\n",
      "Requirement already satisfied: jinja2 in /usr/local/lib/python3.10/dist-packages (from torch>=2.0.0->accelerate) (3.1.2)\n",
      "Requirement already satisfied: zipp>=0.5 in /usr/local/lib/python3.10/dist-packages (from importlib-metadata->diffusers==0.30.2) (3.15.0)\n",
      "Requirement already satisfied: MarkupSafe>=2.0 in /usr/local/lib/python3.10/dist-packages (from jinja2->torch>=2.0.0->accelerate) (2.1.3)\n",
      "Requirement already satisfied: python-dateutil>=2.8.1 in /usr/local/lib/python3.10/dist-packages (from pandas->datasets) (2.8.2)\n",
      "Requirement already satisfied: pytz>=2020.1 in /usr/local/lib/python3.10/dist-packages (from pandas->datasets) (2023.3)\n",
      "Requirement already satisfied: six>=1.5 in /usr/local/lib/python3.10/dist-packages (from python-dateutil>=2.8.1->pandas->datasets) (1.16.0)\n",
      "Requirement already satisfied: executing>=1.2.0 in /usr/local/lib/python3.10/dist-packages (from stack-data->ipython>=6.1.0->ipywidgets) (1.2.0)\n",
      "Requirement already satisfied: asttokens>=2.1.0 in /usr/local/lib/python3.10/dist-packages (from stack-data->ipython>=6.1.0->ipywidgets) (2.2.1)\n",
      "Requirement already satisfied: pure-eval in /usr/local/lib/python3.10/dist-packages (from stack-data->ipython>=6.1.0->ipywidgets) (0.2.2)\n",
      "Requirement already satisfied: mpmath>=0.19 in /usr/local/lib/python3.10/dist-packages (from sympy->torch>=2.0.0->accelerate) (1.3.0)\n",
      "Requirement already satisfied: tokenizers<0.22,>=0.21 in /home/vscode/.local/lib/python3.10/site-packages (from transformers->peft) (0.21.4)\n",
      "Note: you may need to restart the kernel to use updated packages.\n"
     ]
    }
   ],
   "source": [
    "# Install compatible versions - balance between too new and too old\n",
    "%pip install pillow pillow-avif-plugin openai \"diffusers==0.30.2\" \"huggingface_hub==0.24.6\" accelerate peft datasets dotenv rich tqdm ipywidgets sentencepiece"
   ]
  },
  {
   "cell_type": "code",
   "execution_count": 2,
   "id": "4465d137",
   "metadata": {},
   "outputs": [],
   "source": [
    "# Configure logging\n",
    "\n",
    "from rich.console import Console\n",
    "from rich.logging import RichHandler\n",
    "import logging\n",
    "\n",
    "console = Console()\n",
    "\n",
    "logging.basicConfig(\n",
    "    level=\"INFO\",\n",
    "    format=\"%(message)s\",\n",
    "    datefmt=\"[%X]\",\n",
    "    handlers=[RichHandler(console=console)]\n",
    ")\n",
    "log = logging.getLogger(\"rich\")"
   ]
  },
  {
   "cell_type": "code",
   "execution_count": 3,
   "id": "97059c52",
   "metadata": {},
   "outputs": [
    {
     "data": {
      "text/html": [
       "<pre style=\"white-space:pre;overflow-x:auto;line-height:normal;font-family:Menlo,'DejaVu Sans Mono',consolas,'Courier New',monospace\"><span style=\"color: #7fbfbf; text-decoration-color: #7fbfbf\">[12:11:25] </span><span style=\"color: #000080; text-decoration-color: #000080\">INFO    </span> Settings loaded.                                                               <a href=\"file:///tmp/ipykernel_4287/1854279093.py\" target=\"_blank\"><span style=\"color: #7f7f7f; text-decoration-color: #7f7f7f\">1854279093.py</span></a><span style=\"color: #7f7f7f; text-decoration-color: #7f7f7f\">:</span><a href=\"file:///tmp/ipykernel_4287/1854279093.py#38\" target=\"_blank\"><span style=\"color: #7f7f7f; text-decoration-color: #7f7f7f\">38</span></a>\n",
       "</pre>\n"
      ],
      "text/plain": [
       "\u001b[2;36m[12:11:25]\u001b[0m\u001b[2;36m \u001b[0m\u001b[34mINFO    \u001b[0m Settings loaded.                                                               \u001b]8;id=379181;file:///tmp/ipykernel_4287/1854279093.py\u001b\\\u001b[2m1854279093.py\u001b[0m\u001b]8;;\u001b\\\u001b[2m:\u001b[0m\u001b]8;id=810142;file:///tmp/ipykernel_4287/1854279093.py#38\u001b\\\u001b[2m38\u001b[0m\u001b]8;;\u001b\\\n"
      ]
     },
     "metadata": {},
     "output_type": "display_data"
    }
   ],
   "source": [
    "from pathlib import Path\n",
    "import json, os, re, shutil\n",
    "\n",
    "IMAGES_OLD_DIR = Path(\"./images-old\")\n",
    "IMAGES_NEW_DIR = Path(\"./images-new\")\n",
    "\n",
    "WORK_DIR = Path(\"./work\")\n",
    "CONVERTED_DIR = WORK_DIR / \"converted\"\n",
    "CONVERTED_OLD = CONVERTED_DIR / \"old\"\n",
    "CONVERTED_NEW = CONVERTED_DIR / \"new\"\n",
    "LABELS_DIR = WORK_DIR / \"labels\"\n",
    "DATASET_DIR = WORK_DIR / \"dataset\"\n",
    "LORA_OUTPUT_DIR = WORK_DIR / \"lora-weights\"\n",
    "\n",
    "for p in [WORK_DIR, CONVERTED_OLD, CONVERTED_NEW, LABELS_DIR, DATASET_DIR, LORA_OUTPUT_DIR]:\n",
    "    p.mkdir(parents=True, exist_ok=True)\n",
    "\n",
    "TARGET_EXT = \".jpg\"\n",
    "\n",
    "OPENAI_API_KEY = os.getenv(\"OPENAI_API_KEY\", \"YOUR_OPENAI_API_KEY_HERE\")\n",
    "OPENAI_MODEL = \"gpt-4o-mini\"\n",
    "\n",
    "LABEL_SCHEMA = [\n",
    "    \"perspective (e.g., top-down, eye-level, low-angle)\",\n",
    "    \"background (describe setting, simplicity vs clutter)\",\n",
    "    \"lighting (e.g., soft, harsh, high-key, low-key, golden-hour)\",\n",
    "    \"color palette (e.g., muted, vibrant, pastel, monochrome)\",\n",
    "    \"texture treatment (e.g., painterly, grainy, smooth)\",\n",
    "    \"composition (e.g., centered subject, rule of thirds, negative space)\",\n",
    "    \"mood (e.g., nostalgic, cheerful, moody, futuristic)\",\n",
    "]\n",
    "\n",
    "BASE_MODEL_ID = \"black-forest-labs/FLUX.1-dev\"\n",
    "USE_8BIT_ADAM = True\n",
    "MIXED_PRECISION = \"bf16\"  # FLUX works better with bfloat16\n",
    "SEED = 42\n",
    "\n",
    "log.info(\"Settings loaded.\")\n",
    "\n",
    "\n"
   ]
  },
  {
   "cell_type": "markdown",
   "id": "73ce2141",
   "metadata": {},
   "source": [
    "## Convert images to JPGs"
   ]
  },
  {
   "cell_type": "code",
   "execution_count": 4,
   "id": "569239b3",
   "metadata": {},
   "outputs": [
    {
     "data": {
      "application/vnd.jupyter.widget-view+json": {
       "model_id": "93fbdac370eb476da8030a4074c8d336",
       "version_major": 2,
       "version_minor": 0
      },
      "text/plain": [
       "  0%|          | 0/16 [00:00<?, ?it/s]"
      ]
     },
     "metadata": {},
     "output_type": "display_data"
    },
    {
     "data": {
      "application/vnd.jupyter.widget-view+json": {
       "model_id": "9ef0008713f84cf6a5f60e22fd3ca96d",
       "version_major": 2,
       "version_minor": 0
      },
      "text/plain": [
       "  0%|          | 0/31 [00:00<?, ?it/s]"
      ]
     },
     "metadata": {},
     "output_type": "display_data"
    },
    {
     "data": {
      "text/html": [
       "<pre style=\"white-space:pre;overflow-x:auto;line-height:normal;font-family:Menlo,'DejaVu Sans Mono',consolas,'Courier New',monospace\"><span style=\"color: #7fbfbf; text-decoration-color: #7fbfbf\">[12:11:26] </span><span style=\"color: #000080; text-decoration-color: #000080\">INFO    </span> Converted <span style=\"color: #008080; text-decoration-color: #008080; font-weight: bold\">16</span> old images and <span style=\"color: #008080; text-decoration-color: #008080; font-weight: bold\">31</span> new images to .jpg.                             <a href=\"file:///tmp/ipykernel_4287/1464447316.py\" target=\"_blank\"><span style=\"color: #7f7f7f; text-decoration-color: #7f7f7f\">1464447316.py</span></a><span style=\"color: #7f7f7f; text-decoration-color: #7f7f7f\">:</span><a href=\"file:///tmp/ipykernel_4287/1464447316.py#28\" target=\"_blank\"><span style=\"color: #7f7f7f; text-decoration-color: #7f7f7f\">28</span></a>\n",
       "</pre>\n"
      ],
      "text/plain": [
       "\u001b[2;36m[12:11:26]\u001b[0m\u001b[2;36m \u001b[0m\u001b[34mINFO    \u001b[0m Converted \u001b[1;36m16\u001b[0m old images and \u001b[1;36m31\u001b[0m new images to .jpg.                             \u001b]8;id=658750;file:///tmp/ipykernel_4287/1464447316.py\u001b\\\u001b[2m1464447316.py\u001b[0m\u001b]8;;\u001b\\\u001b[2m:\u001b[0m\u001b]8;id=921430;file:///tmp/ipykernel_4287/1464447316.py#28\u001b\\\u001b[2m28\u001b[0m\u001b]8;;\u001b\\\n"
      ]
     },
     "metadata": {},
     "output_type": "display_data"
    }
   ],
   "source": [
    "from PIL import Image\n",
    "from tqdm.notebook import tqdm\n",
    "\n",
    "def convert_folder(src: Path, dst: Path, target_ext: str = \".jpg\"):\n",
    "    count = 0\n",
    "    for p in tqdm(sorted(src.rglob(\"*\"))):\n",
    "        if p.is_dir() or p.name.startswith(\".\"):\n",
    "            continue\n",
    "        if p.suffix.lower() not in [\".jpg\", \".jpeg\", \".png\", \".avif\", \".webp\"]:\n",
    "            # skip non-image files explicitly\n",
    "            continue\n",
    "        try:\n",
    "            with Image.open(p) as im:\n",
    "                im = im.convert(\"RGB\")  # unify colorspace\n",
    "                out_path = dst / (p.stem + target_ext)\n",
    "                out_path.parent.mkdir(parents=True, exist_ok=True)\n",
    "                if target_ext.lower() == \".jpg\":                    \n",
    "                    im.save(out_path, format=\"JPEG\", quality=95, optimize=True)\n",
    "                else:\n",
    "                    im.save(out_path)\n",
    "                count += 1\n",
    "        except Exception as e:\n",
    "            print(f\"⚠️ Failed to convert {p}: {e}\")\n",
    "    return count\n",
    "\n",
    "n_old = convert_folder(IMAGES_OLD_DIR, CONVERTED_OLD, TARGET_EXT)\n",
    "n_new = convert_folder(IMAGES_NEW_DIR, CONVERTED_NEW, TARGET_EXT)\n",
    "log.info(f\"Converted {n_old} old images and {n_new} new images to {TARGET_EXT}.\")\n",
    "\n"
   ]
  },
  {
   "cell_type": "markdown",
   "id": "0362992b",
   "metadata": {},
   "source": [
    "# Image labelling"
   ]
  },
  {
   "cell_type": "code",
   "execution_count": 5,
   "id": "2ac808dc",
   "metadata": {},
   "outputs": [
    {
     "name": "stdout",
     "output_type": "stream",
     "text": [
      "Labeling images via Azure OpenAI...\n"
     ]
    },
    {
     "data": {
      "application/vnd.jupyter.widget-view+json": {
       "model_id": "b0dee3640b0545438628fa4a1a0a7a07",
       "version_major": 2,
       "version_minor": 0
      },
      "text/plain": [
       "  0%|          | 0/31 [00:00<?, ?it/s]"
      ]
     },
     "metadata": {},
     "output_type": "display_data"
    },
    {
     "data": {
      "text/html": [
       "<pre style=\"white-space:pre;overflow-x:auto;line-height:normal;font-family:Menlo,'DejaVu Sans Mono',consolas,'Courier New',monospace\"><span style=\"color: #7fbfbf; text-decoration-color: #7fbfbf\">[12:11:27] </span><span style=\"color: #000080; text-decoration-color: #000080\">INFO    </span> ⏭️ Skipping ananassalsa-met-kiwi-jalapeno-en-koriander.jpg <span style=\"font-weight: bold\">(</span>already labeled<span style=\"font-weight: bold\">)</span>    <a href=\"file:///tmp/ipykernel_4287/412114492.py\" target=\"_blank\"><span style=\"color: #7f7f7f; text-decoration-color: #7f7f7f\">412114492.py</span></a><span style=\"color: #7f7f7f; text-decoration-color: #7f7f7f\">:</span><a href=\"file:///tmp/ipykernel_4287/412114492.py#107\" target=\"_blank\"><span style=\"color: #7f7f7f; text-decoration-color: #7f7f7f\">107</span></a>\n",
       "</pre>\n"
      ],
      "text/plain": [
       "\u001b[2;36m[12:11:27]\u001b[0m\u001b[2;36m \u001b[0m\u001b[34mINFO    \u001b[0m ⏭️ Skipping ananassalsa-met-kiwi-jalapeno-en-koriander.jpg \u001b[1m(\u001b[0malready labeled\u001b[1m)\u001b[0m    \u001b]8;id=604514;file:///tmp/ipykernel_4287/412114492.py\u001b\\\u001b[2m412114492.py\u001b[0m\u001b]8;;\u001b\\\u001b[2m:\u001b[0m\u001b]8;id=484833;file:///tmp/ipykernel_4287/412114492.py#107\u001b\\\u001b[2m107\u001b[0m\u001b]8;;\u001b\\\n"
      ]
     },
     "metadata": {},
     "output_type": "display_data"
    },
    {
     "data": {
      "text/html": [
       "<pre style=\"white-space:pre;overflow-x:auto;line-height:normal;font-family:Menlo,'DejaVu Sans Mono',consolas,'Courier New',monospace\"><span style=\"color: #7fbfbf; text-decoration-color: #7fbfbf\">           </span><span style=\"color: #000080; text-decoration-color: #000080\">INFO    </span> ⏭️ Skipping andijviestamp-met-gerookte-kip-en-zongedroogde-tomaat.jpg <span style=\"font-weight: bold\">(</span>already  <a href=\"file:///tmp/ipykernel_4287/412114492.py\" target=\"_blank\"><span style=\"color: #7f7f7f; text-decoration-color: #7f7f7f\">412114492.py</span></a><span style=\"color: #7f7f7f; text-decoration-color: #7f7f7f\">:</span><a href=\"file:///tmp/ipykernel_4287/412114492.py#107\" target=\"_blank\"><span style=\"color: #7f7f7f; text-decoration-color: #7f7f7f\">107</span></a>\n",
       "<span style=\"color: #7fbfbf; text-decoration-color: #7fbfbf\">           </span>         labeled<span style=\"font-weight: bold\">)</span>                                                                       <span style=\"color: #7f7f7f; text-decoration-color: #7f7f7f\">                </span>\n",
       "</pre>\n"
      ],
      "text/plain": [
       "\u001b[2;36m          \u001b[0m\u001b[2;36m \u001b[0m\u001b[34mINFO    \u001b[0m ⏭️ Skipping andijviestamp-met-gerookte-kip-en-zongedroogde-tomaat.jpg \u001b[1m(\u001b[0malready  \u001b]8;id=522125;file:///tmp/ipykernel_4287/412114492.py\u001b\\\u001b[2m412114492.py\u001b[0m\u001b]8;;\u001b\\\u001b[2m:\u001b[0m\u001b]8;id=595568;file:///tmp/ipykernel_4287/412114492.py#107\u001b\\\u001b[2m107\u001b[0m\u001b]8;;\u001b\\\n",
       "\u001b[2;36m           \u001b[0m         labeled\u001b[1m)\u001b[0m                                                                       \u001b[2m                \u001b[0m\n"
      ]
     },
     "metadata": {},
     "output_type": "display_data"
    },
    {
     "data": {
      "text/html": [
       "<pre style=\"white-space:pre;overflow-x:auto;line-height:normal;font-family:Menlo,'DejaVu Sans Mono',consolas,'Courier New',monospace\"><span style=\"color: #7fbfbf; text-decoration-color: #7fbfbf\">           </span><span style=\"color: #000080; text-decoration-color: #000080\">INFO    </span> ⏭️ Skipping bananenbrood-choco-kokostopping-van-giorgias-kitchen.jpg <span style=\"font-weight: bold\">(</span>already   <a href=\"file:///tmp/ipykernel_4287/412114492.py\" target=\"_blank\"><span style=\"color: #7f7f7f; text-decoration-color: #7f7f7f\">412114492.py</span></a><span style=\"color: #7f7f7f; text-decoration-color: #7f7f7f\">:</span><a href=\"file:///tmp/ipykernel_4287/412114492.py#107\" target=\"_blank\"><span style=\"color: #7f7f7f; text-decoration-color: #7f7f7f\">107</span></a>\n",
       "<span style=\"color: #7fbfbf; text-decoration-color: #7fbfbf\">           </span>         labeled<span style=\"font-weight: bold\">)</span>                                                                       <span style=\"color: #7f7f7f; text-decoration-color: #7f7f7f\">                </span>\n",
       "</pre>\n"
      ],
      "text/plain": [
       "\u001b[2;36m          \u001b[0m\u001b[2;36m \u001b[0m\u001b[34mINFO    \u001b[0m ⏭️ Skipping bananenbrood-choco-kokostopping-van-giorgias-kitchen.jpg \u001b[1m(\u001b[0malready   \u001b]8;id=228627;file:///tmp/ipykernel_4287/412114492.py\u001b\\\u001b[2m412114492.py\u001b[0m\u001b]8;;\u001b\\\u001b[2m:\u001b[0m\u001b]8;id=830667;file:///tmp/ipykernel_4287/412114492.py#107\u001b\\\u001b[2m107\u001b[0m\u001b]8;;\u001b\\\n",
       "\u001b[2;36m           \u001b[0m         labeled\u001b[1m)\u001b[0m                                                                       \u001b[2m                \u001b[0m\n"
      ]
     },
     "metadata": {},
     "output_type": "display_data"
    },
    {
     "data": {
      "text/html": [
       "<pre style=\"white-space:pre;overflow-x:auto;line-height:normal;font-family:Menlo,'DejaVu Sans Mono',consolas,'Courier New',monospace\"><span style=\"color: #7fbfbf; text-decoration-color: #7fbfbf\">           </span><span style=\"color: #000080; text-decoration-color: #000080\">INFO    </span> ⏭️ Skipping belegde-maiswafels-van-giorgias-kitchen.jpg <span style=\"font-weight: bold\">(</span>already labeled<span style=\"font-weight: bold\">)</span>       <a href=\"file:///tmp/ipykernel_4287/412114492.py\" target=\"_blank\"><span style=\"color: #7f7f7f; text-decoration-color: #7f7f7f\">412114492.py</span></a><span style=\"color: #7f7f7f; text-decoration-color: #7f7f7f\">:</span><a href=\"file:///tmp/ipykernel_4287/412114492.py#107\" target=\"_blank\"><span style=\"color: #7f7f7f; text-decoration-color: #7f7f7f\">107</span></a>\n",
       "</pre>\n"
      ],
      "text/plain": [
       "\u001b[2;36m          \u001b[0m\u001b[2;36m \u001b[0m\u001b[34mINFO    \u001b[0m ⏭️ Skipping belegde-maiswafels-van-giorgias-kitchen.jpg \u001b[1m(\u001b[0malready labeled\u001b[1m)\u001b[0m       \u001b]8;id=499848;file:///tmp/ipykernel_4287/412114492.py\u001b\\\u001b[2m412114492.py\u001b[0m\u001b]8;;\u001b\\\u001b[2m:\u001b[0m\u001b]8;id=175580;file:///tmp/ipykernel_4287/412114492.py#107\u001b\\\u001b[2m107\u001b[0m\u001b]8;;\u001b\\\n"
      ]
     },
     "metadata": {},
     "output_type": "display_data"
    },
    {
     "data": {
      "text/html": [
       "<pre style=\"white-space:pre;overflow-x:auto;line-height:normal;font-family:Menlo,'DejaVu Sans Mono',consolas,'Courier New',monospace\"><span style=\"color: #7fbfbf; text-decoration-color: #7fbfbf\">           </span><span style=\"color: #000080; text-decoration-color: #000080\">INFO    </span> ⏭️ Skipping citrusdip.jpg <span style=\"font-weight: bold\">(</span>already labeled<span style=\"font-weight: bold\">)</span>                                     <a href=\"file:///tmp/ipykernel_4287/412114492.py\" target=\"_blank\"><span style=\"color: #7f7f7f; text-decoration-color: #7f7f7f\">412114492.py</span></a><span style=\"color: #7f7f7f; text-decoration-color: #7f7f7f\">:</span><a href=\"file:///tmp/ipykernel_4287/412114492.py#107\" target=\"_blank\"><span style=\"color: #7f7f7f; text-decoration-color: #7f7f7f\">107</span></a>\n",
       "</pre>\n"
      ],
      "text/plain": [
       "\u001b[2;36m          \u001b[0m\u001b[2;36m \u001b[0m\u001b[34mINFO    \u001b[0m ⏭️ Skipping citrusdip.jpg \u001b[1m(\u001b[0malready labeled\u001b[1m)\u001b[0m                                     \u001b]8;id=200622;file:///tmp/ipykernel_4287/412114492.py\u001b\\\u001b[2m412114492.py\u001b[0m\u001b]8;;\u001b\\\u001b[2m:\u001b[0m\u001b]8;id=789709;file:///tmp/ipykernel_4287/412114492.py#107\u001b\\\u001b[2m107\u001b[0m\u001b]8;;\u001b\\\n"
      ]
     },
     "metadata": {},
     "output_type": "display_data"
    },
    {
     "data": {
      "text/html": [
       "<pre style=\"white-space:pre;overflow-x:auto;line-height:normal;font-family:Menlo,'DejaVu Sans Mono',consolas,'Courier New',monospace\"><span style=\"color: #7fbfbf; text-decoration-color: #7fbfbf\">           </span><span style=\"color: #000080; text-decoration-color: #000080\">INFO    </span> ⏭️ Skipping cottage-cheese-chips-met-zalm-en-komkommer.jpg <span style=\"font-weight: bold\">(</span>already labeled<span style=\"font-weight: bold\">)</span>    <a href=\"file:///tmp/ipykernel_4287/412114492.py\" target=\"_blank\"><span style=\"color: #7f7f7f; text-decoration-color: #7f7f7f\">412114492.py</span></a><span style=\"color: #7f7f7f; text-decoration-color: #7f7f7f\">:</span><a href=\"file:///tmp/ipykernel_4287/412114492.py#107\" target=\"_blank\"><span style=\"color: #7f7f7f; text-decoration-color: #7f7f7f\">107</span></a>\n",
       "</pre>\n"
      ],
      "text/plain": [
       "\u001b[2;36m          \u001b[0m\u001b[2;36m \u001b[0m\u001b[34mINFO    \u001b[0m ⏭️ Skipping cottage-cheese-chips-met-zalm-en-komkommer.jpg \u001b[1m(\u001b[0malready labeled\u001b[1m)\u001b[0m    \u001b]8;id=579108;file:///tmp/ipykernel_4287/412114492.py\u001b\\\u001b[2m412114492.py\u001b[0m\u001b]8;;\u001b\\\u001b[2m:\u001b[0m\u001b]8;id=95370;file:///tmp/ipykernel_4287/412114492.py#107\u001b\\\u001b[2m107\u001b[0m\u001b]8;;\u001b\\\n"
      ]
     },
     "metadata": {},
     "output_type": "display_data"
    },
    {
     "data": {
      "text/html": [
       "<pre style=\"white-space:pre;overflow-x:auto;line-height:normal;font-family:Menlo,'DejaVu Sans Mono',consolas,'Courier New',monospace\"><span style=\"color: #7fbfbf; text-decoration-color: #7fbfbf\">           </span><span style=\"color: #000080; text-decoration-color: #000080\">INFO    </span> ⏭️ Skipping garnalenburger-uit-de-airfryer-met-coleslaw.jpg <span style=\"font-weight: bold\">(</span>already labeled<span style=\"font-weight: bold\">)</span>   <a href=\"file:///tmp/ipykernel_4287/412114492.py\" target=\"_blank\"><span style=\"color: #7f7f7f; text-decoration-color: #7f7f7f\">412114492.py</span></a><span style=\"color: #7f7f7f; text-decoration-color: #7f7f7f\">:</span><a href=\"file:///tmp/ipykernel_4287/412114492.py#107\" target=\"_blank\"><span style=\"color: #7f7f7f; text-decoration-color: #7f7f7f\">107</span></a>\n",
       "</pre>\n"
      ],
      "text/plain": [
       "\u001b[2;36m          \u001b[0m\u001b[2;36m \u001b[0m\u001b[34mINFO    \u001b[0m ⏭️ Skipping garnalenburger-uit-de-airfryer-met-coleslaw.jpg \u001b[1m(\u001b[0malready labeled\u001b[1m)\u001b[0m   \u001b]8;id=676240;file:///tmp/ipykernel_4287/412114492.py\u001b\\\u001b[2m412114492.py\u001b[0m\u001b]8;;\u001b\\\u001b[2m:\u001b[0m\u001b]8;id=799168;file:///tmp/ipykernel_4287/412114492.py#107\u001b\\\u001b[2m107\u001b[0m\u001b]8;;\u001b\\\n"
      ]
     },
     "metadata": {},
     "output_type": "display_data"
    },
    {
     "data": {
      "text/html": [
       "<pre style=\"white-space:pre;overflow-x:auto;line-height:normal;font-family:Menlo,'DejaVu Sans Mono',consolas,'Courier New',monospace\"><span style=\"color: #7fbfbf; text-decoration-color: #7fbfbf\">           </span><span style=\"color: #000080; text-decoration-color: #000080\">INFO    </span> ⏭️ Skipping gekruide-tartaar-met-aardappel-en-broccoli.jpg <span style=\"font-weight: bold\">(</span>already labeled<span style=\"font-weight: bold\">)</span>    <a href=\"file:///tmp/ipykernel_4287/412114492.py\" target=\"_blank\"><span style=\"color: #7f7f7f; text-decoration-color: #7f7f7f\">412114492.py</span></a><span style=\"color: #7f7f7f; text-decoration-color: #7f7f7f\">:</span><a href=\"file:///tmp/ipykernel_4287/412114492.py#107\" target=\"_blank\"><span style=\"color: #7f7f7f; text-decoration-color: #7f7f7f\">107</span></a>\n",
       "</pre>\n"
      ],
      "text/plain": [
       "\u001b[2;36m          \u001b[0m\u001b[2;36m \u001b[0m\u001b[34mINFO    \u001b[0m ⏭️ Skipping gekruide-tartaar-met-aardappel-en-broccoli.jpg \u001b[1m(\u001b[0malready labeled\u001b[1m)\u001b[0m    \u001b]8;id=549429;file:///tmp/ipykernel_4287/412114492.py\u001b\\\u001b[2m412114492.py\u001b[0m\u001b]8;;\u001b\\\u001b[2m:\u001b[0m\u001b]8;id=695649;file:///tmp/ipykernel_4287/412114492.py#107\u001b\\\u001b[2m107\u001b[0m\u001b]8;;\u001b\\\n"
      ]
     },
     "metadata": {},
     "output_type": "display_data"
    },
    {
     "data": {
      "text/html": [
       "<pre style=\"white-space:pre;overflow-x:auto;line-height:normal;font-family:Menlo,'DejaVu Sans Mono',consolas,'Courier New',monospace\"><span style=\"color: #7fbfbf; text-decoration-color: #7fbfbf\">           </span><span style=\"color: #000080; text-decoration-color: #000080\">INFO    </span> ⏭️ Skipping geraspte-tomatensalsa-met-rode-ui-en-peterselie.jpg <span style=\"font-weight: bold\">(</span>already        <a href=\"file:///tmp/ipykernel_4287/412114492.py\" target=\"_blank\"><span style=\"color: #7f7f7f; text-decoration-color: #7f7f7f\">412114492.py</span></a><span style=\"color: #7f7f7f; text-decoration-color: #7f7f7f\">:</span><a href=\"file:///tmp/ipykernel_4287/412114492.py#107\" target=\"_blank\"><span style=\"color: #7f7f7f; text-decoration-color: #7f7f7f\">107</span></a>\n",
       "<span style=\"color: #7fbfbf; text-decoration-color: #7fbfbf\">           </span>         labeled<span style=\"font-weight: bold\">)</span>                                                                       <span style=\"color: #7f7f7f; text-decoration-color: #7f7f7f\">                </span>\n",
       "</pre>\n"
      ],
      "text/plain": [
       "\u001b[2;36m          \u001b[0m\u001b[2;36m \u001b[0m\u001b[34mINFO    \u001b[0m ⏭️ Skipping geraspte-tomatensalsa-met-rode-ui-en-peterselie.jpg \u001b[1m(\u001b[0malready        \u001b]8;id=640122;file:///tmp/ipykernel_4287/412114492.py\u001b\\\u001b[2m412114492.py\u001b[0m\u001b]8;;\u001b\\\u001b[2m:\u001b[0m\u001b]8;id=926072;file:///tmp/ipykernel_4287/412114492.py#107\u001b\\\u001b[2m107\u001b[0m\u001b]8;;\u001b\\\n",
       "\u001b[2;36m           \u001b[0m         labeled\u001b[1m)\u001b[0m                                                                       \u001b[2m                \u001b[0m\n"
      ]
     },
     "metadata": {},
     "output_type": "display_data"
    },
    {
     "data": {
      "text/html": [
       "<pre style=\"white-space:pre;overflow-x:auto;line-height:normal;font-family:Menlo,'DejaVu Sans Mono',consolas,'Courier New',monospace\"><span style=\"color: #7fbfbf; text-decoration-color: #7fbfbf\">           </span><span style=\"color: #000080; text-decoration-color: #000080\">INFO    </span> ⏭️ Skipping gezonde-<span style=\"color: #008080; text-decoration-color: #008080; font-weight: bold\">4</span>-kazentosti-met-rode-ui.jpg <span style=\"font-weight: bold\">(</span>already labeled<span style=\"font-weight: bold\">)</span>              <a href=\"file:///tmp/ipykernel_4287/412114492.py\" target=\"_blank\"><span style=\"color: #7f7f7f; text-decoration-color: #7f7f7f\">412114492.py</span></a><span style=\"color: #7f7f7f; text-decoration-color: #7f7f7f\">:</span><a href=\"file:///tmp/ipykernel_4287/412114492.py#107\" target=\"_blank\"><span style=\"color: #7f7f7f; text-decoration-color: #7f7f7f\">107</span></a>\n",
       "</pre>\n"
      ],
      "text/plain": [
       "\u001b[2;36m          \u001b[0m\u001b[2;36m \u001b[0m\u001b[34mINFO    \u001b[0m ⏭️ Skipping gezonde-\u001b[1;36m4\u001b[0m-kazentosti-met-rode-ui.jpg \u001b[1m(\u001b[0malready labeled\u001b[1m)\u001b[0m              \u001b]8;id=780908;file:///tmp/ipykernel_4287/412114492.py\u001b\\\u001b[2m412114492.py\u001b[0m\u001b]8;;\u001b\\\u001b[2m:\u001b[0m\u001b]8;id=162246;file:///tmp/ipykernel_4287/412114492.py#107\u001b\\\u001b[2m107\u001b[0m\u001b]8;;\u001b\\\n"
      ]
     },
     "metadata": {},
     "output_type": "display_data"
    },
    {
     "data": {
      "text/html": [
       "<pre style=\"white-space:pre;overflow-x:auto;line-height:normal;font-family:Menlo,'DejaVu Sans Mono',consolas,'Courier New',monospace\"><span style=\"color: #7fbfbf; text-decoration-color: #7fbfbf\">           </span><span style=\"color: #000080; text-decoration-color: #000080\">INFO    </span> ⏭️ Skipping gezonde-burritos-met-kip-bonen-en-tomatenrijst.jpg <span style=\"font-weight: bold\">(</span>already         <a href=\"file:///tmp/ipykernel_4287/412114492.py\" target=\"_blank\"><span style=\"color: #7f7f7f; text-decoration-color: #7f7f7f\">412114492.py</span></a><span style=\"color: #7f7f7f; text-decoration-color: #7f7f7f\">:</span><a href=\"file:///tmp/ipykernel_4287/412114492.py#107\" target=\"_blank\"><span style=\"color: #7f7f7f; text-decoration-color: #7f7f7f\">107</span></a>\n",
       "<span style=\"color: #7fbfbf; text-decoration-color: #7fbfbf\">           </span>         labeled<span style=\"font-weight: bold\">)</span>                                                                       <span style=\"color: #7f7f7f; text-decoration-color: #7f7f7f\">                </span>\n",
       "</pre>\n"
      ],
      "text/plain": [
       "\u001b[2;36m          \u001b[0m\u001b[2;36m \u001b[0m\u001b[34mINFO    \u001b[0m ⏭️ Skipping gezonde-burritos-met-kip-bonen-en-tomatenrijst.jpg \u001b[1m(\u001b[0malready         \u001b]8;id=613855;file:///tmp/ipykernel_4287/412114492.py\u001b\\\u001b[2m412114492.py\u001b[0m\u001b]8;;\u001b\\\u001b[2m:\u001b[0m\u001b]8;id=440378;file:///tmp/ipykernel_4287/412114492.py#107\u001b\\\u001b[2m107\u001b[0m\u001b]8;;\u001b\\\n",
       "\u001b[2;36m           \u001b[0m         labeled\u001b[1m)\u001b[0m                                                                       \u001b[2m                \u001b[0m\n"
      ]
     },
     "metadata": {},
     "output_type": "display_data"
    },
    {
     "data": {
      "text/html": [
       "<pre style=\"white-space:pre;overflow-x:auto;line-height:normal;font-family:Menlo,'DejaVu Sans Mono',consolas,'Courier New',monospace\"><span style=\"color: #7fbfbf; text-decoration-color: #7fbfbf\">           </span><span style=\"color: #000080; text-decoration-color: #000080\">INFO    </span> ⏭️ Skipping gnocchi-en-meatballs.jpg <span style=\"font-weight: bold\">(</span>already labeled<span style=\"font-weight: bold\">)</span>                          <a href=\"file:///tmp/ipykernel_4287/412114492.py\" target=\"_blank\"><span style=\"color: #7f7f7f; text-decoration-color: #7f7f7f\">412114492.py</span></a><span style=\"color: #7f7f7f; text-decoration-color: #7f7f7f\">:</span><a href=\"file:///tmp/ipykernel_4287/412114492.py#107\" target=\"_blank\"><span style=\"color: #7f7f7f; text-decoration-color: #7f7f7f\">107</span></a>\n",
       "</pre>\n"
      ],
      "text/plain": [
       "\u001b[2;36m          \u001b[0m\u001b[2;36m \u001b[0m\u001b[34mINFO    \u001b[0m ⏭️ Skipping gnocchi-en-meatballs.jpg \u001b[1m(\u001b[0malready labeled\u001b[1m)\u001b[0m                          \u001b]8;id=614085;file:///tmp/ipykernel_4287/412114492.py\u001b\\\u001b[2m412114492.py\u001b[0m\u001b]8;;\u001b\\\u001b[2m:\u001b[0m\u001b]8;id=659633;file:///tmp/ipykernel_4287/412114492.py#107\u001b\\\u001b[2m107\u001b[0m\u001b]8;;\u001b\\\n"
      ]
     },
     "metadata": {},
     "output_type": "display_data"
    },
    {
     "data": {
      "text/html": [
       "<pre style=\"white-space:pre;overflow-x:auto;line-height:normal;font-family:Menlo,'DejaVu Sans Mono',consolas,'Courier New',monospace\"><span style=\"color: #7fbfbf; text-decoration-color: #7fbfbf\">           </span><span style=\"color: #000080; text-decoration-color: #000080\">INFO    </span> ⏭️ Skipping groene-kruidendip.jpg <span style=\"font-weight: bold\">(</span>already labeled<span style=\"font-weight: bold\">)</span>                             <a href=\"file:///tmp/ipykernel_4287/412114492.py\" target=\"_blank\"><span style=\"color: #7f7f7f; text-decoration-color: #7f7f7f\">412114492.py</span></a><span style=\"color: #7f7f7f; text-decoration-color: #7f7f7f\">:</span><a href=\"file:///tmp/ipykernel_4287/412114492.py#107\" target=\"_blank\"><span style=\"color: #7f7f7f; text-decoration-color: #7f7f7f\">107</span></a>\n",
       "</pre>\n"
      ],
      "text/plain": [
       "\u001b[2;36m          \u001b[0m\u001b[2;36m \u001b[0m\u001b[34mINFO    \u001b[0m ⏭️ Skipping groene-kruidendip.jpg \u001b[1m(\u001b[0malready labeled\u001b[1m)\u001b[0m                             \u001b]8;id=495503;file:///tmp/ipykernel_4287/412114492.py\u001b\\\u001b[2m412114492.py\u001b[0m\u001b]8;;\u001b\\\u001b[2m:\u001b[0m\u001b]8;id=838953;file:///tmp/ipykernel_4287/412114492.py#107\u001b\\\u001b[2m107\u001b[0m\u001b]8;;\u001b\\\n"
      ]
     },
     "metadata": {},
     "output_type": "display_data"
    },
    {
     "data": {
      "text/html": [
       "<pre style=\"white-space:pre;overflow-x:auto;line-height:normal;font-family:Menlo,'DejaVu Sans Mono',consolas,'Courier New',monospace\"><span style=\"color: #7fbfbf; text-decoration-color: #7fbfbf\">           </span><span style=\"color: #000080; text-decoration-color: #000080\">INFO    </span> ⏭️ Skipping groente-kipnuggets-uit-de-airfryer.jpg <span style=\"font-weight: bold\">(</span>already labeled<span style=\"font-weight: bold\">)</span>            <a href=\"file:///tmp/ipykernel_4287/412114492.py\" target=\"_blank\"><span style=\"color: #7f7f7f; text-decoration-color: #7f7f7f\">412114492.py</span></a><span style=\"color: #7f7f7f; text-decoration-color: #7f7f7f\">:</span><a href=\"file:///tmp/ipykernel_4287/412114492.py#107\" target=\"_blank\"><span style=\"color: #7f7f7f; text-decoration-color: #7f7f7f\">107</span></a>\n",
       "</pre>\n"
      ],
      "text/plain": [
       "\u001b[2;36m          \u001b[0m\u001b[2;36m \u001b[0m\u001b[34mINFO    \u001b[0m ⏭️ Skipping groente-kipnuggets-uit-de-airfryer.jpg \u001b[1m(\u001b[0malready labeled\u001b[1m)\u001b[0m            \u001b]8;id=888167;file:///tmp/ipykernel_4287/412114492.py\u001b\\\u001b[2m412114492.py\u001b[0m\u001b]8;;\u001b\\\u001b[2m:\u001b[0m\u001b]8;id=809381;file:///tmp/ipykernel_4287/412114492.py#107\u001b\\\u001b[2m107\u001b[0m\u001b]8;;\u001b\\\n"
      ]
     },
     "metadata": {},
     "output_type": "display_data"
    },
    {
     "data": {
      "text/html": [
       "<pre style=\"white-space:pre;overflow-x:auto;line-height:normal;font-family:Menlo,'DejaVu Sans Mono',consolas,'Courier New',monospace\"><span style=\"color: #7fbfbf; text-decoration-color: #7fbfbf\">           </span><span style=\"color: #000080; text-decoration-color: #000080\">INFO    </span> ⏭️ Skipping havermoutcrumble-met-frambozen-en-custard.jpg <span style=\"font-weight: bold\">(</span>already labeled<span style=\"font-weight: bold\">)</span>     <a href=\"file:///tmp/ipykernel_4287/412114492.py\" target=\"_blank\"><span style=\"color: #7f7f7f; text-decoration-color: #7f7f7f\">412114492.py</span></a><span style=\"color: #7f7f7f; text-decoration-color: #7f7f7f\">:</span><a href=\"file:///tmp/ipykernel_4287/412114492.py#107\" target=\"_blank\"><span style=\"color: #7f7f7f; text-decoration-color: #7f7f7f\">107</span></a>\n",
       "</pre>\n"
      ],
      "text/plain": [
       "\u001b[2;36m          \u001b[0m\u001b[2;36m \u001b[0m\u001b[34mINFO    \u001b[0m ⏭️ Skipping havermoutcrumble-met-frambozen-en-custard.jpg \u001b[1m(\u001b[0malready labeled\u001b[1m)\u001b[0m     \u001b]8;id=79272;file:///tmp/ipykernel_4287/412114492.py\u001b\\\u001b[2m412114492.py\u001b[0m\u001b]8;;\u001b\\\u001b[2m:\u001b[0m\u001b]8;id=134744;file:///tmp/ipykernel_4287/412114492.py#107\u001b\\\u001b[2m107\u001b[0m\u001b]8;;\u001b\\\n"
      ]
     },
     "metadata": {},
     "output_type": "display_data"
    },
    {
     "data": {
      "text/html": [
       "<pre style=\"white-space:pre;overflow-x:auto;line-height:normal;font-family:Menlo,'DejaVu Sans Mono',consolas,'Courier New',monospace\"><span style=\"color: #7fbfbf; text-decoration-color: #7fbfbf\">           </span><span style=\"color: #000080; text-decoration-color: #000080\">INFO    </span> ⏭️ Skipping kabeljauw-met-notencrunch-en-venkel.jpg <span style=\"font-weight: bold\">(</span>already labeled<span style=\"font-weight: bold\">)</span>           <a href=\"file:///tmp/ipykernel_4287/412114492.py\" target=\"_blank\"><span style=\"color: #7f7f7f; text-decoration-color: #7f7f7f\">412114492.py</span></a><span style=\"color: #7f7f7f; text-decoration-color: #7f7f7f\">:</span><a href=\"file:///tmp/ipykernel_4287/412114492.py#107\" target=\"_blank\"><span style=\"color: #7f7f7f; text-decoration-color: #7f7f7f\">107</span></a>\n",
       "</pre>\n"
      ],
      "text/plain": [
       "\u001b[2;36m          \u001b[0m\u001b[2;36m \u001b[0m\u001b[34mINFO    \u001b[0m ⏭️ Skipping kabeljauw-met-notencrunch-en-venkel.jpg \u001b[1m(\u001b[0malready labeled\u001b[1m)\u001b[0m           \u001b]8;id=3915;file:///tmp/ipykernel_4287/412114492.py\u001b\\\u001b[2m412114492.py\u001b[0m\u001b]8;;\u001b\\\u001b[2m:\u001b[0m\u001b]8;id=848396;file:///tmp/ipykernel_4287/412114492.py#107\u001b\\\u001b[2m107\u001b[0m\u001b]8;;\u001b\\\n"
      ]
     },
     "metadata": {},
     "output_type": "display_data"
    },
    {
     "data": {
      "text/html": [
       "<pre style=\"white-space:pre;overflow-x:auto;line-height:normal;font-family:Menlo,'DejaVu Sans Mono',consolas,'Courier New',monospace\"><span style=\"color: #7fbfbf; text-decoration-color: #7fbfbf\">           </span><span style=\"color: #000080; text-decoration-color: #000080\">INFO    </span> ⏭️ Skipping lunchwraps-gerookte-kip-en-komkommer-van-giorgias-kitchen.jpg       <a href=\"file:///tmp/ipykernel_4287/412114492.py\" target=\"_blank\"><span style=\"color: #7f7f7f; text-decoration-color: #7f7f7f\">412114492.py</span></a><span style=\"color: #7f7f7f; text-decoration-color: #7f7f7f\">:</span><a href=\"file:///tmp/ipykernel_4287/412114492.py#107\" target=\"_blank\"><span style=\"color: #7f7f7f; text-decoration-color: #7f7f7f\">107</span></a>\n",
       "<span style=\"color: #7fbfbf; text-decoration-color: #7fbfbf\">           </span>         <span style=\"font-weight: bold\">(</span>already labeled<span style=\"font-weight: bold\">)</span>                                                              <span style=\"color: #7f7f7f; text-decoration-color: #7f7f7f\">                </span>\n",
       "</pre>\n"
      ],
      "text/plain": [
       "\u001b[2;36m          \u001b[0m\u001b[2;36m \u001b[0m\u001b[34mINFO    \u001b[0m ⏭️ Skipping lunchwraps-gerookte-kip-en-komkommer-van-giorgias-kitchen.jpg       \u001b]8;id=274298;file:///tmp/ipykernel_4287/412114492.py\u001b\\\u001b[2m412114492.py\u001b[0m\u001b]8;;\u001b\\\u001b[2m:\u001b[0m\u001b]8;id=686666;file:///tmp/ipykernel_4287/412114492.py#107\u001b\\\u001b[2m107\u001b[0m\u001b]8;;\u001b\\\n",
       "\u001b[2;36m           \u001b[0m         \u001b[1m(\u001b[0malready labeled\u001b[1m)\u001b[0m                                                              \u001b[2m                \u001b[0m\n"
      ]
     },
     "metadata": {},
     "output_type": "display_data"
    },
    {
     "data": {
      "text/html": [
       "<pre style=\"white-space:pre;overflow-x:auto;line-height:normal;font-family:Menlo,'DejaVu Sans Mono',consolas,'Courier New',monospace\"><span style=\"color: #7fbfbf; text-decoration-color: #7fbfbf\">           </span><span style=\"color: #000080; text-decoration-color: #000080\">INFO    </span> ⏭️ Skipping ovenquesadillas-met-kipgehakt-en-komkommersla.jpg <span style=\"font-weight: bold\">(</span>already labeled<span style=\"font-weight: bold\">)</span> <a href=\"file:///tmp/ipykernel_4287/412114492.py\" target=\"_blank\"><span style=\"color: #7f7f7f; text-decoration-color: #7f7f7f\">412114492.py</span></a><span style=\"color: #7f7f7f; text-decoration-color: #7f7f7f\">:</span><a href=\"file:///tmp/ipykernel_4287/412114492.py#107\" target=\"_blank\"><span style=\"color: #7f7f7f; text-decoration-color: #7f7f7f\">107</span></a>\n",
       "</pre>\n"
      ],
      "text/plain": [
       "\u001b[2;36m          \u001b[0m\u001b[2;36m \u001b[0m\u001b[34mINFO    \u001b[0m ⏭️ Skipping ovenquesadillas-met-kipgehakt-en-komkommersla.jpg \u001b[1m(\u001b[0malready labeled\u001b[1m)\u001b[0m \u001b]8;id=988846;file:///tmp/ipykernel_4287/412114492.py\u001b\\\u001b[2m412114492.py\u001b[0m\u001b]8;;\u001b\\\u001b[2m:\u001b[0m\u001b]8;id=214583;file:///tmp/ipykernel_4287/412114492.py#107\u001b\\\u001b[2m107\u001b[0m\u001b]8;;\u001b\\\n"
      ]
     },
     "metadata": {},
     "output_type": "display_data"
    },
    {
     "data": {
      "text/html": [
       "<pre style=\"white-space:pre;overflow-x:auto;line-height:normal;font-family:Menlo,'DejaVu Sans Mono',consolas,'Courier New',monospace\"><span style=\"color: #7fbfbf; text-decoration-color: #7fbfbf\">           </span><span style=\"color: #000080; text-decoration-color: #000080\">INFO    </span> ⏭️ Skipping paprika-tomaatwraps-met-tonijnsalade.jpg <span style=\"font-weight: bold\">(</span>already labeled<span style=\"font-weight: bold\">)</span>          <a href=\"file:///tmp/ipykernel_4287/412114492.py\" target=\"_blank\"><span style=\"color: #7f7f7f; text-decoration-color: #7f7f7f\">412114492.py</span></a><span style=\"color: #7f7f7f; text-decoration-color: #7f7f7f\">:</span><a href=\"file:///tmp/ipykernel_4287/412114492.py#107\" target=\"_blank\"><span style=\"color: #7f7f7f; text-decoration-color: #7f7f7f\">107</span></a>\n",
       "</pre>\n"
      ],
      "text/plain": [
       "\u001b[2;36m          \u001b[0m\u001b[2;36m \u001b[0m\u001b[34mINFO    \u001b[0m ⏭️ Skipping paprika-tomaatwraps-met-tonijnsalade.jpg \u001b[1m(\u001b[0malready labeled\u001b[1m)\u001b[0m          \u001b]8;id=760268;file:///tmp/ipykernel_4287/412114492.py\u001b\\\u001b[2m412114492.py\u001b[0m\u001b]8;;\u001b\\\u001b[2m:\u001b[0m\u001b]8;id=839624;file:///tmp/ipykernel_4287/412114492.py#107\u001b\\\u001b[2m107\u001b[0m\u001b]8;;\u001b\\\n"
      ]
     },
     "metadata": {},
     "output_type": "display_data"
    },
    {
     "data": {
      "text/html": [
       "<pre style=\"white-space:pre;overflow-x:auto;line-height:normal;font-family:Menlo,'DejaVu Sans Mono',consolas,'Courier New',monospace\"><span style=\"color: #7fbfbf; text-decoration-color: #7fbfbf\">           </span><span style=\"color: #000080; text-decoration-color: #000080\">INFO    </span> ⏭️ Skipping paprikasalsa-met-limoen-en-bosui.jpg <span style=\"font-weight: bold\">(</span>already labeled<span style=\"font-weight: bold\">)</span>              <a href=\"file:///tmp/ipykernel_4287/412114492.py\" target=\"_blank\"><span style=\"color: #7f7f7f; text-decoration-color: #7f7f7f\">412114492.py</span></a><span style=\"color: #7f7f7f; text-decoration-color: #7f7f7f\">:</span><a href=\"file:///tmp/ipykernel_4287/412114492.py#107\" target=\"_blank\"><span style=\"color: #7f7f7f; text-decoration-color: #7f7f7f\">107</span></a>\n",
       "</pre>\n"
      ],
      "text/plain": [
       "\u001b[2;36m          \u001b[0m\u001b[2;36m \u001b[0m\u001b[34mINFO    \u001b[0m ⏭️ Skipping paprikasalsa-met-limoen-en-bosui.jpg \u001b[1m(\u001b[0malready labeled\u001b[1m)\u001b[0m              \u001b]8;id=413052;file:///tmp/ipykernel_4287/412114492.py\u001b\\\u001b[2m412114492.py\u001b[0m\u001b]8;;\u001b\\\u001b[2m:\u001b[0m\u001b]8;id=851010;file:///tmp/ipykernel_4287/412114492.py#107\u001b\\\u001b[2m107\u001b[0m\u001b]8;;\u001b\\\n"
      ]
     },
     "metadata": {},
     "output_type": "display_data"
    },
    {
     "data": {
      "text/html": [
       "<pre style=\"white-space:pre;overflow-x:auto;line-height:normal;font-family:Menlo,'DejaVu Sans Mono',consolas,'Courier New',monospace\"><span style=\"color: #7fbfbf; text-decoration-color: #7fbfbf\">           </span><span style=\"color: #000080; text-decoration-color: #000080\">INFO    </span> ⏭️ Skipping pittige-paprikadip.jpg <span style=\"font-weight: bold\">(</span>already labeled<span style=\"font-weight: bold\">)</span>                            <a href=\"file:///tmp/ipykernel_4287/412114492.py\" target=\"_blank\"><span style=\"color: #7f7f7f; text-decoration-color: #7f7f7f\">412114492.py</span></a><span style=\"color: #7f7f7f; text-decoration-color: #7f7f7f\">:</span><a href=\"file:///tmp/ipykernel_4287/412114492.py#107\" target=\"_blank\"><span style=\"color: #7f7f7f; text-decoration-color: #7f7f7f\">107</span></a>\n",
       "</pre>\n"
      ],
      "text/plain": [
       "\u001b[2;36m          \u001b[0m\u001b[2;36m \u001b[0m\u001b[34mINFO    \u001b[0m ⏭️ Skipping pittige-paprikadip.jpg \u001b[1m(\u001b[0malready labeled\u001b[1m)\u001b[0m                            \u001b]8;id=132927;file:///tmp/ipykernel_4287/412114492.py\u001b\\\u001b[2m412114492.py\u001b[0m\u001b]8;;\u001b\\\u001b[2m:\u001b[0m\u001b]8;id=239248;file:///tmp/ipykernel_4287/412114492.py#107\u001b\\\u001b[2m107\u001b[0m\u001b]8;;\u001b\\\n"
      ]
     },
     "metadata": {},
     "output_type": "display_data"
    },
    {
     "data": {
      "text/html": [
       "<pre style=\"white-space:pre;overflow-x:auto;line-height:normal;font-family:Menlo,'DejaVu Sans Mono',consolas,'Courier New',monospace\"><span style=\"color: #7fbfbf; text-decoration-color: #7fbfbf\">           </span><span style=\"color: #000080; text-decoration-color: #000080\">INFO    </span> ⏭️ Skipping snelle-noedels-met-een-gebakken-ei.jpg <span style=\"font-weight: bold\">(</span>already labeled<span style=\"font-weight: bold\">)</span>            <a href=\"file:///tmp/ipykernel_4287/412114492.py\" target=\"_blank\"><span style=\"color: #7f7f7f; text-decoration-color: #7f7f7f\">412114492.py</span></a><span style=\"color: #7f7f7f; text-decoration-color: #7f7f7f\">:</span><a href=\"file:///tmp/ipykernel_4287/412114492.py#107\" target=\"_blank\"><span style=\"color: #7f7f7f; text-decoration-color: #7f7f7f\">107</span></a>\n",
       "</pre>\n"
      ],
      "text/plain": [
       "\u001b[2;36m          \u001b[0m\u001b[2;36m \u001b[0m\u001b[34mINFO    \u001b[0m ⏭️ Skipping snelle-noedels-met-een-gebakken-ei.jpg \u001b[1m(\u001b[0malready labeled\u001b[1m)\u001b[0m            \u001b]8;id=866892;file:///tmp/ipykernel_4287/412114492.py\u001b\\\u001b[2m412114492.py\u001b[0m\u001b]8;;\u001b\\\u001b[2m:\u001b[0m\u001b]8;id=546873;file:///tmp/ipykernel_4287/412114492.py#107\u001b\\\u001b[2m107\u001b[0m\u001b]8;;\u001b\\\n"
      ]
     },
     "metadata": {},
     "output_type": "display_data"
    },
    {
     "data": {
      "text/html": [
       "<pre style=\"white-space:pre;overflow-x:auto;line-height:normal;font-family:Menlo,'DejaVu Sans Mono',consolas,'Courier New',monospace\"><span style=\"color: #7fbfbf; text-decoration-color: #7fbfbf\">           </span><span style=\"color: #000080; text-decoration-color: #000080\">INFO    </span> ⏭️ Skipping spitskoolstamppot-met-varkenshaas.jpg <span style=\"font-weight: bold\">(</span>already labeled<span style=\"font-weight: bold\">)</span>             <a href=\"file:///tmp/ipykernel_4287/412114492.py\" target=\"_blank\"><span style=\"color: #7f7f7f; text-decoration-color: #7f7f7f\">412114492.py</span></a><span style=\"color: #7f7f7f; text-decoration-color: #7f7f7f\">:</span><a href=\"file:///tmp/ipykernel_4287/412114492.py#107\" target=\"_blank\"><span style=\"color: #7f7f7f; text-decoration-color: #7f7f7f\">107</span></a>\n",
       "</pre>\n"
      ],
      "text/plain": [
       "\u001b[2;36m          \u001b[0m\u001b[2;36m \u001b[0m\u001b[34mINFO    \u001b[0m ⏭️ Skipping spitskoolstamppot-met-varkenshaas.jpg \u001b[1m(\u001b[0malready labeled\u001b[1m)\u001b[0m             \u001b]8;id=332216;file:///tmp/ipykernel_4287/412114492.py\u001b\\\u001b[2m412114492.py\u001b[0m\u001b]8;;\u001b\\\u001b[2m:\u001b[0m\u001b]8;id=751655;file:///tmp/ipykernel_4287/412114492.py#107\u001b\\\u001b[2m107\u001b[0m\u001b]8;;\u001b\\\n"
      ]
     },
     "metadata": {},
     "output_type": "display_data"
    },
    {
     "data": {
      "text/html": [
       "<pre style=\"white-space:pre;overflow-x:auto;line-height:normal;font-family:Menlo,'DejaVu Sans Mono',consolas,'Courier New',monospace\"><span style=\"color: #7fbfbf; text-decoration-color: #7fbfbf\">           </span><span style=\"color: #000080; text-decoration-color: #000080\">INFO    </span> ⏭️ Skipping traybake-met-kip-rostirondjes-en-bloemkool.jpg <span style=\"font-weight: bold\">(</span>already labeled<span style=\"font-weight: bold\">)</span>    <a href=\"file:///tmp/ipykernel_4287/412114492.py\" target=\"_blank\"><span style=\"color: #7f7f7f; text-decoration-color: #7f7f7f\">412114492.py</span></a><span style=\"color: #7f7f7f; text-decoration-color: #7f7f7f\">:</span><a href=\"file:///tmp/ipykernel_4287/412114492.py#107\" target=\"_blank\"><span style=\"color: #7f7f7f; text-decoration-color: #7f7f7f\">107</span></a>\n",
       "</pre>\n"
      ],
      "text/plain": [
       "\u001b[2;36m          \u001b[0m\u001b[2;36m \u001b[0m\u001b[34mINFO    \u001b[0m ⏭️ Skipping traybake-met-kip-rostirondjes-en-bloemkool.jpg \u001b[1m(\u001b[0malready labeled\u001b[1m)\u001b[0m    \u001b]8;id=862271;file:///tmp/ipykernel_4287/412114492.py\u001b\\\u001b[2m412114492.py\u001b[0m\u001b]8;;\u001b\\\u001b[2m:\u001b[0m\u001b]8;id=818286;file:///tmp/ipykernel_4287/412114492.py#107\u001b\\\u001b[2m107\u001b[0m\u001b]8;;\u001b\\\n"
      ]
     },
     "metadata": {},
     "output_type": "display_data"
    },
    {
     "data": {
      "text/html": [
       "<pre style=\"white-space:pre;overflow-x:auto;line-height:normal;font-family:Menlo,'DejaVu Sans Mono',consolas,'Courier New',monospace\"><span style=\"color: #7fbfbf; text-decoration-color: #7fbfbf\">           </span><span style=\"color: #000080; text-decoration-color: #000080\">INFO    </span> ⏭️ Skipping traybake-met-zoete-aardappel-en-chorizobraadworst.jpg <span style=\"font-weight: bold\">(</span>already      <a href=\"file:///tmp/ipykernel_4287/412114492.py\" target=\"_blank\"><span style=\"color: #7f7f7f; text-decoration-color: #7f7f7f\">412114492.py</span></a><span style=\"color: #7f7f7f; text-decoration-color: #7f7f7f\">:</span><a href=\"file:///tmp/ipykernel_4287/412114492.py#107\" target=\"_blank\"><span style=\"color: #7f7f7f; text-decoration-color: #7f7f7f\">107</span></a>\n",
       "<span style=\"color: #7fbfbf; text-decoration-color: #7fbfbf\">           </span>         labeled<span style=\"font-weight: bold\">)</span>                                                                       <span style=\"color: #7f7f7f; text-decoration-color: #7f7f7f\">                </span>\n",
       "</pre>\n"
      ],
      "text/plain": [
       "\u001b[2;36m          \u001b[0m\u001b[2;36m \u001b[0m\u001b[34mINFO    \u001b[0m ⏭️ Skipping traybake-met-zoete-aardappel-en-chorizobraadworst.jpg \u001b[1m(\u001b[0malready      \u001b]8;id=531848;file:///tmp/ipykernel_4287/412114492.py\u001b\\\u001b[2m412114492.py\u001b[0m\u001b]8;;\u001b\\\u001b[2m:\u001b[0m\u001b]8;id=187770;file:///tmp/ipykernel_4287/412114492.py#107\u001b\\\u001b[2m107\u001b[0m\u001b]8;;\u001b\\\n",
       "\u001b[2;36m           \u001b[0m         labeled\u001b[1m)\u001b[0m                                                                       \u001b[2m                \u001b[0m\n"
      ]
     },
     "metadata": {},
     "output_type": "display_data"
    },
    {
     "data": {
      "text/html": [
       "<pre style=\"white-space:pre;overflow-x:auto;line-height:normal;font-family:Menlo,'DejaVu Sans Mono',consolas,'Courier New',monospace\"><span style=\"color: #7fbfbf; text-decoration-color: #7fbfbf\">           </span><span style=\"color: #000080; text-decoration-color: #000080\">INFO    </span> ⏭️ Skipping vegaschnitzel-met-gebakken-aardappeltjes-en-sperziebonen.jpg        <a href=\"file:///tmp/ipykernel_4287/412114492.py\" target=\"_blank\"><span style=\"color: #7f7f7f; text-decoration-color: #7f7f7f\">412114492.py</span></a><span style=\"color: #7f7f7f; text-decoration-color: #7f7f7f\">:</span><a href=\"file:///tmp/ipykernel_4287/412114492.py#107\" target=\"_blank\"><span style=\"color: #7f7f7f; text-decoration-color: #7f7f7f\">107</span></a>\n",
       "<span style=\"color: #7fbfbf; text-decoration-color: #7fbfbf\">           </span>         <span style=\"font-weight: bold\">(</span>already labeled<span style=\"font-weight: bold\">)</span>                                                              <span style=\"color: #7f7f7f; text-decoration-color: #7f7f7f\">                </span>\n",
       "</pre>\n"
      ],
      "text/plain": [
       "\u001b[2;36m          \u001b[0m\u001b[2;36m \u001b[0m\u001b[34mINFO    \u001b[0m ⏭️ Skipping vegaschnitzel-met-gebakken-aardappeltjes-en-sperziebonen.jpg        \u001b]8;id=676060;file:///tmp/ipykernel_4287/412114492.py\u001b\\\u001b[2m412114492.py\u001b[0m\u001b]8;;\u001b\\\u001b[2m:\u001b[0m\u001b]8;id=59144;file:///tmp/ipykernel_4287/412114492.py#107\u001b\\\u001b[2m107\u001b[0m\u001b]8;;\u001b\\\n",
       "\u001b[2;36m           \u001b[0m         \u001b[1m(\u001b[0malready labeled\u001b[1m)\u001b[0m                                                              \u001b[2m                \u001b[0m\n"
      ]
     },
     "metadata": {},
     "output_type": "display_data"
    },
    {
     "data": {
      "text/html": [
       "<pre style=\"white-space:pre;overflow-x:auto;line-height:normal;font-family:Menlo,'DejaVu Sans Mono',consolas,'Courier New',monospace\"><span style=\"color: #7fbfbf; text-decoration-color: #7fbfbf\">           </span><span style=\"color: #000080; text-decoration-color: #000080\">INFO    </span> ⏭️ Skipping volkorenpizza-met-tomaat-en-courgette.jpg <span style=\"font-weight: bold\">(</span>already labeled<span style=\"font-weight: bold\">)</span>         <a href=\"file:///tmp/ipykernel_4287/412114492.py\" target=\"_blank\"><span style=\"color: #7f7f7f; text-decoration-color: #7f7f7f\">412114492.py</span></a><span style=\"color: #7f7f7f; text-decoration-color: #7f7f7f\">:</span><a href=\"file:///tmp/ipykernel_4287/412114492.py#107\" target=\"_blank\"><span style=\"color: #7f7f7f; text-decoration-color: #7f7f7f\">107</span></a>\n",
       "</pre>\n"
      ],
      "text/plain": [
       "\u001b[2;36m          \u001b[0m\u001b[2;36m \u001b[0m\u001b[34mINFO    \u001b[0m ⏭️ Skipping volkorenpizza-met-tomaat-en-courgette.jpg \u001b[1m(\u001b[0malready labeled\u001b[1m)\u001b[0m         \u001b]8;id=774428;file:///tmp/ipykernel_4287/412114492.py\u001b\\\u001b[2m412114492.py\u001b[0m\u001b]8;;\u001b\\\u001b[2m:\u001b[0m\u001b]8;id=879041;file:///tmp/ipykernel_4287/412114492.py#107\u001b\\\u001b[2m107\u001b[0m\u001b]8;;\u001b\\\n"
      ]
     },
     "metadata": {},
     "output_type": "display_data"
    },
    {
     "data": {
      "text/html": [
       "<pre style=\"white-space:pre;overflow-x:auto;line-height:normal;font-family:Menlo,'DejaVu Sans Mono',consolas,'Courier New',monospace\"><span style=\"color: #7fbfbf; text-decoration-color: #7fbfbf\">           </span><span style=\"color: #000080; text-decoration-color: #000080\">INFO    </span> ⏭️ Skipping volkorentacos-met-tofu-en-geroosterde-bloemkool.jpg <span style=\"font-weight: bold\">(</span>already        <a href=\"file:///tmp/ipykernel_4287/412114492.py\" target=\"_blank\"><span style=\"color: #7f7f7f; text-decoration-color: #7f7f7f\">412114492.py</span></a><span style=\"color: #7f7f7f; text-decoration-color: #7f7f7f\">:</span><a href=\"file:///tmp/ipykernel_4287/412114492.py#107\" target=\"_blank\"><span style=\"color: #7f7f7f; text-decoration-color: #7f7f7f\">107</span></a>\n",
       "<span style=\"color: #7fbfbf; text-decoration-color: #7fbfbf\">           </span>         labeled<span style=\"font-weight: bold\">)</span>                                                                       <span style=\"color: #7f7f7f; text-decoration-color: #7f7f7f\">                </span>\n",
       "</pre>\n"
      ],
      "text/plain": [
       "\u001b[2;36m          \u001b[0m\u001b[2;36m \u001b[0m\u001b[34mINFO    \u001b[0m ⏭️ Skipping volkorentacos-met-tofu-en-geroosterde-bloemkool.jpg \u001b[1m(\u001b[0malready        \u001b]8;id=446111;file:///tmp/ipykernel_4287/412114492.py\u001b\\\u001b[2m412114492.py\u001b[0m\u001b]8;;\u001b\\\u001b[2m:\u001b[0m\u001b]8;id=786215;file:///tmp/ipykernel_4287/412114492.py#107\u001b\\\u001b[2m107\u001b[0m\u001b]8;;\u001b\\\n",
       "\u001b[2;36m           \u001b[0m         labeled\u001b[1m)\u001b[0m                                                                       \u001b[2m                \u001b[0m\n"
      ]
     },
     "metadata": {},
     "output_type": "display_data"
    },
    {
     "data": {
      "text/html": [
       "<pre style=\"white-space:pre;overflow-x:auto;line-height:normal;font-family:Menlo,'DejaVu Sans Mono',consolas,'Courier New',monospace\"><span style=\"color: #7fbfbf; text-decoration-color: #7fbfbf\">           </span><span style=\"color: #000080; text-decoration-color: #000080\">INFO    </span> ⏭️ Skipping witlof-ovenschotel-met-vega-spekjes.jpg <span style=\"font-weight: bold\">(</span>already labeled<span style=\"font-weight: bold\">)</span>           <a href=\"file:///tmp/ipykernel_4287/412114492.py\" target=\"_blank\"><span style=\"color: #7f7f7f; text-decoration-color: #7f7f7f\">412114492.py</span></a><span style=\"color: #7f7f7f; text-decoration-color: #7f7f7f\">:</span><a href=\"file:///tmp/ipykernel_4287/412114492.py#107\" target=\"_blank\"><span style=\"color: #7f7f7f; text-decoration-color: #7f7f7f\">107</span></a>\n",
       "</pre>\n"
      ],
      "text/plain": [
       "\u001b[2;36m          \u001b[0m\u001b[2;36m \u001b[0m\u001b[34mINFO    \u001b[0m ⏭️ Skipping witlof-ovenschotel-met-vega-spekjes.jpg \u001b[1m(\u001b[0malready labeled\u001b[1m)\u001b[0m           \u001b]8;id=517323;file:///tmp/ipykernel_4287/412114492.py\u001b\\\u001b[2m412114492.py\u001b[0m\u001b]8;;\u001b\\\u001b[2m:\u001b[0m\u001b]8;id=979767;file:///tmp/ipykernel_4287/412114492.py#107\u001b\\\u001b[2m107\u001b[0m\u001b]8;;\u001b\\\n"
      ]
     },
     "metadata": {},
     "output_type": "display_data"
    },
    {
     "data": {
      "text/html": [
       "<pre style=\"white-space:pre;overflow-x:auto;line-height:normal;font-family:Menlo,'DejaVu Sans Mono',consolas,'Courier New',monospace\"><span style=\"color: #7fbfbf; text-decoration-color: #7fbfbf\">           </span><span style=\"color: #000080; text-decoration-color: #000080\">INFO    </span> ⏭️ Skipping zalm-met-aardappelpuree-en-prei-a-la-creme.jpg <span style=\"font-weight: bold\">(</span>already labeled<span style=\"font-weight: bold\">)</span>    <a href=\"file:///tmp/ipykernel_4287/412114492.py\" target=\"_blank\"><span style=\"color: #7f7f7f; text-decoration-color: #7f7f7f\">412114492.py</span></a><span style=\"color: #7f7f7f; text-decoration-color: #7f7f7f\">:</span><a href=\"file:///tmp/ipykernel_4287/412114492.py#107\" target=\"_blank\"><span style=\"color: #7f7f7f; text-decoration-color: #7f7f7f\">107</span></a>\n",
       "</pre>\n"
      ],
      "text/plain": [
       "\u001b[2;36m          \u001b[0m\u001b[2;36m \u001b[0m\u001b[34mINFO    \u001b[0m ⏭️ Skipping zalm-met-aardappelpuree-en-prei-a-la-creme.jpg \u001b[1m(\u001b[0malready labeled\u001b[1m)\u001b[0m    \u001b]8;id=261449;file:///tmp/ipykernel_4287/412114492.py\u001b\\\u001b[2m412114492.py\u001b[0m\u001b]8;;\u001b\\\u001b[2m:\u001b[0m\u001b]8;id=642321;file:///tmp/ipykernel_4287/412114492.py#107\u001b\\\u001b[2m107\u001b[0m\u001b]8;;\u001b\\\n"
      ]
     },
     "metadata": {},
     "output_type": "display_data"
    },
    {
     "data": {
      "text/html": [
       "<pre style=\"white-space:pre;overflow-x:auto;line-height:normal;font-family:Menlo,'DejaVu Sans Mono',consolas,'Courier New',monospace\"><span style=\"color: #7fbfbf; text-decoration-color: #7fbfbf\">           </span><span style=\"color: #000080; text-decoration-color: #000080\">INFO    </span> ⏭️ Skipping zoete-aardappel-met-kip-en-gebakken-paksoi.jpg <span style=\"font-weight: bold\">(</span>already labeled<span style=\"font-weight: bold\">)</span>    <a href=\"file:///tmp/ipykernel_4287/412114492.py\" target=\"_blank\"><span style=\"color: #7f7f7f; text-decoration-color: #7f7f7f\">412114492.py</span></a><span style=\"color: #7f7f7f; text-decoration-color: #7f7f7f\">:</span><a href=\"file:///tmp/ipykernel_4287/412114492.py#107\" target=\"_blank\"><span style=\"color: #7f7f7f; text-decoration-color: #7f7f7f\">107</span></a>\n",
       "</pre>\n"
      ],
      "text/plain": [
       "\u001b[2;36m          \u001b[0m\u001b[2;36m \u001b[0m\u001b[34mINFO    \u001b[0m ⏭️ Skipping zoete-aardappel-met-kip-en-gebakken-paksoi.jpg \u001b[1m(\u001b[0malready labeled\u001b[1m)\u001b[0m    \u001b]8;id=739123;file:///tmp/ipykernel_4287/412114492.py\u001b\\\u001b[2m412114492.py\u001b[0m\u001b]8;;\u001b\\\u001b[2m:\u001b[0m\u001b]8;id=31089;file:///tmp/ipykernel_4287/412114492.py#107\u001b\\\u001b[2m107\u001b[0m\u001b]8;;\u001b\\\n"
      ]
     },
     "metadata": {},
     "output_type": "display_data"
    },
    {
     "name": "stdout",
     "output_type": "stream",
     "text": [
      "✅ Labeled 0 new images, skipped 31 already labeled → work/labels/new_labels.jsonl\n"
     ]
    },
    {
     "data": {
      "application/vnd.jupyter.widget-view+json": {
       "model_id": "228f80bc2be844ae8cccf6feebe2d4c6",
       "version_major": 2,
       "version_minor": 0
      },
      "text/plain": [
       "  0%|          | 0/16 [00:00<?, ?it/s]"
      ]
     },
     "metadata": {},
     "output_type": "display_data"
    },
    {
     "data": {
      "text/html": [
       "<pre style=\"white-space:pre;overflow-x:auto;line-height:normal;font-family:Menlo,'DejaVu Sans Mono',consolas,'Courier New',monospace\"><span style=\"color: #7fbfbf; text-decoration-color: #7fbfbf\">           </span><span style=\"color: #000080; text-decoration-color: #000080\">INFO    </span> ⏭️ Skipping courgettebroodjes.jpg <span style=\"font-weight: bold\">(</span>already labeled<span style=\"font-weight: bold\">)</span>                             <a href=\"file:///tmp/ipykernel_4287/412114492.py\" target=\"_blank\"><span style=\"color: #7f7f7f; text-decoration-color: #7f7f7f\">412114492.py</span></a><span style=\"color: #7f7f7f; text-decoration-color: #7f7f7f\">:</span><a href=\"file:///tmp/ipykernel_4287/412114492.py#107\" target=\"_blank\"><span style=\"color: #7f7f7f; text-decoration-color: #7f7f7f\">107</span></a>\n",
       "</pre>\n"
      ],
      "text/plain": [
       "\u001b[2;36m          \u001b[0m\u001b[2;36m \u001b[0m\u001b[34mINFO    \u001b[0m ⏭️ Skipping courgettebroodjes.jpg \u001b[1m(\u001b[0malready labeled\u001b[1m)\u001b[0m                             \u001b]8;id=244675;file:///tmp/ipykernel_4287/412114492.py\u001b\\\u001b[2m412114492.py\u001b[0m\u001b]8;;\u001b\\\u001b[2m:\u001b[0m\u001b]8;id=960781;file:///tmp/ipykernel_4287/412114492.py#107\u001b\\\u001b[2m107\u001b[0m\u001b]8;;\u001b\\\n"
      ]
     },
     "metadata": {},
     "output_type": "display_data"
    },
    {
     "data": {
      "text/html": [
       "<pre style=\"white-space:pre;overflow-x:auto;line-height:normal;font-family:Menlo,'DejaVu Sans Mono',consolas,'Courier New',monospace\"><span style=\"color: #7fbfbf; text-decoration-color: #7fbfbf\">           </span><span style=\"color: #000080; text-decoration-color: #000080\">INFO    </span> ⏭️ Skipping franse-zuurkoolschotel.jpg <span style=\"font-weight: bold\">(</span>already labeled<span style=\"font-weight: bold\">)</span>                        <a href=\"file:///tmp/ipykernel_4287/412114492.py\" target=\"_blank\"><span style=\"color: #7f7f7f; text-decoration-color: #7f7f7f\">412114492.py</span></a><span style=\"color: #7f7f7f; text-decoration-color: #7f7f7f\">:</span><a href=\"file:///tmp/ipykernel_4287/412114492.py#107\" target=\"_blank\"><span style=\"color: #7f7f7f; text-decoration-color: #7f7f7f\">107</span></a>\n",
       "</pre>\n"
      ],
      "text/plain": [
       "\u001b[2;36m          \u001b[0m\u001b[2;36m \u001b[0m\u001b[34mINFO    \u001b[0m ⏭️ Skipping franse-zuurkoolschotel.jpg \u001b[1m(\u001b[0malready labeled\u001b[1m)\u001b[0m                        \u001b]8;id=981165;file:///tmp/ipykernel_4287/412114492.py\u001b\\\u001b[2m412114492.py\u001b[0m\u001b]8;;\u001b\\\u001b[2m:\u001b[0m\u001b]8;id=758101;file:///tmp/ipykernel_4287/412114492.py#107\u001b\\\u001b[2m107\u001b[0m\u001b]8;;\u001b\\\n"
      ]
     },
     "metadata": {},
     "output_type": "display_data"
    },
    {
     "data": {
      "text/html": [
       "<pre style=\"white-space:pre;overflow-x:auto;line-height:normal;font-family:Menlo,'DejaVu Sans Mono',consolas,'Courier New',monospace\"><span style=\"color: #7fbfbf; text-decoration-color: #7fbfbf\">           </span><span style=\"color: #000080; text-decoration-color: #000080\">INFO    </span> ⏭️ Skipping gegratineerde-spruitjes.jpg <span style=\"font-weight: bold\">(</span>already labeled<span style=\"font-weight: bold\">)</span>                       <a href=\"file:///tmp/ipykernel_4287/412114492.py\" target=\"_blank\"><span style=\"color: #7f7f7f; text-decoration-color: #7f7f7f\">412114492.py</span></a><span style=\"color: #7f7f7f; text-decoration-color: #7f7f7f\">:</span><a href=\"file:///tmp/ipykernel_4287/412114492.py#107\" target=\"_blank\"><span style=\"color: #7f7f7f; text-decoration-color: #7f7f7f\">107</span></a>\n",
       "</pre>\n"
      ],
      "text/plain": [
       "\u001b[2;36m          \u001b[0m\u001b[2;36m \u001b[0m\u001b[34mINFO    \u001b[0m ⏭️ Skipping gegratineerde-spruitjes.jpg \u001b[1m(\u001b[0malready labeled\u001b[1m)\u001b[0m                       \u001b]8;id=316044;file:///tmp/ipykernel_4287/412114492.py\u001b\\\u001b[2m412114492.py\u001b[0m\u001b]8;;\u001b\\\u001b[2m:\u001b[0m\u001b]8;id=417118;file:///tmp/ipykernel_4287/412114492.py#107\u001b\\\u001b[2m107\u001b[0m\u001b]8;;\u001b\\\n"
      ]
     },
     "metadata": {},
     "output_type": "display_data"
    },
    {
     "data": {
      "text/html": [
       "<pre style=\"white-space:pre;overflow-x:auto;line-height:normal;font-family:Menlo,'DejaVu Sans Mono',consolas,'Courier New',monospace\"><span style=\"color: #7fbfbf; text-decoration-color: #7fbfbf\">           </span><span style=\"color: #000080; text-decoration-color: #000080\">INFO    </span> ⏭️ Skipping gepocheerde-prei-met-truffelvinaigrette.jpg <span style=\"font-weight: bold\">(</span>already labeled<span style=\"font-weight: bold\">)</span>       <a href=\"file:///tmp/ipykernel_4287/412114492.py\" target=\"_blank\"><span style=\"color: #7f7f7f; text-decoration-color: #7f7f7f\">412114492.py</span></a><span style=\"color: #7f7f7f; text-decoration-color: #7f7f7f\">:</span><a href=\"file:///tmp/ipykernel_4287/412114492.py#107\" target=\"_blank\"><span style=\"color: #7f7f7f; text-decoration-color: #7f7f7f\">107</span></a>\n",
       "</pre>\n"
      ],
      "text/plain": [
       "\u001b[2;36m          \u001b[0m\u001b[2;36m \u001b[0m\u001b[34mINFO    \u001b[0m ⏭️ Skipping gepocheerde-prei-met-truffelvinaigrette.jpg \u001b[1m(\u001b[0malready labeled\u001b[1m)\u001b[0m       \u001b]8;id=308526;file:///tmp/ipykernel_4287/412114492.py\u001b\\\u001b[2m412114492.py\u001b[0m\u001b]8;;\u001b\\\u001b[2m:\u001b[0m\u001b]8;id=603235;file:///tmp/ipykernel_4287/412114492.py#107\u001b\\\u001b[2m107\u001b[0m\u001b]8;;\u001b\\\n"
      ]
     },
     "metadata": {},
     "output_type": "display_data"
    },
    {
     "data": {
      "text/html": [
       "<pre style=\"white-space:pre;overflow-x:auto;line-height:normal;font-family:Menlo,'DejaVu Sans Mono',consolas,'Courier New',monospace\"><span style=\"color: #7fbfbf; text-decoration-color: #7fbfbf\">           </span><span style=\"color: #000080; text-decoration-color: #000080\">INFO    </span> ⏭️ Skipping kersen-ricottamousse.jpg <span style=\"font-weight: bold\">(</span>already labeled<span style=\"font-weight: bold\">)</span>                          <a href=\"file:///tmp/ipykernel_4287/412114492.py\" target=\"_blank\"><span style=\"color: #7f7f7f; text-decoration-color: #7f7f7f\">412114492.py</span></a><span style=\"color: #7f7f7f; text-decoration-color: #7f7f7f\">:</span><a href=\"file:///tmp/ipykernel_4287/412114492.py#107\" target=\"_blank\"><span style=\"color: #7f7f7f; text-decoration-color: #7f7f7f\">107</span></a>\n",
       "</pre>\n"
      ],
      "text/plain": [
       "\u001b[2;36m          \u001b[0m\u001b[2;36m \u001b[0m\u001b[34mINFO    \u001b[0m ⏭️ Skipping kersen-ricottamousse.jpg \u001b[1m(\u001b[0malready labeled\u001b[1m)\u001b[0m                          \u001b]8;id=283980;file:///tmp/ipykernel_4287/412114492.py\u001b\\\u001b[2m412114492.py\u001b[0m\u001b]8;;\u001b\\\u001b[2m:\u001b[0m\u001b]8;id=788786;file:///tmp/ipykernel_4287/412114492.py#107\u001b\\\u001b[2m107\u001b[0m\u001b]8;;\u001b\\\n"
      ]
     },
     "metadata": {},
     "output_type": "display_data"
    },
    {
     "data": {
      "text/html": [
       "<pre style=\"white-space:pre;overflow-x:auto;line-height:normal;font-family:Menlo,'DejaVu Sans Mono',consolas,'Courier New',monospace\"><span style=\"color: #7fbfbf; text-decoration-color: #7fbfbf\">           </span><span style=\"color: #000080; text-decoration-color: #000080\">INFO    </span> ⏭️ Skipping klassieke-boerenkoolstamppot.jpg <span style=\"font-weight: bold\">(</span>already labeled<span style=\"font-weight: bold\">)</span>                  <a href=\"file:///tmp/ipykernel_4287/412114492.py\" target=\"_blank\"><span style=\"color: #7f7f7f; text-decoration-color: #7f7f7f\">412114492.py</span></a><span style=\"color: #7f7f7f; text-decoration-color: #7f7f7f\">:</span><a href=\"file:///tmp/ipykernel_4287/412114492.py#107\" target=\"_blank\"><span style=\"color: #7f7f7f; text-decoration-color: #7f7f7f\">107</span></a>\n",
       "</pre>\n"
      ],
      "text/plain": [
       "\u001b[2;36m          \u001b[0m\u001b[2;36m \u001b[0m\u001b[34mINFO    \u001b[0m ⏭️ Skipping klassieke-boerenkoolstamppot.jpg \u001b[1m(\u001b[0malready labeled\u001b[1m)\u001b[0m                  \u001b]8;id=730058;file:///tmp/ipykernel_4287/412114492.py\u001b\\\u001b[2m412114492.py\u001b[0m\u001b]8;;\u001b\\\u001b[2m:\u001b[0m\u001b]8;id=366539;file:///tmp/ipykernel_4287/412114492.py#107\u001b\\\u001b[2m107\u001b[0m\u001b]8;;\u001b\\\n"
      ]
     },
     "metadata": {},
     "output_type": "display_data"
    },
    {
     "data": {
      "text/html": [
       "<pre style=\"white-space:pre;overflow-x:auto;line-height:normal;font-family:Menlo,'DejaVu Sans Mono',consolas,'Courier New',monospace\"><span style=\"color: #7fbfbf; text-decoration-color: #7fbfbf\">           </span><span style=\"color: #000080; text-decoration-color: #000080\">INFO    </span> ⏭️ Skipping korianderpasta-met-mosselen.jpg <span style=\"font-weight: bold\">(</span>already labeled<span style=\"font-weight: bold\">)</span>                   <a href=\"file:///tmp/ipykernel_4287/412114492.py\" target=\"_blank\"><span style=\"color: #7f7f7f; text-decoration-color: #7f7f7f\">412114492.py</span></a><span style=\"color: #7f7f7f; text-decoration-color: #7f7f7f\">:</span><a href=\"file:///tmp/ipykernel_4287/412114492.py#107\" target=\"_blank\"><span style=\"color: #7f7f7f; text-decoration-color: #7f7f7f\">107</span></a>\n",
       "</pre>\n"
      ],
      "text/plain": [
       "\u001b[2;36m          \u001b[0m\u001b[2;36m \u001b[0m\u001b[34mINFO    \u001b[0m ⏭️ Skipping korianderpasta-met-mosselen.jpg \u001b[1m(\u001b[0malready labeled\u001b[1m)\u001b[0m                   \u001b]8;id=916543;file:///tmp/ipykernel_4287/412114492.py\u001b\\\u001b[2m412114492.py\u001b[0m\u001b]8;;\u001b\\\u001b[2m:\u001b[0m\u001b]8;id=542799;file:///tmp/ipykernel_4287/412114492.py#107\u001b\\\u001b[2m107\u001b[0m\u001b]8;;\u001b\\\n"
      ]
     },
     "metadata": {},
     "output_type": "display_data"
    },
    {
     "data": {
      "text/html": [
       "<pre style=\"white-space:pre;overflow-x:auto;line-height:normal;font-family:Menlo,'DejaVu Sans Mono',consolas,'Courier New',monospace\"><span style=\"color: #7fbfbf; text-decoration-color: #7fbfbf\">           </span><span style=\"color: #000080; text-decoration-color: #000080\">INFO    </span> ⏭️ Skipping lams-courgettekebabs.jpg <span style=\"font-weight: bold\">(</span>already labeled<span style=\"font-weight: bold\">)</span>                          <a href=\"file:///tmp/ipykernel_4287/412114492.py\" target=\"_blank\"><span style=\"color: #7f7f7f; text-decoration-color: #7f7f7f\">412114492.py</span></a><span style=\"color: #7f7f7f; text-decoration-color: #7f7f7f\">:</span><a href=\"file:///tmp/ipykernel_4287/412114492.py#107\" target=\"_blank\"><span style=\"color: #7f7f7f; text-decoration-color: #7f7f7f\">107</span></a>\n",
       "</pre>\n"
      ],
      "text/plain": [
       "\u001b[2;36m          \u001b[0m\u001b[2;36m \u001b[0m\u001b[34mINFO    \u001b[0m ⏭️ Skipping lams-courgettekebabs.jpg \u001b[1m(\u001b[0malready labeled\u001b[1m)\u001b[0m                          \u001b]8;id=895632;file:///tmp/ipykernel_4287/412114492.py\u001b\\\u001b[2m412114492.py\u001b[0m\u001b]8;;\u001b\\\u001b[2m:\u001b[0m\u001b]8;id=587102;file:///tmp/ipykernel_4287/412114492.py#107\u001b\\\u001b[2m107\u001b[0m\u001b]8;;\u001b\\\n"
      ]
     },
     "metadata": {},
     "output_type": "display_data"
    },
    {
     "data": {
      "text/html": [
       "<pre style=\"white-space:pre;overflow-x:auto;line-height:normal;font-family:Menlo,'DejaVu Sans Mono',consolas,'Courier New',monospace\"><span style=\"color: #7fbfbf; text-decoration-color: #7fbfbf\">           </span><span style=\"color: #000080; text-decoration-color: #000080\">INFO    </span> ⏭️ Skipping maaltijdmosterdsoep-met-kaastoast.jpg <span style=\"font-weight: bold\">(</span>already labeled<span style=\"font-weight: bold\">)</span>             <a href=\"file:///tmp/ipykernel_4287/412114492.py\" target=\"_blank\"><span style=\"color: #7f7f7f; text-decoration-color: #7f7f7f\">412114492.py</span></a><span style=\"color: #7f7f7f; text-decoration-color: #7f7f7f\">:</span><a href=\"file:///tmp/ipykernel_4287/412114492.py#107\" target=\"_blank\"><span style=\"color: #7f7f7f; text-decoration-color: #7f7f7f\">107</span></a>\n",
       "</pre>\n"
      ],
      "text/plain": [
       "\u001b[2;36m          \u001b[0m\u001b[2;36m \u001b[0m\u001b[34mINFO    \u001b[0m ⏭️ Skipping maaltijdmosterdsoep-met-kaastoast.jpg \u001b[1m(\u001b[0malready labeled\u001b[1m)\u001b[0m             \u001b]8;id=588290;file:///tmp/ipykernel_4287/412114492.py\u001b\\\u001b[2m412114492.py\u001b[0m\u001b]8;;\u001b\\\u001b[2m:\u001b[0m\u001b]8;id=713230;file:///tmp/ipykernel_4287/412114492.py#107\u001b\\\u001b[2m107\u001b[0m\u001b]8;;\u001b\\\n"
      ]
     },
     "metadata": {},
     "output_type": "display_data"
    },
    {
     "data": {
      "text/html": [
       "<pre style=\"white-space:pre;overflow-x:auto;line-height:normal;font-family:Menlo,'DejaVu Sans Mono',consolas,'Courier New',monospace\"><span style=\"color: #7fbfbf; text-decoration-color: #7fbfbf\">           </span><span style=\"color: #000080; text-decoration-color: #000080\">INFO    </span> ⏭️ Skipping macaroni-met-boemboe-ham-en-kaas.jpg <span style=\"font-weight: bold\">(</span>already labeled<span style=\"font-weight: bold\">)</span>              <a href=\"file:///tmp/ipykernel_4287/412114492.py\" target=\"_blank\"><span style=\"color: #7f7f7f; text-decoration-color: #7f7f7f\">412114492.py</span></a><span style=\"color: #7f7f7f; text-decoration-color: #7f7f7f\">:</span><a href=\"file:///tmp/ipykernel_4287/412114492.py#107\" target=\"_blank\"><span style=\"color: #7f7f7f; text-decoration-color: #7f7f7f\">107</span></a>\n",
       "</pre>\n"
      ],
      "text/plain": [
       "\u001b[2;36m          \u001b[0m\u001b[2;36m \u001b[0m\u001b[34mINFO    \u001b[0m ⏭️ Skipping macaroni-met-boemboe-ham-en-kaas.jpg \u001b[1m(\u001b[0malready labeled\u001b[1m)\u001b[0m              \u001b]8;id=414841;file:///tmp/ipykernel_4287/412114492.py\u001b\\\u001b[2m412114492.py\u001b[0m\u001b]8;;\u001b\\\u001b[2m:\u001b[0m\u001b]8;id=794475;file:///tmp/ipykernel_4287/412114492.py#107\u001b\\\u001b[2m107\u001b[0m\u001b]8;;\u001b\\\n"
      ]
     },
     "metadata": {},
     "output_type": "display_data"
    },
    {
     "data": {
      "text/html": [
       "<pre style=\"white-space:pre;overflow-x:auto;line-height:normal;font-family:Menlo,'DejaVu Sans Mono',consolas,'Courier New',monospace\"><span style=\"color: #7fbfbf; text-decoration-color: #7fbfbf\">           </span><span style=\"color: #000080; text-decoration-color: #000080\">INFO    </span> ⏭️ Skipping maïskipfilet-met-boterbonen-en-tapenade.jpg <span style=\"font-weight: bold\">(</span>already labeled<span style=\"font-weight: bold\">)</span>       <a href=\"file:///tmp/ipykernel_4287/412114492.py\" target=\"_blank\"><span style=\"color: #7f7f7f; text-decoration-color: #7f7f7f\">412114492.py</span></a><span style=\"color: #7f7f7f; text-decoration-color: #7f7f7f\">:</span><a href=\"file:///tmp/ipykernel_4287/412114492.py#107\" target=\"_blank\"><span style=\"color: #7f7f7f; text-decoration-color: #7f7f7f\">107</span></a>\n",
       "</pre>\n"
      ],
      "text/plain": [
       "\u001b[2;36m          \u001b[0m\u001b[2;36m \u001b[0m\u001b[34mINFO    \u001b[0m ⏭️ Skipping maïskipfilet-met-boterbonen-en-tapenade.jpg \u001b[1m(\u001b[0malready labeled\u001b[1m)\u001b[0m       \u001b]8;id=161806;file:///tmp/ipykernel_4287/412114492.py\u001b\\\u001b[2m412114492.py\u001b[0m\u001b]8;;\u001b\\\u001b[2m:\u001b[0m\u001b]8;id=773628;file:///tmp/ipykernel_4287/412114492.py#107\u001b\\\u001b[2m107\u001b[0m\u001b]8;;\u001b\\\n"
      ]
     },
     "metadata": {},
     "output_type": "display_data"
    },
    {
     "data": {
      "text/html": [
       "<pre style=\"white-space:pre;overflow-x:auto;line-height:normal;font-family:Menlo,'DejaVu Sans Mono',consolas,'Courier New',monospace\"><span style=\"color: #7fbfbf; text-decoration-color: #7fbfbf\">           </span><span style=\"color: #000080; text-decoration-color: #000080\">INFO    </span> ⏭️ Skipping paddestoelenragout-met-schnitzelreepjes.jpg <span style=\"font-weight: bold\">(</span>already labeled<span style=\"font-weight: bold\">)</span>       <a href=\"file:///tmp/ipykernel_4287/412114492.py\" target=\"_blank\"><span style=\"color: #7f7f7f; text-decoration-color: #7f7f7f\">412114492.py</span></a><span style=\"color: #7f7f7f; text-decoration-color: #7f7f7f\">:</span><a href=\"file:///tmp/ipykernel_4287/412114492.py#107\" target=\"_blank\"><span style=\"color: #7f7f7f; text-decoration-color: #7f7f7f\">107</span></a>\n",
       "</pre>\n"
      ],
      "text/plain": [
       "\u001b[2;36m          \u001b[0m\u001b[2;36m \u001b[0m\u001b[34mINFO    \u001b[0m ⏭️ Skipping paddestoelenragout-met-schnitzelreepjes.jpg \u001b[1m(\u001b[0malready labeled\u001b[1m)\u001b[0m       \u001b]8;id=38668;file:///tmp/ipykernel_4287/412114492.py\u001b\\\u001b[2m412114492.py\u001b[0m\u001b]8;;\u001b\\\u001b[2m:\u001b[0m\u001b]8;id=294047;file:///tmp/ipykernel_4287/412114492.py#107\u001b\\\u001b[2m107\u001b[0m\u001b]8;;\u001b\\\n"
      ]
     },
     "metadata": {},
     "output_type": "display_data"
    },
    {
     "data": {
      "text/html": [
       "<pre style=\"white-space:pre;overflow-x:auto;line-height:normal;font-family:Menlo,'DejaVu Sans Mono',consolas,'Courier New',monospace\"><span style=\"color: #7fbfbf; text-decoration-color: #7fbfbf\">           </span><span style=\"color: #000080; text-decoration-color: #000080\">INFO    </span> ⏭️ Skipping pineapple-slush.jpg <span style=\"font-weight: bold\">(</span>already labeled<span style=\"font-weight: bold\">)</span>                               <a href=\"file:///tmp/ipykernel_4287/412114492.py\" target=\"_blank\"><span style=\"color: #7f7f7f; text-decoration-color: #7f7f7f\">412114492.py</span></a><span style=\"color: #7f7f7f; text-decoration-color: #7f7f7f\">:</span><a href=\"file:///tmp/ipykernel_4287/412114492.py#107\" target=\"_blank\"><span style=\"color: #7f7f7f; text-decoration-color: #7f7f7f\">107</span></a>\n",
       "</pre>\n"
      ],
      "text/plain": [
       "\u001b[2;36m          \u001b[0m\u001b[2;36m \u001b[0m\u001b[34mINFO    \u001b[0m ⏭️ Skipping pineapple-slush.jpg \u001b[1m(\u001b[0malready labeled\u001b[1m)\u001b[0m                               \u001b]8;id=979731;file:///tmp/ipykernel_4287/412114492.py\u001b\\\u001b[2m412114492.py\u001b[0m\u001b]8;;\u001b\\\u001b[2m:\u001b[0m\u001b]8;id=303969;file:///tmp/ipykernel_4287/412114492.py#107\u001b\\\u001b[2m107\u001b[0m\u001b]8;;\u001b\\\n"
      ]
     },
     "metadata": {},
     "output_type": "display_data"
    },
    {
     "data": {
      "text/html": [
       "<pre style=\"white-space:pre;overflow-x:auto;line-height:normal;font-family:Menlo,'DejaVu Sans Mono',consolas,'Courier New',monospace\"><span style=\"color: #7fbfbf; text-decoration-color: #7fbfbf\">           </span><span style=\"color: #000080; text-decoration-color: #000080\">INFO    </span> ⏭️ Skipping pitabroodjes-met-lamsvlees-en-tomatenrelish.jpg <span style=\"font-weight: bold\">(</span>already labeled<span style=\"font-weight: bold\">)</span>   <a href=\"file:///tmp/ipykernel_4287/412114492.py\" target=\"_blank\"><span style=\"color: #7f7f7f; text-decoration-color: #7f7f7f\">412114492.py</span></a><span style=\"color: #7f7f7f; text-decoration-color: #7f7f7f\">:</span><a href=\"file:///tmp/ipykernel_4287/412114492.py#107\" target=\"_blank\"><span style=\"color: #7f7f7f; text-decoration-color: #7f7f7f\">107</span></a>\n",
       "</pre>\n"
      ],
      "text/plain": [
       "\u001b[2;36m          \u001b[0m\u001b[2;36m \u001b[0m\u001b[34mINFO    \u001b[0m ⏭️ Skipping pitabroodjes-met-lamsvlees-en-tomatenrelish.jpg \u001b[1m(\u001b[0malready labeled\u001b[1m)\u001b[0m   \u001b]8;id=858650;file:///tmp/ipykernel_4287/412114492.py\u001b\\\u001b[2m412114492.py\u001b[0m\u001b]8;;\u001b\\\u001b[2m:\u001b[0m\u001b]8;id=7838;file:///tmp/ipykernel_4287/412114492.py#107\u001b\\\u001b[2m107\u001b[0m\u001b]8;;\u001b\\\n"
      ]
     },
     "metadata": {},
     "output_type": "display_data"
    },
    {
     "data": {
      "text/html": [
       "<pre style=\"white-space:pre;overflow-x:auto;line-height:normal;font-family:Menlo,'DejaVu Sans Mono',consolas,'Courier New',monospace\"><span style=\"color: #7fbfbf; text-decoration-color: #7fbfbf\">           </span><span style=\"color: #000080; text-decoration-color: #000080\">INFO    </span> ⏭️ Skipping pittige-vispakketjes.jpg <span style=\"font-weight: bold\">(</span>already labeled<span style=\"font-weight: bold\">)</span>                          <a href=\"file:///tmp/ipykernel_4287/412114492.py\" target=\"_blank\"><span style=\"color: #7f7f7f; text-decoration-color: #7f7f7f\">412114492.py</span></a><span style=\"color: #7f7f7f; text-decoration-color: #7f7f7f\">:</span><a href=\"file:///tmp/ipykernel_4287/412114492.py#107\" target=\"_blank\"><span style=\"color: #7f7f7f; text-decoration-color: #7f7f7f\">107</span></a>\n",
       "</pre>\n"
      ],
      "text/plain": [
       "\u001b[2;36m          \u001b[0m\u001b[2;36m \u001b[0m\u001b[34mINFO    \u001b[0m ⏭️ Skipping pittige-vispakketjes.jpg \u001b[1m(\u001b[0malready labeled\u001b[1m)\u001b[0m                          \u001b]8;id=956557;file:///tmp/ipykernel_4287/412114492.py\u001b\\\u001b[2m412114492.py\u001b[0m\u001b]8;;\u001b\\\u001b[2m:\u001b[0m\u001b]8;id=561968;file:///tmp/ipykernel_4287/412114492.py#107\u001b\\\u001b[2m107\u001b[0m\u001b]8;;\u001b\\\n"
      ]
     },
     "metadata": {},
     "output_type": "display_data"
    },
    {
     "data": {
      "text/html": [
       "<pre style=\"white-space:pre;overflow-x:auto;line-height:normal;font-family:Menlo,'DejaVu Sans Mono',consolas,'Courier New',monospace\"><span style=\"color: #7fbfbf; text-decoration-color: #7fbfbf\">           </span><span style=\"color: #000080; text-decoration-color: #000080\">INFO    </span> ⏭️ Skipping roergebakken-spruitjes.jpg <span style=\"font-weight: bold\">(</span>already labeled<span style=\"font-weight: bold\">)</span>                        <a href=\"file:///tmp/ipykernel_4287/412114492.py\" target=\"_blank\"><span style=\"color: #7f7f7f; text-decoration-color: #7f7f7f\">412114492.py</span></a><span style=\"color: #7f7f7f; text-decoration-color: #7f7f7f\">:</span><a href=\"file:///tmp/ipykernel_4287/412114492.py#107\" target=\"_blank\"><span style=\"color: #7f7f7f; text-decoration-color: #7f7f7f\">107</span></a>\n",
       "</pre>\n"
      ],
      "text/plain": [
       "\u001b[2;36m          \u001b[0m\u001b[2;36m \u001b[0m\u001b[34mINFO    \u001b[0m ⏭️ Skipping roergebakken-spruitjes.jpg \u001b[1m(\u001b[0malready labeled\u001b[1m)\u001b[0m                        \u001b]8;id=539923;file:///tmp/ipykernel_4287/412114492.py\u001b\\\u001b[2m412114492.py\u001b[0m\u001b]8;;\u001b\\\u001b[2m:\u001b[0m\u001b]8;id=402509;file:///tmp/ipykernel_4287/412114492.py#107\u001b\\\u001b[2m107\u001b[0m\u001b]8;;\u001b\\\n"
      ]
     },
     "metadata": {},
     "output_type": "display_data"
    },
    {
     "name": "stdout",
     "output_type": "stream",
     "text": [
      "✅ Labeled 0 new images, skipped 16 already labeled → work/labels/old_labels.jsonl\n",
      "🎉 Done.\n"
     ]
    }
   ],
   "source": [
    "from openai import AzureOpenAI\n",
    "import os\n",
    "import time\n",
    "import base64\n",
    "\n",
    "from dotenv import load_dotenv\n",
    "load_dotenv()\n",
    "\n",
    "AZURE_OPENAI_ENDPOINT = os.getenv(\"AZURE_OPENAI_ENDPOINT\")\n",
    "AZURE_OPENAI_API_KEY = os.getenv(\"AZURE_OPENAI_API_KEY\")\n",
    "AZURE_DEPLOYMENT_NAME = os.getenv(\"AZURE_DEPLOYMENT_NAME\")\n",
    "AZURE_OPENAI_API_VERSION = os.getenv(\"AZURE_OPENAI_API_VERSION\")\n",
    "\n",
    "client = AzureOpenAI(\n",
    "    api_key=AZURE_OPENAI_API_KEY,\n",
    "    api_version=AZURE_OPENAI_API_VERSION,\n",
    "    azure_endpoint=AZURE_OPENAI_ENDPOINT,\n",
    ")\n",
    "\n",
    "LABEL_SCHEMA = [\n",
    "    \"food item (main dish, ingredient, or drink that appears)\",\n",
    "    \"perspective (e.g., top-down, eye-level, low-angle)\",\n",
    "    \"background (describe setting, simplicity vs clutter)\",\n",
    "    \"lighting (e.g., soft, harsh, high-key, low-key, golden-hour)\",\n",
    "    \"color palette (e.g., muted, vibrant, pastel, monochrome)\",\n",
    "    \"texture treatment (e.g., painterly, grainy, smooth)\",\n",
    "    \"composition (e.g., centered subject, rule of thirds, negative space)\",\n",
    "    \"mood (e.g., nostalgic, cheerful, moody, futuristic)\",\n",
    "]\n",
    "\n",
    "\n",
    "def b64_image(image_path: Path) -> str:\n",
    "    with open(image_path, \"rb\") as f:\n",
    "        return base64.b64encode(f.read()).decode(\"utf-8\")\n",
    "\n",
    "def load_existing_labels(jsonl_path: Path) -> set:\n",
    "    \"\"\"Load already labeled filenames from existing JSONL file\"\"\"\n",
    "    labeled_files = set()\n",
    "    if jsonl_path.exists():\n",
    "        with open(jsonl_path, \"r\", encoding=\"utf-8\") as f:\n",
    "            for line in f:\n",
    "                try:\n",
    "                    data = json.loads(line.strip())\n",
    "                    if \"filename\" in data:\n",
    "                        labeled_files.add(str(Path(data[\"filename\"]).resolve()))\n",
    "                except json.JSONDecodeError:\n",
    "                    continue\n",
    "    return labeled_files\n",
    "\n",
    "def label_image(img_path: Path, schema):\n",
    "    img_b64 = b64_image(img_path)\n",
    "    schema_bullets = \"\\n\".join([f\"- {s}\" for s in schema])\n",
    "    system_prompt = (\n",
    "        \"You are a meticulous food and style image annotator. \"\n",
    "        \"Return a strict JSON object with fields exactly matching the requested schema.\"\n",
    "    )\n",
    "    user_prompt = f\"\"\"\n",
    "Analyze the image and label it for the following attributes:\n",
    "{schema_bullets}\n",
    "\n",
    "Rules:\n",
    "- Return strictly valid JSON (no markdown).\n",
    "- For 'food item', use the most specific name possible (e.g., 'spaghetti carbonara', 'latte art', 'sushi roll').\n",
    "- For style attributes, use short descriptive phrases.\n",
    "- Include a 'notes' field for anything noteworthy.\n",
    "\"\"\"\n",
    "    try:\n",
    "        resp = client.chat.completions.create(\n",
    "            model=AZURE_DEPLOYMENT_NAME,\n",
    "            messages=[\n",
    "                {\"role\": \"system\", \"content\": system_prompt},\n",
    "                {\"role\": \"user\", \"content\": [\n",
    "                    {\"type\": \"text\", \"text\": user_prompt},\n",
    "                    {\"type\": \"image_url\", \"image_url\": {\"url\": f\"data:image/jpeg;base64,{img_b64}\"}}\n",
    "                ]},\n",
    "            ],\n",
    "            temperature=0.2,\n",
    "        )\n",
    "        text = resp.choices[0].message.content\n",
    "        try:\n",
    "            return json.loads(text)\n",
    "        except Exception:\n",
    "            m = re.search(r\"\\{[\\s\\S]*\\}\", text)\n",
    "            log.error(f\"⚠️ Non-JSON response for {img_path}:\\n{text}\")\n",
    "            return json.loads(m.group(0)) if m else {\"raw\": text}\n",
    "    except Exception as e:\n",
    "        return {\"error\": str(e)}\n",
    "\n",
    "def label_folder(src: Path, out_jsonl: Path, max_images: int = 10, override: bool = False):\n",
    "    n = 0\n",
    "    skipped = 0\n",
    "    \n",
    "    # Load existing labels if not overriding\n",
    "    labeled_files = set() if override else load_existing_labels(out_jsonl)\n",
    "    \n",
    "    # Open file in append mode if not overriding and file exists\n",
    "    mode = \"w\" if override or not out_jsonl.exists() else \"a\"\n",
    "    \n",
    "    with open(out_jsonl, mode, encoding=\"utf-8\") as out:\n",
    "        for p in tqdm(sorted(src.glob(f\"*{TARGET_EXT}\"))):\n",
    "            if n >= max_images:\n",
    "                print(f\"⏹️ Stopping after {max_images} images\")\n",
    "                break\n",
    "                \n",
    "            # Check if already labeled\n",
    "            if str(p.resolve()) in labeled_files:\n",
    "                log.info(f\"⏭️ Skipping {p.name} (already labeled)\")\n",
    "                skipped += 1\n",
    "                continue\n",
    "                \n",
    "            log.info(f\"Labeling {p}...\")\n",
    "            result = label_image(p, LABEL_SCHEMA)\n",
    "            rec = {\"filename\": str(p.resolve()), \"labels\": result}\n",
    "            out.write(json.dumps(rec, ensure_ascii=False) + \"\\n\")\n",
    "            n += 1\n",
    "            time.sleep(0.2)            \n",
    "    \n",
    "    print(f\"✅ Labeled {n} new images, skipped {skipped} already labeled → {out_jsonl}\")\n",
    "\n",
    "print(\"Labeling images via Azure OpenAI...\")\n",
    "label_folder(CONVERTED_NEW, LABELS_DIR / \"new_labels.jsonl\", max_images=50, override=False)\n",
    "label_folder(CONVERTED_OLD, LABELS_DIR / \"old_labels.jsonl\", max_images=50, override=False)\n",
    "print(\"🎉 Done.\")"
   ]
  },
  {
   "cell_type": "markdown",
   "id": "576c2d83",
   "metadata": {},
   "source": [
    "# Image captions"
   ]
  },
  {
   "cell_type": "code",
   "execution_count": 6,
   "id": "da4bada7",
   "metadata": {},
   "outputs": [
    {
     "data": {
      "text/html": [
       "<pre style=\"white-space:pre;overflow-x:auto;line-height:normal;font-family:Menlo,'DejaVu Sans Mono',consolas,'Courier New',monospace\"><span style=\"color: #7fbfbf; text-decoration-color: #7fbfbf\">[12:11:28] </span><span style=\"color: #000080; text-decoration-color: #000080\">INFO    </span> 📑 Building captions from work/labels/new_labels.jsonl <span style=\"font-weight: bold\">(</span><span style=\"color: #008080; text-decoration-color: #008080; font-weight: bold\">31</span> records<span style=\"font-weight: bold\">)</span><span style=\"color: #808000; text-decoration-color: #808000\">...</span>         <a href=\"file:///tmp/ipykernel_4287/1215574807.py\" target=\"_blank\"><span style=\"color: #7f7f7f; text-decoration-color: #7f7f7f\">1215574807.py</span></a><span style=\"color: #7f7f7f; text-decoration-color: #7f7f7f\">:</span><a href=\"file:///tmp/ipykernel_4287/1215574807.py#18\" target=\"_blank\"><span style=\"color: #7f7f7f; text-decoration-color: #7f7f7f\">18</span></a>\n",
       "</pre>\n"
      ],
      "text/plain": [
       "\u001b[2;36m[12:11:28]\u001b[0m\u001b[2;36m \u001b[0m\u001b[34mINFO    \u001b[0m 📑 Building captions from work/labels/new_labels.jsonl \u001b[1m(\u001b[0m\u001b[1;36m31\u001b[0m records\u001b[1m)\u001b[0m\u001b[33m...\u001b[0m         \u001b]8;id=23508;file:///tmp/ipykernel_4287/1215574807.py\u001b\\\u001b[2m1215574807.py\u001b[0m\u001b]8;;\u001b\\\u001b[2m:\u001b[0m\u001b]8;id=479033;file:///tmp/ipykernel_4287/1215574807.py#18\u001b\\\u001b[2m18\u001b[0m\u001b]8;;\u001b\\\n"
      ]
     },
     "metadata": {},
     "output_type": "display_data"
    },
    {
     "data": {
      "application/vnd.jupyter.widget-view+json": {
       "model_id": "a8a33702d2fc42e8afc50db0468b9440",
       "version_major": 2,
       "version_minor": 0
      },
      "text/plain": [
       "Generating captions:   0%|          | 0/31 [00:00<?, ?it/s]"
      ]
     },
     "metadata": {},
     "output_type": "display_data"
    },
    {
     "data": {
      "text/html": [
       "<pre style=\"white-space:pre;overflow-x:auto;line-height:normal;font-family:Menlo,'DejaVu Sans Mono',consolas,'Courier New',monospace\"><span style=\"color: #7fbfbf; text-decoration-color: #7fbfbf\">[12:11:29] </span><span style=\"color: #000080; text-decoration-color: #000080\">INFO    </span> ✅ Wrote captions for <span style=\"color: #008080; text-decoration-color: #008080; font-weight: bold\">31</span> images into work/dataset/new                          <a href=\"file:///tmp/ipykernel_4287/1215574807.py\" target=\"_blank\"><span style=\"color: #7f7f7f; text-decoration-color: #7f7f7f\">1215574807.py</span></a><span style=\"color: #7f7f7f; text-decoration-color: #7f7f7f\">:</span><a href=\"file:///tmp/ipykernel_4287/1215574807.py#68\" target=\"_blank\"><span style=\"color: #7f7f7f; text-decoration-color: #7f7f7f\">68</span></a>\n",
       "</pre>\n"
      ],
      "text/plain": [
       "\u001b[2;36m[12:11:29]\u001b[0m\u001b[2;36m \u001b[0m\u001b[34mINFO    \u001b[0m ✅ Wrote captions for \u001b[1;36m31\u001b[0m images into work/dataset/new                          \u001b]8;id=910624;file:///tmp/ipykernel_4287/1215574807.py\u001b\\\u001b[2m1215574807.py\u001b[0m\u001b]8;;\u001b\\\u001b[2m:\u001b[0m\u001b]8;id=21841;file:///tmp/ipykernel_4287/1215574807.py#68\u001b\\\u001b[2m68\u001b[0m\u001b]8;;\u001b\\\n"
      ]
     },
     "metadata": {},
     "output_type": "display_data"
    },
    {
     "data": {
      "text/html": [
       "<pre style=\"white-space:pre;overflow-x:auto;line-height:normal;font-family:Menlo,'DejaVu Sans Mono',consolas,'Courier New',monospace\"><span style=\"color: #7fbfbf; text-decoration-color: #7fbfbf\">           </span><span style=\"color: #000080; text-decoration-color: #000080\">INFO    </span> 📑 Building captions from work/labels/old_labels.jsonl <span style=\"font-weight: bold\">(</span><span style=\"color: #008080; text-decoration-color: #008080; font-weight: bold\">16</span> records<span style=\"font-weight: bold\">)</span><span style=\"color: #808000; text-decoration-color: #808000\">...</span>         <a href=\"file:///tmp/ipykernel_4287/1215574807.py\" target=\"_blank\"><span style=\"color: #7f7f7f; text-decoration-color: #7f7f7f\">1215574807.py</span></a><span style=\"color: #7f7f7f; text-decoration-color: #7f7f7f\">:</span><a href=\"file:///tmp/ipykernel_4287/1215574807.py#18\" target=\"_blank\"><span style=\"color: #7f7f7f; text-decoration-color: #7f7f7f\">18</span></a>\n",
       "</pre>\n"
      ],
      "text/plain": [
       "\u001b[2;36m          \u001b[0m\u001b[2;36m \u001b[0m\u001b[34mINFO    \u001b[0m 📑 Building captions from work/labels/old_labels.jsonl \u001b[1m(\u001b[0m\u001b[1;36m16\u001b[0m records\u001b[1m)\u001b[0m\u001b[33m...\u001b[0m         \u001b]8;id=442067;file:///tmp/ipykernel_4287/1215574807.py\u001b\\\u001b[2m1215574807.py\u001b[0m\u001b]8;;\u001b\\\u001b[2m:\u001b[0m\u001b]8;id=881685;file:///tmp/ipykernel_4287/1215574807.py#18\u001b\\\u001b[2m18\u001b[0m\u001b]8;;\u001b\\\n"
      ]
     },
     "metadata": {},
     "output_type": "display_data"
    },
    {
     "data": {
      "application/vnd.jupyter.widget-view+json": {
       "model_id": "7ef25d33928242d784d1e74e1e9483bc",
       "version_major": 2,
       "version_minor": 0
      },
      "text/plain": [
       "Generating captions:   0%|          | 0/16 [00:00<?, ?it/s]"
      ]
     },
     "metadata": {},
     "output_type": "display_data"
    },
    {
     "data": {
      "text/html": [
       "<pre style=\"white-space:pre;overflow-x:auto;line-height:normal;font-family:Menlo,'DejaVu Sans Mono',consolas,'Courier New',monospace\"><span style=\"color: #7fbfbf; text-decoration-color: #7fbfbf\">           </span><span style=\"color: #000080; text-decoration-color: #000080\">INFO    </span> ✅ Wrote captions for <span style=\"color: #008080; text-decoration-color: #008080; font-weight: bold\">16</span> images into work/dataset/new                          <a href=\"file:///tmp/ipykernel_4287/1215574807.py\" target=\"_blank\"><span style=\"color: #7f7f7f; text-decoration-color: #7f7f7f\">1215574807.py</span></a><span style=\"color: #7f7f7f; text-decoration-color: #7f7f7f\">:</span><a href=\"file:///tmp/ipykernel_4287/1215574807.py#68\" target=\"_blank\"><span style=\"color: #7f7f7f; text-decoration-color: #7f7f7f\">68</span></a>\n",
       "</pre>\n"
      ],
      "text/plain": [
       "\u001b[2;36m          \u001b[0m\u001b[2;36m \u001b[0m\u001b[34mINFO    \u001b[0m ✅ Wrote captions for \u001b[1;36m16\u001b[0m images into work/dataset/new                          \u001b]8;id=656286;file:///tmp/ipykernel_4287/1215574807.py\u001b\\\u001b[2m1215574807.py\u001b[0m\u001b]8;;\u001b\\\u001b[2m:\u001b[0m\u001b]8;id=898867;file:///tmp/ipykernel_4287/1215574807.py#68\u001b\\\u001b[2m68\u001b[0m\u001b]8;;\u001b\\\n"
      ]
     },
     "metadata": {},
     "output_type": "display_data"
    },
    {
     "data": {
      "text/html": [
       "<pre style=\"white-space:pre;overflow-x:auto;line-height:normal;font-family:Menlo,'DejaVu Sans Mono',consolas,'Courier New',monospace\"><span style=\"color: #7fbfbf; text-decoration-color: #7fbfbf\">           </span><span style=\"color: #000080; text-decoration-color: #000080\">INFO    </span> 🎉 Done. Total captions created: <span style=\"color: #008080; text-decoration-color: #008080; font-weight: bold\">47</span>                                            <a href=\"file:///tmp/ipykernel_4287/1215574807.py\" target=\"_blank\"><span style=\"color: #7f7f7f; text-decoration-color: #7f7f7f\">1215574807.py</span></a><span style=\"color: #7f7f7f; text-decoration-color: #7f7f7f\">:</span><a href=\"file:///tmp/ipykernel_4287/1215574807.py#73\" target=\"_blank\"><span style=\"color: #7f7f7f; text-decoration-color: #7f7f7f\">73</span></a>\n",
       "</pre>\n"
      ],
      "text/plain": [
       "\u001b[2;36m          \u001b[0m\u001b[2;36m \u001b[0m\u001b[34mINFO    \u001b[0m 🎉 Done. Total captions created: \u001b[1;36m47\u001b[0m                                            \u001b]8;id=378729;file:///tmp/ipykernel_4287/1215574807.py\u001b\\\u001b[2m1215574807.py\u001b[0m\u001b]8;;\u001b\\\u001b[2m:\u001b[0m\u001b]8;id=595965;file:///tmp/ipykernel_4287/1215574807.py#73\u001b\\\u001b[2m73\u001b[0m\u001b]8;;\u001b\\\n"
      ]
     },
     "metadata": {},
     "output_type": "display_data"
    }
   ],
   "source": [
    "def captions_from_labels(jsonl_path: Path, out_dir: Path) -> int:\n",
    "    \"\"\"\n",
    "    Reads a JSONL file with Azure OpenAI labeling results and builds\n",
    "    caption .txt files next to each image for LoRA training.\n",
    "\n",
    "    Captions include the food item first, followed by style attributes.\n",
    "    Uses tqdm for progress and rich logging for clean notebook output.\n",
    "    \"\"\"\n",
    "    out_dir.mkdir(parents=True, exist_ok=True)\n",
    "    dst_img_dir = out_dir / \"new\"\n",
    "    dst_img_dir.mkdir(parents=True, exist_ok=True)\n",
    "\n",
    "    count = 0\n",
    "\n",
    "    # Count lines first for tqdm total\n",
    "    total = sum(1 for _ in open(jsonl_path, \"r\", encoding=\"utf-8\"))\n",
    "\n",
    "    log.info(f\"📑 Building captions from {jsonl_path} ({total} records)...\")\n",
    "\n",
    "    with open(jsonl_path, \"r\", encoding=\"utf-8\") as f:\n",
    "        for line in tqdm(f, total=total, desc=\"Generating captions\", leave=True):\n",
    "            rec = json.loads(line)\n",
    "            fp = Path(rec[\"filename\"])\n",
    "            labels = rec.get(\"labels\", {})\n",
    "\n",
    "            food = labels.get(\"food item\") or labels.get(\"food item (main dish, ingredient, or drink that appears)\")\n",
    "            perspective = labels.get(\"perspective\")\n",
    "            background = labels.get(\"background\")\n",
    "            lighting = labels.get(\"lighting\")\n",
    "            palette = labels.get(\"color palette\")\n",
    "            texture = labels.get(\"texture treatment\")\n",
    "            composition = labels.get(\"composition\")\n",
    "            mood = labels.get(\"mood\")\n",
    "\n",
    "            parts = []\n",
    "            if food:\n",
    "                parts.append(f\"a photo of {food}\")\n",
    "            if composition:\n",
    "                parts.append(f\"composition: {composition}\")\n",
    "            if perspective:\n",
    "                parts.append(f\"perspective: {perspective}\")\n",
    "            if lighting:\n",
    "                parts.append(f\"lighting: {lighting}\")\n",
    "            if palette:\n",
    "                parts.append(f\"color palette: {palette}\")\n",
    "            if texture:\n",
    "                parts.append(f\"texture: {texture}\")\n",
    "            if background:\n",
    "                parts.append(f\"background: {background}\")\n",
    "            if mood:\n",
    "                parts.append(f\"mood: {mood}\")\n",
    "\n",
    "            caption = \", \".join(parts) + \".\"\n",
    "            if not caption.strip() or caption == \".\":\n",
    "                caption = \"A food scene with distinctive style.\"\n",
    "\n",
    "            out_img_path = dst_img_dir / fp.name\n",
    "            out_txt_path = dst_img_dir / (fp.stem + \".txt\")\n",
    "\n",
    "            try:\n",
    "                shutil.copy2(fp, out_img_path)\n",
    "                with open(out_txt_path, \"w\", encoding=\"utf-8\") as out:\n",
    "                    out.write(caption)\n",
    "                count += 1\n",
    "            except Exception as e:\n",
    "                log.error(f\"⚠️ Failed to process {fp.name}: {e}\")\n",
    "\n",
    "    log.info(f\"✅ Wrote captions for {count} images into {dst_img_dir}\")\n",
    "    return count\n",
    "\n",
    "n1 = captions_from_labels(LABELS_DIR / \"new_labels.jsonl\", DATASET_DIR)\n",
    "n2 = captions_from_labels(LABELS_DIR / \"old_labels.jsonl\", DATASET_DIR)\n",
    "log.info(f\"🎉 Done. Total captions created: {n1 + n2}\")"
   ]
  },
  {
   "cell_type": "markdown",
   "id": "26e43419",
   "metadata": {},
   "source": [
    "# Model training"
   ]
  },
  {
   "cell_type": "code",
   "execution_count": 7,
   "id": "9a68a579",
   "metadata": {},
   "outputs": [
    {
     "name": "stdout",
     "output_type": "stream",
     "text": [
      "Current PyTorch version: 2.1.0a0+b5021ba\n",
      "PyTorch tensor test: tensor([1., 2.])\n",
      "CUDA available: True\n",
      "CUDA device count: 1\n",
      "Current CUDA device: 0\n",
      "Detected development PyTorch version: 2.1.0a0+b5021ba\n",
      "Patching version string for compatibility...\n",
      "Patched PyTorch version to: 2.1.0\n"
     ]
    }
   ],
   "source": [
    "# Check PyTorch version and fix if needed\n",
    "import torch\n",
    "print(f\"Current PyTorch version: {torch.__version__}\")\n",
    "\n",
    "# Check if we have a proper PyTorch installation\n",
    "try:\n",
    "    # Test basic PyTorch functionality\n",
    "    x = torch.tensor([1.0, 2.0])\n",
    "    print(f\"PyTorch tensor test: {x}\")\n",
    "    print(f\"CUDA available: {torch.cuda.is_available()}\")\n",
    "    if torch.cuda.is_available():\n",
    "        print(f\"CUDA device count: {torch.cuda.device_count()}\")\n",
    "        print(f\"Current CUDA device: {torch.cuda.current_device()}\")\n",
    "except Exception as e:\n",
    "    print(f\"PyTorch test failed: {e}\")\n",
    "\n",
    "# The issue might be that the development version isn't recognized by transformers\n",
    "# Let's patch the version check by setting a compatible version string\n",
    "import sys\n",
    "if hasattr(torch, '__version__'):\n",
    "    original_version = torch.__version__\n",
    "    if 'a0' in torch.__version__:\n",
    "        print(f\"Detected development PyTorch version: {original_version}\")\n",
    "        print(\"Patching version string for compatibility...\")\n",
    "        # Set a stable version string that transformers will accept\n",
    "        torch.__version__ = \"2.1.0\"\n",
    "        print(f\"Patched PyTorch version to: {torch.__version__}\")"
   ]
  },
  {
   "cell_type": "code",
   "execution_count": null,
   "id": "25f165aa",
   "metadata": {},
   "outputs": [
    {
     "data": {
      "application/vnd.jupyter.widget-view+json": {
       "model_id": "616215e983074fdda4c39d1fe61a8fbf",
       "version_major": 2,
       "version_minor": 0
      },
      "text/plain": [
       "Fetching 29 files:   0%|          | 0/29 [00:00<?, ?it/s]"
      ]
     },
     "metadata": {},
     "output_type": "display_data"
    },
    {
     "data": {
      "application/vnd.jupyter.widget-view+json": {
       "model_id": "7f2cdcb6c62f44c09148701cadee7a9b",
       "version_major": 2,
       "version_minor": 0
      },
      "text/plain": [
       "flux1-dev.safetensors:   0%|          | 0.00/23.8G [00:00<?, ?B/s]"
      ]
     },
     "metadata": {},
     "output_type": "display_data"
    },
    {
     "data": {
      "application/vnd.jupyter.widget-view+json": {
       "model_id": "2aeae05bdcf746cf824d3980321c6cae",
       "version_major": 2,
       "version_minor": 0
      },
      "text/plain": [
       "ae.safetensors:   0%|          | 0.00/335M [00:00<?, ?B/s]"
      ]
     },
     "metadata": {},
     "output_type": "display_data"
    },
    {
     "data": {
      "application/vnd.jupyter.widget-view+json": {
       "model_id": "73c3580843914a16808d149d74531b47",
       "version_major": 2,
       "version_minor": 0
      },
      "text/plain": [
       ".gitattributes:   0%|          | 0.00/1.66k [00:00<?, ?B/s]"
      ]
     },
     "metadata": {},
     "output_type": "display_data"
    },
    {
     "data": {
      "application/vnd.jupyter.widget-view+json": {
       "model_id": "17d94bc4946e4442b85e032f61c4ada6",
       "version_major": 2,
       "version_minor": 0
      },
      "text/plain": [
       "scheduler_config.json:   0%|          | 0.00/273 [00:00<?, ?B/s]"
      ]
     },
     "metadata": {},
     "output_type": "display_data"
    },
    {
     "data": {
      "application/vnd.jupyter.widget-view+json": {
       "model_id": "6bc669fbae4941fda93a6c66d5b027f2",
       "version_major": 2,
       "version_minor": 0
      },
      "text/plain": [
       "model_index.json:   0%|          | 0.00/536 [00:00<?, ?B/s]"
      ]
     },
     "metadata": {},
     "output_type": "display_data"
    },
    {
     "data": {
      "application/vnd.jupyter.widget-view+json": {
       "model_id": "fd273731f582430692c6936e6408d602",
       "version_major": 2,
       "version_minor": 0
      },
      "text/plain": [
       "config.json:   0%|          | 0.00/613 [00:00<?, ?B/s]"
      ]
     },
     "metadata": {},
     "output_type": "display_data"
    },
    {
     "data": {
      "application/vnd.jupyter.widget-view+json": {
       "model_id": "122a0e06344a4dbabf47d85b9295063f",
       "version_major": 2,
       "version_minor": 0
      },
      "text/plain": [
       "dev_grid.jpg:   0%|          | 0.00/1.30M [00:00<?, ?B/s]"
      ]
     },
     "metadata": {},
     "output_type": "display_data"
    },
    {
     "data": {
      "application/vnd.jupyter.widget-view+json": {
       "model_id": "bebd0af908c640c1af9fe2b9cf089bbe",
       "version_major": 2,
       "version_minor": 0
      },
      "text/plain": [
       "model.safetensors:   0%|          | 0.00/246M [00:00<?, ?B/s]"
      ]
     },
     "metadata": {},
     "output_type": "display_data"
    },
    {
     "data": {
      "application/vnd.jupyter.widget-view+json": {
       "model_id": "54b92ce91c3e4ea7a4f069c1c26d3fb4",
       "version_major": 2,
       "version_minor": 0
      },
      "text/plain": [
       "model-00001-of-00002.safetensors:   0%|          | 0.00/4.99G [00:00<?, ?B/s]"
      ]
     },
     "metadata": {},
     "output_type": "display_data"
    },
    {
     "data": {
      "application/vnd.jupyter.widget-view+json": {
       "model_id": "35493697ff7747738cc738c8f28b30e4",
       "version_major": 2,
       "version_minor": 0
      },
      "text/plain": [
       "model-00002-of-00002.safetensors:   0%|          | 0.00/4.53G [00:00<?, ?B/s]"
      ]
     },
     "metadata": {},
     "output_type": "display_data"
    },
    {
     "data": {
      "application/vnd.jupyter.widget-view+json": {
       "model_id": "537f6d7db7d046ae8c7aafb3520c8f7c",
       "version_major": 2,
       "version_minor": 0
      },
      "text/plain": [
       "config.json:   0%|          | 0.00/782 [00:00<?, ?B/s]"
      ]
     },
     "metadata": {},
     "output_type": "display_data"
    },
    {
     "data": {
      "application/vnd.jupyter.widget-view+json": {
       "model_id": "34a5732d4b9442688e4852204b7d644e",
       "version_major": 2,
       "version_minor": 0
      },
      "text/plain": [
       "model.safetensors.index.json:   0%|          | 0.00/19.9k [00:00<?, ?B/s]"
      ]
     },
     "metadata": {},
     "output_type": "display_data"
    },
    {
     "data": {
      "application/vnd.jupyter.widget-view+json": {
       "model_id": "15c1555aa9b84f9a9597c3f5ea921409",
       "version_major": 2,
       "version_minor": 0
      },
      "text/plain": [
       "merges.txt:   0%|          | 0.00/525k [00:00<?, ?B/s]"
      ]
     },
     "metadata": {},
     "output_type": "display_data"
    },
    {
     "data": {
      "application/vnd.jupyter.widget-view+json": {
       "model_id": "764d4ec5fbed4f5ca538ad4f366c2400",
       "version_major": 2,
       "version_minor": 0
      },
      "text/plain": [
       "special_tokens_map.json:   0%|          | 0.00/588 [00:00<?, ?B/s]"
      ]
     },
     "metadata": {},
     "output_type": "display_data"
    },
    {
     "data": {
      "application/vnd.jupyter.widget-view+json": {
       "model_id": "e9a0f57f698346ba9de462a098f15c6d",
       "version_major": 2,
       "version_minor": 0
      },
      "text/plain": [
       "tokenizer_config.json:   0%|          | 0.00/705 [00:00<?, ?B/s]"
      ]
     },
     "metadata": {},
     "output_type": "display_data"
    },
    {
     "data": {
      "application/vnd.jupyter.widget-view+json": {
       "model_id": "868b94357ea4455d83e176400353b257",
       "version_major": 2,
       "version_minor": 0
      },
      "text/plain": [
       "vocab.json:   0%|          | 0.00/1.06M [00:00<?, ?B/s]"
      ]
     },
     "metadata": {},
     "output_type": "display_data"
    },
    {
     "data": {
      "application/vnd.jupyter.widget-view+json": {
       "model_id": "59be57943c344861acb99f4d1efc45d4",
       "version_major": 2,
       "version_minor": 0
      },
      "text/plain": [
       "special_tokens_map.json:   0%|          | 0.00/2.54k [00:00<?, ?B/s]"
      ]
     },
     "metadata": {},
     "output_type": "display_data"
    },
    {
     "data": {
      "application/vnd.jupyter.widget-view+json": {
       "model_id": "bc9546ed7f21439da7df333f87dbb357",
       "version_major": 2,
       "version_minor": 0
      },
      "text/plain": [
       "spiece.model:   0%|          | 0.00/792k [00:00<?, ?B/s]"
      ]
     },
     "metadata": {},
     "output_type": "display_data"
    },
    {
     "data": {
      "application/vnd.jupyter.widget-view+json": {
       "model_id": "ab4ee79cd68d4293b1920891aaf264a1",
       "version_major": 2,
       "version_minor": 0
      },
      "text/plain": [
       "tokenizer.json:   0%|          | 0.00/2.42M [00:00<?, ?B/s]"
      ]
     },
     "metadata": {},
     "output_type": "display_data"
    },
    {
     "data": {
      "application/vnd.jupyter.widget-view+json": {
       "model_id": "37729992fe8f4cb99dafc6472efefdf7",
       "version_major": 2,
       "version_minor": 0
      },
      "text/plain": [
       "tokenizer_config.json:   0%|          | 0.00/20.8k [00:00<?, ?B/s]"
      ]
     },
     "metadata": {},
     "output_type": "display_data"
    },
    {
     "data": {
      "application/vnd.jupyter.widget-view+json": {
       "model_id": "fbe6a79ae5c648f087f27a360092ca93",
       "version_major": 2,
       "version_minor": 0
      },
      "text/plain": [
       "(…)pytorch_model-00001-of-00003.safetensors:   0%|          | 0.00/9.98G [00:00<?, ?B/s]"
      ]
     },
     "metadata": {},
     "output_type": "display_data"
    },
    {
     "data": {
      "application/vnd.jupyter.widget-view+json": {
       "model_id": "8c3b790f8766475fa7d4b95948df51a4",
       "version_major": 2,
       "version_minor": 0
      },
      "text/plain": [
       "config.json:   0%|          | 0.00/378 [00:00<?, ?B/s]"
      ]
     },
     "metadata": {},
     "output_type": "display_data"
    },
    {
     "data": {
      "application/vnd.jupyter.widget-view+json": {
       "model_id": "74ee5011e78f4f419af43d0a08297622",
       "version_major": 2,
       "version_minor": 0
      },
      "text/plain": [
       "(…)pytorch_model-00002-of-00003.safetensors:   0%|          | 0.00/9.95G [00:00<?, ?B/s]"
      ]
     },
     "metadata": {},
     "output_type": "display_data"
    },
    {
     "data": {
      "application/vnd.jupyter.widget-view+json": {
       "model_id": "c57949b27d574f2da42730075e158e86",
       "version_major": 2,
       "version_minor": 0
      },
      "text/plain": [
       "(…)pytorch_model-00003-of-00003.safetensors:   0%|          | 0.00/3.87G [00:00<?, ?B/s]"
      ]
     },
     "metadata": {},
     "output_type": "display_data"
    },
    {
     "data": {
      "application/vnd.jupyter.widget-view+json": {
       "model_id": "ac212ff6304e40319c2eca081af58d7d",
       "version_major": 2,
       "version_minor": 0
      },
      "text/plain": [
       "(…)ion_pytorch_model.safetensors.index.json:   0%|          | 0.00/121k [00:00<?, ?B/s]"
      ]
     },
     "metadata": {},
     "output_type": "display_data"
    },
    {
     "data": {
      "application/vnd.jupyter.widget-view+json": {
       "model_id": "ecafbaa7aadd4d2681413ea32671137c",
       "version_major": 2,
       "version_minor": 0
      },
      "text/plain": [
       "config.json:   0%|          | 0.00/820 [00:00<?, ?B/s]"
      ]
     },
     "metadata": {},
     "output_type": "display_data"
    },
    {
     "data": {
      "application/vnd.jupyter.widget-view+json": {
       "model_id": "d6bf057b4ebd461ab0e14a80b6aea415",
       "version_major": 2,
       "version_minor": 0
      },
      "text/plain": [
       "diffusion_pytorch_model.safetensors:   0%|          | 0.00/168M [00:00<?, ?B/s]"
      ]
     },
     "metadata": {},
     "output_type": "display_data"
    }
   ],
   "source": [
    "import random, torch, numpy as np\n",
    "from pathlib import Path\n",
    "from torch.utils.data import Dataset, DataLoader\n",
    "from PIL import Image\n",
    "from transformers import T5EncoderModel, T5TokenizerFast\n",
    "from diffusers import FluxTransformer2DModel, AutoencoderKL, FlowMatchEulerDiscreteScheduler\n",
    "from accelerate import Accelerator\n",
    "from huggingface_hub import snapshot_download\n",
    "from peft import LoraConfig, get_peft_model\n",
    "\n",
    "# --- Reproducibility ---\n",
    "random.seed(SEED)\n",
    "torch.manual_seed(SEED)\n",
    "\n",
    "# --- Download model repo locally (only first run actually downloads) ---\n",
    "repo_id = \"black-forest-labs/FLUX.1-dev\"\n",
    "local_dir = \"./flux-dev-model\"\n",
    "snapshot_download(repo_id=repo_id, local_dir=local_dir)\n",
    "BASE_MODEL_ID = local_dir  # ensure we use the local copy\n",
    "\n",
    "# --- Training Hyperparameters ---\n",
    "TRAIN_BATCH_SIZE = 1      # FLUX requires more memory\n",
    "LR = 1e-4\n",
    "MAX_STEPS = 5000\n",
    "IMG_RES = 1024\n",
    "LORA_R = 16               # Higher rank for better quality\n",
    "LORA_ALPHA = 32\n",
    "LORA_DROPOUT = 0.1\n",
    "\n",
    "log.info(\"Loading FLUX model components...\")\n",
    "\n",
    "# --- Load tokenizer & encoder (T5 only for FLUX) ---\n",
    "tokenizer = T5TokenizerFast.from_pretrained(BASE_MODEL_ID, subfolder=\"tokenizer_2\")\n",
    "text_encoder = T5EncoderModel.from_pretrained(BASE_MODEL_ID, subfolder=\"text_encoder_2\")\n",
    "\n",
    "vae = AutoencoderKL.from_pretrained(BASE_MODEL_ID, subfolder=\"vae\")\n",
    "transformer = FluxTransformer2DModel.from_pretrained(BASE_MODEL_ID, subfolder=\"transformer\")\n",
    "\n",
    "# --- Apply LoRA to transformer ---\n",
    "lora_config = LoraConfig(\n",
    "    r=LORA_R,\n",
    "    lora_alpha=LORA_ALPHA,\n",
    "    target_modules=[\"to_q\", \"to_k\", \"to_v\", \"to_out.0\"],\n",
    "    lora_dropout=LORA_DROPOUT,\n",
    "    bias=\"none\",\n",
    "    task_type=\"FEATURE_EXTRACTION\",\n",
    ")\n",
    "transformer = get_peft_model(transformer, lora_config)\n",
    "log.info(\"LoRA applied to FLUX Transformer\")\n",
    "\n",
    "# --- Dataset ---\n",
    "class CaptionImageDataset(Dataset):\n",
    "    def __init__(self, img_dir: Path, tokenizer, size=1024):\n",
    "        self.paths = sorted(img_dir.glob(\"*.jpg\"))\n",
    "        self.tokenizer = tokenizer\n",
    "        self.size = size\n",
    "        log.info(f\"Dataset created with {len(self.paths)} images\")\n",
    "\n",
    "    def __len__(self): \n",
    "        return len(self.paths)\n",
    "\n",
    "    def __getitem__(self, idx):\n",
    "        img_path = self.paths[idx]\n",
    "        caption = img_path.with_suffix(\".txt\").read_text(encoding=\"utf-8\").strip()\n",
    "\n",
    "        # Preprocess image → [-1, 1] tensor\n",
    "        image = Image.open(img_path).convert(\"RGB\").resize((self.size, self.size), Image.BICUBIC)\n",
    "        arr = np.array(image, dtype=np.float32) / 255.0\n",
    "        arr = (arr.transpose(2, 0, 1) * 2.0) - 1.0\n",
    "        image_tensor = torch.from_numpy(arr)\n",
    "\n",
    "        # Tokenize with T5 (512 max length for FLUX)\n",
    "        t5_ids = self.tokenizer(\n",
    "            caption, truncation=True, padding=\"max_length\",\n",
    "            max_length=512, return_tensors=\"pt\"\n",
    "        ).input_ids[0]\n",
    "\n",
    "        return {\"pixel_values\": image_tensor, \"t5_input_ids\": t5_ids}\n",
    "\n",
    "train_ds = CaptionImageDataset(DATASET_DIR / \"new\", tokenizer, IMG_RES)\n",
    "train_loader = DataLoader(train_ds, batch_size=TRAIN_BATCH_SIZE, shuffle=True, drop_last=True)\n",
    "\n",
    "# --- Scheduler & Accelerator ---\n",
    "noise_scheduler = FlowMatchEulerDiscreteScheduler.from_pretrained(BASE_MODEL_ID, subfolder=\"scheduler\")\n",
    "accelerator = Accelerator(mixed_precision=MIXED_PRECISION if MIXED_PRECISION in (\"fp16\",\"bf16\") else \"no\")\n",
    "device = accelerator.device\n",
    "log.info(f\"Using device: {device}\")\n",
    "\n",
    "# --- Move models ---\n",
    "vae.to(device)\n",
    "text_encoder.to(device)\n",
    "transformer.to(device)\n",
    "\n",
    "# --- Optimizer ---\n",
    "try:\n",
    "    if USE_8BIT_ADAM:\n",
    "        from bitsandbytes.optim import AdamW8bit\n",
    "        optimizer = AdamW8bit((p for p in transformer.parameters() if p.requires_grad), lr=LR)\n",
    "        log.info(\"Using 8-bit AdamW optimizer\")\n",
    "    else:\n",
    "        raise ImportError\n",
    "except Exception:\n",
    "    from torch.optim import AdamW\n",
    "    optimizer = AdamW((p for p in transformer.parameters() if p.requires_grad), lr=LR)\n",
    "    log.info(\"Using standard AdamW optimizer\")\n",
    "\n",
    "transformer, optimizer, train_loader = accelerator.prepare(transformer, optimizer, train_loader)\n",
    "transformer.train()\n",
    "\n",
    "# --- Training Loop ---\n",
    "log.info(\"Starting training...\")\n",
    "global_step = 0\n",
    "for epoch in range(999999):\n",
    "    for batch in train_loader:\n",
    "        if global_step >= MAX_STEPS:\n",
    "            break\n",
    "\n",
    "        with accelerator.accumulate(transformer):\n",
    "            pixel_values = batch[\"pixel_values\"].to(device)\n",
    "            t5_input_ids = batch[\"t5_input_ids\"].to(device)\n",
    "\n",
    "            # Encode image → latents\n",
    "            latents = vae.encode(pixel_values).latent_dist.sample() * vae.config.scaling_factor\n",
    "            noise = torch.randn_like(latents)\n",
    "            timesteps = torch.randint(0, noise_scheduler.config.num_train_timesteps, (latents.size(0),), device=device)\n",
    "            noisy_latents = noise_scheduler.add_noise(latents, noise, timesteps)\n",
    "\n",
    "            # Encode caption with T5\n",
    "            encoder_hidden_states = text_encoder(t5_input_ids).last_hidden_state\n",
    "\n",
    "            # Forward through transformer\n",
    "            model_pred = transformer(\n",
    "                hidden_states=noisy_latents,\n",
    "                timestep=timesteps,\n",
    "                encoder_hidden_states=encoder_hidden_states,\n",
    "            ).sample\n",
    "\n",
    "            loss = torch.nn.functional.mse_loss(model_pred, noise, reduction=\"mean\")\n",
    "            accelerator.backward(loss)\n",
    "            optimizer.step()\n",
    "            optimizer.zero_grad()\n",
    "\n",
    "        if accelerator.is_main_process and global_step % 50 == 0:\n",
    "            log.info(f\"Step {global_step} | Loss {loss.item():.4f}\")\n",
    "        global_step += 1\n",
    "\n",
    "    if global_step >= MAX_STEPS:\n",
    "        break\n",
    "\n",
    "if accelerator.is_main_process:\n",
    "    transformer.save_pretrained(str(LORA_OUTPUT_DIR))\n",
    "    log.info(f\"Saved LoRA weights to {LORA_OUTPUT_DIR}\")\n"
   ]
  },
  {
   "cell_type": "markdown",
   "id": "a19b2e3b",
   "metadata": {},
   "source": [
    "# Image generation"
   ]
  },
  {
   "cell_type": "code",
   "execution_count": null,
   "id": "713b7ff1",
   "metadata": {},
   "outputs": [
    {
     "data": {
      "application/vnd.jupyter.widget-view+json": {
       "model_id": "dd3af3ed47404ea198d256df33f676cb",
       "version_major": 2,
       "version_minor": 0
      },
      "text/plain": [
       "Loading pipeline components...:   0%|          | 0/7 [00:00<?, ?it/s]"
      ]
     },
     "metadata": {},
     "output_type": "display_data"
    }
   ],
   "source": [
    "import torch\n",
    "from diffusers import FluxPipeline\n",
    "from peft import PeftModel\n",
    "\n",
    "# --- Load FLUX pipeline ---\n",
    "pipe = FluxPipeline.from_pretrained(\n",
    "    BASE_MODEL_ID,\n",
    "    torch_dtype=torch.bfloat16 if MIXED_PRECISION == \"bf16\" else torch.float32,\n",
    ").to(accelerator.device)\n",
    "\n",
    "# --- Load trained LoRA weights into the pipeline transformer ---\n",
    "pipe.transformer = PeftModel.from_pretrained(pipe.transformer, LORA_OUTPUT_DIR)\n",
    "\n",
    "# --- Canonical style prompt ---\n",
    "CANONICAL_STYLE_PROMPT = (\n",
    "    \"food photography, professional culinary styling, top-down composition, \"\n",
    "    \"minimal background, soft natural lighting, vibrant colors, \"\n",
    "    \"high quality, detailed textures, appetizing presentation\"\n",
    ")\n",
    "\n",
    "# --- Output configuration ---\n",
    "OUT_DIR = (WORK_DIR / \"outputs\")\n",
    "OUT_DIR.mkdir(parents=True, exist_ok=True)\n",
    "\n",
    "guidance_scale = 3.5          # FLUX prefers lower guidance than SD1.x/2.x\n",
    "num_inference_steps = 28      # Typical sweet spot for FLUX\n",
    "height, width = 1024, 1024    # Keep resolution consistent with training\n",
    "\n",
    "# --- Prompts to test the style LoRA ---\n",
    "sample_prompts = [\n",
    "    \"delicious pasta dish with herbs and parmesan cheese\",\n",
    "    \"fresh salad with colorful vegetables and dressing\",\n",
    "    \"grilled chicken with roasted vegetables\",\n",
    "    \"chocolate dessert with berries and cream\"\n",
    "]\n",
    "\n",
    "# --- Generate samples ---\n",
    "for i, base_prompt in enumerate(sample_prompts, start=1):\n",
    "    full_prompt = f\"{base_prompt}, {CANONICAL_STYLE_PROMPT}\"\n",
    "    image = pipe(\n",
    "        prompt=full_prompt,\n",
    "        guidance_scale=guidance_scale,\n",
    "        num_inference_steps=num_inference_steps,\n",
    "        height=height,\n",
    "        width=width,\n",
    "    ).images[0]\n",
    "\n",
    "    out_path = OUT_DIR / f\"flux_generated_{i:02d}.jpg\"\n",
    "    image.save(out_path, \"JPEG\", quality=95, optimize=True)\n",
    "    print(f\"✅ Saved {out_path.name} | Prompt: {full_prompt}\")\n"
   ]
  }
 ],
 "metadata": {
  "kernelspec": {
   "display_name": "Python 3",
   "language": "python",
   "name": "python3"
  },
  "language_info": {
   "codemirror_mode": {
    "name": "ipython",
    "version": 3
   },
   "file_extension": ".py",
   "mimetype": "text/x-python",
   "name": "python",
   "nbconvert_exporter": "python",
   "pygments_lexer": "ipython3",
   "version": "3.10.12"
  }
 },
 "nbformat": 4,
 "nbformat_minor": 5
}

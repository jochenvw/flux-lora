{
 "cells": [
  {
   "cell_type": "markdown",
   "id": "8809152f",
   "metadata": {},
   "source": [
    "# Low Rank Adapaptation (LoRa) of a FLUX model"
   ]
  },
  {
   "cell_type": "markdown",
   "id": "8d1b0106",
   "metadata": {},
   "source": [
    "## Imports + Settings"
   ]
  },
  {
   "cell_type": "code",
   "execution_count": 1,
   "id": "6f3b177e",
   "metadata": {},
   "outputs": [
    {
     "name": "stdout",
     "output_type": "stream",
     "text": [
      "Defaulting to user installation because normal site-packages is not writeable\n",
      "Looking in indexes: https://pypi.org/simple, https://pypi.ngc.nvidia.com\n",
      "Requirement already satisfied: pillow in /home/vscode/.local/lib/python3.10/site-packages (11.3.0)\n",
      "Requirement already satisfied: pillow-avif-plugin in /home/vscode/.local/lib/python3.10/site-packages (1.5.2)\n",
      "Requirement already satisfied: openai in /home/vscode/.local/lib/python3.10/site-packages (1.109.0)\n",
      "Requirement already satisfied: diffusers==0.30.2 in /home/vscode/.local/lib/python3.10/site-packages (0.30.2)\n",
      "Requirement already satisfied: huggingface_hub==0.24.6 in /home/vscode/.local/lib/python3.10/site-packages (0.24.6)\n",
      "Requirement already satisfied: accelerate in /home/vscode/.local/lib/python3.10/site-packages (1.10.1)\n",
      "Requirement already satisfied: peft in /home/vscode/.local/lib/python3.10/site-packages (0.13.2)\n",
      "Requirement already satisfied: datasets in /home/vscode/.local/lib/python3.10/site-packages (4.1.1)\n",
      "Requirement already satisfied: dotenv in /home/vscode/.local/lib/python3.10/site-packages (0.9.9)\n",
      "Requirement already satisfied: rich in /home/vscode/.local/lib/python3.10/site-packages (14.1.0)\n",
      "Requirement already satisfied: tqdm in /home/vscode/.local/lib/python3.10/site-packages (4.67.1)\n",
      "Requirement already satisfied: ipywidgets in /home/vscode/.local/lib/python3.10/site-packages (8.1.7)\n",
      "Requirement already satisfied: importlib-metadata in /usr/local/lib/python3.10/dist-packages (from diffusers==0.30.2) (6.7.0)\n",
      "Requirement already satisfied: filelock in /usr/local/lib/python3.10/dist-packages (from diffusers==0.30.2) (3.12.2)\n",
      "Requirement already satisfied: numpy in /usr/local/lib/python3.10/dist-packages (from diffusers==0.30.2) (1.22.2)\n",
      "Requirement already satisfied: regex!=2019.12.17 in /usr/local/lib/python3.10/dist-packages (from diffusers==0.30.2) (2023.6.3)\n",
      "Requirement already satisfied: requests in /home/vscode/.local/lib/python3.10/site-packages (from diffusers==0.30.2) (2.32.5)\n",
      "Requirement already satisfied: safetensors>=0.3.1 in /home/vscode/.local/lib/python3.10/site-packages (from diffusers==0.30.2) (0.6.2)\n",
      "Requirement already satisfied: fsspec>=2023.5.0 in /usr/local/lib/python3.10/dist-packages (from huggingface_hub==0.24.6) (2023.6.0)\n",
      "Requirement already satisfied: packaging>=20.9 in /usr/local/lib/python3.10/dist-packages (from huggingface_hub==0.24.6) (23.1)\n",
      "Requirement already satisfied: pyyaml>=5.1 in /usr/local/lib/python3.10/dist-packages (from huggingface_hub==0.24.6) (6.0)\n",
      "Requirement already satisfied: typing-extensions>=3.7.4.3 in /home/vscode/.local/lib/python3.10/site-packages (from huggingface_hub==0.24.6) (4.15.0)\n",
      "Requirement already satisfied: anyio<5,>=3.5.0 in /home/vscode/.local/lib/python3.10/site-packages (from openai) (4.11.0)\n",
      "Requirement already satisfied: distro<2,>=1.7.0 in /home/vscode/.local/lib/python3.10/site-packages (from openai) (1.9.0)\n",
      "Requirement already satisfied: httpx<1,>=0.23.0 in /home/vscode/.local/lib/python3.10/site-packages (from openai) (0.28.1)\n",
      "Requirement already satisfied: jiter<1,>=0.4.0 in /home/vscode/.local/lib/python3.10/site-packages (from openai) (0.11.0)\n",
      "Requirement already satisfied: pydantic<3,>=1.9.0 in /usr/local/lib/python3.10/dist-packages (from openai) (1.10.11)\n",
      "Requirement already satisfied: sniffio in /home/vscode/.local/lib/python3.10/site-packages (from openai) (1.3.1)\n",
      "Requirement already satisfied: exceptiongroup>=1.0.2 in /usr/local/lib/python3.10/dist-packages (from anyio<5,>=3.5.0->openai) (1.1.2)\n",
      "Requirement already satisfied: idna>=2.8 in /usr/local/lib/python3.10/dist-packages (from anyio<5,>=3.5.0->openai) (3.4)\n",
      "Requirement already satisfied: certifi in /usr/local/lib/python3.10/dist-packages (from httpx<1,>=0.23.0->openai) (2023.5.7)\n",
      "Requirement already satisfied: httpcore==1.* in /home/vscode/.local/lib/python3.10/site-packages (from httpx<1,>=0.23.0->openai) (1.0.9)\n",
      "Requirement already satisfied: h11>=0.16 in /home/vscode/.local/lib/python3.10/site-packages (from httpcore==1.*->httpx<1,>=0.23.0->openai) (0.16.0)\n",
      "Requirement already satisfied: psutil in /usr/local/lib/python3.10/dist-packages (from accelerate) (5.9.4)\n",
      "Requirement already satisfied: torch>=2.0.0 in /usr/local/lib/python3.10/dist-packages (from accelerate) (2.1.0a0+b5021ba)\n",
      "Requirement already satisfied: transformers in /home/vscode/.local/lib/python3.10/site-packages (from peft) (4.48.3)\n",
      "Requirement already satisfied: pyarrow>=21.0.0 in /home/vscode/.local/lib/python3.10/site-packages (from datasets) (21.0.0)\n",
      "Requirement already satisfied: dill<0.4.1,>=0.3.0 in /home/vscode/.local/lib/python3.10/site-packages (from datasets) (0.4.0)\n",
      "Requirement already satisfied: pandas in /usr/local/lib/python3.10/dist-packages (from datasets) (1.5.2)\n",
      "Requirement already satisfied: xxhash in /home/vscode/.local/lib/python3.10/site-packages (from datasets) (3.5.0)\n",
      "Requirement already satisfied: multiprocess<0.70.17 in /home/vscode/.local/lib/python3.10/site-packages (from datasets) (0.70.16)\n",
      "Requirement already satisfied: aiohttp!=4.0.0a0,!=4.0.0a1 in /usr/local/lib/python3.10/dist-packages (from fsspec[http]<=2025.9.0,>=2023.1.0->datasets) (3.8.4)\n",
      "Requirement already satisfied: python-dotenv in /home/vscode/.local/lib/python3.10/site-packages (from dotenv) (1.1.1)\n",
      "Requirement already satisfied: markdown-it-py>=2.2.0 in /usr/local/lib/python3.10/dist-packages (from rich) (3.0.0)\n",
      "Requirement already satisfied: pygments<3.0.0,>=2.13.0 in /usr/local/lib/python3.10/dist-packages (from rich) (2.15.1)\n",
      "Requirement already satisfied: comm>=0.1.3 in /usr/local/lib/python3.10/dist-packages (from ipywidgets) (0.1.3)\n",
      "Requirement already satisfied: ipython>=6.1.0 in /usr/local/lib/python3.10/dist-packages (from ipywidgets) (8.14.0)\n",
      "Requirement already satisfied: traitlets>=4.3.1 in /usr/local/lib/python3.10/dist-packages (from ipywidgets) (5.9.0)\n",
      "Requirement already satisfied: widgetsnbextension~=4.0.14 in /home/vscode/.local/lib/python3.10/site-packages (from ipywidgets) (4.0.14)\n",
      "Requirement already satisfied: jupyterlab_widgets~=3.0.15 in /home/vscode/.local/lib/python3.10/site-packages (from ipywidgets) (3.0.15)\n",
      "Requirement already satisfied: attrs>=17.3.0 in /usr/local/lib/python3.10/dist-packages (from aiohttp!=4.0.0a0,!=4.0.0a1->fsspec[http]<=2025.9.0,>=2023.1.0->datasets) (23.1.0)\n",
      "Requirement already satisfied: charset-normalizer<4.0,>=2.0 in /usr/local/lib/python3.10/dist-packages (from aiohttp!=4.0.0a0,!=4.0.0a1->fsspec[http]<=2025.9.0,>=2023.1.0->datasets) (3.1.0)\n",
      "Requirement already satisfied: multidict<7.0,>=4.5 in /usr/local/lib/python3.10/dist-packages (from aiohttp!=4.0.0a0,!=4.0.0a1->fsspec[http]<=2025.9.0,>=2023.1.0->datasets) (6.0.4)\n",
      "Requirement already satisfied: async-timeout<5.0,>=4.0.0a3 in /usr/local/lib/python3.10/dist-packages (from aiohttp!=4.0.0a0,!=4.0.0a1->fsspec[http]<=2025.9.0,>=2023.1.0->datasets) (4.0.2)\n",
      "Requirement already satisfied: yarl<2.0,>=1.0 in /usr/local/lib/python3.10/dist-packages (from aiohttp!=4.0.0a0,!=4.0.0a1->fsspec[http]<=2025.9.0,>=2023.1.0->datasets) (1.9.2)\n",
      "Requirement already satisfied: frozenlist>=1.1.1 in /usr/local/lib/python3.10/dist-packages (from aiohttp!=4.0.0a0,!=4.0.0a1->fsspec[http]<=2025.9.0,>=2023.1.0->datasets) (1.3.3)\n",
      "Requirement already satisfied: aiosignal>=1.1.2 in /usr/local/lib/python3.10/dist-packages (from aiohttp!=4.0.0a0,!=4.0.0a1->fsspec[http]<=2025.9.0,>=2023.1.0->datasets) (1.3.1)\n",
      "Requirement already satisfied: backcall in /usr/local/lib/python3.10/dist-packages (from ipython>=6.1.0->ipywidgets) (0.2.0)\n",
      "Requirement already satisfied: decorator in /usr/local/lib/python3.10/dist-packages (from ipython>=6.1.0->ipywidgets) (5.1.1)\n",
      "Requirement already satisfied: jedi>=0.16 in /usr/local/lib/python3.10/dist-packages (from ipython>=6.1.0->ipywidgets) (0.18.2)\n",
      "Requirement already satisfied: matplotlib-inline in /usr/local/lib/python3.10/dist-packages (from ipython>=6.1.0->ipywidgets) (0.1.6)\n",
      "Requirement already satisfied: pickleshare in /usr/local/lib/python3.10/dist-packages (from ipython>=6.1.0->ipywidgets) (0.7.5)\n",
      "Requirement already satisfied: prompt-toolkit!=3.0.37,<3.1.0,>=3.0.30 in /usr/local/lib/python3.10/dist-packages (from ipython>=6.1.0->ipywidgets) (3.0.39)\n",
      "Requirement already satisfied: stack-data in /usr/local/lib/python3.10/dist-packages (from ipython>=6.1.0->ipywidgets) (0.6.2)\n",
      "Requirement already satisfied: pexpect>4.3 in /usr/local/lib/python3.10/dist-packages (from ipython>=6.1.0->ipywidgets) (4.8.0)\n",
      "Requirement already satisfied: wcwidth in /usr/local/lib/python3.10/dist-packages (from prompt-toolkit!=3.0.37,<3.1.0,>=3.0.30->ipython>=6.1.0->ipywidgets) (0.2.6)\n",
      "Requirement already satisfied: parso<0.9.0,>=0.8.0 in /usr/local/lib/python3.10/dist-packages (from jedi>=0.16->ipython>=6.1.0->ipywidgets) (0.8.3)\n",
      "Requirement already satisfied: mdurl~=0.1 in /usr/local/lib/python3.10/dist-packages (from markdown-it-py>=2.2.0->rich) (0.1.2)\n",
      "Requirement already satisfied: ptyprocess>=0.5 in /usr/local/lib/python3.10/dist-packages (from pexpect>4.3->ipython>=6.1.0->ipywidgets) (0.7.0)\n",
      "Requirement already satisfied: urllib3<3,>=1.21.1 in /usr/local/lib/python3.10/dist-packages (from requests->diffusers==0.30.2) (1.26.16)\n",
      "Requirement already satisfied: sympy in /usr/local/lib/python3.10/dist-packages (from torch>=2.0.0->accelerate) (1.12)\n",
      "Requirement already satisfied: networkx in /usr/local/lib/python3.10/dist-packages (from torch>=2.0.0->accelerate) (2.6.3)\n",
      "Requirement already satisfied: jinja2 in /usr/local/lib/python3.10/dist-packages (from torch>=2.0.0->accelerate) (3.1.2)\n",
      "Requirement already satisfied: zipp>=0.5 in /usr/local/lib/python3.10/dist-packages (from importlib-metadata->diffusers==0.30.2) (3.15.0)\n",
      "Requirement already satisfied: MarkupSafe>=2.0 in /usr/local/lib/python3.10/dist-packages (from jinja2->torch>=2.0.0->accelerate) (2.1.3)\n",
      "Requirement already satisfied: python-dateutil>=2.8.1 in /usr/local/lib/python3.10/dist-packages (from pandas->datasets) (2.8.2)\n",
      "Requirement already satisfied: pytz>=2020.1 in /usr/local/lib/python3.10/dist-packages (from pandas->datasets) (2023.3)\n",
      "Requirement already satisfied: six>=1.5 in /usr/local/lib/python3.10/dist-packages (from python-dateutil>=2.8.1->pandas->datasets) (1.16.0)\n",
      "Requirement already satisfied: executing>=1.2.0 in /usr/local/lib/python3.10/dist-packages (from stack-data->ipython>=6.1.0->ipywidgets) (1.2.0)\n",
      "Requirement already satisfied: asttokens>=2.1.0 in /usr/local/lib/python3.10/dist-packages (from stack-data->ipython>=6.1.0->ipywidgets) (2.2.1)\n",
      "Requirement already satisfied: pure-eval in /usr/local/lib/python3.10/dist-packages (from stack-data->ipython>=6.1.0->ipywidgets) (0.2.2)\n",
      "Requirement already satisfied: mpmath>=0.19 in /usr/local/lib/python3.10/dist-packages (from sympy->torch>=2.0.0->accelerate) (1.3.0)\n",
      "Requirement already satisfied: tokenizers<0.22,>=0.21 in /home/vscode/.local/lib/python3.10/site-packages (from transformers->peft) (0.21.4)\n",
      "Note: you may need to restart the kernel to use updated packages.\n"
     ]
    }
   ],
   "source": [
    "# Install compatible versions - balance between too new and too old\n",
    "%pip install pillow pillow-avif-plugin openai \"diffusers==0.30.2\" \"huggingface_hub==0.24.6\" accelerate peft datasets dotenv rich tqdm ipywidgets"
   ]
  },
  {
   "cell_type": "code",
   "execution_count": 2,
   "id": "4465d137",
   "metadata": {},
   "outputs": [],
   "source": [
    "# Configure logging\n",
    "\n",
    "from rich.console import Console\n",
    "from rich.logging import RichHandler\n",
    "import logging\n",
    "\n",
    "console = Console()\n",
    "\n",
    "logging.basicConfig(\n",
    "    level=\"INFO\",\n",
    "    format=\"%(message)s\",\n",
    "    datefmt=\"[%X]\",\n",
    "    handlers=[RichHandler(console=console)]\n",
    ")\n",
    "log = logging.getLogger(\"rich\")"
   ]
  },
  {
   "cell_type": "code",
   "execution_count": 3,
   "id": "97059c52",
   "metadata": {},
   "outputs": [
    {
     "data": {
      "text/html": [
       "<pre style=\"white-space:pre;overflow-x:auto;line-height:normal;font-family:Menlo,'DejaVu Sans Mono',consolas,'Courier New',monospace\"><span style=\"color: #7fbfbf; text-decoration-color: #7fbfbf\">[08:31:01] </span><span style=\"color: #000080; text-decoration-color: #000080\">INFO    </span> Settings loaded.                                                               <a href=\"file:///tmp/ipykernel_16049/3235581259.py\" target=\"_blank\"><span style=\"color: #7f7f7f; text-decoration-color: #7f7f7f\">3235581259.py</span></a><span style=\"color: #7f7f7f; text-decoration-color: #7f7f7f\">:</span><a href=\"file:///tmp/ipykernel_16049/3235581259.py#38\" target=\"_blank\"><span style=\"color: #7f7f7f; text-decoration-color: #7f7f7f\">38</span></a>\n",
       "</pre>\n"
      ],
      "text/plain": [
       "\u001b[2;36m[08:31:01]\u001b[0m\u001b[2;36m \u001b[0m\u001b[34mINFO    \u001b[0m Settings loaded.                                                               \u001b]8;id=699387;file:///tmp/ipykernel_16049/3235581259.py\u001b\\\u001b[2m3235581259.py\u001b[0m\u001b]8;;\u001b\\\u001b[2m:\u001b[0m\u001b]8;id=639408;file:///tmp/ipykernel_16049/3235581259.py#38\u001b\\\u001b[2m38\u001b[0m\u001b]8;;\u001b\\\n"
      ]
     },
     "metadata": {},
     "output_type": "display_data"
    }
   ],
   "source": [
    "from pathlib import Path\n",
    "import json, os, re, shutil\n",
    "\n",
    "IMAGES_OLD_DIR = Path(\"./images-old\")\n",
    "IMAGES_NEW_DIR = Path(\"./images-new\")\n",
    "\n",
    "WORK_DIR = Path(\"./work\")\n",
    "CONVERTED_DIR = WORK_DIR / \"converted\"\n",
    "CONVERTED_OLD = CONVERTED_DIR / \"old\"\n",
    "CONVERTED_NEW = CONVERTED_DIR / \"new\"\n",
    "LABELS_DIR = WORK_DIR / \"labels\"\n",
    "DATASET_DIR = WORK_DIR / \"dataset\"\n",
    "LORA_OUTPUT_DIR = WORK_DIR / \"lora-weights\"\n",
    "\n",
    "for p in [WORK_DIR, CONVERTED_OLD, CONVERTED_NEW, LABELS_DIR, DATASET_DIR, LORA_OUTPUT_DIR]:\n",
    "    p.mkdir(parents=True, exist_ok=True)\n",
    "\n",
    "TARGET_EXT = \".jpg\"\n",
    "\n",
    "OPENAI_API_KEY = os.getenv(\"OPENAI_API_KEY\", \"YOUR_OPENAI_API_KEY_HERE\")\n",
    "OPENAI_MODEL = \"gpt-4o-mini\"\n",
    "\n",
    "LABEL_SCHEMA = [\n",
    "    \"perspective (e.g., top-down, eye-level, low-angle)\",\n",
    "    \"background (describe setting, simplicity vs clutter)\",\n",
    "    \"lighting (e.g., soft, harsh, high-key, low-key, golden-hour)\",\n",
    "    \"color palette (e.g., muted, vibrant, pastel, monochrome)\",\n",
    "    \"texture treatment (e.g., painterly, grainy, smooth)\",\n",
    "    \"composition (e.g., centered subject, rule of thirds, negative space)\",\n",
    "    \"mood (e.g., nostalgic, cheerful, moody, futuristic)\",\n",
    "]\n",
    "\n",
    "BASE_MODEL_ID = \"runwayml/stable-diffusion-v1-5\"\n",
    "USE_8BIT_ADAM = True\n",
    "MIXED_PRECISION = \"fp16\"\n",
    "SEED = 42\n",
    "\n",
    "log.info(\"Settings loaded.\")\n",
    "\n",
    "\n"
   ]
  },
  {
   "cell_type": "markdown",
   "id": "73ce2141",
   "metadata": {},
   "source": [
    "## Convert images to JPGs"
   ]
  },
  {
   "cell_type": "code",
   "execution_count": 4,
   "id": "569239b3",
   "metadata": {},
   "outputs": [
    {
     "data": {
      "application/vnd.jupyter.widget-view+json": {
       "model_id": "892ad46e5c66483e9b938fa3a7f30be5",
       "version_major": 2,
       "version_minor": 0
      },
      "text/plain": [
       "  0%|          | 0/16 [00:00<?, ?it/s]"
      ]
     },
     "metadata": {},
     "output_type": "display_data"
    },
    {
     "data": {
      "application/vnd.jupyter.widget-view+json": {
       "model_id": "4b4d159931b64621b33f95df105c9ece",
       "version_major": 2,
       "version_minor": 0
      },
      "text/plain": [
       "  0%|          | 0/31 [00:00<?, ?it/s]"
      ]
     },
     "metadata": {},
     "output_type": "display_data"
    },
    {
     "data": {
      "text/html": [
       "<pre style=\"white-space:pre;overflow-x:auto;line-height:normal;font-family:Menlo,'DejaVu Sans Mono',consolas,'Courier New',monospace\"><span style=\"color: #7fbfbf; text-decoration-color: #7fbfbf\">[08:31:03] </span><span style=\"color: #000080; text-decoration-color: #000080\">INFO    </span> Converted <span style=\"color: #008080; text-decoration-color: #008080; font-weight: bold\">16</span> old images and <span style=\"color: #008080; text-decoration-color: #008080; font-weight: bold\">31</span> new images to .jpg.                             <a href=\"file:///tmp/ipykernel_16049/1464447316.py\" target=\"_blank\"><span style=\"color: #7f7f7f; text-decoration-color: #7f7f7f\">1464447316.py</span></a><span style=\"color: #7f7f7f; text-decoration-color: #7f7f7f\">:</span><a href=\"file:///tmp/ipykernel_16049/1464447316.py#28\" target=\"_blank\"><span style=\"color: #7f7f7f; text-decoration-color: #7f7f7f\">28</span></a>\n",
       "</pre>\n"
      ],
      "text/plain": [
       "\u001b[2;36m[08:31:03]\u001b[0m\u001b[2;36m \u001b[0m\u001b[34mINFO    \u001b[0m Converted \u001b[1;36m16\u001b[0m old images and \u001b[1;36m31\u001b[0m new images to .jpg.                             \u001b]8;id=853053;file:///tmp/ipykernel_16049/1464447316.py\u001b\\\u001b[2m1464447316.py\u001b[0m\u001b]8;;\u001b\\\u001b[2m:\u001b[0m\u001b]8;id=615077;file:///tmp/ipykernel_16049/1464447316.py#28\u001b\\\u001b[2m28\u001b[0m\u001b]8;;\u001b\\\n"
      ]
     },
     "metadata": {},
     "output_type": "display_data"
    }
   ],
   "source": [
    "from PIL import Image\n",
    "from tqdm.notebook import tqdm\n",
    "\n",
    "def convert_folder(src: Path, dst: Path, target_ext: str = \".jpg\"):\n",
    "    count = 0\n",
    "    for p in tqdm(sorted(src.rglob(\"*\"))):\n",
    "        if p.is_dir() or p.name.startswith(\".\"):\n",
    "            continue\n",
    "        if p.suffix.lower() not in [\".jpg\", \".jpeg\", \".png\", \".avif\", \".webp\"]:\n",
    "            # skip non-image files explicitly\n",
    "            continue\n",
    "        try:\n",
    "            with Image.open(p) as im:\n",
    "                im = im.convert(\"RGB\")  # unify colorspace\n",
    "                out_path = dst / (p.stem + target_ext)\n",
    "                out_path.parent.mkdir(parents=True, exist_ok=True)\n",
    "                if target_ext.lower() == \".jpg\":                    \n",
    "                    im.save(out_path, format=\"JPEG\", quality=95, optimize=True)\n",
    "                else:\n",
    "                    im.save(out_path)\n",
    "                count += 1\n",
    "        except Exception as e:\n",
    "            print(f\"⚠️ Failed to convert {p}: {e}\")\n",
    "    return count\n",
    "\n",
    "n_old = convert_folder(IMAGES_OLD_DIR, CONVERTED_OLD, TARGET_EXT)\n",
    "n_new = convert_folder(IMAGES_NEW_DIR, CONVERTED_NEW, TARGET_EXT)\n",
    "log.info(f\"Converted {n_old} old images and {n_new} new images to {TARGET_EXT}.\")\n",
    "\n"
   ]
  },
  {
   "cell_type": "markdown",
   "id": "0362992b",
   "metadata": {},
   "source": [
    "# Image labelling"
   ]
  },
  {
   "cell_type": "code",
   "execution_count": 5,
   "id": "2ac808dc",
   "metadata": {},
   "outputs": [
    {
     "name": "stdout",
     "output_type": "stream",
     "text": [
      "Labeling images via Azure OpenAI...\n"
     ]
    },
    {
     "data": {
      "application/vnd.jupyter.widget-view+json": {
       "model_id": "51ca5905294c4168999e288a8077f485",
       "version_major": 2,
       "version_minor": 0
      },
      "text/plain": [
       "  0%|          | 0/31 [00:00<?, ?it/s]"
      ]
     },
     "metadata": {},
     "output_type": "display_data"
    },
    {
     "data": {
      "text/html": [
       "<pre style=\"white-space:pre;overflow-x:auto;line-height:normal;font-family:Menlo,'DejaVu Sans Mono',consolas,'Courier New',monospace\"><span style=\"color: #7fbfbf; text-decoration-color: #7fbfbf\">           </span><span style=\"color: #000080; text-decoration-color: #000080\">INFO    </span> ⏭️ Skipping ananassalsa-met-kiwi-jalapeno-en-koriander.jpg <span style=\"font-weight: bold\">(</span>already labeled<span style=\"font-weight: bold\">)</span>    <a href=\"file:///tmp/ipykernel_16049/412114492.py\" target=\"_blank\"><span style=\"color: #7f7f7f; text-decoration-color: #7f7f7f\">412114492.py</span></a><span style=\"color: #7f7f7f; text-decoration-color: #7f7f7f\">:</span><a href=\"file:///tmp/ipykernel_16049/412114492.py#107\" target=\"_blank\"><span style=\"color: #7f7f7f; text-decoration-color: #7f7f7f\">107</span></a>\n",
       "</pre>\n"
      ],
      "text/plain": [
       "\u001b[2;36m          \u001b[0m\u001b[2;36m \u001b[0m\u001b[34mINFO    \u001b[0m ⏭️ Skipping ananassalsa-met-kiwi-jalapeno-en-koriander.jpg \u001b[1m(\u001b[0malready labeled\u001b[1m)\u001b[0m    \u001b]8;id=405477;file:///tmp/ipykernel_16049/412114492.py\u001b\\\u001b[2m412114492.py\u001b[0m\u001b]8;;\u001b\\\u001b[2m:\u001b[0m\u001b]8;id=810207;file:///tmp/ipykernel_16049/412114492.py#107\u001b\\\u001b[2m107\u001b[0m\u001b]8;;\u001b\\\n"
      ]
     },
     "metadata": {},
     "output_type": "display_data"
    },
    {
     "data": {
      "text/html": [
       "<pre style=\"white-space:pre;overflow-x:auto;line-height:normal;font-family:Menlo,'DejaVu Sans Mono',consolas,'Courier New',monospace\"><span style=\"color: #7fbfbf; text-decoration-color: #7fbfbf\">           </span><span style=\"color: #000080; text-decoration-color: #000080\">INFO    </span> ⏭️ Skipping andijviestamp-met-gerookte-kip-en-zongedroogde-tomaat.jpg <span style=\"font-weight: bold\">(</span>already  <a href=\"file:///tmp/ipykernel_16049/412114492.py\" target=\"_blank\"><span style=\"color: #7f7f7f; text-decoration-color: #7f7f7f\">412114492.py</span></a><span style=\"color: #7f7f7f; text-decoration-color: #7f7f7f\">:</span><a href=\"file:///tmp/ipykernel_16049/412114492.py#107\" target=\"_blank\"><span style=\"color: #7f7f7f; text-decoration-color: #7f7f7f\">107</span></a>\n",
       "<span style=\"color: #7fbfbf; text-decoration-color: #7fbfbf\">           </span>         labeled<span style=\"font-weight: bold\">)</span>                                                                       <span style=\"color: #7f7f7f; text-decoration-color: #7f7f7f\">                </span>\n",
       "</pre>\n"
      ],
      "text/plain": [
       "\u001b[2;36m          \u001b[0m\u001b[2;36m \u001b[0m\u001b[34mINFO    \u001b[0m ⏭️ Skipping andijviestamp-met-gerookte-kip-en-zongedroogde-tomaat.jpg \u001b[1m(\u001b[0malready  \u001b]8;id=634248;file:///tmp/ipykernel_16049/412114492.py\u001b\\\u001b[2m412114492.py\u001b[0m\u001b]8;;\u001b\\\u001b[2m:\u001b[0m\u001b]8;id=129706;file:///tmp/ipykernel_16049/412114492.py#107\u001b\\\u001b[2m107\u001b[0m\u001b]8;;\u001b\\\n",
       "\u001b[2;36m           \u001b[0m         labeled\u001b[1m)\u001b[0m                                                                       \u001b[2m                \u001b[0m\n"
      ]
     },
     "metadata": {},
     "output_type": "display_data"
    },
    {
     "data": {
      "text/html": [
       "<pre style=\"white-space:pre;overflow-x:auto;line-height:normal;font-family:Menlo,'DejaVu Sans Mono',consolas,'Courier New',monospace\"><span style=\"color: #7fbfbf; text-decoration-color: #7fbfbf\">           </span><span style=\"color: #000080; text-decoration-color: #000080\">INFO    </span> ⏭️ Skipping bananenbrood-choco-kokostopping-van-giorgias-kitchen.jpg <span style=\"font-weight: bold\">(</span>already   <a href=\"file:///tmp/ipykernel_16049/412114492.py\" target=\"_blank\"><span style=\"color: #7f7f7f; text-decoration-color: #7f7f7f\">412114492.py</span></a><span style=\"color: #7f7f7f; text-decoration-color: #7f7f7f\">:</span><a href=\"file:///tmp/ipykernel_16049/412114492.py#107\" target=\"_blank\"><span style=\"color: #7f7f7f; text-decoration-color: #7f7f7f\">107</span></a>\n",
       "<span style=\"color: #7fbfbf; text-decoration-color: #7fbfbf\">           </span>         labeled<span style=\"font-weight: bold\">)</span>                                                                       <span style=\"color: #7f7f7f; text-decoration-color: #7f7f7f\">                </span>\n",
       "</pre>\n"
      ],
      "text/plain": [
       "\u001b[2;36m          \u001b[0m\u001b[2;36m \u001b[0m\u001b[34mINFO    \u001b[0m ⏭️ Skipping bananenbrood-choco-kokostopping-van-giorgias-kitchen.jpg \u001b[1m(\u001b[0malready   \u001b]8;id=326438;file:///tmp/ipykernel_16049/412114492.py\u001b\\\u001b[2m412114492.py\u001b[0m\u001b]8;;\u001b\\\u001b[2m:\u001b[0m\u001b]8;id=533091;file:///tmp/ipykernel_16049/412114492.py#107\u001b\\\u001b[2m107\u001b[0m\u001b]8;;\u001b\\\n",
       "\u001b[2;36m           \u001b[0m         labeled\u001b[1m)\u001b[0m                                                                       \u001b[2m                \u001b[0m\n"
      ]
     },
     "metadata": {},
     "output_type": "display_data"
    },
    {
     "data": {
      "text/html": [
       "<pre style=\"white-space:pre;overflow-x:auto;line-height:normal;font-family:Menlo,'DejaVu Sans Mono',consolas,'Courier New',monospace\"><span style=\"color: #7fbfbf; text-decoration-color: #7fbfbf\">           </span><span style=\"color: #000080; text-decoration-color: #000080\">INFO    </span> ⏭️ Skipping belegde-maiswafels-van-giorgias-kitchen.jpg <span style=\"font-weight: bold\">(</span>already labeled<span style=\"font-weight: bold\">)</span>       <a href=\"file:///tmp/ipykernel_16049/412114492.py\" target=\"_blank\"><span style=\"color: #7f7f7f; text-decoration-color: #7f7f7f\">412114492.py</span></a><span style=\"color: #7f7f7f; text-decoration-color: #7f7f7f\">:</span><a href=\"file:///tmp/ipykernel_16049/412114492.py#107\" target=\"_blank\"><span style=\"color: #7f7f7f; text-decoration-color: #7f7f7f\">107</span></a>\n",
       "</pre>\n"
      ],
      "text/plain": [
       "\u001b[2;36m          \u001b[0m\u001b[2;36m \u001b[0m\u001b[34mINFO    \u001b[0m ⏭️ Skipping belegde-maiswafels-van-giorgias-kitchen.jpg \u001b[1m(\u001b[0malready labeled\u001b[1m)\u001b[0m       \u001b]8;id=233576;file:///tmp/ipykernel_16049/412114492.py\u001b\\\u001b[2m412114492.py\u001b[0m\u001b]8;;\u001b\\\u001b[2m:\u001b[0m\u001b]8;id=404432;file:///tmp/ipykernel_16049/412114492.py#107\u001b\\\u001b[2m107\u001b[0m\u001b]8;;\u001b\\\n"
      ]
     },
     "metadata": {},
     "output_type": "display_data"
    },
    {
     "data": {
      "text/html": [
       "<pre style=\"white-space:pre;overflow-x:auto;line-height:normal;font-family:Menlo,'DejaVu Sans Mono',consolas,'Courier New',monospace\"><span style=\"color: #7fbfbf; text-decoration-color: #7fbfbf\">           </span><span style=\"color: #000080; text-decoration-color: #000080\">INFO    </span> ⏭️ Skipping citrusdip.jpg <span style=\"font-weight: bold\">(</span>already labeled<span style=\"font-weight: bold\">)</span>                                     <a href=\"file:///tmp/ipykernel_16049/412114492.py\" target=\"_blank\"><span style=\"color: #7f7f7f; text-decoration-color: #7f7f7f\">412114492.py</span></a><span style=\"color: #7f7f7f; text-decoration-color: #7f7f7f\">:</span><a href=\"file:///tmp/ipykernel_16049/412114492.py#107\" target=\"_blank\"><span style=\"color: #7f7f7f; text-decoration-color: #7f7f7f\">107</span></a>\n",
       "</pre>\n"
      ],
      "text/plain": [
       "\u001b[2;36m          \u001b[0m\u001b[2;36m \u001b[0m\u001b[34mINFO    \u001b[0m ⏭️ Skipping citrusdip.jpg \u001b[1m(\u001b[0malready labeled\u001b[1m)\u001b[0m                                     \u001b]8;id=743129;file:///tmp/ipykernel_16049/412114492.py\u001b\\\u001b[2m412114492.py\u001b[0m\u001b]8;;\u001b\\\u001b[2m:\u001b[0m\u001b]8;id=26551;file:///tmp/ipykernel_16049/412114492.py#107\u001b\\\u001b[2m107\u001b[0m\u001b]8;;\u001b\\\n"
      ]
     },
     "metadata": {},
     "output_type": "display_data"
    },
    {
     "data": {
      "text/html": [
       "<pre style=\"white-space:pre;overflow-x:auto;line-height:normal;font-family:Menlo,'DejaVu Sans Mono',consolas,'Courier New',monospace\"><span style=\"color: #7fbfbf; text-decoration-color: #7fbfbf\">           </span><span style=\"color: #000080; text-decoration-color: #000080\">INFO    </span> ⏭️ Skipping cottage-cheese-chips-met-zalm-en-komkommer.jpg <span style=\"font-weight: bold\">(</span>already labeled<span style=\"font-weight: bold\">)</span>    <a href=\"file:///tmp/ipykernel_16049/412114492.py\" target=\"_blank\"><span style=\"color: #7f7f7f; text-decoration-color: #7f7f7f\">412114492.py</span></a><span style=\"color: #7f7f7f; text-decoration-color: #7f7f7f\">:</span><a href=\"file:///tmp/ipykernel_16049/412114492.py#107\" target=\"_blank\"><span style=\"color: #7f7f7f; text-decoration-color: #7f7f7f\">107</span></a>\n",
       "</pre>\n"
      ],
      "text/plain": [
       "\u001b[2;36m          \u001b[0m\u001b[2;36m \u001b[0m\u001b[34mINFO    \u001b[0m ⏭️ Skipping cottage-cheese-chips-met-zalm-en-komkommer.jpg \u001b[1m(\u001b[0malready labeled\u001b[1m)\u001b[0m    \u001b]8;id=185699;file:///tmp/ipykernel_16049/412114492.py\u001b\\\u001b[2m412114492.py\u001b[0m\u001b]8;;\u001b\\\u001b[2m:\u001b[0m\u001b]8;id=344525;file:///tmp/ipykernel_16049/412114492.py#107\u001b\\\u001b[2m107\u001b[0m\u001b]8;;\u001b\\\n"
      ]
     },
     "metadata": {},
     "output_type": "display_data"
    },
    {
     "data": {
      "text/html": [
       "<pre style=\"white-space:pre;overflow-x:auto;line-height:normal;font-family:Menlo,'DejaVu Sans Mono',consolas,'Courier New',monospace\"><span style=\"color: #7fbfbf; text-decoration-color: #7fbfbf\">           </span><span style=\"color: #000080; text-decoration-color: #000080\">INFO    </span> ⏭️ Skipping garnalenburger-uit-de-airfryer-met-coleslaw.jpg <span style=\"font-weight: bold\">(</span>already labeled<span style=\"font-weight: bold\">)</span>   <a href=\"file:///tmp/ipykernel_16049/412114492.py\" target=\"_blank\"><span style=\"color: #7f7f7f; text-decoration-color: #7f7f7f\">412114492.py</span></a><span style=\"color: #7f7f7f; text-decoration-color: #7f7f7f\">:</span><a href=\"file:///tmp/ipykernel_16049/412114492.py#107\" target=\"_blank\"><span style=\"color: #7f7f7f; text-decoration-color: #7f7f7f\">107</span></a>\n",
       "</pre>\n"
      ],
      "text/plain": [
       "\u001b[2;36m          \u001b[0m\u001b[2;36m \u001b[0m\u001b[34mINFO    \u001b[0m ⏭️ Skipping garnalenburger-uit-de-airfryer-met-coleslaw.jpg \u001b[1m(\u001b[0malready labeled\u001b[1m)\u001b[0m   \u001b]8;id=941228;file:///tmp/ipykernel_16049/412114492.py\u001b\\\u001b[2m412114492.py\u001b[0m\u001b]8;;\u001b\\\u001b[2m:\u001b[0m\u001b]8;id=995539;file:///tmp/ipykernel_16049/412114492.py#107\u001b\\\u001b[2m107\u001b[0m\u001b]8;;\u001b\\\n"
      ]
     },
     "metadata": {},
     "output_type": "display_data"
    },
    {
     "data": {
      "text/html": [
       "<pre style=\"white-space:pre;overflow-x:auto;line-height:normal;font-family:Menlo,'DejaVu Sans Mono',consolas,'Courier New',monospace\"><span style=\"color: #7fbfbf; text-decoration-color: #7fbfbf\">           </span><span style=\"color: #000080; text-decoration-color: #000080\">INFO    </span> ⏭️ Skipping gekruide-tartaar-met-aardappel-en-broccoli.jpg <span style=\"font-weight: bold\">(</span>already labeled<span style=\"font-weight: bold\">)</span>    <a href=\"file:///tmp/ipykernel_16049/412114492.py\" target=\"_blank\"><span style=\"color: #7f7f7f; text-decoration-color: #7f7f7f\">412114492.py</span></a><span style=\"color: #7f7f7f; text-decoration-color: #7f7f7f\">:</span><a href=\"file:///tmp/ipykernel_16049/412114492.py#107\" target=\"_blank\"><span style=\"color: #7f7f7f; text-decoration-color: #7f7f7f\">107</span></a>\n",
       "</pre>\n"
      ],
      "text/plain": [
       "\u001b[2;36m          \u001b[0m\u001b[2;36m \u001b[0m\u001b[34mINFO    \u001b[0m ⏭️ Skipping gekruide-tartaar-met-aardappel-en-broccoli.jpg \u001b[1m(\u001b[0malready labeled\u001b[1m)\u001b[0m    \u001b]8;id=354779;file:///tmp/ipykernel_16049/412114492.py\u001b\\\u001b[2m412114492.py\u001b[0m\u001b]8;;\u001b\\\u001b[2m:\u001b[0m\u001b]8;id=57223;file:///tmp/ipykernel_16049/412114492.py#107\u001b\\\u001b[2m107\u001b[0m\u001b]8;;\u001b\\\n"
      ]
     },
     "metadata": {},
     "output_type": "display_data"
    },
    {
     "data": {
      "text/html": [
       "<pre style=\"white-space:pre;overflow-x:auto;line-height:normal;font-family:Menlo,'DejaVu Sans Mono',consolas,'Courier New',monospace\"><span style=\"color: #7fbfbf; text-decoration-color: #7fbfbf\">           </span><span style=\"color: #000080; text-decoration-color: #000080\">INFO    </span> ⏭️ Skipping geraspte-tomatensalsa-met-rode-ui-en-peterselie.jpg <span style=\"font-weight: bold\">(</span>already        <a href=\"file:///tmp/ipykernel_16049/412114492.py\" target=\"_blank\"><span style=\"color: #7f7f7f; text-decoration-color: #7f7f7f\">412114492.py</span></a><span style=\"color: #7f7f7f; text-decoration-color: #7f7f7f\">:</span><a href=\"file:///tmp/ipykernel_16049/412114492.py#107\" target=\"_blank\"><span style=\"color: #7f7f7f; text-decoration-color: #7f7f7f\">107</span></a>\n",
       "<span style=\"color: #7fbfbf; text-decoration-color: #7fbfbf\">           </span>         labeled<span style=\"font-weight: bold\">)</span>                                                                       <span style=\"color: #7f7f7f; text-decoration-color: #7f7f7f\">                </span>\n",
       "</pre>\n"
      ],
      "text/plain": [
       "\u001b[2;36m          \u001b[0m\u001b[2;36m \u001b[0m\u001b[34mINFO    \u001b[0m ⏭️ Skipping geraspte-tomatensalsa-met-rode-ui-en-peterselie.jpg \u001b[1m(\u001b[0malready        \u001b]8;id=185935;file:///tmp/ipykernel_16049/412114492.py\u001b\\\u001b[2m412114492.py\u001b[0m\u001b]8;;\u001b\\\u001b[2m:\u001b[0m\u001b]8;id=857528;file:///tmp/ipykernel_16049/412114492.py#107\u001b\\\u001b[2m107\u001b[0m\u001b]8;;\u001b\\\n",
       "\u001b[2;36m           \u001b[0m         labeled\u001b[1m)\u001b[0m                                                                       \u001b[2m                \u001b[0m\n"
      ]
     },
     "metadata": {},
     "output_type": "display_data"
    },
    {
     "data": {
      "text/html": [
       "<pre style=\"white-space:pre;overflow-x:auto;line-height:normal;font-family:Menlo,'DejaVu Sans Mono',consolas,'Courier New',monospace\"><span style=\"color: #7fbfbf; text-decoration-color: #7fbfbf\">           </span><span style=\"color: #000080; text-decoration-color: #000080\">INFO    </span> ⏭️ Skipping gezonde-<span style=\"color: #008080; text-decoration-color: #008080; font-weight: bold\">4</span>-kazentosti-met-rode-ui.jpg <span style=\"font-weight: bold\">(</span>already labeled<span style=\"font-weight: bold\">)</span>              <a href=\"file:///tmp/ipykernel_16049/412114492.py\" target=\"_blank\"><span style=\"color: #7f7f7f; text-decoration-color: #7f7f7f\">412114492.py</span></a><span style=\"color: #7f7f7f; text-decoration-color: #7f7f7f\">:</span><a href=\"file:///tmp/ipykernel_16049/412114492.py#107\" target=\"_blank\"><span style=\"color: #7f7f7f; text-decoration-color: #7f7f7f\">107</span></a>\n",
       "</pre>\n"
      ],
      "text/plain": [
       "\u001b[2;36m          \u001b[0m\u001b[2;36m \u001b[0m\u001b[34mINFO    \u001b[0m ⏭️ Skipping gezonde-\u001b[1;36m4\u001b[0m-kazentosti-met-rode-ui.jpg \u001b[1m(\u001b[0malready labeled\u001b[1m)\u001b[0m              \u001b]8;id=436720;file:///tmp/ipykernel_16049/412114492.py\u001b\\\u001b[2m412114492.py\u001b[0m\u001b]8;;\u001b\\\u001b[2m:\u001b[0m\u001b]8;id=721681;file:///tmp/ipykernel_16049/412114492.py#107\u001b\\\u001b[2m107\u001b[0m\u001b]8;;\u001b\\\n"
      ]
     },
     "metadata": {},
     "output_type": "display_data"
    },
    {
     "data": {
      "text/html": [
       "<pre style=\"white-space:pre;overflow-x:auto;line-height:normal;font-family:Menlo,'DejaVu Sans Mono',consolas,'Courier New',monospace\"><span style=\"color: #7fbfbf; text-decoration-color: #7fbfbf\">           </span><span style=\"color: #000080; text-decoration-color: #000080\">INFO    </span> ⏭️ Skipping gezonde-burritos-met-kip-bonen-en-tomatenrijst.jpg <span style=\"font-weight: bold\">(</span>already         <a href=\"file:///tmp/ipykernel_16049/412114492.py\" target=\"_blank\"><span style=\"color: #7f7f7f; text-decoration-color: #7f7f7f\">412114492.py</span></a><span style=\"color: #7f7f7f; text-decoration-color: #7f7f7f\">:</span><a href=\"file:///tmp/ipykernel_16049/412114492.py#107\" target=\"_blank\"><span style=\"color: #7f7f7f; text-decoration-color: #7f7f7f\">107</span></a>\n",
       "<span style=\"color: #7fbfbf; text-decoration-color: #7fbfbf\">           </span>         labeled<span style=\"font-weight: bold\">)</span>                                                                       <span style=\"color: #7f7f7f; text-decoration-color: #7f7f7f\">                </span>\n",
       "</pre>\n"
      ],
      "text/plain": [
       "\u001b[2;36m          \u001b[0m\u001b[2;36m \u001b[0m\u001b[34mINFO    \u001b[0m ⏭️ Skipping gezonde-burritos-met-kip-bonen-en-tomatenrijst.jpg \u001b[1m(\u001b[0malready         \u001b]8;id=564142;file:///tmp/ipykernel_16049/412114492.py\u001b\\\u001b[2m412114492.py\u001b[0m\u001b]8;;\u001b\\\u001b[2m:\u001b[0m\u001b]8;id=980710;file:///tmp/ipykernel_16049/412114492.py#107\u001b\\\u001b[2m107\u001b[0m\u001b]8;;\u001b\\\n",
       "\u001b[2;36m           \u001b[0m         labeled\u001b[1m)\u001b[0m                                                                       \u001b[2m                \u001b[0m\n"
      ]
     },
     "metadata": {},
     "output_type": "display_data"
    },
    {
     "data": {
      "text/html": [
       "<pre style=\"white-space:pre;overflow-x:auto;line-height:normal;font-family:Menlo,'DejaVu Sans Mono',consolas,'Courier New',monospace\"><span style=\"color: #7fbfbf; text-decoration-color: #7fbfbf\">           </span><span style=\"color: #000080; text-decoration-color: #000080\">INFO    </span> ⏭️ Skipping gnocchi-en-meatballs.jpg <span style=\"font-weight: bold\">(</span>already labeled<span style=\"font-weight: bold\">)</span>                          <a href=\"file:///tmp/ipykernel_16049/412114492.py\" target=\"_blank\"><span style=\"color: #7f7f7f; text-decoration-color: #7f7f7f\">412114492.py</span></a><span style=\"color: #7f7f7f; text-decoration-color: #7f7f7f\">:</span><a href=\"file:///tmp/ipykernel_16049/412114492.py#107\" target=\"_blank\"><span style=\"color: #7f7f7f; text-decoration-color: #7f7f7f\">107</span></a>\n",
       "</pre>\n"
      ],
      "text/plain": [
       "\u001b[2;36m          \u001b[0m\u001b[2;36m \u001b[0m\u001b[34mINFO    \u001b[0m ⏭️ Skipping gnocchi-en-meatballs.jpg \u001b[1m(\u001b[0malready labeled\u001b[1m)\u001b[0m                          \u001b]8;id=295663;file:///tmp/ipykernel_16049/412114492.py\u001b\\\u001b[2m412114492.py\u001b[0m\u001b]8;;\u001b\\\u001b[2m:\u001b[0m\u001b]8;id=865889;file:///tmp/ipykernel_16049/412114492.py#107\u001b\\\u001b[2m107\u001b[0m\u001b]8;;\u001b\\\n"
      ]
     },
     "metadata": {},
     "output_type": "display_data"
    },
    {
     "data": {
      "text/html": [
       "<pre style=\"white-space:pre;overflow-x:auto;line-height:normal;font-family:Menlo,'DejaVu Sans Mono',consolas,'Courier New',monospace\"><span style=\"color: #7fbfbf; text-decoration-color: #7fbfbf\">           </span><span style=\"color: #000080; text-decoration-color: #000080\">INFO    </span> ⏭️ Skipping groene-kruidendip.jpg <span style=\"font-weight: bold\">(</span>already labeled<span style=\"font-weight: bold\">)</span>                             <a href=\"file:///tmp/ipykernel_16049/412114492.py\" target=\"_blank\"><span style=\"color: #7f7f7f; text-decoration-color: #7f7f7f\">412114492.py</span></a><span style=\"color: #7f7f7f; text-decoration-color: #7f7f7f\">:</span><a href=\"file:///tmp/ipykernel_16049/412114492.py#107\" target=\"_blank\"><span style=\"color: #7f7f7f; text-decoration-color: #7f7f7f\">107</span></a>\n",
       "</pre>\n"
      ],
      "text/plain": [
       "\u001b[2;36m          \u001b[0m\u001b[2;36m \u001b[0m\u001b[34mINFO    \u001b[0m ⏭️ Skipping groene-kruidendip.jpg \u001b[1m(\u001b[0malready labeled\u001b[1m)\u001b[0m                             \u001b]8;id=194860;file:///tmp/ipykernel_16049/412114492.py\u001b\\\u001b[2m412114492.py\u001b[0m\u001b]8;;\u001b\\\u001b[2m:\u001b[0m\u001b]8;id=221128;file:///tmp/ipykernel_16049/412114492.py#107\u001b\\\u001b[2m107\u001b[0m\u001b]8;;\u001b\\\n"
      ]
     },
     "metadata": {},
     "output_type": "display_data"
    },
    {
     "data": {
      "text/html": [
       "<pre style=\"white-space:pre;overflow-x:auto;line-height:normal;font-family:Menlo,'DejaVu Sans Mono',consolas,'Courier New',monospace\"><span style=\"color: #7fbfbf; text-decoration-color: #7fbfbf\">           </span><span style=\"color: #000080; text-decoration-color: #000080\">INFO    </span> ⏭️ Skipping groente-kipnuggets-uit-de-airfryer.jpg <span style=\"font-weight: bold\">(</span>already labeled<span style=\"font-weight: bold\">)</span>            <a href=\"file:///tmp/ipykernel_16049/412114492.py\" target=\"_blank\"><span style=\"color: #7f7f7f; text-decoration-color: #7f7f7f\">412114492.py</span></a><span style=\"color: #7f7f7f; text-decoration-color: #7f7f7f\">:</span><a href=\"file:///tmp/ipykernel_16049/412114492.py#107\" target=\"_blank\"><span style=\"color: #7f7f7f; text-decoration-color: #7f7f7f\">107</span></a>\n",
       "</pre>\n"
      ],
      "text/plain": [
       "\u001b[2;36m          \u001b[0m\u001b[2;36m \u001b[0m\u001b[34mINFO    \u001b[0m ⏭️ Skipping groente-kipnuggets-uit-de-airfryer.jpg \u001b[1m(\u001b[0malready labeled\u001b[1m)\u001b[0m            \u001b]8;id=290071;file:///tmp/ipykernel_16049/412114492.py\u001b\\\u001b[2m412114492.py\u001b[0m\u001b]8;;\u001b\\\u001b[2m:\u001b[0m\u001b]8;id=983753;file:///tmp/ipykernel_16049/412114492.py#107\u001b\\\u001b[2m107\u001b[0m\u001b]8;;\u001b\\\n"
      ]
     },
     "metadata": {},
     "output_type": "display_data"
    },
    {
     "data": {
      "text/html": [
       "<pre style=\"white-space:pre;overflow-x:auto;line-height:normal;font-family:Menlo,'DejaVu Sans Mono',consolas,'Courier New',monospace\"><span style=\"color: #7fbfbf; text-decoration-color: #7fbfbf\">           </span><span style=\"color: #000080; text-decoration-color: #000080\">INFO    </span> ⏭️ Skipping havermoutcrumble-met-frambozen-en-custard.jpg <span style=\"font-weight: bold\">(</span>already labeled<span style=\"font-weight: bold\">)</span>     <a href=\"file:///tmp/ipykernel_16049/412114492.py\" target=\"_blank\"><span style=\"color: #7f7f7f; text-decoration-color: #7f7f7f\">412114492.py</span></a><span style=\"color: #7f7f7f; text-decoration-color: #7f7f7f\">:</span><a href=\"file:///tmp/ipykernel_16049/412114492.py#107\" target=\"_blank\"><span style=\"color: #7f7f7f; text-decoration-color: #7f7f7f\">107</span></a>\n",
       "</pre>\n"
      ],
      "text/plain": [
       "\u001b[2;36m          \u001b[0m\u001b[2;36m \u001b[0m\u001b[34mINFO    \u001b[0m ⏭️ Skipping havermoutcrumble-met-frambozen-en-custard.jpg \u001b[1m(\u001b[0malready labeled\u001b[1m)\u001b[0m     \u001b]8;id=508598;file:///tmp/ipykernel_16049/412114492.py\u001b\\\u001b[2m412114492.py\u001b[0m\u001b]8;;\u001b\\\u001b[2m:\u001b[0m\u001b]8;id=187750;file:///tmp/ipykernel_16049/412114492.py#107\u001b\\\u001b[2m107\u001b[0m\u001b]8;;\u001b\\\n"
      ]
     },
     "metadata": {},
     "output_type": "display_data"
    },
    {
     "data": {
      "text/html": [
       "<pre style=\"white-space:pre;overflow-x:auto;line-height:normal;font-family:Menlo,'DejaVu Sans Mono',consolas,'Courier New',monospace\"><span style=\"color: #7fbfbf; text-decoration-color: #7fbfbf\">           </span><span style=\"color: #000080; text-decoration-color: #000080\">INFO    </span> ⏭️ Skipping kabeljauw-met-notencrunch-en-venkel.jpg <span style=\"font-weight: bold\">(</span>already labeled<span style=\"font-weight: bold\">)</span>           <a href=\"file:///tmp/ipykernel_16049/412114492.py\" target=\"_blank\"><span style=\"color: #7f7f7f; text-decoration-color: #7f7f7f\">412114492.py</span></a><span style=\"color: #7f7f7f; text-decoration-color: #7f7f7f\">:</span><a href=\"file:///tmp/ipykernel_16049/412114492.py#107\" target=\"_blank\"><span style=\"color: #7f7f7f; text-decoration-color: #7f7f7f\">107</span></a>\n",
       "</pre>\n"
      ],
      "text/plain": [
       "\u001b[2;36m          \u001b[0m\u001b[2;36m \u001b[0m\u001b[34mINFO    \u001b[0m ⏭️ Skipping kabeljauw-met-notencrunch-en-venkel.jpg \u001b[1m(\u001b[0malready labeled\u001b[1m)\u001b[0m           \u001b]8;id=170011;file:///tmp/ipykernel_16049/412114492.py\u001b\\\u001b[2m412114492.py\u001b[0m\u001b]8;;\u001b\\\u001b[2m:\u001b[0m\u001b]8;id=903654;file:///tmp/ipykernel_16049/412114492.py#107\u001b\\\u001b[2m107\u001b[0m\u001b]8;;\u001b\\\n"
      ]
     },
     "metadata": {},
     "output_type": "display_data"
    },
    {
     "data": {
      "text/html": [
       "<pre style=\"white-space:pre;overflow-x:auto;line-height:normal;font-family:Menlo,'DejaVu Sans Mono',consolas,'Courier New',monospace\"><span style=\"color: #7fbfbf; text-decoration-color: #7fbfbf\">           </span><span style=\"color: #000080; text-decoration-color: #000080\">INFO    </span> ⏭️ Skipping lunchwraps-gerookte-kip-en-komkommer-van-giorgias-kitchen.jpg       <a href=\"file:///tmp/ipykernel_16049/412114492.py\" target=\"_blank\"><span style=\"color: #7f7f7f; text-decoration-color: #7f7f7f\">412114492.py</span></a><span style=\"color: #7f7f7f; text-decoration-color: #7f7f7f\">:</span><a href=\"file:///tmp/ipykernel_16049/412114492.py#107\" target=\"_blank\"><span style=\"color: #7f7f7f; text-decoration-color: #7f7f7f\">107</span></a>\n",
       "<span style=\"color: #7fbfbf; text-decoration-color: #7fbfbf\">           </span>         <span style=\"font-weight: bold\">(</span>already labeled<span style=\"font-weight: bold\">)</span>                                                              <span style=\"color: #7f7f7f; text-decoration-color: #7f7f7f\">                </span>\n",
       "</pre>\n"
      ],
      "text/plain": [
       "\u001b[2;36m          \u001b[0m\u001b[2;36m \u001b[0m\u001b[34mINFO    \u001b[0m ⏭️ Skipping lunchwraps-gerookte-kip-en-komkommer-van-giorgias-kitchen.jpg       \u001b]8;id=219699;file:///tmp/ipykernel_16049/412114492.py\u001b\\\u001b[2m412114492.py\u001b[0m\u001b]8;;\u001b\\\u001b[2m:\u001b[0m\u001b]8;id=589682;file:///tmp/ipykernel_16049/412114492.py#107\u001b\\\u001b[2m107\u001b[0m\u001b]8;;\u001b\\\n",
       "\u001b[2;36m           \u001b[0m         \u001b[1m(\u001b[0malready labeled\u001b[1m)\u001b[0m                                                              \u001b[2m                \u001b[0m\n"
      ]
     },
     "metadata": {},
     "output_type": "display_data"
    },
    {
     "data": {
      "text/html": [
       "<pre style=\"white-space:pre;overflow-x:auto;line-height:normal;font-family:Menlo,'DejaVu Sans Mono',consolas,'Courier New',monospace\"><span style=\"color: #7fbfbf; text-decoration-color: #7fbfbf\">           </span><span style=\"color: #000080; text-decoration-color: #000080\">INFO    </span> ⏭️ Skipping ovenquesadillas-met-kipgehakt-en-komkommersla.jpg <span style=\"font-weight: bold\">(</span>already labeled<span style=\"font-weight: bold\">)</span> <a href=\"file:///tmp/ipykernel_16049/412114492.py\" target=\"_blank\"><span style=\"color: #7f7f7f; text-decoration-color: #7f7f7f\">412114492.py</span></a><span style=\"color: #7f7f7f; text-decoration-color: #7f7f7f\">:</span><a href=\"file:///tmp/ipykernel_16049/412114492.py#107\" target=\"_blank\"><span style=\"color: #7f7f7f; text-decoration-color: #7f7f7f\">107</span></a>\n",
       "</pre>\n"
      ],
      "text/plain": [
       "\u001b[2;36m          \u001b[0m\u001b[2;36m \u001b[0m\u001b[34mINFO    \u001b[0m ⏭️ Skipping ovenquesadillas-met-kipgehakt-en-komkommersla.jpg \u001b[1m(\u001b[0malready labeled\u001b[1m)\u001b[0m \u001b]8;id=387791;file:///tmp/ipykernel_16049/412114492.py\u001b\\\u001b[2m412114492.py\u001b[0m\u001b]8;;\u001b\\\u001b[2m:\u001b[0m\u001b]8;id=390282;file:///tmp/ipykernel_16049/412114492.py#107\u001b\\\u001b[2m107\u001b[0m\u001b]8;;\u001b\\\n"
      ]
     },
     "metadata": {},
     "output_type": "display_data"
    },
    {
     "data": {
      "text/html": [
       "<pre style=\"white-space:pre;overflow-x:auto;line-height:normal;font-family:Menlo,'DejaVu Sans Mono',consolas,'Courier New',monospace\"><span style=\"color: #7fbfbf; text-decoration-color: #7fbfbf\">           </span><span style=\"color: #000080; text-decoration-color: #000080\">INFO    </span> ⏭️ Skipping paprika-tomaatwraps-met-tonijnsalade.jpg <span style=\"font-weight: bold\">(</span>already labeled<span style=\"font-weight: bold\">)</span>          <a href=\"file:///tmp/ipykernel_16049/412114492.py\" target=\"_blank\"><span style=\"color: #7f7f7f; text-decoration-color: #7f7f7f\">412114492.py</span></a><span style=\"color: #7f7f7f; text-decoration-color: #7f7f7f\">:</span><a href=\"file:///tmp/ipykernel_16049/412114492.py#107\" target=\"_blank\"><span style=\"color: #7f7f7f; text-decoration-color: #7f7f7f\">107</span></a>\n",
       "</pre>\n"
      ],
      "text/plain": [
       "\u001b[2;36m          \u001b[0m\u001b[2;36m \u001b[0m\u001b[34mINFO    \u001b[0m ⏭️ Skipping paprika-tomaatwraps-met-tonijnsalade.jpg \u001b[1m(\u001b[0malready labeled\u001b[1m)\u001b[0m          \u001b]8;id=616055;file:///tmp/ipykernel_16049/412114492.py\u001b\\\u001b[2m412114492.py\u001b[0m\u001b]8;;\u001b\\\u001b[2m:\u001b[0m\u001b]8;id=745481;file:///tmp/ipykernel_16049/412114492.py#107\u001b\\\u001b[2m107\u001b[0m\u001b]8;;\u001b\\\n"
      ]
     },
     "metadata": {},
     "output_type": "display_data"
    },
    {
     "data": {
      "text/html": [
       "<pre style=\"white-space:pre;overflow-x:auto;line-height:normal;font-family:Menlo,'DejaVu Sans Mono',consolas,'Courier New',monospace\"><span style=\"color: #7fbfbf; text-decoration-color: #7fbfbf\">           </span><span style=\"color: #000080; text-decoration-color: #000080\">INFO    </span> ⏭️ Skipping paprikasalsa-met-limoen-en-bosui.jpg <span style=\"font-weight: bold\">(</span>already labeled<span style=\"font-weight: bold\">)</span>              <a href=\"file:///tmp/ipykernel_16049/412114492.py\" target=\"_blank\"><span style=\"color: #7f7f7f; text-decoration-color: #7f7f7f\">412114492.py</span></a><span style=\"color: #7f7f7f; text-decoration-color: #7f7f7f\">:</span><a href=\"file:///tmp/ipykernel_16049/412114492.py#107\" target=\"_blank\"><span style=\"color: #7f7f7f; text-decoration-color: #7f7f7f\">107</span></a>\n",
       "</pre>\n"
      ],
      "text/plain": [
       "\u001b[2;36m          \u001b[0m\u001b[2;36m \u001b[0m\u001b[34mINFO    \u001b[0m ⏭️ Skipping paprikasalsa-met-limoen-en-bosui.jpg \u001b[1m(\u001b[0malready labeled\u001b[1m)\u001b[0m              \u001b]8;id=575245;file:///tmp/ipykernel_16049/412114492.py\u001b\\\u001b[2m412114492.py\u001b[0m\u001b]8;;\u001b\\\u001b[2m:\u001b[0m\u001b]8;id=34123;file:///tmp/ipykernel_16049/412114492.py#107\u001b\\\u001b[2m107\u001b[0m\u001b]8;;\u001b\\\n"
      ]
     },
     "metadata": {},
     "output_type": "display_data"
    },
    {
     "data": {
      "text/html": [
       "<pre style=\"white-space:pre;overflow-x:auto;line-height:normal;font-family:Menlo,'DejaVu Sans Mono',consolas,'Courier New',monospace\"><span style=\"color: #7fbfbf; text-decoration-color: #7fbfbf\">           </span><span style=\"color: #000080; text-decoration-color: #000080\">INFO    </span> ⏭️ Skipping pittige-paprikadip.jpg <span style=\"font-weight: bold\">(</span>already labeled<span style=\"font-weight: bold\">)</span>                            <a href=\"file:///tmp/ipykernel_16049/412114492.py\" target=\"_blank\"><span style=\"color: #7f7f7f; text-decoration-color: #7f7f7f\">412114492.py</span></a><span style=\"color: #7f7f7f; text-decoration-color: #7f7f7f\">:</span><a href=\"file:///tmp/ipykernel_16049/412114492.py#107\" target=\"_blank\"><span style=\"color: #7f7f7f; text-decoration-color: #7f7f7f\">107</span></a>\n",
       "</pre>\n"
      ],
      "text/plain": [
       "\u001b[2;36m          \u001b[0m\u001b[2;36m \u001b[0m\u001b[34mINFO    \u001b[0m ⏭️ Skipping pittige-paprikadip.jpg \u001b[1m(\u001b[0malready labeled\u001b[1m)\u001b[0m                            \u001b]8;id=738895;file:///tmp/ipykernel_16049/412114492.py\u001b\\\u001b[2m412114492.py\u001b[0m\u001b]8;;\u001b\\\u001b[2m:\u001b[0m\u001b]8;id=856148;file:///tmp/ipykernel_16049/412114492.py#107\u001b\\\u001b[2m107\u001b[0m\u001b]8;;\u001b\\\n"
      ]
     },
     "metadata": {},
     "output_type": "display_data"
    },
    {
     "data": {
      "text/html": [
       "<pre style=\"white-space:pre;overflow-x:auto;line-height:normal;font-family:Menlo,'DejaVu Sans Mono',consolas,'Courier New',monospace\"><span style=\"color: #7fbfbf; text-decoration-color: #7fbfbf\">           </span><span style=\"color: #000080; text-decoration-color: #000080\">INFO    </span> ⏭️ Skipping snelle-noedels-met-een-gebakken-ei.jpg <span style=\"font-weight: bold\">(</span>already labeled<span style=\"font-weight: bold\">)</span>            <a href=\"file:///tmp/ipykernel_16049/412114492.py\" target=\"_blank\"><span style=\"color: #7f7f7f; text-decoration-color: #7f7f7f\">412114492.py</span></a><span style=\"color: #7f7f7f; text-decoration-color: #7f7f7f\">:</span><a href=\"file:///tmp/ipykernel_16049/412114492.py#107\" target=\"_blank\"><span style=\"color: #7f7f7f; text-decoration-color: #7f7f7f\">107</span></a>\n",
       "</pre>\n"
      ],
      "text/plain": [
       "\u001b[2;36m          \u001b[0m\u001b[2;36m \u001b[0m\u001b[34mINFO    \u001b[0m ⏭️ Skipping snelle-noedels-met-een-gebakken-ei.jpg \u001b[1m(\u001b[0malready labeled\u001b[1m)\u001b[0m            \u001b]8;id=833120;file:///tmp/ipykernel_16049/412114492.py\u001b\\\u001b[2m412114492.py\u001b[0m\u001b]8;;\u001b\\\u001b[2m:\u001b[0m\u001b]8;id=706378;file:///tmp/ipykernel_16049/412114492.py#107\u001b\\\u001b[2m107\u001b[0m\u001b]8;;\u001b\\\n"
      ]
     },
     "metadata": {},
     "output_type": "display_data"
    },
    {
     "data": {
      "text/html": [
       "<pre style=\"white-space:pre;overflow-x:auto;line-height:normal;font-family:Menlo,'DejaVu Sans Mono',consolas,'Courier New',monospace\"><span style=\"color: #7fbfbf; text-decoration-color: #7fbfbf\">           </span><span style=\"color: #000080; text-decoration-color: #000080\">INFO    </span> ⏭️ Skipping spitskoolstamppot-met-varkenshaas.jpg <span style=\"font-weight: bold\">(</span>already labeled<span style=\"font-weight: bold\">)</span>             <a href=\"file:///tmp/ipykernel_16049/412114492.py\" target=\"_blank\"><span style=\"color: #7f7f7f; text-decoration-color: #7f7f7f\">412114492.py</span></a><span style=\"color: #7f7f7f; text-decoration-color: #7f7f7f\">:</span><a href=\"file:///tmp/ipykernel_16049/412114492.py#107\" target=\"_blank\"><span style=\"color: #7f7f7f; text-decoration-color: #7f7f7f\">107</span></a>\n",
       "</pre>\n"
      ],
      "text/plain": [
       "\u001b[2;36m          \u001b[0m\u001b[2;36m \u001b[0m\u001b[34mINFO    \u001b[0m ⏭️ Skipping spitskoolstamppot-met-varkenshaas.jpg \u001b[1m(\u001b[0malready labeled\u001b[1m)\u001b[0m             \u001b]8;id=807078;file:///tmp/ipykernel_16049/412114492.py\u001b\\\u001b[2m412114492.py\u001b[0m\u001b]8;;\u001b\\\u001b[2m:\u001b[0m\u001b]8;id=195023;file:///tmp/ipykernel_16049/412114492.py#107\u001b\\\u001b[2m107\u001b[0m\u001b]8;;\u001b\\\n"
      ]
     },
     "metadata": {},
     "output_type": "display_data"
    },
    {
     "data": {
      "text/html": [
       "<pre style=\"white-space:pre;overflow-x:auto;line-height:normal;font-family:Menlo,'DejaVu Sans Mono',consolas,'Courier New',monospace\"><span style=\"color: #7fbfbf; text-decoration-color: #7fbfbf\">           </span><span style=\"color: #000080; text-decoration-color: #000080\">INFO    </span> ⏭️ Skipping traybake-met-kip-rostirondjes-en-bloemkool.jpg <span style=\"font-weight: bold\">(</span>already labeled<span style=\"font-weight: bold\">)</span>    <a href=\"file:///tmp/ipykernel_16049/412114492.py\" target=\"_blank\"><span style=\"color: #7f7f7f; text-decoration-color: #7f7f7f\">412114492.py</span></a><span style=\"color: #7f7f7f; text-decoration-color: #7f7f7f\">:</span><a href=\"file:///tmp/ipykernel_16049/412114492.py#107\" target=\"_blank\"><span style=\"color: #7f7f7f; text-decoration-color: #7f7f7f\">107</span></a>\n",
       "</pre>\n"
      ],
      "text/plain": [
       "\u001b[2;36m          \u001b[0m\u001b[2;36m \u001b[0m\u001b[34mINFO    \u001b[0m ⏭️ Skipping traybake-met-kip-rostirondjes-en-bloemkool.jpg \u001b[1m(\u001b[0malready labeled\u001b[1m)\u001b[0m    \u001b]8;id=17740;file:///tmp/ipykernel_16049/412114492.py\u001b\\\u001b[2m412114492.py\u001b[0m\u001b]8;;\u001b\\\u001b[2m:\u001b[0m\u001b]8;id=320600;file:///tmp/ipykernel_16049/412114492.py#107\u001b\\\u001b[2m107\u001b[0m\u001b]8;;\u001b\\\n"
      ]
     },
     "metadata": {},
     "output_type": "display_data"
    },
    {
     "data": {
      "text/html": [
       "<pre style=\"white-space:pre;overflow-x:auto;line-height:normal;font-family:Menlo,'DejaVu Sans Mono',consolas,'Courier New',monospace\"><span style=\"color: #7fbfbf; text-decoration-color: #7fbfbf\">           </span><span style=\"color: #000080; text-decoration-color: #000080\">INFO    </span> ⏭️ Skipping traybake-met-zoete-aardappel-en-chorizobraadworst.jpg <span style=\"font-weight: bold\">(</span>already      <a href=\"file:///tmp/ipykernel_16049/412114492.py\" target=\"_blank\"><span style=\"color: #7f7f7f; text-decoration-color: #7f7f7f\">412114492.py</span></a><span style=\"color: #7f7f7f; text-decoration-color: #7f7f7f\">:</span><a href=\"file:///tmp/ipykernel_16049/412114492.py#107\" target=\"_blank\"><span style=\"color: #7f7f7f; text-decoration-color: #7f7f7f\">107</span></a>\n",
       "<span style=\"color: #7fbfbf; text-decoration-color: #7fbfbf\">           </span>         labeled<span style=\"font-weight: bold\">)</span>                                                                       <span style=\"color: #7f7f7f; text-decoration-color: #7f7f7f\">                </span>\n",
       "</pre>\n"
      ],
      "text/plain": [
       "\u001b[2;36m          \u001b[0m\u001b[2;36m \u001b[0m\u001b[34mINFO    \u001b[0m ⏭️ Skipping traybake-met-zoete-aardappel-en-chorizobraadworst.jpg \u001b[1m(\u001b[0malready      \u001b]8;id=132962;file:///tmp/ipykernel_16049/412114492.py\u001b\\\u001b[2m412114492.py\u001b[0m\u001b]8;;\u001b\\\u001b[2m:\u001b[0m\u001b]8;id=908430;file:///tmp/ipykernel_16049/412114492.py#107\u001b\\\u001b[2m107\u001b[0m\u001b]8;;\u001b\\\n",
       "\u001b[2;36m           \u001b[0m         labeled\u001b[1m)\u001b[0m                                                                       \u001b[2m                \u001b[0m\n"
      ]
     },
     "metadata": {},
     "output_type": "display_data"
    },
    {
     "data": {
      "text/html": [
       "<pre style=\"white-space:pre;overflow-x:auto;line-height:normal;font-family:Menlo,'DejaVu Sans Mono',consolas,'Courier New',monospace\"><span style=\"color: #7fbfbf; text-decoration-color: #7fbfbf\">           </span><span style=\"color: #000080; text-decoration-color: #000080\">INFO    </span> ⏭️ Skipping vegaschnitzel-met-gebakken-aardappeltjes-en-sperziebonen.jpg        <a href=\"file:///tmp/ipykernel_16049/412114492.py\" target=\"_blank\"><span style=\"color: #7f7f7f; text-decoration-color: #7f7f7f\">412114492.py</span></a><span style=\"color: #7f7f7f; text-decoration-color: #7f7f7f\">:</span><a href=\"file:///tmp/ipykernel_16049/412114492.py#107\" target=\"_blank\"><span style=\"color: #7f7f7f; text-decoration-color: #7f7f7f\">107</span></a>\n",
       "<span style=\"color: #7fbfbf; text-decoration-color: #7fbfbf\">           </span>         <span style=\"font-weight: bold\">(</span>already labeled<span style=\"font-weight: bold\">)</span>                                                              <span style=\"color: #7f7f7f; text-decoration-color: #7f7f7f\">                </span>\n",
       "</pre>\n"
      ],
      "text/plain": [
       "\u001b[2;36m          \u001b[0m\u001b[2;36m \u001b[0m\u001b[34mINFO    \u001b[0m ⏭️ Skipping vegaschnitzel-met-gebakken-aardappeltjes-en-sperziebonen.jpg        \u001b]8;id=423044;file:///tmp/ipykernel_16049/412114492.py\u001b\\\u001b[2m412114492.py\u001b[0m\u001b]8;;\u001b\\\u001b[2m:\u001b[0m\u001b]8;id=472632;file:///tmp/ipykernel_16049/412114492.py#107\u001b\\\u001b[2m107\u001b[0m\u001b]8;;\u001b\\\n",
       "\u001b[2;36m           \u001b[0m         \u001b[1m(\u001b[0malready labeled\u001b[1m)\u001b[0m                                                              \u001b[2m                \u001b[0m\n"
      ]
     },
     "metadata": {},
     "output_type": "display_data"
    },
    {
     "data": {
      "text/html": [
       "<pre style=\"white-space:pre;overflow-x:auto;line-height:normal;font-family:Menlo,'DejaVu Sans Mono',consolas,'Courier New',monospace\"><span style=\"color: #7fbfbf; text-decoration-color: #7fbfbf\">           </span><span style=\"color: #000080; text-decoration-color: #000080\">INFO    </span> ⏭️ Skipping volkorenpizza-met-tomaat-en-courgette.jpg <span style=\"font-weight: bold\">(</span>already labeled<span style=\"font-weight: bold\">)</span>         <a href=\"file:///tmp/ipykernel_16049/412114492.py\" target=\"_blank\"><span style=\"color: #7f7f7f; text-decoration-color: #7f7f7f\">412114492.py</span></a><span style=\"color: #7f7f7f; text-decoration-color: #7f7f7f\">:</span><a href=\"file:///tmp/ipykernel_16049/412114492.py#107\" target=\"_blank\"><span style=\"color: #7f7f7f; text-decoration-color: #7f7f7f\">107</span></a>\n",
       "</pre>\n"
      ],
      "text/plain": [
       "\u001b[2;36m          \u001b[0m\u001b[2;36m \u001b[0m\u001b[34mINFO    \u001b[0m ⏭️ Skipping volkorenpizza-met-tomaat-en-courgette.jpg \u001b[1m(\u001b[0malready labeled\u001b[1m)\u001b[0m         \u001b]8;id=168604;file:///tmp/ipykernel_16049/412114492.py\u001b\\\u001b[2m412114492.py\u001b[0m\u001b]8;;\u001b\\\u001b[2m:\u001b[0m\u001b]8;id=232486;file:///tmp/ipykernel_16049/412114492.py#107\u001b\\\u001b[2m107\u001b[0m\u001b]8;;\u001b\\\n"
      ]
     },
     "metadata": {},
     "output_type": "display_data"
    },
    {
     "data": {
      "text/html": [
       "<pre style=\"white-space:pre;overflow-x:auto;line-height:normal;font-family:Menlo,'DejaVu Sans Mono',consolas,'Courier New',monospace\"><span style=\"color: #7fbfbf; text-decoration-color: #7fbfbf\">           </span><span style=\"color: #000080; text-decoration-color: #000080\">INFO    </span> ⏭️ Skipping volkorentacos-met-tofu-en-geroosterde-bloemkool.jpg <span style=\"font-weight: bold\">(</span>already        <a href=\"file:///tmp/ipykernel_16049/412114492.py\" target=\"_blank\"><span style=\"color: #7f7f7f; text-decoration-color: #7f7f7f\">412114492.py</span></a><span style=\"color: #7f7f7f; text-decoration-color: #7f7f7f\">:</span><a href=\"file:///tmp/ipykernel_16049/412114492.py#107\" target=\"_blank\"><span style=\"color: #7f7f7f; text-decoration-color: #7f7f7f\">107</span></a>\n",
       "<span style=\"color: #7fbfbf; text-decoration-color: #7fbfbf\">           </span>         labeled<span style=\"font-weight: bold\">)</span>                                                                       <span style=\"color: #7f7f7f; text-decoration-color: #7f7f7f\">                </span>\n",
       "</pre>\n"
      ],
      "text/plain": [
       "\u001b[2;36m          \u001b[0m\u001b[2;36m \u001b[0m\u001b[34mINFO    \u001b[0m ⏭️ Skipping volkorentacos-met-tofu-en-geroosterde-bloemkool.jpg \u001b[1m(\u001b[0malready        \u001b]8;id=761783;file:///tmp/ipykernel_16049/412114492.py\u001b\\\u001b[2m412114492.py\u001b[0m\u001b]8;;\u001b\\\u001b[2m:\u001b[0m\u001b]8;id=864340;file:///tmp/ipykernel_16049/412114492.py#107\u001b\\\u001b[2m107\u001b[0m\u001b]8;;\u001b\\\n",
       "\u001b[2;36m           \u001b[0m         labeled\u001b[1m)\u001b[0m                                                                       \u001b[2m                \u001b[0m\n"
      ]
     },
     "metadata": {},
     "output_type": "display_data"
    },
    {
     "data": {
      "text/html": [
       "<pre style=\"white-space:pre;overflow-x:auto;line-height:normal;font-family:Menlo,'DejaVu Sans Mono',consolas,'Courier New',monospace\"><span style=\"color: #7fbfbf; text-decoration-color: #7fbfbf\">           </span><span style=\"color: #000080; text-decoration-color: #000080\">INFO    </span> ⏭️ Skipping witlof-ovenschotel-met-vega-spekjes.jpg <span style=\"font-weight: bold\">(</span>already labeled<span style=\"font-weight: bold\">)</span>           <a href=\"file:///tmp/ipykernel_16049/412114492.py\" target=\"_blank\"><span style=\"color: #7f7f7f; text-decoration-color: #7f7f7f\">412114492.py</span></a><span style=\"color: #7f7f7f; text-decoration-color: #7f7f7f\">:</span><a href=\"file:///tmp/ipykernel_16049/412114492.py#107\" target=\"_blank\"><span style=\"color: #7f7f7f; text-decoration-color: #7f7f7f\">107</span></a>\n",
       "</pre>\n"
      ],
      "text/plain": [
       "\u001b[2;36m          \u001b[0m\u001b[2;36m \u001b[0m\u001b[34mINFO    \u001b[0m ⏭️ Skipping witlof-ovenschotel-met-vega-spekjes.jpg \u001b[1m(\u001b[0malready labeled\u001b[1m)\u001b[0m           \u001b]8;id=663016;file:///tmp/ipykernel_16049/412114492.py\u001b\\\u001b[2m412114492.py\u001b[0m\u001b]8;;\u001b\\\u001b[2m:\u001b[0m\u001b]8;id=549023;file:///tmp/ipykernel_16049/412114492.py#107\u001b\\\u001b[2m107\u001b[0m\u001b]8;;\u001b\\\n"
      ]
     },
     "metadata": {},
     "output_type": "display_data"
    },
    {
     "data": {
      "text/html": [
       "<pre style=\"white-space:pre;overflow-x:auto;line-height:normal;font-family:Menlo,'DejaVu Sans Mono',consolas,'Courier New',monospace\"><span style=\"color: #7fbfbf; text-decoration-color: #7fbfbf\">           </span><span style=\"color: #000080; text-decoration-color: #000080\">INFO    </span> ⏭️ Skipping zalm-met-aardappelpuree-en-prei-a-la-creme.jpg <span style=\"font-weight: bold\">(</span>already labeled<span style=\"font-weight: bold\">)</span>    <a href=\"file:///tmp/ipykernel_16049/412114492.py\" target=\"_blank\"><span style=\"color: #7f7f7f; text-decoration-color: #7f7f7f\">412114492.py</span></a><span style=\"color: #7f7f7f; text-decoration-color: #7f7f7f\">:</span><a href=\"file:///tmp/ipykernel_16049/412114492.py#107\" target=\"_blank\"><span style=\"color: #7f7f7f; text-decoration-color: #7f7f7f\">107</span></a>\n",
       "</pre>\n"
      ],
      "text/plain": [
       "\u001b[2;36m          \u001b[0m\u001b[2;36m \u001b[0m\u001b[34mINFO    \u001b[0m ⏭️ Skipping zalm-met-aardappelpuree-en-prei-a-la-creme.jpg \u001b[1m(\u001b[0malready labeled\u001b[1m)\u001b[0m    \u001b]8;id=922463;file:///tmp/ipykernel_16049/412114492.py\u001b\\\u001b[2m412114492.py\u001b[0m\u001b]8;;\u001b\\\u001b[2m:\u001b[0m\u001b]8;id=218562;file:///tmp/ipykernel_16049/412114492.py#107\u001b\\\u001b[2m107\u001b[0m\u001b]8;;\u001b\\\n"
      ]
     },
     "metadata": {},
     "output_type": "display_data"
    },
    {
     "data": {
      "text/html": [
       "<pre style=\"white-space:pre;overflow-x:auto;line-height:normal;font-family:Menlo,'DejaVu Sans Mono',consolas,'Courier New',monospace\"><span style=\"color: #7fbfbf; text-decoration-color: #7fbfbf\">           </span><span style=\"color: #000080; text-decoration-color: #000080\">INFO    </span> ⏭️ Skipping zoete-aardappel-met-kip-en-gebakken-paksoi.jpg <span style=\"font-weight: bold\">(</span>already labeled<span style=\"font-weight: bold\">)</span>    <a href=\"file:///tmp/ipykernel_16049/412114492.py\" target=\"_blank\"><span style=\"color: #7f7f7f; text-decoration-color: #7f7f7f\">412114492.py</span></a><span style=\"color: #7f7f7f; text-decoration-color: #7f7f7f\">:</span><a href=\"file:///tmp/ipykernel_16049/412114492.py#107\" target=\"_blank\"><span style=\"color: #7f7f7f; text-decoration-color: #7f7f7f\">107</span></a>\n",
       "</pre>\n"
      ],
      "text/plain": [
       "\u001b[2;36m          \u001b[0m\u001b[2;36m \u001b[0m\u001b[34mINFO    \u001b[0m ⏭️ Skipping zoete-aardappel-met-kip-en-gebakken-paksoi.jpg \u001b[1m(\u001b[0malready labeled\u001b[1m)\u001b[0m    \u001b]8;id=765751;file:///tmp/ipykernel_16049/412114492.py\u001b\\\u001b[2m412114492.py\u001b[0m\u001b]8;;\u001b\\\u001b[2m:\u001b[0m\u001b]8;id=41501;file:///tmp/ipykernel_16049/412114492.py#107\u001b\\\u001b[2m107\u001b[0m\u001b]8;;\u001b\\\n"
      ]
     },
     "metadata": {},
     "output_type": "display_data"
    },
    {
     "name": "stdout",
     "output_type": "stream",
     "text": [
      "✅ Labeled 0 new images, skipped 31 already labeled → work/labels/new_labels.jsonl\n"
     ]
    },
    {
     "data": {
      "application/vnd.jupyter.widget-view+json": {
       "model_id": "35b2d3505ea34f0c89da7d71bad29888",
       "version_major": 2,
       "version_minor": 0
      },
      "text/plain": [
       "  0%|          | 0/16 [00:00<?, ?it/s]"
      ]
     },
     "metadata": {},
     "output_type": "display_data"
    },
    {
     "data": {
      "text/html": [
       "<pre style=\"white-space:pre;overflow-x:auto;line-height:normal;font-family:Menlo,'DejaVu Sans Mono',consolas,'Courier New',monospace\"><span style=\"color: #7fbfbf; text-decoration-color: #7fbfbf\">[08:31:04] </span><span style=\"color: #000080; text-decoration-color: #000080\">INFO    </span> ⏭️ Skipping courgettebroodjes.jpg <span style=\"font-weight: bold\">(</span>already labeled<span style=\"font-weight: bold\">)</span>                             <a href=\"file:///tmp/ipykernel_16049/412114492.py\" target=\"_blank\"><span style=\"color: #7f7f7f; text-decoration-color: #7f7f7f\">412114492.py</span></a><span style=\"color: #7f7f7f; text-decoration-color: #7f7f7f\">:</span><a href=\"file:///tmp/ipykernel_16049/412114492.py#107\" target=\"_blank\"><span style=\"color: #7f7f7f; text-decoration-color: #7f7f7f\">107</span></a>\n",
       "</pre>\n"
      ],
      "text/plain": [
       "\u001b[2;36m[08:31:04]\u001b[0m\u001b[2;36m \u001b[0m\u001b[34mINFO    \u001b[0m ⏭️ Skipping courgettebroodjes.jpg \u001b[1m(\u001b[0malready labeled\u001b[1m)\u001b[0m                             \u001b]8;id=304455;file:///tmp/ipykernel_16049/412114492.py\u001b\\\u001b[2m412114492.py\u001b[0m\u001b]8;;\u001b\\\u001b[2m:\u001b[0m\u001b]8;id=688506;file:///tmp/ipykernel_16049/412114492.py#107\u001b\\\u001b[2m107\u001b[0m\u001b]8;;\u001b\\\n"
      ]
     },
     "metadata": {},
     "output_type": "display_data"
    },
    {
     "data": {
      "text/html": [
       "<pre style=\"white-space:pre;overflow-x:auto;line-height:normal;font-family:Menlo,'DejaVu Sans Mono',consolas,'Courier New',monospace\"><span style=\"color: #7fbfbf; text-decoration-color: #7fbfbf\">           </span><span style=\"color: #000080; text-decoration-color: #000080\">INFO    </span> ⏭️ Skipping franse-zuurkoolschotel.jpg <span style=\"font-weight: bold\">(</span>already labeled<span style=\"font-weight: bold\">)</span>                        <a href=\"file:///tmp/ipykernel_16049/412114492.py\" target=\"_blank\"><span style=\"color: #7f7f7f; text-decoration-color: #7f7f7f\">412114492.py</span></a><span style=\"color: #7f7f7f; text-decoration-color: #7f7f7f\">:</span><a href=\"file:///tmp/ipykernel_16049/412114492.py#107\" target=\"_blank\"><span style=\"color: #7f7f7f; text-decoration-color: #7f7f7f\">107</span></a>\n",
       "</pre>\n"
      ],
      "text/plain": [
       "\u001b[2;36m          \u001b[0m\u001b[2;36m \u001b[0m\u001b[34mINFO    \u001b[0m ⏭️ Skipping franse-zuurkoolschotel.jpg \u001b[1m(\u001b[0malready labeled\u001b[1m)\u001b[0m                        \u001b]8;id=208812;file:///tmp/ipykernel_16049/412114492.py\u001b\\\u001b[2m412114492.py\u001b[0m\u001b]8;;\u001b\\\u001b[2m:\u001b[0m\u001b]8;id=774001;file:///tmp/ipykernel_16049/412114492.py#107\u001b\\\u001b[2m107\u001b[0m\u001b]8;;\u001b\\\n"
      ]
     },
     "metadata": {},
     "output_type": "display_data"
    },
    {
     "data": {
      "text/html": [
       "<pre style=\"white-space:pre;overflow-x:auto;line-height:normal;font-family:Menlo,'DejaVu Sans Mono',consolas,'Courier New',monospace\"><span style=\"color: #7fbfbf; text-decoration-color: #7fbfbf\">           </span><span style=\"color: #000080; text-decoration-color: #000080\">INFO    </span> ⏭️ Skipping gegratineerde-spruitjes.jpg <span style=\"font-weight: bold\">(</span>already labeled<span style=\"font-weight: bold\">)</span>                       <a href=\"file:///tmp/ipykernel_16049/412114492.py\" target=\"_blank\"><span style=\"color: #7f7f7f; text-decoration-color: #7f7f7f\">412114492.py</span></a><span style=\"color: #7f7f7f; text-decoration-color: #7f7f7f\">:</span><a href=\"file:///tmp/ipykernel_16049/412114492.py#107\" target=\"_blank\"><span style=\"color: #7f7f7f; text-decoration-color: #7f7f7f\">107</span></a>\n",
       "</pre>\n"
      ],
      "text/plain": [
       "\u001b[2;36m          \u001b[0m\u001b[2;36m \u001b[0m\u001b[34mINFO    \u001b[0m ⏭️ Skipping gegratineerde-spruitjes.jpg \u001b[1m(\u001b[0malready labeled\u001b[1m)\u001b[0m                       \u001b]8;id=732666;file:///tmp/ipykernel_16049/412114492.py\u001b\\\u001b[2m412114492.py\u001b[0m\u001b]8;;\u001b\\\u001b[2m:\u001b[0m\u001b]8;id=272601;file:///tmp/ipykernel_16049/412114492.py#107\u001b\\\u001b[2m107\u001b[0m\u001b]8;;\u001b\\\n"
      ]
     },
     "metadata": {},
     "output_type": "display_data"
    },
    {
     "data": {
      "text/html": [
       "<pre style=\"white-space:pre;overflow-x:auto;line-height:normal;font-family:Menlo,'DejaVu Sans Mono',consolas,'Courier New',monospace\"><span style=\"color: #7fbfbf; text-decoration-color: #7fbfbf\">           </span><span style=\"color: #000080; text-decoration-color: #000080\">INFO    </span> ⏭️ Skipping gepocheerde-prei-met-truffelvinaigrette.jpg <span style=\"font-weight: bold\">(</span>already labeled<span style=\"font-weight: bold\">)</span>       <a href=\"file:///tmp/ipykernel_16049/412114492.py\" target=\"_blank\"><span style=\"color: #7f7f7f; text-decoration-color: #7f7f7f\">412114492.py</span></a><span style=\"color: #7f7f7f; text-decoration-color: #7f7f7f\">:</span><a href=\"file:///tmp/ipykernel_16049/412114492.py#107\" target=\"_blank\"><span style=\"color: #7f7f7f; text-decoration-color: #7f7f7f\">107</span></a>\n",
       "</pre>\n"
      ],
      "text/plain": [
       "\u001b[2;36m          \u001b[0m\u001b[2;36m \u001b[0m\u001b[34mINFO    \u001b[0m ⏭️ Skipping gepocheerde-prei-met-truffelvinaigrette.jpg \u001b[1m(\u001b[0malready labeled\u001b[1m)\u001b[0m       \u001b]8;id=472914;file:///tmp/ipykernel_16049/412114492.py\u001b\\\u001b[2m412114492.py\u001b[0m\u001b]8;;\u001b\\\u001b[2m:\u001b[0m\u001b]8;id=75489;file:///tmp/ipykernel_16049/412114492.py#107\u001b\\\u001b[2m107\u001b[0m\u001b]8;;\u001b\\\n"
      ]
     },
     "metadata": {},
     "output_type": "display_data"
    },
    {
     "data": {
      "text/html": [
       "<pre style=\"white-space:pre;overflow-x:auto;line-height:normal;font-family:Menlo,'DejaVu Sans Mono',consolas,'Courier New',monospace\"><span style=\"color: #7fbfbf; text-decoration-color: #7fbfbf\">           </span><span style=\"color: #000080; text-decoration-color: #000080\">INFO    </span> ⏭️ Skipping kersen-ricottamousse.jpg <span style=\"font-weight: bold\">(</span>already labeled<span style=\"font-weight: bold\">)</span>                          <a href=\"file:///tmp/ipykernel_16049/412114492.py\" target=\"_blank\"><span style=\"color: #7f7f7f; text-decoration-color: #7f7f7f\">412114492.py</span></a><span style=\"color: #7f7f7f; text-decoration-color: #7f7f7f\">:</span><a href=\"file:///tmp/ipykernel_16049/412114492.py#107\" target=\"_blank\"><span style=\"color: #7f7f7f; text-decoration-color: #7f7f7f\">107</span></a>\n",
       "</pre>\n"
      ],
      "text/plain": [
       "\u001b[2;36m          \u001b[0m\u001b[2;36m \u001b[0m\u001b[34mINFO    \u001b[0m ⏭️ Skipping kersen-ricottamousse.jpg \u001b[1m(\u001b[0malready labeled\u001b[1m)\u001b[0m                          \u001b]8;id=758551;file:///tmp/ipykernel_16049/412114492.py\u001b\\\u001b[2m412114492.py\u001b[0m\u001b]8;;\u001b\\\u001b[2m:\u001b[0m\u001b]8;id=658595;file:///tmp/ipykernel_16049/412114492.py#107\u001b\\\u001b[2m107\u001b[0m\u001b]8;;\u001b\\\n"
      ]
     },
     "metadata": {},
     "output_type": "display_data"
    },
    {
     "data": {
      "text/html": [
       "<pre style=\"white-space:pre;overflow-x:auto;line-height:normal;font-family:Menlo,'DejaVu Sans Mono',consolas,'Courier New',monospace\"><span style=\"color: #7fbfbf; text-decoration-color: #7fbfbf\">           </span><span style=\"color: #000080; text-decoration-color: #000080\">INFO    </span> ⏭️ Skipping klassieke-boerenkoolstamppot.jpg <span style=\"font-weight: bold\">(</span>already labeled<span style=\"font-weight: bold\">)</span>                  <a href=\"file:///tmp/ipykernel_16049/412114492.py\" target=\"_blank\"><span style=\"color: #7f7f7f; text-decoration-color: #7f7f7f\">412114492.py</span></a><span style=\"color: #7f7f7f; text-decoration-color: #7f7f7f\">:</span><a href=\"file:///tmp/ipykernel_16049/412114492.py#107\" target=\"_blank\"><span style=\"color: #7f7f7f; text-decoration-color: #7f7f7f\">107</span></a>\n",
       "</pre>\n"
      ],
      "text/plain": [
       "\u001b[2;36m          \u001b[0m\u001b[2;36m \u001b[0m\u001b[34mINFO    \u001b[0m ⏭️ Skipping klassieke-boerenkoolstamppot.jpg \u001b[1m(\u001b[0malready labeled\u001b[1m)\u001b[0m                  \u001b]8;id=270857;file:///tmp/ipykernel_16049/412114492.py\u001b\\\u001b[2m412114492.py\u001b[0m\u001b]8;;\u001b\\\u001b[2m:\u001b[0m\u001b]8;id=787347;file:///tmp/ipykernel_16049/412114492.py#107\u001b\\\u001b[2m107\u001b[0m\u001b]8;;\u001b\\\n"
      ]
     },
     "metadata": {},
     "output_type": "display_data"
    },
    {
     "data": {
      "text/html": [
       "<pre style=\"white-space:pre;overflow-x:auto;line-height:normal;font-family:Menlo,'DejaVu Sans Mono',consolas,'Courier New',monospace\"><span style=\"color: #7fbfbf; text-decoration-color: #7fbfbf\">           </span><span style=\"color: #000080; text-decoration-color: #000080\">INFO    </span> ⏭️ Skipping korianderpasta-met-mosselen.jpg <span style=\"font-weight: bold\">(</span>already labeled<span style=\"font-weight: bold\">)</span>                   <a href=\"file:///tmp/ipykernel_16049/412114492.py\" target=\"_blank\"><span style=\"color: #7f7f7f; text-decoration-color: #7f7f7f\">412114492.py</span></a><span style=\"color: #7f7f7f; text-decoration-color: #7f7f7f\">:</span><a href=\"file:///tmp/ipykernel_16049/412114492.py#107\" target=\"_blank\"><span style=\"color: #7f7f7f; text-decoration-color: #7f7f7f\">107</span></a>\n",
       "</pre>\n"
      ],
      "text/plain": [
       "\u001b[2;36m          \u001b[0m\u001b[2;36m \u001b[0m\u001b[34mINFO    \u001b[0m ⏭️ Skipping korianderpasta-met-mosselen.jpg \u001b[1m(\u001b[0malready labeled\u001b[1m)\u001b[0m                   \u001b]8;id=479824;file:///tmp/ipykernel_16049/412114492.py\u001b\\\u001b[2m412114492.py\u001b[0m\u001b]8;;\u001b\\\u001b[2m:\u001b[0m\u001b]8;id=357334;file:///tmp/ipykernel_16049/412114492.py#107\u001b\\\u001b[2m107\u001b[0m\u001b]8;;\u001b\\\n"
      ]
     },
     "metadata": {},
     "output_type": "display_data"
    },
    {
     "data": {
      "text/html": [
       "<pre style=\"white-space:pre;overflow-x:auto;line-height:normal;font-family:Menlo,'DejaVu Sans Mono',consolas,'Courier New',monospace\"><span style=\"color: #7fbfbf; text-decoration-color: #7fbfbf\">           </span><span style=\"color: #000080; text-decoration-color: #000080\">INFO    </span> ⏭️ Skipping lams-courgettekebabs.jpg <span style=\"font-weight: bold\">(</span>already labeled<span style=\"font-weight: bold\">)</span>                          <a href=\"file:///tmp/ipykernel_16049/412114492.py\" target=\"_blank\"><span style=\"color: #7f7f7f; text-decoration-color: #7f7f7f\">412114492.py</span></a><span style=\"color: #7f7f7f; text-decoration-color: #7f7f7f\">:</span><a href=\"file:///tmp/ipykernel_16049/412114492.py#107\" target=\"_blank\"><span style=\"color: #7f7f7f; text-decoration-color: #7f7f7f\">107</span></a>\n",
       "</pre>\n"
      ],
      "text/plain": [
       "\u001b[2;36m          \u001b[0m\u001b[2;36m \u001b[0m\u001b[34mINFO    \u001b[0m ⏭️ Skipping lams-courgettekebabs.jpg \u001b[1m(\u001b[0malready labeled\u001b[1m)\u001b[0m                          \u001b]8;id=649369;file:///tmp/ipykernel_16049/412114492.py\u001b\\\u001b[2m412114492.py\u001b[0m\u001b]8;;\u001b\\\u001b[2m:\u001b[0m\u001b]8;id=418744;file:///tmp/ipykernel_16049/412114492.py#107\u001b\\\u001b[2m107\u001b[0m\u001b]8;;\u001b\\\n"
      ]
     },
     "metadata": {},
     "output_type": "display_data"
    },
    {
     "data": {
      "text/html": [
       "<pre style=\"white-space:pre;overflow-x:auto;line-height:normal;font-family:Menlo,'DejaVu Sans Mono',consolas,'Courier New',monospace\"><span style=\"color: #7fbfbf; text-decoration-color: #7fbfbf\">           </span><span style=\"color: #000080; text-decoration-color: #000080\">INFO    </span> ⏭️ Skipping maaltijdmosterdsoep-met-kaastoast.jpg <span style=\"font-weight: bold\">(</span>already labeled<span style=\"font-weight: bold\">)</span>             <a href=\"file:///tmp/ipykernel_16049/412114492.py\" target=\"_blank\"><span style=\"color: #7f7f7f; text-decoration-color: #7f7f7f\">412114492.py</span></a><span style=\"color: #7f7f7f; text-decoration-color: #7f7f7f\">:</span><a href=\"file:///tmp/ipykernel_16049/412114492.py#107\" target=\"_blank\"><span style=\"color: #7f7f7f; text-decoration-color: #7f7f7f\">107</span></a>\n",
       "</pre>\n"
      ],
      "text/plain": [
       "\u001b[2;36m          \u001b[0m\u001b[2;36m \u001b[0m\u001b[34mINFO    \u001b[0m ⏭️ Skipping maaltijdmosterdsoep-met-kaastoast.jpg \u001b[1m(\u001b[0malready labeled\u001b[1m)\u001b[0m             \u001b]8;id=385916;file:///tmp/ipykernel_16049/412114492.py\u001b\\\u001b[2m412114492.py\u001b[0m\u001b]8;;\u001b\\\u001b[2m:\u001b[0m\u001b]8;id=398551;file:///tmp/ipykernel_16049/412114492.py#107\u001b\\\u001b[2m107\u001b[0m\u001b]8;;\u001b\\\n"
      ]
     },
     "metadata": {},
     "output_type": "display_data"
    },
    {
     "data": {
      "text/html": [
       "<pre style=\"white-space:pre;overflow-x:auto;line-height:normal;font-family:Menlo,'DejaVu Sans Mono',consolas,'Courier New',monospace\"><span style=\"color: #7fbfbf; text-decoration-color: #7fbfbf\">           </span><span style=\"color: #000080; text-decoration-color: #000080\">INFO    </span> ⏭️ Skipping macaroni-met-boemboe-ham-en-kaas.jpg <span style=\"font-weight: bold\">(</span>already labeled<span style=\"font-weight: bold\">)</span>              <a href=\"file:///tmp/ipykernel_16049/412114492.py\" target=\"_blank\"><span style=\"color: #7f7f7f; text-decoration-color: #7f7f7f\">412114492.py</span></a><span style=\"color: #7f7f7f; text-decoration-color: #7f7f7f\">:</span><a href=\"file:///tmp/ipykernel_16049/412114492.py#107\" target=\"_blank\"><span style=\"color: #7f7f7f; text-decoration-color: #7f7f7f\">107</span></a>\n",
       "</pre>\n"
      ],
      "text/plain": [
       "\u001b[2;36m          \u001b[0m\u001b[2;36m \u001b[0m\u001b[34mINFO    \u001b[0m ⏭️ Skipping macaroni-met-boemboe-ham-en-kaas.jpg \u001b[1m(\u001b[0malready labeled\u001b[1m)\u001b[0m              \u001b]8;id=576113;file:///tmp/ipykernel_16049/412114492.py\u001b\\\u001b[2m412114492.py\u001b[0m\u001b]8;;\u001b\\\u001b[2m:\u001b[0m\u001b]8;id=701100;file:///tmp/ipykernel_16049/412114492.py#107\u001b\\\u001b[2m107\u001b[0m\u001b]8;;\u001b\\\n"
      ]
     },
     "metadata": {},
     "output_type": "display_data"
    },
    {
     "data": {
      "text/html": [
       "<pre style=\"white-space:pre;overflow-x:auto;line-height:normal;font-family:Menlo,'DejaVu Sans Mono',consolas,'Courier New',monospace\"><span style=\"color: #7fbfbf; text-decoration-color: #7fbfbf\">           </span><span style=\"color: #000080; text-decoration-color: #000080\">INFO    </span> ⏭️ Skipping maïskipfilet-met-boterbonen-en-tapenade.jpg <span style=\"font-weight: bold\">(</span>already labeled<span style=\"font-weight: bold\">)</span>       <a href=\"file:///tmp/ipykernel_16049/412114492.py\" target=\"_blank\"><span style=\"color: #7f7f7f; text-decoration-color: #7f7f7f\">412114492.py</span></a><span style=\"color: #7f7f7f; text-decoration-color: #7f7f7f\">:</span><a href=\"file:///tmp/ipykernel_16049/412114492.py#107\" target=\"_blank\"><span style=\"color: #7f7f7f; text-decoration-color: #7f7f7f\">107</span></a>\n",
       "</pre>\n"
      ],
      "text/plain": [
       "\u001b[2;36m          \u001b[0m\u001b[2;36m \u001b[0m\u001b[34mINFO    \u001b[0m ⏭️ Skipping maïskipfilet-met-boterbonen-en-tapenade.jpg \u001b[1m(\u001b[0malready labeled\u001b[1m)\u001b[0m       \u001b]8;id=893000;file:///tmp/ipykernel_16049/412114492.py\u001b\\\u001b[2m412114492.py\u001b[0m\u001b]8;;\u001b\\\u001b[2m:\u001b[0m\u001b]8;id=67637;file:///tmp/ipykernel_16049/412114492.py#107\u001b\\\u001b[2m107\u001b[0m\u001b]8;;\u001b\\\n"
      ]
     },
     "metadata": {},
     "output_type": "display_data"
    },
    {
     "data": {
      "text/html": [
       "<pre style=\"white-space:pre;overflow-x:auto;line-height:normal;font-family:Menlo,'DejaVu Sans Mono',consolas,'Courier New',monospace\"><span style=\"color: #7fbfbf; text-decoration-color: #7fbfbf\">           </span><span style=\"color: #000080; text-decoration-color: #000080\">INFO    </span> ⏭️ Skipping paddestoelenragout-met-schnitzelreepjes.jpg <span style=\"font-weight: bold\">(</span>already labeled<span style=\"font-weight: bold\">)</span>       <a href=\"file:///tmp/ipykernel_16049/412114492.py\" target=\"_blank\"><span style=\"color: #7f7f7f; text-decoration-color: #7f7f7f\">412114492.py</span></a><span style=\"color: #7f7f7f; text-decoration-color: #7f7f7f\">:</span><a href=\"file:///tmp/ipykernel_16049/412114492.py#107\" target=\"_blank\"><span style=\"color: #7f7f7f; text-decoration-color: #7f7f7f\">107</span></a>\n",
       "</pre>\n"
      ],
      "text/plain": [
       "\u001b[2;36m          \u001b[0m\u001b[2;36m \u001b[0m\u001b[34mINFO    \u001b[0m ⏭️ Skipping paddestoelenragout-met-schnitzelreepjes.jpg \u001b[1m(\u001b[0malready labeled\u001b[1m)\u001b[0m       \u001b]8;id=682754;file:///tmp/ipykernel_16049/412114492.py\u001b\\\u001b[2m412114492.py\u001b[0m\u001b]8;;\u001b\\\u001b[2m:\u001b[0m\u001b]8;id=936119;file:///tmp/ipykernel_16049/412114492.py#107\u001b\\\u001b[2m107\u001b[0m\u001b]8;;\u001b\\\n"
      ]
     },
     "metadata": {},
     "output_type": "display_data"
    },
    {
     "data": {
      "text/html": [
       "<pre style=\"white-space:pre;overflow-x:auto;line-height:normal;font-family:Menlo,'DejaVu Sans Mono',consolas,'Courier New',monospace\"><span style=\"color: #7fbfbf; text-decoration-color: #7fbfbf\">           </span><span style=\"color: #000080; text-decoration-color: #000080\">INFO    </span> ⏭️ Skipping pineapple-slush.jpg <span style=\"font-weight: bold\">(</span>already labeled<span style=\"font-weight: bold\">)</span>                               <a href=\"file:///tmp/ipykernel_16049/412114492.py\" target=\"_blank\"><span style=\"color: #7f7f7f; text-decoration-color: #7f7f7f\">412114492.py</span></a><span style=\"color: #7f7f7f; text-decoration-color: #7f7f7f\">:</span><a href=\"file:///tmp/ipykernel_16049/412114492.py#107\" target=\"_blank\"><span style=\"color: #7f7f7f; text-decoration-color: #7f7f7f\">107</span></a>\n",
       "</pre>\n"
      ],
      "text/plain": [
       "\u001b[2;36m          \u001b[0m\u001b[2;36m \u001b[0m\u001b[34mINFO    \u001b[0m ⏭️ Skipping pineapple-slush.jpg \u001b[1m(\u001b[0malready labeled\u001b[1m)\u001b[0m                               \u001b]8;id=859941;file:///tmp/ipykernel_16049/412114492.py\u001b\\\u001b[2m412114492.py\u001b[0m\u001b]8;;\u001b\\\u001b[2m:\u001b[0m\u001b]8;id=484955;file:///tmp/ipykernel_16049/412114492.py#107\u001b\\\u001b[2m107\u001b[0m\u001b]8;;\u001b\\\n"
      ]
     },
     "metadata": {},
     "output_type": "display_data"
    },
    {
     "data": {
      "text/html": [
       "<pre style=\"white-space:pre;overflow-x:auto;line-height:normal;font-family:Menlo,'DejaVu Sans Mono',consolas,'Courier New',monospace\"><span style=\"color: #7fbfbf; text-decoration-color: #7fbfbf\">           </span><span style=\"color: #000080; text-decoration-color: #000080\">INFO    </span> ⏭️ Skipping pitabroodjes-met-lamsvlees-en-tomatenrelish.jpg <span style=\"font-weight: bold\">(</span>already labeled<span style=\"font-weight: bold\">)</span>   <a href=\"file:///tmp/ipykernel_16049/412114492.py\" target=\"_blank\"><span style=\"color: #7f7f7f; text-decoration-color: #7f7f7f\">412114492.py</span></a><span style=\"color: #7f7f7f; text-decoration-color: #7f7f7f\">:</span><a href=\"file:///tmp/ipykernel_16049/412114492.py#107\" target=\"_blank\"><span style=\"color: #7f7f7f; text-decoration-color: #7f7f7f\">107</span></a>\n",
       "</pre>\n"
      ],
      "text/plain": [
       "\u001b[2;36m          \u001b[0m\u001b[2;36m \u001b[0m\u001b[34mINFO    \u001b[0m ⏭️ Skipping pitabroodjes-met-lamsvlees-en-tomatenrelish.jpg \u001b[1m(\u001b[0malready labeled\u001b[1m)\u001b[0m   \u001b]8;id=268874;file:///tmp/ipykernel_16049/412114492.py\u001b\\\u001b[2m412114492.py\u001b[0m\u001b]8;;\u001b\\\u001b[2m:\u001b[0m\u001b]8;id=45732;file:///tmp/ipykernel_16049/412114492.py#107\u001b\\\u001b[2m107\u001b[0m\u001b]8;;\u001b\\\n"
      ]
     },
     "metadata": {},
     "output_type": "display_data"
    },
    {
     "data": {
      "text/html": [
       "<pre style=\"white-space:pre;overflow-x:auto;line-height:normal;font-family:Menlo,'DejaVu Sans Mono',consolas,'Courier New',monospace\"><span style=\"color: #7fbfbf; text-decoration-color: #7fbfbf\">           </span><span style=\"color: #000080; text-decoration-color: #000080\">INFO    </span> ⏭️ Skipping pittige-vispakketjes.jpg <span style=\"font-weight: bold\">(</span>already labeled<span style=\"font-weight: bold\">)</span>                          <a href=\"file:///tmp/ipykernel_16049/412114492.py\" target=\"_blank\"><span style=\"color: #7f7f7f; text-decoration-color: #7f7f7f\">412114492.py</span></a><span style=\"color: #7f7f7f; text-decoration-color: #7f7f7f\">:</span><a href=\"file:///tmp/ipykernel_16049/412114492.py#107\" target=\"_blank\"><span style=\"color: #7f7f7f; text-decoration-color: #7f7f7f\">107</span></a>\n",
       "</pre>\n"
      ],
      "text/plain": [
       "\u001b[2;36m          \u001b[0m\u001b[2;36m \u001b[0m\u001b[34mINFO    \u001b[0m ⏭️ Skipping pittige-vispakketjes.jpg \u001b[1m(\u001b[0malready labeled\u001b[1m)\u001b[0m                          \u001b]8;id=579200;file:///tmp/ipykernel_16049/412114492.py\u001b\\\u001b[2m412114492.py\u001b[0m\u001b]8;;\u001b\\\u001b[2m:\u001b[0m\u001b]8;id=675577;file:///tmp/ipykernel_16049/412114492.py#107\u001b\\\u001b[2m107\u001b[0m\u001b]8;;\u001b\\\n"
      ]
     },
     "metadata": {},
     "output_type": "display_data"
    },
    {
     "data": {
      "text/html": [
       "<pre style=\"white-space:pre;overflow-x:auto;line-height:normal;font-family:Menlo,'DejaVu Sans Mono',consolas,'Courier New',monospace\"><span style=\"color: #7fbfbf; text-decoration-color: #7fbfbf\">           </span><span style=\"color: #000080; text-decoration-color: #000080\">INFO    </span> ⏭️ Skipping roergebakken-spruitjes.jpg <span style=\"font-weight: bold\">(</span>already labeled<span style=\"font-weight: bold\">)</span>                        <a href=\"file:///tmp/ipykernel_16049/412114492.py\" target=\"_blank\"><span style=\"color: #7f7f7f; text-decoration-color: #7f7f7f\">412114492.py</span></a><span style=\"color: #7f7f7f; text-decoration-color: #7f7f7f\">:</span><a href=\"file:///tmp/ipykernel_16049/412114492.py#107\" target=\"_blank\"><span style=\"color: #7f7f7f; text-decoration-color: #7f7f7f\">107</span></a>\n",
       "</pre>\n"
      ],
      "text/plain": [
       "\u001b[2;36m          \u001b[0m\u001b[2;36m \u001b[0m\u001b[34mINFO    \u001b[0m ⏭️ Skipping roergebakken-spruitjes.jpg \u001b[1m(\u001b[0malready labeled\u001b[1m)\u001b[0m                        \u001b]8;id=362495;file:///tmp/ipykernel_16049/412114492.py\u001b\\\u001b[2m412114492.py\u001b[0m\u001b]8;;\u001b\\\u001b[2m:\u001b[0m\u001b]8;id=455439;file:///tmp/ipykernel_16049/412114492.py#107\u001b\\\u001b[2m107\u001b[0m\u001b]8;;\u001b\\\n"
      ]
     },
     "metadata": {},
     "output_type": "display_data"
    },
    {
     "name": "stdout",
     "output_type": "stream",
     "text": [
      "✅ Labeled 0 new images, skipped 16 already labeled → work/labels/old_labels.jsonl\n",
      "🎉 Done.\n"
     ]
    }
   ],
   "source": [
    "from openai import AzureOpenAI\n",
    "import os\n",
    "import time\n",
    "import base64\n",
    "\n",
    "from dotenv import load_dotenv\n",
    "load_dotenv()\n",
    "\n",
    "AZURE_OPENAI_ENDPOINT = os.getenv(\"AZURE_OPENAI_ENDPOINT\")\n",
    "AZURE_OPENAI_API_KEY = os.getenv(\"AZURE_OPENAI_API_KEY\")\n",
    "AZURE_DEPLOYMENT_NAME = os.getenv(\"AZURE_DEPLOYMENT_NAME\")\n",
    "AZURE_OPENAI_API_VERSION = os.getenv(\"AZURE_OPENAI_API_VERSION\")\n",
    "\n",
    "client = AzureOpenAI(\n",
    "    api_key=AZURE_OPENAI_API_KEY,\n",
    "    api_version=AZURE_OPENAI_API_VERSION,\n",
    "    azure_endpoint=AZURE_OPENAI_ENDPOINT,\n",
    ")\n",
    "\n",
    "LABEL_SCHEMA = [\n",
    "    \"food item (main dish, ingredient, or drink that appears)\",\n",
    "    \"perspective (e.g., top-down, eye-level, low-angle)\",\n",
    "    \"background (describe setting, simplicity vs clutter)\",\n",
    "    \"lighting (e.g., soft, harsh, high-key, low-key, golden-hour)\",\n",
    "    \"color palette (e.g., muted, vibrant, pastel, monochrome)\",\n",
    "    \"texture treatment (e.g., painterly, grainy, smooth)\",\n",
    "    \"composition (e.g., centered subject, rule of thirds, negative space)\",\n",
    "    \"mood (e.g., nostalgic, cheerful, moody, futuristic)\",\n",
    "]\n",
    "\n",
    "\n",
    "def b64_image(image_path: Path) -> str:\n",
    "    with open(image_path, \"rb\") as f:\n",
    "        return base64.b64encode(f.read()).decode(\"utf-8\")\n",
    "\n",
    "def load_existing_labels(jsonl_path: Path) -> set:\n",
    "    \"\"\"Load already labeled filenames from existing JSONL file\"\"\"\n",
    "    labeled_files = set()\n",
    "    if jsonl_path.exists():\n",
    "        with open(jsonl_path, \"r\", encoding=\"utf-8\") as f:\n",
    "            for line in f:\n",
    "                try:\n",
    "                    data = json.loads(line.strip())\n",
    "                    if \"filename\" in data:\n",
    "                        labeled_files.add(str(Path(data[\"filename\"]).resolve()))\n",
    "                except json.JSONDecodeError:\n",
    "                    continue\n",
    "    return labeled_files\n",
    "\n",
    "def label_image(img_path: Path, schema):\n",
    "    img_b64 = b64_image(img_path)\n",
    "    schema_bullets = \"\\n\".join([f\"- {s}\" for s in schema])\n",
    "    system_prompt = (\n",
    "        \"You are a meticulous food and style image annotator. \"\n",
    "        \"Return a strict JSON object with fields exactly matching the requested schema.\"\n",
    "    )\n",
    "    user_prompt = f\"\"\"\n",
    "Analyze the image and label it for the following attributes:\n",
    "{schema_bullets}\n",
    "\n",
    "Rules:\n",
    "- Return strictly valid JSON (no markdown).\n",
    "- For 'food item', use the most specific name possible (e.g., 'spaghetti carbonara', 'latte art', 'sushi roll').\n",
    "- For style attributes, use short descriptive phrases.\n",
    "- Include a 'notes' field for anything noteworthy.\n",
    "\"\"\"\n",
    "    try:\n",
    "        resp = client.chat.completions.create(\n",
    "            model=AZURE_DEPLOYMENT_NAME,\n",
    "            messages=[\n",
    "                {\"role\": \"system\", \"content\": system_prompt},\n",
    "                {\"role\": \"user\", \"content\": [\n",
    "                    {\"type\": \"text\", \"text\": user_prompt},\n",
    "                    {\"type\": \"image_url\", \"image_url\": {\"url\": f\"data:image/jpeg;base64,{img_b64}\"}}\n",
    "                ]},\n",
    "            ],\n",
    "            temperature=0.2,\n",
    "        )\n",
    "        text = resp.choices[0].message.content\n",
    "        try:\n",
    "            return json.loads(text)\n",
    "        except Exception:\n",
    "            m = re.search(r\"\\{[\\s\\S]*\\}\", text)\n",
    "            log.error(f\"⚠️ Non-JSON response for {img_path}:\\n{text}\")\n",
    "            return json.loads(m.group(0)) if m else {\"raw\": text}\n",
    "    except Exception as e:\n",
    "        return {\"error\": str(e)}\n",
    "\n",
    "def label_folder(src: Path, out_jsonl: Path, max_images: int = 10, override: bool = False):\n",
    "    n = 0\n",
    "    skipped = 0\n",
    "    \n",
    "    # Load existing labels if not overriding\n",
    "    labeled_files = set() if override else load_existing_labels(out_jsonl)\n",
    "    \n",
    "    # Open file in append mode if not overriding and file exists\n",
    "    mode = \"w\" if override or not out_jsonl.exists() else \"a\"\n",
    "    \n",
    "    with open(out_jsonl, mode, encoding=\"utf-8\") as out:\n",
    "        for p in tqdm(sorted(src.glob(f\"*{TARGET_EXT}\"))):\n",
    "            if n >= max_images:\n",
    "                print(f\"⏹️ Stopping after {max_images} images\")\n",
    "                break\n",
    "                \n",
    "            # Check if already labeled\n",
    "            if str(p.resolve()) in labeled_files:\n",
    "                log.info(f\"⏭️ Skipping {p.name} (already labeled)\")\n",
    "                skipped += 1\n",
    "                continue\n",
    "                \n",
    "            log.info(f\"Labeling {p}...\")\n",
    "            result = label_image(p, LABEL_SCHEMA)\n",
    "            rec = {\"filename\": str(p.resolve()), \"labels\": result}\n",
    "            out.write(json.dumps(rec, ensure_ascii=False) + \"\\n\")\n",
    "            n += 1\n",
    "            time.sleep(0.2)            \n",
    "    \n",
    "    print(f\"✅ Labeled {n} new images, skipped {skipped} already labeled → {out_jsonl}\")\n",
    "\n",
    "print(\"Labeling images via Azure OpenAI...\")\n",
    "label_folder(CONVERTED_NEW, LABELS_DIR / \"new_labels.jsonl\", max_images=50, override=False)\n",
    "label_folder(CONVERTED_OLD, LABELS_DIR / \"old_labels.jsonl\", max_images=50, override=False)\n",
    "print(\"🎉 Done.\")"
   ]
  },
  {
   "cell_type": "markdown",
   "id": "576c2d83",
   "metadata": {},
   "source": [
    "# Image captions"
   ]
  },
  {
   "cell_type": "code",
   "execution_count": 6,
   "id": "da4bada7",
   "metadata": {},
   "outputs": [
    {
     "data": {
      "text/html": [
       "<pre style=\"white-space:pre;overflow-x:auto;line-height:normal;font-family:Menlo,'DejaVu Sans Mono',consolas,'Courier New',monospace\"><span style=\"color: #7fbfbf; text-decoration-color: #7fbfbf\">           </span><span style=\"color: #000080; text-decoration-color: #000080\">INFO    </span> 📑 Building captions from work/labels/new_labels.jsonl <span style=\"font-weight: bold\">(</span><span style=\"color: #008080; text-decoration-color: #008080; font-weight: bold\">31</span> records<span style=\"font-weight: bold\">)</span><span style=\"color: #808000; text-decoration-color: #808000\">...</span>         <a href=\"file:///tmp/ipykernel_16049/1215574807.py\" target=\"_blank\"><span style=\"color: #7f7f7f; text-decoration-color: #7f7f7f\">1215574807.py</span></a><span style=\"color: #7f7f7f; text-decoration-color: #7f7f7f\">:</span><a href=\"file:///tmp/ipykernel_16049/1215574807.py#18\" target=\"_blank\"><span style=\"color: #7f7f7f; text-decoration-color: #7f7f7f\">18</span></a>\n",
       "</pre>\n"
      ],
      "text/plain": [
       "\u001b[2;36m          \u001b[0m\u001b[2;36m \u001b[0m\u001b[34mINFO    \u001b[0m 📑 Building captions from work/labels/new_labels.jsonl \u001b[1m(\u001b[0m\u001b[1;36m31\u001b[0m records\u001b[1m)\u001b[0m\u001b[33m...\u001b[0m         \u001b]8;id=788204;file:///tmp/ipykernel_16049/1215574807.py\u001b\\\u001b[2m1215574807.py\u001b[0m\u001b]8;;\u001b\\\u001b[2m:\u001b[0m\u001b]8;id=158619;file:///tmp/ipykernel_16049/1215574807.py#18\u001b\\\u001b[2m18\u001b[0m\u001b]8;;\u001b\\\n"
      ]
     },
     "metadata": {},
     "output_type": "display_data"
    },
    {
     "data": {
      "application/vnd.jupyter.widget-view+json": {
       "model_id": "bc1525e32f1240459b66e389801ff2ad",
       "version_major": 2,
       "version_minor": 0
      },
      "text/plain": [
       "Generating captions:   0%|          | 0/31 [00:00<?, ?it/s]"
      ]
     },
     "metadata": {},
     "output_type": "display_data"
    },
    {
     "data": {
      "text/html": [
       "<pre style=\"white-space:pre;overflow-x:auto;line-height:normal;font-family:Menlo,'DejaVu Sans Mono',consolas,'Courier New',monospace\"><span style=\"color: #7fbfbf; text-decoration-color: #7fbfbf\">[08:31:05] </span><span style=\"color: #000080; text-decoration-color: #000080\">INFO    </span> ✅ Wrote captions for <span style=\"color: #008080; text-decoration-color: #008080; font-weight: bold\">31</span> images into work/dataset/new                          <a href=\"file:///tmp/ipykernel_16049/1215574807.py\" target=\"_blank\"><span style=\"color: #7f7f7f; text-decoration-color: #7f7f7f\">1215574807.py</span></a><span style=\"color: #7f7f7f; text-decoration-color: #7f7f7f\">:</span><a href=\"file:///tmp/ipykernel_16049/1215574807.py#68\" target=\"_blank\"><span style=\"color: #7f7f7f; text-decoration-color: #7f7f7f\">68</span></a>\n",
       "</pre>\n"
      ],
      "text/plain": [
       "\u001b[2;36m[08:31:05]\u001b[0m\u001b[2;36m \u001b[0m\u001b[34mINFO    \u001b[0m ✅ Wrote captions for \u001b[1;36m31\u001b[0m images into work/dataset/new                          \u001b]8;id=488808;file:///tmp/ipykernel_16049/1215574807.py\u001b\\\u001b[2m1215574807.py\u001b[0m\u001b]8;;\u001b\\\u001b[2m:\u001b[0m\u001b]8;id=136809;file:///tmp/ipykernel_16049/1215574807.py#68\u001b\\\u001b[2m68\u001b[0m\u001b]8;;\u001b\\\n"
      ]
     },
     "metadata": {},
     "output_type": "display_data"
    },
    {
     "data": {
      "text/html": [
       "<pre style=\"white-space:pre;overflow-x:auto;line-height:normal;font-family:Menlo,'DejaVu Sans Mono',consolas,'Courier New',monospace\"><span style=\"color: #7fbfbf; text-decoration-color: #7fbfbf\">           </span><span style=\"color: #000080; text-decoration-color: #000080\">INFO    </span> 📑 Building captions from work/labels/old_labels.jsonl <span style=\"font-weight: bold\">(</span><span style=\"color: #008080; text-decoration-color: #008080; font-weight: bold\">16</span> records<span style=\"font-weight: bold\">)</span><span style=\"color: #808000; text-decoration-color: #808000\">...</span>         <a href=\"file:///tmp/ipykernel_16049/1215574807.py\" target=\"_blank\"><span style=\"color: #7f7f7f; text-decoration-color: #7f7f7f\">1215574807.py</span></a><span style=\"color: #7f7f7f; text-decoration-color: #7f7f7f\">:</span><a href=\"file:///tmp/ipykernel_16049/1215574807.py#18\" target=\"_blank\"><span style=\"color: #7f7f7f; text-decoration-color: #7f7f7f\">18</span></a>\n",
       "</pre>\n"
      ],
      "text/plain": [
       "\u001b[2;36m          \u001b[0m\u001b[2;36m \u001b[0m\u001b[34mINFO    \u001b[0m 📑 Building captions from work/labels/old_labels.jsonl \u001b[1m(\u001b[0m\u001b[1;36m16\u001b[0m records\u001b[1m)\u001b[0m\u001b[33m...\u001b[0m         \u001b]8;id=788363;file:///tmp/ipykernel_16049/1215574807.py\u001b\\\u001b[2m1215574807.py\u001b[0m\u001b]8;;\u001b\\\u001b[2m:\u001b[0m\u001b]8;id=415905;file:///tmp/ipykernel_16049/1215574807.py#18\u001b\\\u001b[2m18\u001b[0m\u001b]8;;\u001b\\\n"
      ]
     },
     "metadata": {},
     "output_type": "display_data"
    },
    {
     "data": {
      "application/vnd.jupyter.widget-view+json": {
       "model_id": "5fcc86cbd44d40ada4bc6bdccba26c03",
       "version_major": 2,
       "version_minor": 0
      },
      "text/plain": [
       "Generating captions:   0%|          | 0/16 [00:00<?, ?it/s]"
      ]
     },
     "metadata": {},
     "output_type": "display_data"
    },
    {
     "data": {
      "text/html": [
       "<pre style=\"white-space:pre;overflow-x:auto;line-height:normal;font-family:Menlo,'DejaVu Sans Mono',consolas,'Courier New',monospace\"><span style=\"color: #7fbfbf; text-decoration-color: #7fbfbf\">           </span><span style=\"color: #000080; text-decoration-color: #000080\">INFO    </span> ✅ Wrote captions for <span style=\"color: #008080; text-decoration-color: #008080; font-weight: bold\">16</span> images into work/dataset/new                          <a href=\"file:///tmp/ipykernel_16049/1215574807.py\" target=\"_blank\"><span style=\"color: #7f7f7f; text-decoration-color: #7f7f7f\">1215574807.py</span></a><span style=\"color: #7f7f7f; text-decoration-color: #7f7f7f\">:</span><a href=\"file:///tmp/ipykernel_16049/1215574807.py#68\" target=\"_blank\"><span style=\"color: #7f7f7f; text-decoration-color: #7f7f7f\">68</span></a>\n",
       "</pre>\n"
      ],
      "text/plain": [
       "\u001b[2;36m          \u001b[0m\u001b[2;36m \u001b[0m\u001b[34mINFO    \u001b[0m ✅ Wrote captions for \u001b[1;36m16\u001b[0m images into work/dataset/new                          \u001b]8;id=911460;file:///tmp/ipykernel_16049/1215574807.py\u001b\\\u001b[2m1215574807.py\u001b[0m\u001b]8;;\u001b\\\u001b[2m:\u001b[0m\u001b]8;id=20090;file:///tmp/ipykernel_16049/1215574807.py#68\u001b\\\u001b[2m68\u001b[0m\u001b]8;;\u001b\\\n"
      ]
     },
     "metadata": {},
     "output_type": "display_data"
    },
    {
     "data": {
      "text/html": [
       "<pre style=\"white-space:pre;overflow-x:auto;line-height:normal;font-family:Menlo,'DejaVu Sans Mono',consolas,'Courier New',monospace\"><span style=\"color: #7fbfbf; text-decoration-color: #7fbfbf\">           </span><span style=\"color: #000080; text-decoration-color: #000080\">INFO    </span> 🎉 Done. Total captions created: <span style=\"color: #008080; text-decoration-color: #008080; font-weight: bold\">47</span>                                            <a href=\"file:///tmp/ipykernel_16049/1215574807.py\" target=\"_blank\"><span style=\"color: #7f7f7f; text-decoration-color: #7f7f7f\">1215574807.py</span></a><span style=\"color: #7f7f7f; text-decoration-color: #7f7f7f\">:</span><a href=\"file:///tmp/ipykernel_16049/1215574807.py#73\" target=\"_blank\"><span style=\"color: #7f7f7f; text-decoration-color: #7f7f7f\">73</span></a>\n",
       "</pre>\n"
      ],
      "text/plain": [
       "\u001b[2;36m          \u001b[0m\u001b[2;36m \u001b[0m\u001b[34mINFO    \u001b[0m 🎉 Done. Total captions created: \u001b[1;36m47\u001b[0m                                            \u001b]8;id=893590;file:///tmp/ipykernel_16049/1215574807.py\u001b\\\u001b[2m1215574807.py\u001b[0m\u001b]8;;\u001b\\\u001b[2m:\u001b[0m\u001b]8;id=747935;file:///tmp/ipykernel_16049/1215574807.py#73\u001b\\\u001b[2m73\u001b[0m\u001b]8;;\u001b\\\n"
      ]
     },
     "metadata": {},
     "output_type": "display_data"
    }
   ],
   "source": [
    "def captions_from_labels(jsonl_path: Path, out_dir: Path) -> int:\n",
    "    \"\"\"\n",
    "    Reads a JSONL file with Azure OpenAI labeling results and builds\n",
    "    caption .txt files next to each image for LoRA training.\n",
    "\n",
    "    Captions include the food item first, followed by style attributes.\n",
    "    Uses tqdm for progress and rich logging for clean notebook output.\n",
    "    \"\"\"\n",
    "    out_dir.mkdir(parents=True, exist_ok=True)\n",
    "    dst_img_dir = out_dir / \"new\"\n",
    "    dst_img_dir.mkdir(parents=True, exist_ok=True)\n",
    "\n",
    "    count = 0\n",
    "\n",
    "    # Count lines first for tqdm total\n",
    "    total = sum(1 for _ in open(jsonl_path, \"r\", encoding=\"utf-8\"))\n",
    "\n",
    "    log.info(f\"📑 Building captions from {jsonl_path} ({total} records)...\")\n",
    "\n",
    "    with open(jsonl_path, \"r\", encoding=\"utf-8\") as f:\n",
    "        for line in tqdm(f, total=total, desc=\"Generating captions\", leave=True):\n",
    "            rec = json.loads(line)\n",
    "            fp = Path(rec[\"filename\"])\n",
    "            labels = rec.get(\"labels\", {})\n",
    "\n",
    "            food = labels.get(\"food item\") or labels.get(\"food item (main dish, ingredient, or drink that appears)\")\n",
    "            perspective = labels.get(\"perspective\")\n",
    "            background = labels.get(\"background\")\n",
    "            lighting = labels.get(\"lighting\")\n",
    "            palette = labels.get(\"color palette\")\n",
    "            texture = labels.get(\"texture treatment\")\n",
    "            composition = labels.get(\"composition\")\n",
    "            mood = labels.get(\"mood\")\n",
    "\n",
    "            parts = []\n",
    "            if food:\n",
    "                parts.append(f\"a photo of {food}\")\n",
    "            if composition:\n",
    "                parts.append(f\"composition: {composition}\")\n",
    "            if perspective:\n",
    "                parts.append(f\"perspective: {perspective}\")\n",
    "            if lighting:\n",
    "                parts.append(f\"lighting: {lighting}\")\n",
    "            if palette:\n",
    "                parts.append(f\"color palette: {palette}\")\n",
    "            if texture:\n",
    "                parts.append(f\"texture: {texture}\")\n",
    "            if background:\n",
    "                parts.append(f\"background: {background}\")\n",
    "            if mood:\n",
    "                parts.append(f\"mood: {mood}\")\n",
    "\n",
    "            caption = \", \".join(parts) + \".\"\n",
    "            if not caption.strip() or caption == \".\":\n",
    "                caption = \"A food scene with distinctive style.\"\n",
    "\n",
    "            out_img_path = dst_img_dir / fp.name\n",
    "            out_txt_path = dst_img_dir / (fp.stem + \".txt\")\n",
    "\n",
    "            try:\n",
    "                shutil.copy2(fp, out_img_path)\n",
    "                with open(out_txt_path, \"w\", encoding=\"utf-8\") as out:\n",
    "                    out.write(caption)\n",
    "                count += 1\n",
    "            except Exception as e:\n",
    "                log.error(f\"⚠️ Failed to process {fp.name}: {e}\")\n",
    "\n",
    "    log.info(f\"✅ Wrote captions for {count} images into {dst_img_dir}\")\n",
    "    return count\n",
    "\n",
    "n1 = captions_from_labels(LABELS_DIR / \"new_labels.jsonl\", DATASET_DIR)\n",
    "n2 = captions_from_labels(LABELS_DIR / \"old_labels.jsonl\", DATASET_DIR)\n",
    "log.info(f\"🎉 Done. Total captions created: {n1 + n2}\")"
   ]
  },
  {
   "cell_type": "markdown",
   "id": "26e43419",
   "metadata": {},
   "source": [
    "# Model training"
   ]
  },
  {
   "cell_type": "code",
   "execution_count": 7,
   "id": "9a68a579",
   "metadata": {},
   "outputs": [
    {
     "name": "stdout",
     "output_type": "stream",
     "text": [
      "Current PyTorch version: 2.1.0a0+b5021ba\n",
      "PyTorch tensor test: tensor([1., 2.])\n",
      "CUDA available: True\n",
      "CUDA device count: 1\n",
      "Current CUDA device: 0\n",
      "Detected development PyTorch version: 2.1.0a0+b5021ba\n",
      "Patching version string for compatibility...\n",
      "Patched PyTorch version to: 2.1.0\n"
     ]
    }
   ],
   "source": [
    "# Check PyTorch version and fix if needed\n",
    "import torch\n",
    "print(f\"Current PyTorch version: {torch.__version__}\")\n",
    "\n",
    "# Check if we have a proper PyTorch installation\n",
    "try:\n",
    "    # Test basic PyTorch functionality\n",
    "    x = torch.tensor([1.0, 2.0])\n",
    "    print(f\"PyTorch tensor test: {x}\")\n",
    "    print(f\"CUDA available: {torch.cuda.is_available()}\")\n",
    "    if torch.cuda.is_available():\n",
    "        print(f\"CUDA device count: {torch.cuda.device_count()}\")\n",
    "        print(f\"Current CUDA device: {torch.cuda.current_device()}\")\n",
    "except Exception as e:\n",
    "    print(f\"PyTorch test failed: {e}\")\n",
    "\n",
    "# The issue might be that the development version isn't recognized by transformers\n",
    "# Let's patch the version check by setting a compatible version string\n",
    "import sys\n",
    "if hasattr(torch, '__version__'):\n",
    "    original_version = torch.__version__\n",
    "    if 'a0' in torch.__version__:\n",
    "        print(f\"Detected development PyTorch version: {original_version}\")\n",
    "        print(\"Patching version string for compatibility...\")\n",
    "        # Set a stable version string that transformers will accept\n",
    "        torch.__version__ = \"2.1.0\"\n",
    "        print(f\"Patched PyTorch version to: {torch.__version__}\")"
   ]
  },
  {
   "cell_type": "code",
   "execution_count": null,
   "id": "25f165aa",
   "metadata": {},
   "outputs": [
    {
     "name": "stderr",
     "output_type": "stream",
     "text": [
      "/usr/local/lib/python3.10/dist-packages/torchvision/datapoints/__init__.py:12: UserWarning: The torchvision.datapoints and torchvision.transforms.v2 namespaces are still Beta. While we do not expect major breaking changes, some APIs may still change according to user feedback. Please submit any feedback you may have in this issue: https://github.com/pytorch/vision/issues/6753, and you can also check out https://github.com/pytorch/vision/issues/7319 to learn more about the APIs that we suspect might involve future changes. You can silence this warning by calling torchvision.disable_beta_transforms_warning().\n",
      "  warnings.warn(_BETA_TRANSFORMS_WARNING)\n",
      "/usr/local/lib/python3.10/dist-packages/torchvision/transforms/v2/__init__.py:54: UserWarning: The torchvision.datapoints and torchvision.transforms.v2 namespaces are still Beta. While we do not expect major breaking changes, some APIs may still change according to user feedback. Please submit any feedback you may have in this issue: https://github.com/pytorch/vision/issues/6753, and you can also check out https://github.com/pytorch/vision/issues/7319 to learn more about the APIs that we suspect might involve future changes. You can silence this warning by calling torchvision.disable_beta_transforms_warning().\n",
      "  warnings.warn(_BETA_TRANSFORMS_WARNING)\n"
     ]
    },
    {
     "data": {
      "text/html": [
       "<pre style=\"white-space:pre;overflow-x:auto;line-height:normal;font-family:Menlo,'DejaVu Sans Mono',consolas,'Courier New',monospace\"><span style=\"color: #7fbfbf; text-decoration-color: #7fbfbf\">[08:31:11] </span><span style=\"color: #000080; text-decoration-color: #000080\">INFO    </span> Loading models<span style=\"color: #808000; text-decoration-color: #808000\">...</span>                                                              <a href=\"file:///tmp/ipykernel_16049/3526091652.py\" target=\"_blank\"><span style=\"color: #7f7f7f; text-decoration-color: #7f7f7f\">3526091652.py</span></a><span style=\"color: #7f7f7f; text-decoration-color: #7f7f7f\">:</span><a href=\"file:///tmp/ipykernel_16049/3526091652.py#20\" target=\"_blank\"><span style=\"color: #7f7f7f; text-decoration-color: #7f7f7f\">20</span></a>\n",
       "</pre>\n"
      ],
      "text/plain": [
       "\u001b[2;36m[08:31:11]\u001b[0m\u001b[2;36m \u001b[0m\u001b[34mINFO    \u001b[0m Loading models\u001b[33m...\u001b[0m                                                              \u001b]8;id=234053;file:///tmp/ipykernel_16049/3526091652.py\u001b\\\u001b[2m3526091652.py\u001b[0m\u001b]8;;\u001b\\\u001b[2m:\u001b[0m\u001b]8;id=146316;file:///tmp/ipykernel_16049/3526091652.py#20\u001b\\\u001b[2m20\u001b[0m\u001b]8;;\u001b\\\n"
      ]
     },
     "metadata": {},
     "output_type": "display_data"
    },
    {
     "data": {
      "application/vnd.jupyter.widget-view+json": {
       "model_id": "bcc099c98a374dd2aa3746ac26e8f15e",
       "version_major": 2,
       "version_minor": 0
      },
      "text/plain": [
       "tokenizer_config.json:   0%|          | 0.00/806 [00:00<?, ?B/s]"
      ]
     },
     "metadata": {},
     "output_type": "display_data"
    },
    {
     "data": {
      "application/vnd.jupyter.widget-view+json": {
       "model_id": "49366e7ffcb94a2eba7bfeb33d484169",
       "version_major": 2,
       "version_minor": 0
      },
      "text/plain": [
       "vocab.json: 0.00B [00:00, ?B/s]"
      ]
     },
     "metadata": {},
     "output_type": "display_data"
    },
    {
     "data": {
      "application/vnd.jupyter.widget-view+json": {
       "model_id": "872b9989beda4aad8c2101b31e3c276f",
       "version_major": 2,
       "version_minor": 0
      },
      "text/plain": [
       "merges.txt: 0.00B [00:00, ?B/s]"
      ]
     },
     "metadata": {},
     "output_type": "display_data"
    },
    {
     "data": {
      "application/vnd.jupyter.widget-view+json": {
       "model_id": "5e6835dc2de446c2816b4440aca382e8",
       "version_major": 2,
       "version_minor": 0
      },
      "text/plain": [
       "special_tokens_map.json:   0%|          | 0.00/472 [00:00<?, ?B/s]"
      ]
     },
     "metadata": {},
     "output_type": "display_data"
    },
    {
     "data": {
      "application/vnd.jupyter.widget-view+json": {
       "model_id": "eeaba0bb38dd4b0194078941aee7266b",
       "version_major": 2,
       "version_minor": 0
      },
      "text/plain": [
       "config.json:   0%|          | 0.00/617 [00:00<?, ?B/s]"
      ]
     },
     "metadata": {},
     "output_type": "display_data"
    },
    {
     "data": {
      "application/vnd.jupyter.widget-view+json": {
       "model_id": "52b34d59c0474956a5ab74ef135e3b20",
       "version_major": 2,
       "version_minor": 0
      },
      "text/plain": [
       "model.safetensors:   0%|          | 0.00/492M [00:00<?, ?B/s]"
      ]
     },
     "metadata": {},
     "output_type": "display_data"
    },
    {
     "data": {
      "application/vnd.jupyter.widget-view+json": {
       "model_id": "18d90569c54d4ad18bbc94b8d373c555",
       "version_major": 2,
       "version_minor": 0
      },
      "text/plain": [
       "config.json:   0%|          | 0.00/547 [00:00<?, ?B/s]"
      ]
     },
     "metadata": {},
     "output_type": "display_data"
    },
    {
     "data": {
      "application/vnd.jupyter.widget-view+json": {
       "model_id": "1d95586aaf5f4811be218902bc7ceea8",
       "version_major": 2,
       "version_minor": 0
      },
      "text/plain": [
       "diffusion_pytorch_model.safetensors:   0%|          | 0.00/335M [00:00<?, ?B/s]"
      ]
     },
     "metadata": {},
     "output_type": "display_data"
    },
    {
     "data": {
      "application/vnd.jupyter.widget-view+json": {
       "model_id": "3f64d1c93e6e43f9a732f477fa7ce844",
       "version_major": 2,
       "version_minor": 0
      },
      "text/plain": [
       "config.json:   0%|          | 0.00/743 [00:00<?, ?B/s]"
      ]
     },
     "metadata": {},
     "output_type": "display_data"
    },
    {
     "data": {
      "application/vnd.jupyter.widget-view+json": {
       "model_id": "39ac505de754488a9dcdbd29f0cea59b",
       "version_major": 2,
       "version_minor": 0
      },
      "text/plain": [
       "diffusion_pytorch_model.safetensors:   0%|          | 0.00/3.44G [00:00<?, ?B/s]"
      ]
     },
     "metadata": {},
     "output_type": "display_data"
    },
    {
     "data": {
      "text/html": [
       "<pre style=\"white-space:pre;overflow-x:auto;line-height:normal;font-family:Menlo,'DejaVu Sans Mono',consolas,'Courier New',monospace\"><span style=\"color: #7fbfbf; text-decoration-color: #7fbfbf\">[08:32:59] </span><span style=\"color: #000080; text-decoration-color: #000080\">INFO    </span> LoRA applied to UNet                                                           <a href=\"file:///tmp/ipykernel_16049/3526091652.py\" target=\"_blank\"><span style=\"color: #7f7f7f; text-decoration-color: #7f7f7f\">3526091652.py</span></a><span style=\"color: #7f7f7f; text-decoration-color: #7f7f7f\">:</span><a href=\"file:///tmp/ipykernel_16049/3526091652.py#38\" target=\"_blank\"><span style=\"color: #7f7f7f; text-decoration-color: #7f7f7f\">38</span></a>\n",
       "</pre>\n"
      ],
      "text/plain": [
       "\u001b[2;36m[08:32:59]\u001b[0m\u001b[2;36m \u001b[0m\u001b[34mINFO    \u001b[0m LoRA applied to UNet                                                           \u001b]8;id=571858;file:///tmp/ipykernel_16049/3526091652.py\u001b\\\u001b[2m3526091652.py\u001b[0m\u001b]8;;\u001b\\\u001b[2m:\u001b[0m\u001b]8;id=91161;file:///tmp/ipykernel_16049/3526091652.py#38\u001b\\\u001b[2m38\u001b[0m\u001b]8;;\u001b\\\n"
      ]
     },
     "metadata": {},
     "output_type": "display_data"
    },
    {
     "data": {
      "text/html": [
       "<pre style=\"white-space:pre;overflow-x:auto;line-height:normal;font-family:Menlo,'DejaVu Sans Mono',consolas,'Courier New',monospace\"><span style=\"color: #7fbfbf; text-decoration-color: #7fbfbf\">           </span><span style=\"color: #000080; text-decoration-color: #000080\">INFO    </span> Dataset created with <span style=\"color: #008080; text-decoration-color: #008080; font-weight: bold\">47</span> images                                                 <a href=\"file:///tmp/ipykernel_16049/3526091652.py\" target=\"_blank\"><span style=\"color: #7f7f7f; text-decoration-color: #7f7f7f\">3526091652.py</span></a><span style=\"color: #7f7f7f; text-decoration-color: #7f7f7f\">:</span><a href=\"file:///tmp/ipykernel_16049/3526091652.py#45\" target=\"_blank\"><span style=\"color: #7f7f7f; text-decoration-color: #7f7f7f\">45</span></a>\n",
       "</pre>\n"
      ],
      "text/plain": [
       "\u001b[2;36m          \u001b[0m\u001b[2;36m \u001b[0m\u001b[34mINFO    \u001b[0m Dataset created with \u001b[1;36m47\u001b[0m images                                                 \u001b]8;id=229258;file:///tmp/ipykernel_16049/3526091652.py\u001b\\\u001b[2m3526091652.py\u001b[0m\u001b]8;;\u001b\\\u001b[2m:\u001b[0m\u001b]8;id=243962;file:///tmp/ipykernel_16049/3526091652.py#45\u001b\\\u001b[2m45\u001b[0m\u001b]8;;\u001b\\\n"
      ]
     },
     "metadata": {},
     "output_type": "display_data"
    },
    {
     "data": {
      "application/vnd.jupyter.widget-view+json": {
       "model_id": "9aa2b56f9297483abdaecf03c9416867",
       "version_major": 2,
       "version_minor": 0
      },
      "text/plain": [
       "scheduler_config.json:   0%|          | 0.00/308 [00:00<?, ?B/s]"
      ]
     },
     "metadata": {},
     "output_type": "display_data"
    },
    {
     "data": {
      "text/html": [
       "<pre style=\"white-space:pre;overflow-x:auto;line-height:normal;font-family:Menlo,'DejaVu Sans Mono',consolas,'Courier New',monospace\"><span style=\"color: #7fbfbf; text-decoration-color: #7fbfbf\">[08:33:01] </span><span style=\"color: #000080; text-decoration-color: #000080\">INFO    </span> Using device: cuda                                                             <a href=\"file:///tmp/ipykernel_16049/3526091652.py\" target=\"_blank\"><span style=\"color: #7f7f7f; text-decoration-color: #7f7f7f\">3526091652.py</span></a><span style=\"color: #7f7f7f; text-decoration-color: #7f7f7f\">:</span><a href=\"file:///tmp/ipykernel_16049/3526091652.py#68\" target=\"_blank\"><span style=\"color: #7f7f7f; text-decoration-color: #7f7f7f\">68</span></a>\n",
       "</pre>\n"
      ],
      "text/plain": [
       "\u001b[2;36m[08:33:01]\u001b[0m\u001b[2;36m \u001b[0m\u001b[34mINFO    \u001b[0m Using device: cuda                                                             \u001b]8;id=750800;file:///tmp/ipykernel_16049/3526091652.py\u001b\\\u001b[2m3526091652.py\u001b[0m\u001b]8;;\u001b\\\u001b[2m:\u001b[0m\u001b]8;id=681453;file:///tmp/ipykernel_16049/3526091652.py#68\u001b\\\u001b[2m68\u001b[0m\u001b]8;;\u001b\\\n"
      ]
     },
     "metadata": {},
     "output_type": "display_data"
    },
    {
     "data": {
      "text/html": [
       "<pre style=\"white-space:pre;overflow-x:auto;line-height:normal;font-family:Menlo,'DejaVu Sans Mono',consolas,'Courier New',monospace\"><span style=\"color: #7fbfbf; text-decoration-color: #7fbfbf\">[08:33:02] </span><span style=\"color: #000080; text-decoration-color: #000080\">INFO    </span> Using standard AdamW optimizer                                                 <a href=\"file:///tmp/ipykernel_16049/3526091652.py\" target=\"_blank\"><span style=\"color: #7f7f7f; text-decoration-color: #7f7f7f\">3526091652.py</span></a><span style=\"color: #7f7f7f; text-decoration-color: #7f7f7f\">:</span><a href=\"file:///tmp/ipykernel_16049/3526091652.py#82\" target=\"_blank\"><span style=\"color: #7f7f7f; text-decoration-color: #7f7f7f\">82</span></a>\n",
       "</pre>\n"
      ],
      "text/plain": [
       "\u001b[2;36m[08:33:02]\u001b[0m\u001b[2;36m \u001b[0m\u001b[34mINFO    \u001b[0m Using standard AdamW optimizer                                                 \u001b]8;id=617889;file:///tmp/ipykernel_16049/3526091652.py\u001b\\\u001b[2m3526091652.py\u001b[0m\u001b]8;;\u001b\\\u001b[2m:\u001b[0m\u001b]8;id=291704;file:///tmp/ipykernel_16049/3526091652.py#82\u001b\\\u001b[2m82\u001b[0m\u001b]8;;\u001b\\\n"
      ]
     },
     "metadata": {},
     "output_type": "display_data"
    },
    {
     "data": {
      "text/html": [
       "<pre style=\"white-space:pre;overflow-x:auto;line-height:normal;font-family:Menlo,'DejaVu Sans Mono',consolas,'Courier New',monospace\"><span style=\"color: #7fbfbf; text-decoration-color: #7fbfbf\">           </span><span style=\"color: #000080; text-decoration-color: #000080\">INFO    </span> Starting training<span style=\"color: #808000; text-decoration-color: #808000\">...</span>                                                           <a href=\"file:///tmp/ipykernel_16049/3526091652.py\" target=\"_blank\"><span style=\"color: #7f7f7f; text-decoration-color: #7f7f7f\">3526091652.py</span></a><span style=\"color: #7f7f7f; text-decoration-color: #7f7f7f\">:</span><a href=\"file:///tmp/ipykernel_16049/3526091652.py#88\" target=\"_blank\"><span style=\"color: #7f7f7f; text-decoration-color: #7f7f7f\">88</span></a>\n",
       "</pre>\n"
      ],
      "text/plain": [
       "\u001b[2;36m          \u001b[0m\u001b[2;36m \u001b[0m\u001b[34mINFO    \u001b[0m Starting training\u001b[33m...\u001b[0m                                                           \u001b]8;id=167414;file:///tmp/ipykernel_16049/3526091652.py\u001b\\\u001b[2m3526091652.py\u001b[0m\u001b]8;;\u001b\\\u001b[2m:\u001b[0m\u001b]8;id=732052;file:///tmp/ipykernel_16049/3526091652.py#88\u001b\\\u001b[2m88\u001b[0m\u001b]8;;\u001b\\\n"
      ]
     },
     "metadata": {},
     "output_type": "display_data"
    },
    {
     "data": {
      "text/html": [
       "<pre style=\"white-space:pre;overflow-x:auto;line-height:normal;font-family:Menlo,'DejaVu Sans Mono',consolas,'Courier New',monospace\"><span style=\"color: #7fbfbf; text-decoration-color: #7fbfbf\">[08:34:31] </span><span style=\"color: #000080; text-decoration-color: #000080\">INFO    </span> step <span style=\"color: #008080; text-decoration-color: #008080; font-weight: bold\">0</span> | loss <span style=\"color: #008080; text-decoration-color: #008080; font-weight: bold\">0.6095</span>                                                          <a href=\"file:///tmp/ipykernel_16049/3526091652.py\" target=\"_blank\"><span style=\"color: #7f7f7f; text-decoration-color: #7f7f7f\">3526091652.py</span></a><span style=\"color: #7f7f7f; text-decoration-color: #7f7f7f\">:</span><a href=\"file:///tmp/ipykernel_16049/3526091652.py#106\" target=\"_blank\"><span style=\"color: #7f7f7f; text-decoration-color: #7f7f7f\">106</span></a>\n",
       "</pre>\n"
      ],
      "text/plain": [
       "\u001b[2;36m[08:34:31]\u001b[0m\u001b[2;36m \u001b[0m\u001b[34mINFO    \u001b[0m step \u001b[1;36m0\u001b[0m | loss \u001b[1;36m0.6095\u001b[0m                                                          \u001b]8;id=800581;file:///tmp/ipykernel_16049/3526091652.py\u001b\\\u001b[2m3526091652.py\u001b[0m\u001b]8;;\u001b\\\u001b[2m:\u001b[0m\u001b]8;id=352944;file:///tmp/ipykernel_16049/3526091652.py#106\u001b\\\u001b[2m106\u001b[0m\u001b]8;;\u001b\\\n"
      ]
     },
     "metadata": {},
     "output_type": "display_data"
    }
   ],
   "source": [
    "import torch, random\n",
    "from torch.utils.data import Dataset, DataLoader\n",
    "from PIL import Image\n",
    "from transformers import CLIPTextModel, CLIPTokenizer\n",
    "from diffusers import AutoencoderKL, UNet2DConditionModel, DDPMScheduler\n",
    "from accelerate import Accelerator\n",
    "from peft import LoraConfig, get_peft_model\n",
    "\n",
    "random.seed(SEED)\n",
    "torch.manual_seed(SEED)\n",
    "\n",
    "TRAIN_BATCH_SIZE = 2\n",
    "LR = 1e-4\n",
    "MAX_STEPS = 1000\n",
    "IMG_RES = 512\n",
    "LORA_R = 8\n",
    "LORA_ALPHA = 16\n",
    "LORA_DROPOUT = 0.05\n",
    "\n",
    "log.info(\"Loading models...\")\n",
    "tokenizer = CLIPTokenizer.from_pretrained(BASE_MODEL_ID, subfolder=\"tokenizer\")\n",
    "text_encoder = CLIPTextModel.from_pretrained(BASE_MODEL_ID, subfolder=\"text_encoder\")\n",
    "vae = AutoencoderKL.from_pretrained(BASE_MODEL_ID, subfolder=\"vae\")\n",
    "unet = UNet2DConditionModel.from_pretrained(BASE_MODEL_ID, subfolder=\"unet\")\n",
    "\n",
    "# LoRA configuration for style transfer\n",
    "# Using UNET_TUNING because we only want to fine-tune the UNet attention layers\n",
    "# while keeping text encoder and VAE frozen to preserve base language understanding\n",
    "lora_config = LoraConfig(\n",
    "    r=LORA_R,\n",
    "    lora_alpha=LORA_ALPHA,\n",
    "    target_modules=[\"to_q\", \"to_k\", \"to_v\", \"to_out.0\"],  # UNet attention modules\n",
    "    lora_dropout=LORA_DROPOUT,\n",
    "    bias=\"none\",\n",
    "    task_type=\"UNET_TUNING\",  # Correct for style LoRA - trains UNet only\n",
    ")\n",
    "unet = get_peft_model(unet, lora_config)\n",
    "log.info(\"LoRA applied to UNet\")\n",
    "\n",
    "class CaptionImageDataset(Dataset):\n",
    "    def __init__(self, img_dir: Path, tokenizer, size=512):\n",
    "        self.paths = sorted((img_dir).glob(\"*.jpg\"))\n",
    "        self.tokenizer = tokenizer\n",
    "        self.size = size\n",
    "        log.info(f\"Dataset created with {len(self.paths)} images\")\n",
    "    def __len__(self): return len(self.paths)\n",
    "    def __getitem__(self, idx):\n",
    "        img_path = self.paths[idx]\n",
    "        txt_path = img_path.with_suffix(\".txt\")\n",
    "        with open(txt_path, \"r\", encoding=\"utf-8\") as f:\n",
    "            caption = f.read().strip()\n",
    "        image = Image.open(img_path).convert(\"RGB\").resize((self.size, self.size), Image.BICUBIC)\n",
    "        import numpy as np\n",
    "        arr = np.array(image).astype(\"float32\")/255.0\n",
    "        arr = arr.transpose(2,0,1)\n",
    "        arr = 2.0 * arr - 1.0\n",
    "        image_tensor = torch.from_numpy(arr)\n",
    "        ids = self.tokenizer(caption, truncation=True, padding=\"max_length\",\n",
    "            max_length=self.tokenizer.model_max_length, return_tensors=\"pt\").input_ids[0]\n",
    "        return {\"pixel_values\": image_tensor, \"input_ids\": ids}\n",
    "\n",
    "train_ds = CaptionImageDataset(DATASET_DIR / \"new\", tokenizer, IMG_RES)\n",
    "train_loader = DataLoader(train_ds, batch_size=TRAIN_BATCH_SIZE, shuffle=True, drop_last=True)\n",
    "\n",
    "noise_scheduler = DDPMScheduler.from_pretrained(BASE_MODEL_ID, subfolder=\"scheduler\")\n",
    "accelerator = Accelerator(mixed_precision=MIXED_PRECISION if MIXED_PRECISION in (\"fp16\",\"bf16\") else \"no\")\n",
    "device = accelerator.device\n",
    "log.info(f\"Using device: {device}\")\n",
    "\n",
    "vae.to(device); text_encoder.to(device); unet.to(device)\n",
    "\n",
    "try:\n",
    "    if USE_8BIT_ADAM:\n",
    "        from bitsandbytes.optim import AdamW8bit\n",
    "        optimizer = AdamW8bit((p for p in unet.parameters() if p.requires_grad), lr=LR)\n",
    "        log.info(\"Using 8-bit AdamW optimizer\")\n",
    "    else:\n",
    "        raise Exception(\"use torch adamw\")\n",
    "except Exception:\n",
    "    from torch.optim import AdamW\n",
    "    optimizer = AdamW((p for p in unet.parameters() if p.requires_grad), lr=LR)\n",
    "    log.info(\"Using standard AdamW optimizer\")\n",
    "\n",
    "unet, optimizer, train_loader = accelerator.prepare(unet, optimizer, train_loader)\n",
    "global_step = 0\n",
    "unet.train()\n",
    "\n",
    "log.info(\"Starting training...\")\n",
    "for epoch in range(999999):\n",
    "    for batch in train_loader:\n",
    "        if global_step >= MAX_STEPS:\n",
    "            break\n",
    "        with accelerator.accumulate(unet):\n",
    "            pixel_values = batch[\"pixel_values\"].to(device)\n",
    "            input_ids = batch[\"input_ids\"].to(device)\n",
    "            latents = vae.encode(pixel_values).latent_dist.sample() * 0.18215\n",
    "            noise = torch.randn_like(latents)\n",
    "            timesteps = torch.randint(0, noise_scheduler.config.num_train_timesteps, (latents.shape[0],), device=device).long()\n",
    "            noisy_latents = noise_scheduler.add_noise(latents, noise, timesteps)\n",
    "            encoder_hidden_states = text_encoder(input_ids)[0]\n",
    "            model_pred = unet(noisy_latents, timesteps, encoder_hidden_states).sample\n",
    "            loss = torch.nn.functional.mse_loss(model_pred, noise, reduction=\"mean\")\n",
    "            accelerator.backward(loss)\n",
    "            optimizer.step(); optimizer.zero_grad()\n",
    "        if accelerator.is_main_process and global_step % 50 == 0:\n",
    "            log.info(f\"step {global_step} | loss {loss.item():.4f}\")\n",
    "        global_step += 1\n",
    "    if global_step >= MAX_STEPS: break\n",
    "\n",
    "if accelerator.is_main_process:\n",
    "    unet.save_pretrained(str(LORA_OUTPUT_DIR))\n",
    "    log.info(f\"Saved LoRA weights to {LORA_OUTPUT_DIR}\")"
   ]
  }
 ],
 "metadata": {
  "kernelspec": {
   "display_name": "Python 3",
   "language": "python",
   "name": "python3"
  },
  "language_info": {
   "codemirror_mode": {
    "name": "ipython",
    "version": 3
   },
   "file_extension": ".py",
   "mimetype": "text/x-python",
   "name": "python",
   "nbconvert_exporter": "python",
   "pygments_lexer": "ipython3",
   "version": "3.10.12"
  }
 },
 "nbformat": 4,
 "nbformat_minor": 5
}
